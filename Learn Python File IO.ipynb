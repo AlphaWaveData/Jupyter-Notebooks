{
 "cells": [
  {
   "cell_type": "markdown",
   "metadata": {},
   "source": [
    "# Learn Python File I/O\n",
    "\n",
    "**April 2021**<br>\n",
    "\n",
    "Instruction, media content, examples and links to resources that will help you build a foundation for Python competency. Jupyter Notebooks are available on [Google Colab](https://colab.research.google.com/drive/1gZGzJcaZ4un_4qc68SqceBKInRbBHIEp?usp=sharing) and [Github](https://github.com/AlphaWaveData/Jupyter-Notebooks/blob/master/Learn%20Python%20File%20IO.ipynb).\n",
    "\n",
    "<b>Web Resources</b>\n",
    "<br> <a href='https://docs.python.org/3/tutorial/inputoutput.html#reading-and-writing-files'>Docs.python.org - Reading and Writing Files</a>\n",
    "\n",
    "\n",
    "#### <b>What is I/O?</b>\n",
    "\n",
    "I/O, or input/output, is communication between a computer and the outside world.\n",
    "\n",
    "Inputs are signals received by the computer. The computer can get inputs from hardware like a keyboard and mouse or from other computers via the internet. Outputs are signals sent by the computer. Your monitor is probably the most obvious output device. An internet modem is an example of a device that both receives inputs (web-pages loading on your browser) and sends outputs (outbound emails).\n",
    "\n",
    "     \n",
    "#### <b>Why do we use I/O?</b>\n",
    "\n",
    "You can always define data directly in your python code:\n",
    "\n",
    "```python\n",
    "example_data = [1, 2, 3, 4, 5]\n",
    "answer = function(example_data)\n",
    "```\n"
   ]
  },
  {
   "cell_type": "markdown",
   "metadata": {},
   "source": [
    "This is a great way to test functionality but isn't sustainable in the long term. It would be much easier if we could read in data from a file or API as well as write data down to files. This saves us having to manually define data and scales our solutions to handle arbitrary datasets.\n",
    "\n",
    "## Files\n",
    "\n",
    "Common file types you likely interact with are CSV and Excel files. The pandas library has a number of convenience functions for reading data from these files and converting them directly into dataframes."
   ]
  },
  {
   "cell_type": "markdown",
   "metadata": {},
   "source": [
    "```python\n",
    "import pandas as pd\n",
    "\n",
    "csv_dataframe = pd.read_csv('csv_file.csv')\n",
    "excel_dataframe = pd.read_excel('excel_file.xlsx')\n",
    "```"
   ]
  },
  {
   "cell_type": "markdown",
   "metadata": {},
   "source": [
    "Each method accepts the path of the data file as an argument. File paths without a `/` indicate that the data file is in the same directory as the notebook we're writing our code in. If we want to read from a file inside a folder, then we'll need to update the file path, e.g. `folder/csv_file.csv`.\n",
    "\n",
    "Both methods accept a number of different optional parameters for defining more precisely how you want them to read the data. Visit the [I/O section](https://pandas.pydata.org/docs/reference/io.html) of the online pandas documentation to learn more about these functions.\n",
    "\n",
    "We can use the `%pwd` [Jupyter magic command](https://ipython.readthedocs.io/en/stable/interactive/magics.html) to find the local directory. Running the following code snippet in a project cell will print the path of your local directory:\n",
    "\n",
    "```python\n",
    "x = %pwd\n",
    "print(x)\n",
    "```\n",
    "\n",
    "### Resources\n",
    "Python has a rich library of packages and functions for dealing with files. [This online tutorial](https://www.programiz.com/python-programming/file-operation) explains in more detail how to use python to deal with File I/O (input and output).\n",
    "\n",
    "### File IO Examples\n",
    "\n",
    "1. You're writing some code inside `notebook.ipynb` and want to read the data from `bonds.csv` which is inside the `data` folder (see below). What file path do you need to specify to read the data into a dataframe: `pd.read_csv(...)`?\n",
    "\n",
    "```\n",
    "notebook.ipynb\n",
    "data/\n",
    "└── bonds.csv\n",
    "```\n",
    "`pd.read_csv('data/bonds.csv')`\n",
    "\n",
    "2. You have a CSV with 3 blank rows at the top of the file. What parameter do you need to pass to the `read_csv` function to ignore these blank rows when reading in the data?\n",
    "\n",
    "`skiprows=3`\n",
    "\n",
    "3. A colleague has sent you some tabular data in a [JSON file](https://www.w3schools.com/js/js_json_intro.asp) that you've moved into the same folder as your notebook. You can use pandas to read this data into a dataframe:\n",
    "\n",
    "`pd.read_json`"
   ]
  },
  {
   "cell_type": "code",
   "execution_count": null,
   "metadata": {},
   "outputs": [],
   "source": []
  }
 ],
 "metadata": {
  "kernelspec": {
   "display_name": "Python 3",
   "language": "python",
   "name": "python3"
  },
  "language_info": {
   "codemirror_mode": {
    "name": "ipython",
    "version": 3
   },
   "file_extension": ".py",
   "mimetype": "text/x-python",
   "name": "python",
   "nbconvert_exporter": "python",
   "pygments_lexer": "ipython3",
   "version": "3.7.4"
  }
 },
 "nbformat": 4,
 "nbformat_minor": 4
}
