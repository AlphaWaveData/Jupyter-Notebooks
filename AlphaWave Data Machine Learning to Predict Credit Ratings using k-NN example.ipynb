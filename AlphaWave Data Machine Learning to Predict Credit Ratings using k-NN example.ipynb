{
 "cells": [
  {
   "cell_type": "markdown",
   "metadata": {},
   "source": [
    "# Machine Learning to Predict Credit Ratings using k-NN\n",
    "\n",
    "**Hugh Donnelly, CFA**<br> \n",
    "*AlphaWave Data*\n",
    "\n",
    "**August 2021**"
   ]
  },
  {
   "cell_type": "markdown",
   "metadata": {},
   "source": [
    "## Introduction\n",
    "In this article, we are going to cover a simple, yet extremely versatile algorithm called k-nearest neighbors (k-NN).  First, we will build intuition about k-NN's inner workings and then learn how to apply the algorithm to real financial data from [AlphaWave Data](https://www.alphawavedata.com/).  We will use fundamental credit data of high yield and investment grade bonds as well as their corresponding credit ratings.  Using scikit-learn, we will experiment with ways to improve the predictive power of the algorithm through parameter optimization and pre-processing of the data.  Scikit-learn is a free software machine learning library for the Python programming language.  Finally, we will implement k-NN from scratch to further solidify your understanding of this algorithm.\n",
    "\n",
    "Jupyter Notebooks are available on [Google Colab](https://colab.research.google.com/drive/1vm3gSIYZiMClOTR03wzY9Z2XnzELLj7V?usp=sharing) and [Github](https://github.com/AlphaWaveData/Jupyter-Notebooks/blob/master/AlphaWave%20Data%20Machine%20Learning%20to%20Predict%20Credit%20Ratings%20using%20k-NN%20example.ipynb).\n",
    "\n",
    "For this project, we use several Python-based scientific computing technologies listed below."
   ]
  },
  {
   "cell_type": "code",
   "execution_count": 465,
   "metadata": {},
   "outputs": [],
   "source": [
    "import re\n",
    "import os\n",
    "import time\n",
    "import math\n",
    "import statistics\n",
    "\n",
    "import numpy as np\n",
    "import pandas as pd\n",
    "import seaborn as sns\n",
    "import matplotlib.pyplot as plt\n",
    "import plotly.graph_objects as go\n",
    "\n",
    "from img import *\n",
    "\n",
    "import requests\n",
    "from requests.adapters import HTTPAdapter\n",
    "from requests.exceptions import ConnectionError\n",
    "from requests.packages.urllib3.util.retry import Retry\n",
    "\n",
    "from selenium import webdriver\n",
    "from selenium.webdriver import ActionChains\n",
    "from selenium.webdriver.common.by import By\n",
    "from selenium.webdriver.common.keys import Keys\n",
    "from selenium.webdriver.support.ui import Select\n",
    "from selenium.webdriver.support.ui import WebDriverWait\n",
    "from selenium.webdriver.support import expected_conditions as EC\n",
    "\n",
    "from datetime import date\n",
    "from datetime import timedelta\n",
    "from datetime import datetime as dt\n",
    "\n",
    "from tqdm import tqdm\n",
    "\n",
    "from PyPDF2 import PdfFileReader\n",
    "import io"
   ]
  },
  {
   "cell_type": "markdown",
   "metadata": {},
   "source": [
    "<h4>Machine Learning Overview</h4>  \n",
    "<img src='ML Photos/1_KNN_ML_Graph.PNG'>"
   ]
  },
  {
   "cell_type": "markdown",
   "metadata": {},
   "source": [
    "So where does k-NN fit within the broader context of [machine learning](https://hdonnelly6.medium.com/list/machine-learning-for-investing-7f2690bb1826)?  Let's briefly review reinforcement, unsupervised, and supervised learning.\n",
    "\n",
    "Reinforcement learning is the training of machine learning models to make a sequence of decisions in order to achieve a specific goal or objective.  The most famous application of reinforcement learning was in 1997 when the IBM Deep Blue super computer defeated world chess champion Garry Kasparov.\n",
    "\n",
    "In unsupervised learning, we are tasked with identifying patterns in data that is not labeled or classified.  Essentially, the goal is to study the structure of the data in order to extract useful information.  One example of unsupervised learning is [principal component analysis (PCA)](https://hdonnelly6.medium.com/machine-learning-for-esg-stock-trading-pca-and-clustering-ebe6077fc8f0), which is a technique for reducing dimensions in the data.  Another example of unsupervised learning is k-means clustering, which will be covered in a separate article.\n",
    "\n",
    "Supervised learning is applied when we want to map new input data to some output data.  In the context of classification, it will assign a label to some input data called X.  In a [regression](https://hdonnelly6.medium.com/introduction-to-machine-learning-regression-fee4200132f0), we map the input data X to some continuous output variable Y like in a single variant function, y = mx + b.\n",
    "\n",
    "So k-NN is an example of supervised learning because it relies on the label input data to learn a function which will then predict labels for the new unlabeled data.  We will see later that k-NN can be applied to both regressions and classifications.  Although, it tends to be used more frequently in classification."
   ]
  },
  {
   "cell_type": "markdown",
   "metadata": {},
   "source": [
    "<h4>KNN Intro</h4>  \n",
    "<img src='ML Photos/2_KNN_Categorize_Graph.PNG'>"
   ]
  },
  {
   "cell_type": "markdown",
   "metadata": {},
   "source": [
    "So how does k-NN work?  Imagine we have two categories.  The first category is defined by the red triangle and the second category is defined by the blue square.  How would we classify the green circle that is in the middle?  If we only looked within the proximity of the solid circle, it would be reasonable to assume that our green circle belongs to the red triangle because within the solid circle there are two red triangles and there is only one blue square.  However if we looked beyond the solid circle to the dashed circle, then we would choose the blue square as the class for our green circle because we have three blue squares and two red triangles. Based on the majority voting of which class is most common, it is a reasonable assumption to make that the green circle belongs to the blue square class.\n",
    "\n",
    "We can see that k refers to the number of nearest points to the point we are looking to categorize.  At its core, k-NN is one of the easiest algorithms in machine learning.  It uses previously labeled data for making new predictions on the unlabeled data based on some similarity measure, which is distance in this example.  The algorithm assumes that similar things exist in close proximity.  In our example, we can see that the three points closest to the green circle lie within the solid circle.  Depending on the value of k, the algorithm will classify new samples by the majority vote of k neighbors."
   ]
  },
  {
   "cell_type": "markdown",
   "metadata": {},
   "source": [
    "To make a prediction, the algorithm needs to find the distance between the new point we are trying to classify and all the points in a dataset. The distance itself can be calculated from either Euclidean, Manhattan, or some other measure.  In this example, we will use Euclidean distance."
   ]
  },
  {
   "cell_type": "markdown",
   "metadata": {},
   "source": [
    "<h4>Euclidean Distance Formula</h4>  \n",
    "<img src='ML Photos/3_KNN_Euclidean_Distance_Formula.PNG'>"
   ]
  },
  {
   "cell_type": "markdown",
   "metadata": {},
   "source": [
    "<h4>Euclidean Distance Graph</h4>  \n",
    "<img src='ML Photos/3_KNN_Euclidean_Distance_Graph.PNG'>"
   ]
  },
  {
   "cell_type": "markdown",
   "metadata": {},
   "source": [
    "The algorithm starts by classifying the distance of the green circle from all the points in the dataset labeled by the red triangles and blue squares.  We then sort the distances from the smallest to largest to find the k nearest points.  Finally, the algorithm assigns data to the class to which the majority of the k data points belong.  If you have k equal to 3, the green circle will be classified as a red triangle.  In a regression example where we predict the numerical value of the new sample, the k-NN algorithm will just take the mean of the k nearest neighbors."
   ]
  },
  {
   "cell_type": "markdown",
   "metadata": {},
   "source": [
    "This algorithm appears to be relatively easy, but how does one choose k?  In our triangle and square classification example, if we select k equal to 3 we classify the green circle as a red triangle.  However if we select k equal to 5, it will compel us to classify the green circle as a blue square.  The result of the algorithm is entirely dependent on the value of k.  Unfortunately, there is no defined answer when it comes to selecting k.  The optimal value of k will vary with every dataset. Our goal is to find the k that will optimize the accuracy of the algorithm or minimize the error.  Like in most machine learning algorithms, k is a hyperparameter so it is up to you to pick the value that results in the best possible fit for the data.  We will see how this is done in practice.\n",
    "\n",
    "You can think of k as the tradeoff between bias and variance.  Bias is the difference between the average prediction of the model and the correct values we are attempting to predict.  With high bias, the model tends to be over simplified, whereas, the model tends to be more complex with low bias.  So, low bias will lead to overfitting.  For example, if we choose k equal to 1 in our k-NN algorithm, every new sample we would attempt to classify would be labeled as the closest neighbor because the number of neighbors is equal to 1.  If we select a very large number for k, the model would underfit because we are generalizing our prediction based on a significantly more number of neighbors around our test point.\n",
    "\n",
    "Variance, on the other hand, is the variability of the model's predictive power for a given data point.  Models with high variance will capture all the nuances of the training data but they will not generalize well on the new unlabeled test data.  In practice, we see high variance when the model performs very well on training data, but fails to achieve a good result on the test data.\n",
    "\n",
    "Bias and variance tend to move in opposite directions, hence the tradeoff between the two."
   ]
  },
  {
   "cell_type": "markdown",
   "metadata": {},
   "source": [
    "## Gather and Visualize Bond Data\n",
    "\n",
    "#### Predict bond S&P ratings using point in time fundamental credit data.\n",
    "#### S&P rating column is going to be our dependent variable."
   ]
  },
  {
   "cell_type": "markdown",
   "metadata": {},
   "source": [
    "We must first acquire current bond ratings. Using a Selenium script that emulates a user's keystrokes and clicks in a browser as a means of navigating to FINRA's TRACE (Trade Reporting and Compliance Engine) bond data, we can access the data needed.\n",
    "\n",
    "The following is an example script. In case you do not have [Selenium](https://pypi.org/project/selenium/) installed, you can visit their respective links and download them using pip in your terminal. We will also need a chromedriver (the simulated chrome browser Selenium controls) and to download it using Python you can use the [webdriver-manager](https://pypi.org/project/webdriver-manager/) package also found in PyPi.\n",
    "\n",
    "You will need to insert your own path to your chromedriver in the code block below."
   ]
  },
  {
   "cell_type": "code",
   "execution_count": 466,
   "metadata": {
    "scrolled": true
   },
   "outputs": [
    {
     "name": "stderr",
     "output_type": "stream",
     "text": [
      "\r",
      "Retrieving Bond Data:   0%|          | 0/318 [00:00<?, ?it/s]"
     ]
    },
    {
     "name": "stdout",
     "output_type": "stream",
     "text": [
      "Total pages returned: 319\n"
     ]
    },
    {
     "name": "stderr",
     "output_type": "stream",
     "text": [
      "Retrieving Bond Data: 100%|██████████| 318/318 [45:01<00:00,  8.50s/it]"
     ]
    },
    {
     "name": "stdout",
     "output_type": "stream",
     "text": [
      "Total runtime of the program is 2710.9076290130615 seconds\n"
     ]
    },
    {
     "name": "stderr",
     "output_type": "stream",
     "text": [
      "\n"
     ]
    },
    {
     "data": {
      "text/html": [
       "<div>\n",
       "<style scoped>\n",
       "    .dataframe tbody tr th:only-of-type {\n",
       "        vertical-align: middle;\n",
       "    }\n",
       "\n",
       "    .dataframe tbody tr th {\n",
       "        vertical-align: top;\n",
       "    }\n",
       "\n",
       "    .dataframe thead th {\n",
       "        text-align: right;\n",
       "    }\n",
       "</style>\n",
       "<table border=\"1\" class=\"dataframe\">\n",
       "  <thead>\n",
       "    <tr style=\"text-align: right;\">\n",
       "      <th></th>\n",
       "      <th>Issuer Name</th>\n",
       "      <th>Symbol</th>\n",
       "      <th>Callable</th>\n",
       "      <th>Sub-Product Type</th>\n",
       "      <th>Coupon</th>\n",
       "      <th>Maturity</th>\n",
       "      <th>Moody's®</th>\n",
       "      <th>S&amp;P</th>\n",
       "      <th>Price</th>\n",
       "      <th>Yield</th>\n",
       "    </tr>\n",
       "  </thead>\n",
       "  <tbody>\n",
       "    <tr>\n",
       "      <th>0</th>\n",
       "      <td>21ST CENTY FOX AMER INC</td>\n",
       "      <td>DIS4232226</td>\n",
       "      <td>Yes</td>\n",
       "      <td>Corporate Bond</td>\n",
       "      <td>6.400</td>\n",
       "      <td>12/15/2035</td>\n",
       "      <td>Baa1</td>\n",
       "      <td>BBB+</td>\n",
       "      <td>131.166</td>\n",
       "      <td>3.596</td>\n",
       "    </tr>\n",
       "    <tr>\n",
       "      <th>1</th>\n",
       "      <td>ABBVIE INC</td>\n",
       "      <td>ABBV4241908</td>\n",
       "      <td>Yes</td>\n",
       "      <td>Corporate Bond</td>\n",
       "      <td>3.200</td>\n",
       "      <td>11/06/2022</td>\n",
       "      <td>Baa2</td>\n",
       "      <td>BBB+</td>\n",
       "      <td>102.833</td>\n",
       "      <td>0.442</td>\n",
       "    </tr>\n",
       "    <tr>\n",
       "      <th>2</th>\n",
       "      <td>ABBVIE INC</td>\n",
       "      <td>ABBV4241910</td>\n",
       "      <td>Yes</td>\n",
       "      <td>Corporate Bond</td>\n",
       "      <td>3.600</td>\n",
       "      <td>05/14/2025</td>\n",
       "      <td>Baa2</td>\n",
       "      <td>BBB+</td>\n",
       "      <td>108.701</td>\n",
       "      <td>1.040</td>\n",
       "    </tr>\n",
       "    <tr>\n",
       "      <th>3</th>\n",
       "      <td>ABBVIE INC</td>\n",
       "      <td>ABBV4241923</td>\n",
       "      <td>Yes</td>\n",
       "      <td>Corporate Bond</td>\n",
       "      <td>4.500</td>\n",
       "      <td>05/14/2035</td>\n",
       "      <td>Baa2</td>\n",
       "      <td>BBB+</td>\n",
       "      <td>121.696</td>\n",
       "      <td>2.555</td>\n",
       "    </tr>\n",
       "    <tr>\n",
       "      <th>4</th>\n",
       "      <td>ABBVIE INC</td>\n",
       "      <td>ABBV4241924</td>\n",
       "      <td>Yes</td>\n",
       "      <td>Corporate Bond</td>\n",
       "      <td>4.700</td>\n",
       "      <td>05/14/2045</td>\n",
       "      <td>Baa2</td>\n",
       "      <td>BBB+</td>\n",
       "      <td>126.227</td>\n",
       "      <td>3.106</td>\n",
       "    </tr>\n",
       "    <tr>\n",
       "      <th>...</th>\n",
       "      <td>...</td>\n",
       "      <td>...</td>\n",
       "      <td>...</td>\n",
       "      <td>...</td>\n",
       "      <td>...</td>\n",
       "      <td>...</td>\n",
       "      <td>...</td>\n",
       "      <td>...</td>\n",
       "      <td>...</td>\n",
       "      <td>...</td>\n",
       "    </tr>\n",
       "    <tr>\n",
       "      <th>15</th>\n",
       "      <td>YUM BRANDS INC</td>\n",
       "      <td>YUM5043696</td>\n",
       "      <td>Yes</td>\n",
       "      <td>Corporate Bond</td>\n",
       "      <td>3.625</td>\n",
       "      <td>03/15/2031</td>\n",
       "      <td>B1</td>\n",
       "      <td>BB-</td>\n",
       "      <td>102.274</td>\n",
       "      <td>3.339</td>\n",
       "    </tr>\n",
       "    <tr>\n",
       "      <th>16</th>\n",
       "      <td>YUM BRANDS INC</td>\n",
       "      <td>YUM4972647</td>\n",
       "      <td>Yes</td>\n",
       "      <td>Corporate Bond</td>\n",
       "      <td>7.750</td>\n",
       "      <td>04/01/2025</td>\n",
       "      <td>B1</td>\n",
       "      <td>BB-</td>\n",
       "      <td>107.750</td>\n",
       "      <td>1.199</td>\n",
       "    </tr>\n",
       "    <tr>\n",
       "      <th>17</th>\n",
       "      <td>ZIMMER BIOMET HLDGS INC</td>\n",
       "      <td>ZBH4221428</td>\n",
       "      <td>Yes</td>\n",
       "      <td>Corporate Bond</td>\n",
       "      <td>3.150</td>\n",
       "      <td>04/01/2022</td>\n",
       "      <td>Baa3</td>\n",
       "      <td>BBB</td>\n",
       "      <td>101.140</td>\n",
       "      <td>0.513</td>\n",
       "    </tr>\n",
       "    <tr>\n",
       "      <th>18</th>\n",
       "      <td>ZIMMER BIOMET HLDGS INC</td>\n",
       "      <td>ZBH4221424</td>\n",
       "      <td>Yes</td>\n",
       "      <td>Corporate Bond</td>\n",
       "      <td>3.550</td>\n",
       "      <td>04/01/2025</td>\n",
       "      <td>Baa3</td>\n",
       "      <td>BBB</td>\n",
       "      <td>107.812</td>\n",
       "      <td>1.164</td>\n",
       "    </tr>\n",
       "    <tr>\n",
       "      <th>19</th>\n",
       "      <td>ZIMMER BIOMET HLDGS INC</td>\n",
       "      <td>ZBH4221421</td>\n",
       "      <td>Yes</td>\n",
       "      <td>Corporate Bond</td>\n",
       "      <td>4.250</td>\n",
       "      <td>08/15/2035</td>\n",
       "      <td>Baa3</td>\n",
       "      <td>BBB</td>\n",
       "      <td>110.812</td>\n",
       "      <td>3.253</td>\n",
       "    </tr>\n",
       "  </tbody>\n",
       "</table>\n",
       "<p>6340 rows × 10 columns</p>\n",
       "</div>"
      ],
      "text/plain": [
       "                Issuer Name       Symbol Callable Sub-Product Type Coupon  \\\n",
       "0   21ST CENTY FOX AMER INC   DIS4232226      Yes   Corporate Bond  6.400   \n",
       "1                ABBVIE INC  ABBV4241908      Yes   Corporate Bond  3.200   \n",
       "2                ABBVIE INC  ABBV4241910      Yes   Corporate Bond  3.600   \n",
       "3                ABBVIE INC  ABBV4241923      Yes   Corporate Bond  4.500   \n",
       "4                ABBVIE INC  ABBV4241924      Yes   Corporate Bond  4.700   \n",
       "..                      ...          ...      ...              ...    ...   \n",
       "15           YUM BRANDS INC   YUM5043696      Yes   Corporate Bond  3.625   \n",
       "16           YUM BRANDS INC   YUM4972647      Yes   Corporate Bond  7.750   \n",
       "17  ZIMMER BIOMET HLDGS INC   ZBH4221428      Yes   Corporate Bond  3.150   \n",
       "18  ZIMMER BIOMET HLDGS INC   ZBH4221424      Yes   Corporate Bond  3.550   \n",
       "19  ZIMMER BIOMET HLDGS INC   ZBH4221421      Yes   Corporate Bond  4.250   \n",
       "\n",
       "      Maturity Moody's®   S&P    Price  Yield  \n",
       "0   12/15/2035     Baa1  BBB+  131.166  3.596  \n",
       "1   11/06/2022     Baa2  BBB+  102.833  0.442  \n",
       "2   05/14/2025     Baa2  BBB+  108.701  1.040  \n",
       "3   05/14/2035     Baa2  BBB+  121.696  2.555  \n",
       "4   05/14/2045     Baa2  BBB+  126.227  3.106  \n",
       "..         ...      ...   ...      ...    ...  \n",
       "15  03/15/2031       B1   BB-  102.274  3.339  \n",
       "16  04/01/2025       B1   BB-  107.750  1.199  \n",
       "17  04/01/2022     Baa3   BBB  101.140  0.513  \n",
       "18  04/01/2025     Baa3   BBB  107.812  1.164  \n",
       "19  08/15/2035     Baa3   BBB  110.812  3.253  \n",
       "\n",
       "[6340 rows x 10 columns]"
      ]
     },
     "execution_count": 466,
     "metadata": {},
     "output_type": "execute_result"
    }
   ],
   "source": [
    "# Selenium script\n",
    "chrome_options = webdriver.ChromeOptions()\n",
    "chrome_options.add_argument('--headless')\n",
    "driver = webdriver.Chrome(options=chrome_options, executable_path=r'/PATH/TO/YOUR/chromedriver')\n",
    "\n",
    "# store starting time\n",
    "begin = time.time()\n",
    "\n",
    "# FINRA's TRACE Bond Center\n",
    "driver.get('http://finra-markets.morningstar.com/BondCenter/Results.jsp')\n",
    "\n",
    "# click agree\n",
    "WebDriverWait(driver, 10).until(EC.element_to_be_clickable(\n",
    "    (By.CSS_SELECTOR, \".button_blue.agree\"))).click()\n",
    "\n",
    "# click edit search\n",
    "WebDriverWait(driver, 10).until(EC.element_to_be_clickable(\n",
    "    (By.CSS_SELECTOR, 'a.qs-ui-btn.blue'))).click()\n",
    "\n",
    "# click advanced search\n",
    "WebDriverWait(driver, 10).until(EC.element_to_be_clickable(\n",
    "    (By.CSS_SELECTOR, 'a.ms-display-switcher.hide'))).click()\n",
    "\n",
    "# select bond ratings\n",
    "WebDriverWait(driver, 10).until(EC.presence_of_element_located(\n",
    "    (By.CSS_SELECTOR, 'select.range[name=moodysRating]')))\n",
    "Select((driver.find_elements_by_css_selector(\n",
    "    'select.range[name=moodysRating]'))[0]).select_by_visible_text('C')\n",
    "Select((driver.find_elements_by_css_selector(\n",
    "    'select.range[name=moodysRating]'))[1]).select_by_visible_text('Aaa')\n",
    "Select((driver.find_elements_by_css_selector(\n",
    "    'select.range[name=standardAndPoorsRating]'))[0]).select_by_visible_text('B-')\n",
    "Select((driver.find_elements_by_css_selector(\n",
    "    'select.range[name=standardAndPoorsRating]'))[1]).select_by_visible_text('BBB+')\n",
    "\n",
    "# select Sub-Product Type\n",
    "WebDriverWait(driver, 10).until(EC.presence_of_element_located(\n",
    "    (By.CSS_SELECTOR, 'select[name=subProductType]')))\n",
    "Select((driver.find_elements_by_css_selector(\n",
    "    'select[name=subProductType]'))[0]).select_by_visible_text('Corporate Bond')\n",
    "\n",
    "# select Bond Seniority\n",
    "WebDriverWait(driver, 10).until(EC.presence_of_element_located(\n",
    "    (By.CSS_SELECTOR, 'select[name=securityDescription]')))\n",
    "Select((driver.find_elements_by_css_selector(\n",
    "    'select[name=securityDescription]'))[0]).select_by_visible_text('Senior')\n",
    "\n",
    "# input Trade Yield\n",
    "inputElement = driver.find_element(By.XPATH, \"(//input[@name='tradeYield'])[1]\")\n",
    "inputElement.send_keys('0.001')\n",
    "inputElement = driver.find_element(By.XPATH, \"(//input[@name='tradeYield'])[2]\")\n",
    "inputElement.send_keys('50')\n",
    "\n",
    "###############################################\n",
    "\n",
    "# select Trade Date(MM/DD/YYYY)\n",
    "inputElement = driver.find_element_by_css_selector('.qs-ui-ipt.range.date[calid=\"5\"]')\n",
    "ActionChains(driver).click(inputElement).perform()\n",
    "\n",
    "# Create for loop to click 1 time when targeting the Previous Year Button\n",
    "for d in range(1):\n",
    "    previous = driver.find_element_by_css_selector('.py')\n",
    "    # Make click in that button\n",
    "    ActionChains(driver).click(previous).perform()\n",
    "\n",
    "webelem1 = driver.find_element(By.XPATH, \"(/html/body/div[4]/div[2]/table/tbody/tr[2]/td[2]/div)\")\n",
    "# webelem1 = driver.find_element_by_css_selector('.dayNum[val=\"2020-08-03\"]')\n",
    "ActionChains(driver).click(webelem1).perform()\n",
    "\n",
    "inputElement = driver.find_element_by_css_selector('.qs-ui-ipt.range.date[calid=\"6\"]')\n",
    "ActionChains(driver).click(inputElement).perform()\n",
    "\n",
    "webelem2 = driver.find_element_by_css_selector('.dayNum.today')\n",
    "ActionChains(driver).click(webelem2).perform()\n",
    "\n",
    "###############################################\n",
    "\n",
    "# click show results\n",
    "WebDriverWait(driver, 10).until(EC.element_to_be_clickable(\n",
    "    (By.CSS_SELECTOR, 'input.button_blue[type=submit]'))).click()\n",
    "\n",
    "# wait for results\n",
    "WebDriverWait(driver, 10).until(EC.presence_of_element_located(\n",
    "    (By.CSS_SELECTOR, '.rtq-grid-row.rtq-grid-rzrow .rtq-grid-cell-ctn')))\n",
    "\n",
    "# wait for page total\n",
    "WebDriverWait(driver,10).until(EC.presence_of_all_elements_located((\n",
    "    By.CSS_SELECTOR, '.qs-pageutil-total')))\n",
    "\n",
    "time.sleep(3)\n",
    "\n",
    "# capture total of pages\n",
    "pages = WebDriverWait(driver,10).until(EC.presence_of_all_elements_located((\n",
    "    By.CSS_SELECTOR, '.qs-pageutil-total')))[0].text\n",
    "\n",
    "# isolate the number of pages\n",
    "pages = pages.split(\" \")[1]\n",
    "print(f'Total pages returned: {pages}')\n",
    "\n",
    "# create dataframe from scrape\n",
    "frames = []\n",
    "\n",
    "for page in tqdm(range(1, int(pages)), position=0, leave=True, desc = \"Retrieving Bond Data\"):\n",
    "    bonds = []\n",
    "\n",
    "    # wait for page marker to be on expected page\n",
    "    WebDriverWait(driver, 10).until(EC.presence_of_element_located(\n",
    "        (By.CSS_SELECTOR, (f\"a.qs-pageutil-btn[value='{str(page)}']\"))))\n",
    "    \n",
    "    # wait for page next button to load\n",
    "    WebDriverWait(driver, 10).until(EC.presence_of_element_located(\n",
    "        (By.CSS_SELECTOR, 'a.qs-pageutil-next')))\n",
    "    \n",
    "    # wait for table grid to load\n",
    "    WebDriverWait(driver, 10).until(EC.presence_of_element_located(\n",
    "        (By.CSS_SELECTOR, '.rtq-grid-bd')))\n",
    "    \n",
    "    # wait for tablerows to load\n",
    "    WebDriverWait(driver, 10).until(EC.presence_of_element_located(\n",
    "        (By.CSS_SELECTOR, 'div.rtq-grid-bd > div.rtq-grid-row')))\n",
    "    \n",
    "    # wait for table cell to load\n",
    "    WebDriverWait(driver, 10).until(EC.presence_of_element_located(\n",
    "        (By.CSS_SELECTOR, 'div.rtq-grid-cell')))\n",
    "\n",
    "    # Wait 3 seconds to ensure all rows load\n",
    "    time.sleep(3)\n",
    "    \n",
    "    # scrape table rows\n",
    "    headers = [title.text for title in driver.find_elements_by_css_selector(\n",
    "    '.rtq-grid-row.rtq-grid-rzrow .rtq-grid-cell-ctn')[1:]]\n",
    "\n",
    "    tablerows = driver.find_elements_by_css_selector(\n",
    "        'div.rtq-grid-bd > div.rtq-grid-row')\n",
    "    for tablerow in tablerows:\n",
    "        try:\n",
    "            tablerowdata = tablerow.find_elements_by_css_selector(\n",
    "                'div.rtq-grid-cell')\n",
    "            bond = [item.text for item in tablerowdata[1:]]\n",
    "            bonds.append(bond)\n",
    "        except:\n",
    "            pass\n",
    "\n",
    "    # Convert to Dataframe\n",
    "    df = pd.DataFrame(bonds, columns=headers)\n",
    "\n",
    "    frames.append(df)\n",
    "\n",
    "    try:\n",
    "        driver.find_element_by_css_selector('a.qs-pageutil-next').click()\n",
    "    except:\n",
    "        break\n",
    "\n",
    "bond_prices_df = pd.concat(frames)\n",
    "\n",
    "# store end time \n",
    "end = time.time()\n",
    "\n",
    "# total time taken \n",
    "print(f\"Total runtime of the program is {end - begin} seconds\")\n",
    "\n",
    "bond_prices_df"
   ]
  },
  {
   "cell_type": "markdown",
   "metadata": {},
   "source": [
    "Once we have the bond data required, we can save it to a pickle file and then clean the data so that it aligns with the purpose of this example using the code blocks below."
   ]
  },
  {
   "cell_type": "code",
   "execution_count": 467,
   "metadata": {},
   "outputs": [],
   "source": [
    "# Save bond dataframe into a pickle file\n",
    "# bond_prices_df.to_pickle(\"./bond_prices_df.pkl\")"
   ]
  },
  {
   "cell_type": "code",
   "execution_count": 468,
   "metadata": {},
   "outputs": [
    {
     "data": {
      "text/html": [
       "<div>\n",
       "<style scoped>\n",
       "    .dataframe tbody tr th:only-of-type {\n",
       "        vertical-align: middle;\n",
       "    }\n",
       "\n",
       "    .dataframe tbody tr th {\n",
       "        vertical-align: top;\n",
       "    }\n",
       "\n",
       "    .dataframe thead th {\n",
       "        text-align: right;\n",
       "    }\n",
       "</style>\n",
       "<table border=\"1\" class=\"dataframe\">\n",
       "  <thead>\n",
       "    <tr style=\"text-align: right;\">\n",
       "      <th></th>\n",
       "      <th>Issuer Name</th>\n",
       "      <th>Symbol</th>\n",
       "      <th>Callable</th>\n",
       "      <th>Sub-Product Type</th>\n",
       "      <th>Coupon</th>\n",
       "      <th>Maturity</th>\n",
       "      <th>Moody's®</th>\n",
       "      <th>S&amp;P</th>\n",
       "      <th>Price</th>\n",
       "      <th>Yield</th>\n",
       "    </tr>\n",
       "  </thead>\n",
       "  <tbody>\n",
       "    <tr>\n",
       "      <th>0</th>\n",
       "      <td>21ST CENTY FOX AMER INC</td>\n",
       "      <td>DIS4232226</td>\n",
       "      <td>Yes</td>\n",
       "      <td>Corporate Bond</td>\n",
       "      <td>6.400</td>\n",
       "      <td>12/15/2035</td>\n",
       "      <td>Baa1</td>\n",
       "      <td>BBB+</td>\n",
       "      <td>131.166</td>\n",
       "      <td>3.596</td>\n",
       "    </tr>\n",
       "    <tr>\n",
       "      <th>1</th>\n",
       "      <td>ABBVIE INC</td>\n",
       "      <td>ABBV4241908</td>\n",
       "      <td>Yes</td>\n",
       "      <td>Corporate Bond</td>\n",
       "      <td>3.200</td>\n",
       "      <td>11/06/2022</td>\n",
       "      <td>Baa2</td>\n",
       "      <td>BBB+</td>\n",
       "      <td>102.833</td>\n",
       "      <td>0.442</td>\n",
       "    </tr>\n",
       "    <tr>\n",
       "      <th>2</th>\n",
       "      <td>ABBVIE INC</td>\n",
       "      <td>ABBV4241910</td>\n",
       "      <td>Yes</td>\n",
       "      <td>Corporate Bond</td>\n",
       "      <td>3.600</td>\n",
       "      <td>05/14/2025</td>\n",
       "      <td>Baa2</td>\n",
       "      <td>BBB+</td>\n",
       "      <td>108.701</td>\n",
       "      <td>1.040</td>\n",
       "    </tr>\n",
       "    <tr>\n",
       "      <th>3</th>\n",
       "      <td>ABBVIE INC</td>\n",
       "      <td>ABBV4241923</td>\n",
       "      <td>Yes</td>\n",
       "      <td>Corporate Bond</td>\n",
       "      <td>4.500</td>\n",
       "      <td>05/14/2035</td>\n",
       "      <td>Baa2</td>\n",
       "      <td>BBB+</td>\n",
       "      <td>121.696</td>\n",
       "      <td>2.555</td>\n",
       "    </tr>\n",
       "    <tr>\n",
       "      <th>4</th>\n",
       "      <td>ABBVIE INC</td>\n",
       "      <td>ABBV4241924</td>\n",
       "      <td>Yes</td>\n",
       "      <td>Corporate Bond</td>\n",
       "      <td>4.700</td>\n",
       "      <td>05/14/2045</td>\n",
       "      <td>Baa2</td>\n",
       "      <td>BBB+</td>\n",
       "      <td>126.227</td>\n",
       "      <td>3.106</td>\n",
       "    </tr>\n",
       "    <tr>\n",
       "      <th>...</th>\n",
       "      <td>...</td>\n",
       "      <td>...</td>\n",
       "      <td>...</td>\n",
       "      <td>...</td>\n",
       "      <td>...</td>\n",
       "      <td>...</td>\n",
       "      <td>...</td>\n",
       "      <td>...</td>\n",
       "      <td>...</td>\n",
       "      <td>...</td>\n",
       "    </tr>\n",
       "    <tr>\n",
       "      <th>15</th>\n",
       "      <td>YUM BRANDS INC</td>\n",
       "      <td>YUM5043696</td>\n",
       "      <td>Yes</td>\n",
       "      <td>Corporate Bond</td>\n",
       "      <td>3.625</td>\n",
       "      <td>03/15/2031</td>\n",
       "      <td>B1</td>\n",
       "      <td>BB-</td>\n",
       "      <td>102.274</td>\n",
       "      <td>3.339</td>\n",
       "    </tr>\n",
       "    <tr>\n",
       "      <th>16</th>\n",
       "      <td>YUM BRANDS INC</td>\n",
       "      <td>YUM4972647</td>\n",
       "      <td>Yes</td>\n",
       "      <td>Corporate Bond</td>\n",
       "      <td>7.750</td>\n",
       "      <td>04/01/2025</td>\n",
       "      <td>B1</td>\n",
       "      <td>BB-</td>\n",
       "      <td>107.750</td>\n",
       "      <td>1.199</td>\n",
       "    </tr>\n",
       "    <tr>\n",
       "      <th>17</th>\n",
       "      <td>ZIMMER BIOMET HLDGS INC</td>\n",
       "      <td>ZBH4221428</td>\n",
       "      <td>Yes</td>\n",
       "      <td>Corporate Bond</td>\n",
       "      <td>3.150</td>\n",
       "      <td>04/01/2022</td>\n",
       "      <td>Baa3</td>\n",
       "      <td>BBB</td>\n",
       "      <td>101.140</td>\n",
       "      <td>0.513</td>\n",
       "    </tr>\n",
       "    <tr>\n",
       "      <th>18</th>\n",
       "      <td>ZIMMER BIOMET HLDGS INC</td>\n",
       "      <td>ZBH4221424</td>\n",
       "      <td>Yes</td>\n",
       "      <td>Corporate Bond</td>\n",
       "      <td>3.550</td>\n",
       "      <td>04/01/2025</td>\n",
       "      <td>Baa3</td>\n",
       "      <td>BBB</td>\n",
       "      <td>107.812</td>\n",
       "      <td>1.164</td>\n",
       "    </tr>\n",
       "    <tr>\n",
       "      <th>19</th>\n",
       "      <td>ZIMMER BIOMET HLDGS INC</td>\n",
       "      <td>ZBH4221421</td>\n",
       "      <td>Yes</td>\n",
       "      <td>Corporate Bond</td>\n",
       "      <td>4.250</td>\n",
       "      <td>08/15/2035</td>\n",
       "      <td>Baa3</td>\n",
       "      <td>BBB</td>\n",
       "      <td>110.812</td>\n",
       "      <td>3.253</td>\n",
       "    </tr>\n",
       "  </tbody>\n",
       "</table>\n",
       "<p>6340 rows × 10 columns</p>\n",
       "</div>"
      ],
      "text/plain": [
       "                Issuer Name       Symbol Callable Sub-Product Type Coupon  \\\n",
       "0   21ST CENTY FOX AMER INC   DIS4232226      Yes   Corporate Bond  6.400   \n",
       "1                ABBVIE INC  ABBV4241908      Yes   Corporate Bond  3.200   \n",
       "2                ABBVIE INC  ABBV4241910      Yes   Corporate Bond  3.600   \n",
       "3                ABBVIE INC  ABBV4241923      Yes   Corporate Bond  4.500   \n",
       "4                ABBVIE INC  ABBV4241924      Yes   Corporate Bond  4.700   \n",
       "..                      ...          ...      ...              ...    ...   \n",
       "15           YUM BRANDS INC   YUM5043696      Yes   Corporate Bond  3.625   \n",
       "16           YUM BRANDS INC   YUM4972647      Yes   Corporate Bond  7.750   \n",
       "17  ZIMMER BIOMET HLDGS INC   ZBH4221428      Yes   Corporate Bond  3.150   \n",
       "18  ZIMMER BIOMET HLDGS INC   ZBH4221424      Yes   Corporate Bond  3.550   \n",
       "19  ZIMMER BIOMET HLDGS INC   ZBH4221421      Yes   Corporate Bond  4.250   \n",
       "\n",
       "      Maturity Moody's®   S&P    Price  Yield  \n",
       "0   12/15/2035     Baa1  BBB+  131.166  3.596  \n",
       "1   11/06/2022     Baa2  BBB+  102.833  0.442  \n",
       "2   05/14/2025     Baa2  BBB+  108.701  1.040  \n",
       "3   05/14/2035     Baa2  BBB+  121.696  2.555  \n",
       "4   05/14/2045     Baa2  BBB+  126.227  3.106  \n",
       "..         ...      ...   ...      ...    ...  \n",
       "15  03/15/2031       B1   BB-  102.274  3.339  \n",
       "16  04/01/2025       B1   BB-  107.750  1.199  \n",
       "17  04/01/2022     Baa3   BBB  101.140  0.513  \n",
       "18  04/01/2025     Baa3   BBB  107.812  1.164  \n",
       "19  08/15/2035     Baa3   BBB  110.812  3.253  \n",
       "\n",
       "[6340 rows x 10 columns]"
      ]
     },
     "execution_count": 468,
     "metadata": {},
     "output_type": "execute_result"
    }
   ],
   "source": [
    "# Load bond dataframe from the saved pickle file\n",
    "# bond_prices_df = pd.read_pickle(\"./bond_prices_df.pkl\")\n",
    "# bond_prices_df"
   ]
  },
  {
   "cell_type": "code",
   "execution_count": 469,
   "metadata": {},
   "outputs": [],
   "source": [
    "# Let's clean up the Symbol column\n",
    "r = re.compile(r'([a-zA-Z]+)')\n",
    "bond_prices_df[\"Symbol\"] = bond_prices_df[\"Symbol\"].transform(lambda x: r.match(x).groups()[0])\n",
    "\n",
    "# Add a Maturity Years column\n",
    "now = dt.strptime(date.today().strftime('%m/%d/%Y'), '%m/%d/%Y')\n",
    "\n",
    "bond_prices_df['Maturity'] = pd.to_datetime(bond_prices_df['Maturity']).dt.strftime('%m/%d/%Y')\n",
    "bond_prices_df[\"Maturity Years\"] = bond_prices_df[\"Maturity\"].transform(\n",
    "    lambda x: (dt.strptime(x, '%m/%d/%Y') - now).days/360)\n",
    "\n",
    "# Remove any commas and change string values to numeric values\n",
    "bond_prices_df[[\"Coupon\", \"Price\", \"Yield\", \n",
    "                \"Maturity Years\"]] = bond_prices_df[[\"Coupon\", \"Price\", \"Yield\", \n",
    "                                                     \"Maturity Years\"]].apply(lambda x: x.replace('[,]',''))\n",
    "\n",
    "bond_prices_df[[\"Coupon\", \"Price\", \"Yield\", \n",
    "                \"Maturity Years\"]] = bond_prices_df[[\"Coupon\", \"Price\", \"Yield\", \n",
    "                                                     \"Maturity Years\"]].apply(pd.to_numeric)\n"
   ]
  },
  {
   "cell_type": "markdown",
   "metadata": {},
   "source": [
    "Let's create a new column for bond duration that can be calculated using the below code."
   ]
  },
  {
   "cell_type": "code",
   "execution_count": 470,
   "metadata": {},
   "outputs": [],
   "source": [
    "# Bond duration using discrete, annual compounding and a flat term structure\n",
    "def bonds_duration_discrete(maturity_years, coupon, bond_price, interest_rate):\n",
    "    \n",
    "    b = 0\n",
    "    d = 0\n",
    "    \n",
    "    times = np.arange(1, round(maturity_years))\n",
    "    cashflows = [coupon for i in np.arange(1,round(maturity_years))] + [100] # Manually added the repayment of principal\n",
    "    b = bond_price\n",
    "    r = interest_rate\n",
    "    \n",
    "    for i in range(len(times)):\n",
    "        \n",
    "        d += times[i] * cashflows[i] / np.power((1 + r), times[i])\n",
    "    \n",
    "    return d / b"
   ]
  },
  {
   "cell_type": "code",
   "execution_count": 471,
   "metadata": {},
   "outputs": [
    {
     "data": {
      "text/html": [
       "<div>\n",
       "<style scoped>\n",
       "    .dataframe tbody tr th:only-of-type {\n",
       "        vertical-align: middle;\n",
       "    }\n",
       "\n",
       "    .dataframe tbody tr th {\n",
       "        vertical-align: top;\n",
       "    }\n",
       "\n",
       "    .dataframe thead th {\n",
       "        text-align: right;\n",
       "    }\n",
       "</style>\n",
       "<table border=\"1\" class=\"dataframe\">\n",
       "  <thead>\n",
       "    <tr style=\"text-align: right;\">\n",
       "      <th></th>\n",
       "      <th>Issuer Name</th>\n",
       "      <th>Symbol</th>\n",
       "      <th>Callable</th>\n",
       "      <th>Sub-Product Type</th>\n",
       "      <th>Coupon</th>\n",
       "      <th>Maturity</th>\n",
       "      <th>Moody's®</th>\n",
       "      <th>S&amp;P</th>\n",
       "      <th>Price</th>\n",
       "      <th>Yield</th>\n",
       "      <th>Maturity Years</th>\n",
       "      <th>Duration</th>\n",
       "    </tr>\n",
       "  </thead>\n",
       "  <tbody>\n",
       "    <tr>\n",
       "      <th>0</th>\n",
       "      <td>21ST CENTY FOX AMER INC</td>\n",
       "      <td>DIS</td>\n",
       "      <td>Yes</td>\n",
       "      <td>Corporate Bond</td>\n",
       "      <td>6.400</td>\n",
       "      <td>12/15/2035</td>\n",
       "      <td>Baa1</td>\n",
       "      <td>BBB+</td>\n",
       "      <td>131.166</td>\n",
       "      <td>3.596</td>\n",
       "      <td>14.516667</td>\n",
       "      <td>3.668031</td>\n",
       "    </tr>\n",
       "    <tr>\n",
       "      <th>1</th>\n",
       "      <td>ABBVIE INC</td>\n",
       "      <td>ABBV</td>\n",
       "      <td>Yes</td>\n",
       "      <td>Corporate Bond</td>\n",
       "      <td>3.200</td>\n",
       "      <td>11/06/2022</td>\n",
       "      <td>Baa2</td>\n",
       "      <td>BBB+</td>\n",
       "      <td>102.833</td>\n",
       "      <td>0.442</td>\n",
       "      <td>1.219444</td>\n",
       "      <td>0.000000</td>\n",
       "    </tr>\n",
       "    <tr>\n",
       "      <th>2</th>\n",
       "      <td>ABBVIE INC</td>\n",
       "      <td>ABBV</td>\n",
       "      <td>Yes</td>\n",
       "      <td>Corporate Bond</td>\n",
       "      <td>3.600</td>\n",
       "      <td>05/14/2025</td>\n",
       "      <td>Baa2</td>\n",
       "      <td>BBB+</td>\n",
       "      <td>108.701</td>\n",
       "      <td>1.040</td>\n",
       "      <td>3.775000</td>\n",
       "      <td>0.193976</td>\n",
       "    </tr>\n",
       "    <tr>\n",
       "      <th>3</th>\n",
       "      <td>ABBVIE INC</td>\n",
       "      <td>ABBV</td>\n",
       "      <td>Yes</td>\n",
       "      <td>Corporate Bond</td>\n",
       "      <td>4.500</td>\n",
       "      <td>05/14/2035</td>\n",
       "      <td>Baa2</td>\n",
       "      <td>BBB+</td>\n",
       "      <td>121.696</td>\n",
       "      <td>2.555</td>\n",
       "      <td>13.919444</td>\n",
       "      <td>2.690101</td>\n",
       "    </tr>\n",
       "    <tr>\n",
       "      <th>4</th>\n",
       "      <td>ABBVIE INC</td>\n",
       "      <td>ABBV</td>\n",
       "      <td>Yes</td>\n",
       "      <td>Corporate Bond</td>\n",
       "      <td>4.700</td>\n",
       "      <td>05/14/2045</td>\n",
       "      <td>Baa2</td>\n",
       "      <td>BBB+</td>\n",
       "      <td>126.227</td>\n",
       "      <td>3.106</td>\n",
       "      <td>24.066667</td>\n",
       "      <td>6.458556</td>\n",
       "    </tr>\n",
       "    <tr>\n",
       "      <th>...</th>\n",
       "      <td>...</td>\n",
       "      <td>...</td>\n",
       "      <td>...</td>\n",
       "      <td>...</td>\n",
       "      <td>...</td>\n",
       "      <td>...</td>\n",
       "      <td>...</td>\n",
       "      <td>...</td>\n",
       "      <td>...</td>\n",
       "      <td>...</td>\n",
       "      <td>...</td>\n",
       "      <td>...</td>\n",
       "    </tr>\n",
       "    <tr>\n",
       "      <th>15</th>\n",
       "      <td>YUM BRANDS INC</td>\n",
       "      <td>YUM</td>\n",
       "      <td>Yes</td>\n",
       "      <td>Corporate Bond</td>\n",
       "      <td>3.625</td>\n",
       "      <td>03/15/2031</td>\n",
       "      <td>B1</td>\n",
       "      <td>BB-</td>\n",
       "      <td>102.274</td>\n",
       "      <td>3.339</td>\n",
       "      <td>9.694444</td>\n",
       "      <td>1.298900</td>\n",
       "    </tr>\n",
       "    <tr>\n",
       "      <th>16</th>\n",
       "      <td>YUM BRANDS INC</td>\n",
       "      <td>YUM</td>\n",
       "      <td>Yes</td>\n",
       "      <td>Corporate Bond</td>\n",
       "      <td>7.750</td>\n",
       "      <td>04/01/2025</td>\n",
       "      <td>B1</td>\n",
       "      <td>BB-</td>\n",
       "      <td>107.750</td>\n",
       "      <td>1.199</td>\n",
       "      <td>3.655556</td>\n",
       "      <td>0.419735</td>\n",
       "    </tr>\n",
       "    <tr>\n",
       "      <th>17</th>\n",
       "      <td>ZIMMER BIOMET HLDGS INC</td>\n",
       "      <td>ZBH</td>\n",
       "      <td>Yes</td>\n",
       "      <td>Corporate Bond</td>\n",
       "      <td>3.150</td>\n",
       "      <td>04/01/2022</td>\n",
       "      <td>Baa3</td>\n",
       "      <td>BBB</td>\n",
       "      <td>101.140</td>\n",
       "      <td>0.513</td>\n",
       "      <td>0.611111</td>\n",
       "      <td>0.000000</td>\n",
       "    </tr>\n",
       "    <tr>\n",
       "      <th>18</th>\n",
       "      <td>ZIMMER BIOMET HLDGS INC</td>\n",
       "      <td>ZBH</td>\n",
       "      <td>Yes</td>\n",
       "      <td>Corporate Bond</td>\n",
       "      <td>3.550</td>\n",
       "      <td>04/01/2025</td>\n",
       "      <td>Baa3</td>\n",
       "      <td>BBB</td>\n",
       "      <td>107.812</td>\n",
       "      <td>1.164</td>\n",
       "      <td>3.655556</td>\n",
       "      <td>0.192310</td>\n",
       "    </tr>\n",
       "    <tr>\n",
       "      <th>19</th>\n",
       "      <td>ZIMMER BIOMET HLDGS INC</td>\n",
       "      <td>ZBH</td>\n",
       "      <td>Yes</td>\n",
       "      <td>Corporate Bond</td>\n",
       "      <td>4.250</td>\n",
       "      <td>08/15/2035</td>\n",
       "      <td>Baa3</td>\n",
       "      <td>BBB</td>\n",
       "      <td>110.812</td>\n",
       "      <td>3.253</td>\n",
       "      <td>14.177778</td>\n",
       "      <td>2.630184</td>\n",
       "    </tr>\n",
       "  </tbody>\n",
       "</table>\n",
       "<p>6340 rows × 12 columns</p>\n",
       "</div>"
      ],
      "text/plain": [
       "                Issuer Name Symbol Callable Sub-Product Type  Coupon  \\\n",
       "0   21ST CENTY FOX AMER INC    DIS      Yes   Corporate Bond   6.400   \n",
       "1                ABBVIE INC   ABBV      Yes   Corporate Bond   3.200   \n",
       "2                ABBVIE INC   ABBV      Yes   Corporate Bond   3.600   \n",
       "3                ABBVIE INC   ABBV      Yes   Corporate Bond   4.500   \n",
       "4                ABBVIE INC   ABBV      Yes   Corporate Bond   4.700   \n",
       "..                      ...    ...      ...              ...     ...   \n",
       "15           YUM BRANDS INC    YUM      Yes   Corporate Bond   3.625   \n",
       "16           YUM BRANDS INC    YUM      Yes   Corporate Bond   7.750   \n",
       "17  ZIMMER BIOMET HLDGS INC    ZBH      Yes   Corporate Bond   3.150   \n",
       "18  ZIMMER BIOMET HLDGS INC    ZBH      Yes   Corporate Bond   3.550   \n",
       "19  ZIMMER BIOMET HLDGS INC    ZBH      Yes   Corporate Bond   4.250   \n",
       "\n",
       "      Maturity Moody's®   S&P    Price  Yield  Maturity Years  Duration  \n",
       "0   12/15/2035     Baa1  BBB+  131.166  3.596       14.516667  3.668031  \n",
       "1   11/06/2022     Baa2  BBB+  102.833  0.442        1.219444  0.000000  \n",
       "2   05/14/2025     Baa2  BBB+  108.701  1.040        3.775000  0.193976  \n",
       "3   05/14/2035     Baa2  BBB+  121.696  2.555       13.919444  2.690101  \n",
       "4   05/14/2045     Baa2  BBB+  126.227  3.106       24.066667  6.458556  \n",
       "..         ...      ...   ...      ...    ...             ...       ...  \n",
       "15  03/15/2031       B1   BB-  102.274  3.339        9.694444  1.298900  \n",
       "16  04/01/2025       B1   BB-  107.750  1.199        3.655556  0.419735  \n",
       "17  04/01/2022     Baa3   BBB  101.140  0.513        0.611111  0.000000  \n",
       "18  04/01/2025     Baa3   BBB  107.812  1.164        3.655556  0.192310  \n",
       "19  08/15/2035     Baa3   BBB  110.812  3.253       14.177778  2.630184  \n",
       "\n",
       "[6340 rows x 12 columns]"
      ]
     },
     "execution_count": 471,
     "metadata": {},
     "output_type": "execute_result"
    }
   ],
   "source": [
    "# create a new Duration column\n",
    "bond_prices_df[\"Duration\"] = bond_prices_df.apply(lambda x: bonds_duration_discrete(x[\"Maturity Years\"],\n",
    "                                                                                    float(x[\"Coupon\"]),\n",
    "                                                                                    float(x[\"Price\"]),\n",
    "                                                                                    float(x[\"Yield\"])/100), axis=1)\n",
    "\n",
    "bond_prices_df"
   ]
  },
  {
   "cell_type": "code",
   "execution_count": 472,
   "metadata": {
    "scrolled": false
   },
   "outputs": [
    {
     "data": {
      "text/html": [
       "<div>\n",
       "<style scoped>\n",
       "    .dataframe tbody tr th:only-of-type {\n",
       "        vertical-align: middle;\n",
       "    }\n",
       "\n",
       "    .dataframe tbody tr th {\n",
       "        vertical-align: top;\n",
       "    }\n",
       "\n",
       "    .dataframe thead th {\n",
       "        text-align: right;\n",
       "    }\n",
       "</style>\n",
       "<table border=\"1\" class=\"dataframe\">\n",
       "  <thead>\n",
       "    <tr style=\"text-align: right;\">\n",
       "      <th></th>\n",
       "      <th>Coupon</th>\n",
       "      <th>Price</th>\n",
       "      <th>Yield</th>\n",
       "      <th>Maturity Years</th>\n",
       "      <th>Duration</th>\n",
       "    </tr>\n",
       "  </thead>\n",
       "  <tbody>\n",
       "    <tr>\n",
       "      <th>count</th>\n",
       "      <td>6340.000000</td>\n",
       "      <td>6340.000000</td>\n",
       "      <td>6340.000000</td>\n",
       "      <td>6340.000000</td>\n",
       "      <td>6340.000000</td>\n",
       "    </tr>\n",
       "    <tr>\n",
       "      <th>mean</th>\n",
       "      <td>4.456975</td>\n",
       "      <td>110.448194</td>\n",
       "      <td>2.468573</td>\n",
       "      <td>9.481044</td>\n",
       "      <td>1.897207</td>\n",
       "    </tr>\n",
       "    <tr>\n",
       "      <th>std</th>\n",
       "      <td>1.568256</td>\n",
       "      <td>12.346788</td>\n",
       "      <td>1.538551</td>\n",
       "      <td>9.215453</td>\n",
       "      <td>3.126808</td>\n",
       "    </tr>\n",
       "    <tr>\n",
       "      <th>min</th>\n",
       "      <td>0.400000</td>\n",
       "      <td>55.372000</td>\n",
       "      <td>0.002000</td>\n",
       "      <td>0.011111</td>\n",
       "      <td>0.000000</td>\n",
       "    </tr>\n",
       "    <tr>\n",
       "      <th>25%</th>\n",
       "      <td>3.400000</td>\n",
       "      <td>102.199250</td>\n",
       "      <td>1.273000</td>\n",
       "      <td>3.608333</td>\n",
       "      <td>0.158094</td>\n",
       "    </tr>\n",
       "    <tr>\n",
       "      <th>50%</th>\n",
       "      <td>4.250000</td>\n",
       "      <td>107.050500</td>\n",
       "      <td>2.260000</td>\n",
       "      <td>6.533333</td>\n",
       "      <td>0.682291</td>\n",
       "    </tr>\n",
       "    <tr>\n",
       "      <th>75%</th>\n",
       "      <td>5.300000</td>\n",
       "      <td>113.947750</td>\n",
       "      <td>3.315000</td>\n",
       "      <td>11.647222</td>\n",
       "      <td>2.105779</td>\n",
       "    </tr>\n",
       "    <tr>\n",
       "      <th>max</th>\n",
       "      <td>11.500000</td>\n",
       "      <td>205.307000</td>\n",
       "      <td>23.637000</td>\n",
       "      <td>98.347222</td>\n",
       "      <td>106.418124</td>\n",
       "    </tr>\n",
       "  </tbody>\n",
       "</table>\n",
       "</div>"
      ],
      "text/plain": [
       "            Coupon        Price        Yield  Maturity Years     Duration\n",
       "count  6340.000000  6340.000000  6340.000000     6340.000000  6340.000000\n",
       "mean      4.456975   110.448194     2.468573        9.481044     1.897207\n",
       "std       1.568256    12.346788     1.538551        9.215453     3.126808\n",
       "min       0.400000    55.372000     0.002000        0.011111     0.000000\n",
       "25%       3.400000   102.199250     1.273000        3.608333     0.158094\n",
       "50%       4.250000   107.050500     2.260000        6.533333     0.682291\n",
       "75%       5.300000   113.947750     3.315000       11.647222     2.105779\n",
       "max      11.500000   205.307000    23.637000       98.347222   106.418124"
      ]
     },
     "execution_count": 472,
     "metadata": {},
     "output_type": "execute_result"
    }
   ],
   "source": [
    "# Generate descriptive statistics for bonds\n",
    "bond_prices_df.describe()"
   ]
  },
  {
   "cell_type": "code",
   "execution_count": 473,
   "metadata": {},
   "outputs": [
    {
     "data": {
      "text/plain": [
       "839"
      ]
     },
     "execution_count": 473,
     "metadata": {},
     "output_type": "execute_result"
    }
   ],
   "source": [
    "# Get the list of unique stock tickers from the bond dataframe\n",
    "prelim_stock_tickers = bond_prices_df[\"Symbol\"].unique().tolist()\n",
    "\n",
    "# Check the count of unique stock tickers from the bond dataframe\n",
    "len(prelim_stock_tickers)"
   ]
  },
  {
   "cell_type": "markdown",
   "metadata": {},
   "source": [
    "Next, we will scrape the Russell 3000 Index member list in order to filter the FINRA TRACE bond data to ensure we only proceed with members of the Russell 3000 Index for our analysis. The below script includes a Russell 3000 Index member list url that is for a specific date. This url may need to be updated in future scrapes in order to aggregate the current Russell 3000 Index member list at that future date.\n",
    "\n",
    "Using the Russell 3000 Index members that are also included in the bond data from FINRA TRACE, we will then use the [Key Statistics](https://rapidapi.com/alphawave/api/stock-analysis?endpoint=apiendpoint_dff4b882-4be4-4169-a700-04275c92bdce) endpoint from the [AlphaWave Data Stock Analysis API](https://rapidapi.com/alphawave/api/stock-analysis/endpoints) to pull in the required stock information."
   ]
  },
  {
   "cell_type": "code",
   "execution_count": 474,
   "metadata": {},
   "outputs": [
    {
     "data": {
      "text/plain": [
       "3009"
      ]
     },
     "execution_count": 474,
     "metadata": {},
     "output_type": "execute_result"
    }
   ],
   "source": [
    "# Scrape the Russell 3000 Member List\n",
    "russell_url = 'https://content.ftserussell.com/sites/default/files/ru3000_membershiplist_20210628.pdf'\n",
    "\n",
    "r = requests.get(russell_url)\n",
    "f = io.BytesIO(r.content)\n",
    "\n",
    "reader = PdfFileReader(f)\n",
    "\n",
    "contents = []\n",
    "\n",
    "# There are 32 pages we want to scrape from the russell_url\n",
    "for i in range(32):\n",
    "    content = reader.getPage(i).extractText().split('\\n')\n",
    "    contents.append(content)\n",
    "\n",
    "flat_list = [item for sublist in contents for item in sublist]\n",
    "\n",
    "russell_3000_flat_list = flat_list[1::2]\n",
    "\n",
    "# items to be removed\n",
    "unwanted_values = {'Ticker', 'Russell US Indexes', '', '1', '2', '3', '4', '5', '6', '7', '8',\n",
    "                   '9', '10', '11', '12', '13', '14', '15', '16', '17', '18', '19', '20', '21',\n",
    "                   '22', '23', '24', '25', '26', '27', '28', '29', '30', '31', '32', '33'}\n",
    "\n",
    "clean_russell_3000_flat_list = [ele for ele in russell_3000_flat_list if ele not in unwanted_values]\n",
    "\n",
    "# Check the count of Russell 3000 stock tickers\n",
    "len(clean_russell_3000_flat_list)"
   ]
  },
  {
   "cell_type": "code",
   "execution_count": 475,
   "metadata": {},
   "outputs": [
    {
     "data": {
      "text/plain": [
       "570"
      ]
     },
     "execution_count": 475,
     "metadata": {},
     "output_type": "execute_result"
    }
   ],
   "source": [
    "# Return symbols not in the Russell 3000,\n",
    "# which we will remove from our analysis.\n",
    "\n",
    "stock_tickers_not_in_russell_3000 = np.setdiff1d(prelim_stock_tickers,clean_russell_3000_flat_list)\n",
    "\n",
    "# items to be removed\n",
    "unwanted_stock_tickers = set(stock_tickers_not_in_russell_3000)\n",
    "\n",
    "# stock tickers found in the Russell 3000\n",
    "clean_stock_tickers = [ele for ele in prelim_stock_tickers if ele not in unwanted_stock_tickers]\n",
    "\n",
    "# check the count stock tickers found in the Russell 3000\n",
    "len(clean_stock_tickers)"
   ]
  },
  {
   "cell_type": "code",
   "execution_count": 476,
   "metadata": {},
   "outputs": [
    {
     "data": {
      "text/plain": [
       "570"
      ]
     },
     "execution_count": 476,
     "metadata": {},
     "output_type": "execute_result"
    }
   ],
   "source": [
    "# replace tickers that have '.' with '-' so we can use AlphaWave Data APIs\n",
    "for ticker in range(len(clean_stock_tickers)):\n",
    "    clean_stock_tickers[ticker] = clean_stock_tickers[ticker].upper().replace(\".\", \"-\")\n",
    "\n",
    "len(clean_stock_tickers)"
   ]
  },
  {
   "cell_type": "markdown",
   "metadata": {},
   "source": [
    "We can use the [Key Statistics](https://rapidapi.com/alphawave/api/stock-analysis?endpoint=apiendpoint_dff4b882-4be4-4169-a700-04275c92bdce) endpoint from the [AlphaWave Data Stock Analysis API](https://rapidapi.com/alphawave/api/stock-analysis/endpoints) to pull in the required stock information.\n",
    "\n",
    "To call this API with Python, you can choose one of the supported Python code snippets provided in the API console. The following is an example of how to invoke the API with Python Requests. You will need to insert your own <b>x-rapidapi-host</b> and <b>x-rapidapi-key</b> information in the code block below."
   ]
  },
  {
   "cell_type": "code",
   "execution_count": 477,
   "metadata": {
    "scrolled": true
   },
   "outputs": [
    {
     "name": "stderr",
     "output_type": "stream",
     "text": [
      "Retrieving AlphaWave Data Stock Info: 100%|██████████| 570/570 [39:10<00:00,  4.12s/it]\n"
     ]
    },
    {
     "data": {
      "text/html": [
       "<div>\n",
       "<style scoped>\n",
       "    .dataframe tbody tr th:only-of-type {\n",
       "        vertical-align: middle;\n",
       "    }\n",
       "\n",
       "    .dataframe tbody tr th {\n",
       "        vertical-align: top;\n",
       "    }\n",
       "\n",
       "    .dataframe thead th {\n",
       "        text-align: right;\n",
       "    }\n",
       "</style>\n",
       "<table border=\"1\" class=\"dataframe\">\n",
       "  <thead>\n",
       "    <tr style=\"text-align: right;\">\n",
       "      <th></th>\n",
       "      <th>Operating Margin</th>\n",
       "      <th>Current ratio</th>\n",
       "      <th>EV/Revenue</th>\n",
       "      <th>Return on Assets</th>\n",
       "      <th>Return on Equity</th>\n",
       "    </tr>\n",
       "  </thead>\n",
       "  <tbody>\n",
       "    <tr>\n",
       "      <th>DIS</th>\n",
       "      <td>3.91%</td>\n",
       "      <td>1.24</td>\n",
       "      <td>5.85</td>\n",
       "      <td>0.76%</td>\n",
       "      <td>1.65%</td>\n",
       "    </tr>\n",
       "    <tr>\n",
       "      <th>ABBV</th>\n",
       "      <td>35.17%</td>\n",
       "      <td>0.91</td>\n",
       "      <td>5.30</td>\n",
       "      <td>7.94%</td>\n",
       "      <td>48.86%</td>\n",
       "    </tr>\n",
       "    <tr>\n",
       "      <th>ACHC</th>\n",
       "      <td>17.66%</td>\n",
       "      <td>1.35</td>\n",
       "      <td>3.24</td>\n",
       "      <td>4.30%</td>\n",
       "      <td>6.68%</td>\n",
       "    </tr>\n",
       "    <tr>\n",
       "      <th>ACIW</th>\n",
       "      <td>14.08%</td>\n",
       "      <td>1.28</td>\n",
       "      <td>3.66</td>\n",
       "      <td>3.60%</td>\n",
       "      <td>7.72%</td>\n",
       "    </tr>\n",
       "    <tr>\n",
       "      <th>AYI</th>\n",
       "      <td>12.22%</td>\n",
       "      <td>2.29</td>\n",
       "      <td>1.92</td>\n",
       "      <td>7.33%</td>\n",
       "      <td>13.64%</td>\n",
       "    </tr>\n",
       "    <tr>\n",
       "      <th>...</th>\n",
       "      <td>...</td>\n",
       "      <td>...</td>\n",
       "      <td>...</td>\n",
       "      <td>...</td>\n",
       "      <td>...</td>\n",
       "    </tr>\n",
       "    <tr>\n",
       "      <th>WYNN</th>\n",
       "      <td>-21.59%</td>\n",
       "      <td>1.27</td>\n",
       "      <td>6.99</td>\n",
       "      <td>-2.69%</td>\n",
       "      <td>0</td>\n",
       "    </tr>\n",
       "    <tr>\n",
       "      <th>XEL</th>\n",
       "      <td>17.15%</td>\n",
       "      <td>0.84</td>\n",
       "      <td>4.88</td>\n",
       "      <td>2.48%</td>\n",
       "      <td>11.10%</td>\n",
       "    </tr>\n",
       "    <tr>\n",
       "      <th>XRX</th>\n",
       "      <td>7.36%</td>\n",
       "      <td>1.92</td>\n",
       "      <td>0.93</td>\n",
       "      <td>2.35%</td>\n",
       "      <td>5.30%</td>\n",
       "    </tr>\n",
       "    <tr>\n",
       "      <th>XPO</th>\n",
       "      <td>5.28%</td>\n",
       "      <td>1.02</td>\n",
       "      <td>0.90</td>\n",
       "      <td>3.95%</td>\n",
       "      <td>17.92%</td>\n",
       "    </tr>\n",
       "    <tr>\n",
       "      <th>ZBH</th>\n",
       "      <td>17.04%</td>\n",
       "      <td>1.83</td>\n",
       "      <td>4.71</td>\n",
       "      <td>3.51%</td>\n",
       "      <td>7.60%</td>\n",
       "    </tr>\n",
       "  </tbody>\n",
       "</table>\n",
       "<p>570 rows × 5 columns</p>\n",
       "</div>"
      ],
      "text/plain": [
       "     Operating Margin Current ratio EV/Revenue Return on Assets  \\\n",
       "DIS             3.91%          1.24       5.85            0.76%   \n",
       "ABBV           35.17%          0.91       5.30            7.94%   \n",
       "ACHC           17.66%          1.35       3.24            4.30%   \n",
       "ACIW           14.08%          1.28       3.66            3.60%   \n",
       "AYI            12.22%          2.29       1.92            7.33%   \n",
       "...               ...           ...        ...              ...   \n",
       "WYNN          -21.59%          1.27       6.99           -2.69%   \n",
       "XEL            17.15%          0.84       4.88            2.48%   \n",
       "XRX             7.36%          1.92       0.93            2.35%   \n",
       "XPO             5.28%          1.02       0.90            3.95%   \n",
       "ZBH            17.04%          1.83       4.71            3.51%   \n",
       "\n",
       "     Return on Equity  \n",
       "DIS             1.65%  \n",
       "ABBV           48.86%  \n",
       "ACHC            6.68%  \n",
       "ACIW            7.72%  \n",
       "AYI            13.64%  \n",
       "...               ...  \n",
       "WYNN                0  \n",
       "XEL            11.10%  \n",
       "XRX             5.30%  \n",
       "XPO            17.92%  \n",
       "ZBH             7.60%  \n",
       "\n",
       "[570 rows x 5 columns]"
      ]
     },
     "execution_count": 477,
     "metadata": {},
     "output_type": "execute_result"
    }
   ],
   "source": [
    "# Fetch AlphaWave Data's fundamental stock information\n",
    "key_stats_url = \"https://stock-analysis.p.rapidapi.com/api/v1/resources/key-stats\"\n",
    "\n",
    "headers = {\n",
    "    'x-rapidapi-host': \"YOUR_X-RAPIDAPI-HOST_WILL_COPY_DIRECTLY_FROM_RAPIDAPI_PYTHON_CODE_SNIPPETS\",\n",
    "    'x-rapidapi-key': \"YOUR_X-RAPIDAPI-KEY_WILL_COPY_DIRECTLY_FROM_RAPIDAPI_PYTHON_CODE_SNIPPETS\"\n",
    "    }\n",
    "\n",
    "retry_strategy = Retry(total=3, backoff_factor=10, status_forcelist=[429, 500, 502, 503, 504], method_whitelist=[\"HEAD\", \"GET\", \"PUT\", \"DELETE\", \"OPTIONS\", \"TRACE\"])\n",
    "rapid_api_adapter = HTTPAdapter(max_retries=retry_strategy)\n",
    "http = requests.Session()\n",
    "http.mount(\"https://\", rapid_api_adapter)\n",
    "\n",
    "alphawave_data = []\n",
    "\n",
    "for ticker in tqdm(clean_stock_tickers, position=0, leave=True, desc = \"Retrieving AlphaWave Data Stock Info\"):\n",
    "    \n",
    "    querystring = {\"ticker\":ticker}\n",
    "    time.sleep(3)\n",
    "    \n",
    "    try:\n",
    "        \n",
    "        # Get Key Stats\n",
    "        key_stats_response = http.get(key_stats_url, headers=key_stats_headers, params=querystring, timeout=(5, 5))\n",
    "        key_stats_response.raise_for_status()\n",
    "        key_stats_df = pd.DataFrame.from_dict(key_stats_response.json())\n",
    "        key_stats_df = key_stats_df.transpose()\n",
    "\n",
    "        operating_margin = key_stats_df.loc[r'Operating margin (ttm)'][0]\n",
    "        current_ratio = key_stats_df.loc[r'Current ratio (mrq)'][0]\n",
    "        ev_revenue = key_stats_df.loc[r'Enterprise value/revenue '][0]\n",
    "        roa = key_stats_df.loc[r'Return on assets (ttm)'][0]\n",
    "        roe = key_stats_df.loc[r'Return on equity (ttm)'][0]\n",
    "\n",
    "        # Create Dataframe\n",
    "        df = pd.DataFrame({'Operating Margin': operating_margin,\n",
    "                           'Current ratio': current_ratio,\n",
    "                           'EV/Revenue': ev_revenue,\n",
    "                           'Return on Assets': roa,\n",
    "                           'Return on Equity': roe},\n",
    "                          index=[ticker])\n",
    "\n",
    "        alphawave_data.append(df)\n",
    "\n",
    "    except requests.exceptions.RequestException as err:\n",
    "        print (\"OOps: Something Else\",err)\n",
    "    except requests.exceptions.HTTPError as errh:\n",
    "        print (\"Http Error:\",errh)\n",
    "    except requests.exceptions.ConnectionError as errc:\n",
    "        print (\"Error Connecting:\",errc)\n",
    "    except requests.exceptions.Timeout as errt:\n",
    "        print (\"Timeout Error:\",errt)\n",
    "        \n",
    "    except:\n",
    "        pass\n",
    "\n",
    "result_alphawave_df = pd.concat(alphawave_data, ignore_index=False)\n",
    "result_alphawave_df"
   ]
  },
  {
   "cell_type": "code",
   "execution_count": 478,
   "metadata": {},
   "outputs": [],
   "source": [
    "# Save the alphawave dataframe into a pickle file\n",
    "# result_alphawave_df.to_pickle(\"./result_alphawave_df.pkl\")"
   ]
  },
  {
   "cell_type": "code",
   "execution_count": 479,
   "metadata": {},
   "outputs": [
    {
     "data": {
      "text/html": [
       "<div>\n",
       "<style scoped>\n",
       "    .dataframe tbody tr th:only-of-type {\n",
       "        vertical-align: middle;\n",
       "    }\n",
       "\n",
       "    .dataframe tbody tr th {\n",
       "        vertical-align: top;\n",
       "    }\n",
       "\n",
       "    .dataframe thead th {\n",
       "        text-align: right;\n",
       "    }\n",
       "</style>\n",
       "<table border=\"1\" class=\"dataframe\">\n",
       "  <thead>\n",
       "    <tr style=\"text-align: right;\">\n",
       "      <th></th>\n",
       "      <th>Operating Margin</th>\n",
       "      <th>Current ratio</th>\n",
       "      <th>EV/Revenue</th>\n",
       "      <th>Return on Assets</th>\n",
       "      <th>Return on Equity</th>\n",
       "    </tr>\n",
       "  </thead>\n",
       "  <tbody>\n",
       "    <tr>\n",
       "      <th>DIS</th>\n",
       "      <td>3.91%</td>\n",
       "      <td>1.24</td>\n",
       "      <td>5.85</td>\n",
       "      <td>0.76%</td>\n",
       "      <td>1.65%</td>\n",
       "    </tr>\n",
       "    <tr>\n",
       "      <th>ABBV</th>\n",
       "      <td>35.17%</td>\n",
       "      <td>0.91</td>\n",
       "      <td>5.30</td>\n",
       "      <td>7.94%</td>\n",
       "      <td>48.86%</td>\n",
       "    </tr>\n",
       "    <tr>\n",
       "      <th>ACHC</th>\n",
       "      <td>17.66%</td>\n",
       "      <td>1.35</td>\n",
       "      <td>3.24</td>\n",
       "      <td>4.30%</td>\n",
       "      <td>6.68%</td>\n",
       "    </tr>\n",
       "    <tr>\n",
       "      <th>ACIW</th>\n",
       "      <td>14.08%</td>\n",
       "      <td>1.28</td>\n",
       "      <td>3.66</td>\n",
       "      <td>3.60%</td>\n",
       "      <td>7.72%</td>\n",
       "    </tr>\n",
       "    <tr>\n",
       "      <th>AYI</th>\n",
       "      <td>12.22%</td>\n",
       "      <td>2.29</td>\n",
       "      <td>1.92</td>\n",
       "      <td>7.33%</td>\n",
       "      <td>13.64%</td>\n",
       "    </tr>\n",
       "    <tr>\n",
       "      <th>...</th>\n",
       "      <td>...</td>\n",
       "      <td>...</td>\n",
       "      <td>...</td>\n",
       "      <td>...</td>\n",
       "      <td>...</td>\n",
       "    </tr>\n",
       "    <tr>\n",
       "      <th>WYNN</th>\n",
       "      <td>-21.59%</td>\n",
       "      <td>1.27</td>\n",
       "      <td>6.99</td>\n",
       "      <td>-2.69%</td>\n",
       "      <td>0</td>\n",
       "    </tr>\n",
       "    <tr>\n",
       "      <th>XEL</th>\n",
       "      <td>17.15%</td>\n",
       "      <td>0.84</td>\n",
       "      <td>4.88</td>\n",
       "      <td>2.48%</td>\n",
       "      <td>11.10%</td>\n",
       "    </tr>\n",
       "    <tr>\n",
       "      <th>XRX</th>\n",
       "      <td>7.36%</td>\n",
       "      <td>1.92</td>\n",
       "      <td>0.93</td>\n",
       "      <td>2.35%</td>\n",
       "      <td>5.30%</td>\n",
       "    </tr>\n",
       "    <tr>\n",
       "      <th>XPO</th>\n",
       "      <td>5.28%</td>\n",
       "      <td>1.02</td>\n",
       "      <td>0.90</td>\n",
       "      <td>3.95%</td>\n",
       "      <td>17.92%</td>\n",
       "    </tr>\n",
       "    <tr>\n",
       "      <th>ZBH</th>\n",
       "      <td>17.04%</td>\n",
       "      <td>1.83</td>\n",
       "      <td>4.71</td>\n",
       "      <td>3.51%</td>\n",
       "      <td>7.60%</td>\n",
       "    </tr>\n",
       "  </tbody>\n",
       "</table>\n",
       "<p>570 rows × 5 columns</p>\n",
       "</div>"
      ],
      "text/plain": [
       "     Operating Margin Current ratio EV/Revenue Return on Assets  \\\n",
       "DIS             3.91%          1.24       5.85            0.76%   \n",
       "ABBV           35.17%          0.91       5.30            7.94%   \n",
       "ACHC           17.66%          1.35       3.24            4.30%   \n",
       "ACIW           14.08%          1.28       3.66            3.60%   \n",
       "AYI            12.22%          2.29       1.92            7.33%   \n",
       "...               ...           ...        ...              ...   \n",
       "WYNN          -21.59%          1.27       6.99           -2.69%   \n",
       "XEL            17.15%          0.84       4.88            2.48%   \n",
       "XRX             7.36%          1.92       0.93            2.35%   \n",
       "XPO             5.28%          1.02       0.90            3.95%   \n",
       "ZBH            17.04%          1.83       4.71            3.51%   \n",
       "\n",
       "     Return on Equity  \n",
       "DIS             1.65%  \n",
       "ABBV           48.86%  \n",
       "ACHC            6.68%  \n",
       "ACIW            7.72%  \n",
       "AYI            13.64%  \n",
       "...               ...  \n",
       "WYNN                0  \n",
       "XEL            11.10%  \n",
       "XRX             5.30%  \n",
       "XPO            17.92%  \n",
       "ZBH             7.60%  \n",
       "\n",
       "[570 rows x 5 columns]"
      ]
     },
     "execution_count": 479,
     "metadata": {},
     "output_type": "execute_result"
    }
   ],
   "source": [
    "# Load the alphawave dataframe from the saved pickle file\n",
    "# result_alphawave_df = pd.read_pickle(\"./result_alphawave_df.pkl\")\n",
    "# result_alphawave_df"
   ]
  },
  {
   "cell_type": "code",
   "execution_count": 480,
   "metadata": {},
   "outputs": [
    {
     "data": {
      "text/html": [
       "<div>\n",
       "<style scoped>\n",
       "    .dataframe tbody tr th:only-of-type {\n",
       "        vertical-align: middle;\n",
       "    }\n",
       "\n",
       "    .dataframe tbody tr th {\n",
       "        vertical-align: top;\n",
       "    }\n",
       "\n",
       "    .dataframe thead th {\n",
       "        text-align: right;\n",
       "    }\n",
       "</style>\n",
       "<table border=\"1\" class=\"dataframe\">\n",
       "  <thead>\n",
       "    <tr style=\"text-align: right;\">\n",
       "      <th></th>\n",
       "      <th>Symbol</th>\n",
       "      <th>Operating Margin</th>\n",
       "      <th>Current ratio</th>\n",
       "      <th>EV/Revenue</th>\n",
       "      <th>Return on Assets</th>\n",
       "      <th>Return on Equity</th>\n",
       "    </tr>\n",
       "  </thead>\n",
       "  <tbody>\n",
       "    <tr>\n",
       "      <th>0</th>\n",
       "      <td>DIS</td>\n",
       "      <td>3.91%</td>\n",
       "      <td>1.24</td>\n",
       "      <td>5.85</td>\n",
       "      <td>0.76%</td>\n",
       "      <td>1.65%</td>\n",
       "    </tr>\n",
       "    <tr>\n",
       "      <th>1</th>\n",
       "      <td>ABBV</td>\n",
       "      <td>35.17%</td>\n",
       "      <td>0.91</td>\n",
       "      <td>5.30</td>\n",
       "      <td>7.94%</td>\n",
       "      <td>48.86%</td>\n",
       "    </tr>\n",
       "    <tr>\n",
       "      <th>2</th>\n",
       "      <td>ACHC</td>\n",
       "      <td>17.66%</td>\n",
       "      <td>1.35</td>\n",
       "      <td>3.24</td>\n",
       "      <td>4.30%</td>\n",
       "      <td>6.68%</td>\n",
       "    </tr>\n",
       "    <tr>\n",
       "      <th>3</th>\n",
       "      <td>ACIW</td>\n",
       "      <td>14.08%</td>\n",
       "      <td>1.28</td>\n",
       "      <td>3.66</td>\n",
       "      <td>3.60%</td>\n",
       "      <td>7.72%</td>\n",
       "    </tr>\n",
       "    <tr>\n",
       "      <th>4</th>\n",
       "      <td>AYI</td>\n",
       "      <td>12.22%</td>\n",
       "      <td>2.29</td>\n",
       "      <td>1.92</td>\n",
       "      <td>7.33%</td>\n",
       "      <td>13.64%</td>\n",
       "    </tr>\n",
       "    <tr>\n",
       "      <th>...</th>\n",
       "      <td>...</td>\n",
       "      <td>...</td>\n",
       "      <td>...</td>\n",
       "      <td>...</td>\n",
       "      <td>...</td>\n",
       "      <td>...</td>\n",
       "    </tr>\n",
       "    <tr>\n",
       "      <th>565</th>\n",
       "      <td>WYNN</td>\n",
       "      <td>-21.59%</td>\n",
       "      <td>1.27</td>\n",
       "      <td>6.99</td>\n",
       "      <td>-2.69%</td>\n",
       "      <td>0</td>\n",
       "    </tr>\n",
       "    <tr>\n",
       "      <th>566</th>\n",
       "      <td>XEL</td>\n",
       "      <td>17.15%</td>\n",
       "      <td>0.84</td>\n",
       "      <td>4.88</td>\n",
       "      <td>2.48%</td>\n",
       "      <td>11.10%</td>\n",
       "    </tr>\n",
       "    <tr>\n",
       "      <th>567</th>\n",
       "      <td>XRX</td>\n",
       "      <td>7.36%</td>\n",
       "      <td>1.92</td>\n",
       "      <td>0.93</td>\n",
       "      <td>2.35%</td>\n",
       "      <td>5.30%</td>\n",
       "    </tr>\n",
       "    <tr>\n",
       "      <th>568</th>\n",
       "      <td>XPO</td>\n",
       "      <td>5.28%</td>\n",
       "      <td>1.02</td>\n",
       "      <td>0.90</td>\n",
       "      <td>3.95%</td>\n",
       "      <td>17.92%</td>\n",
       "    </tr>\n",
       "    <tr>\n",
       "      <th>569</th>\n",
       "      <td>ZBH</td>\n",
       "      <td>17.04%</td>\n",
       "      <td>1.83</td>\n",
       "      <td>4.71</td>\n",
       "      <td>3.51%</td>\n",
       "      <td>7.60%</td>\n",
       "    </tr>\n",
       "  </tbody>\n",
       "</table>\n",
       "<p>570 rows × 6 columns</p>\n",
       "</div>"
      ],
      "text/plain": [
       "    Symbol Operating Margin Current ratio EV/Revenue Return on Assets  \\\n",
       "0      DIS            3.91%          1.24       5.85            0.76%   \n",
       "1     ABBV           35.17%          0.91       5.30            7.94%   \n",
       "2     ACHC           17.66%          1.35       3.24            4.30%   \n",
       "3     ACIW           14.08%          1.28       3.66            3.60%   \n",
       "4      AYI           12.22%          2.29       1.92            7.33%   \n",
       "..     ...              ...           ...        ...              ...   \n",
       "565   WYNN          -21.59%          1.27       6.99           -2.69%   \n",
       "566    XEL           17.15%          0.84       4.88            2.48%   \n",
       "567    XRX            7.36%          1.92       0.93            2.35%   \n",
       "568    XPO            5.28%          1.02       0.90            3.95%   \n",
       "569    ZBH           17.04%          1.83       4.71            3.51%   \n",
       "\n",
       "    Return on Equity  \n",
       "0              1.65%  \n",
       "1             48.86%  \n",
       "2              6.68%  \n",
       "3              7.72%  \n",
       "4             13.64%  \n",
       "..               ...  \n",
       "565                0  \n",
       "566           11.10%  \n",
       "567            5.30%  \n",
       "568           17.92%  \n",
       "569            7.60%  \n",
       "\n",
       "[570 rows x 6 columns]"
      ]
     },
     "execution_count": 480,
     "metadata": {},
     "output_type": "execute_result"
    }
   ],
   "source": [
    "# Let's create a Symbol column and reset the index\n",
    "result_alphawave_df.reset_index(inplace=True)\n",
    "result_alphawave_df = result_alphawave_df.rename(columns={\"index\":\"Symbol\"})\n",
    "result_alphawave_df"
   ]
  },
  {
   "cell_type": "markdown",
   "metadata": {},
   "source": [
    "Now let's add the AlphaWave Data stock information to the FINRA TRACE bond data."
   ]
  },
  {
   "cell_type": "code",
   "execution_count": 481,
   "metadata": {},
   "outputs": [
    {
     "data": {
      "text/html": [
       "<div>\n",
       "<style scoped>\n",
       "    .dataframe tbody tr th:only-of-type {\n",
       "        vertical-align: middle;\n",
       "    }\n",
       "\n",
       "    .dataframe tbody tr th {\n",
       "        vertical-align: top;\n",
       "    }\n",
       "\n",
       "    .dataframe thead th {\n",
       "        text-align: right;\n",
       "    }\n",
       "</style>\n",
       "<table border=\"1\" class=\"dataframe\">\n",
       "  <thead>\n",
       "    <tr style=\"text-align: right;\">\n",
       "      <th></th>\n",
       "      <th>Issuer Name</th>\n",
       "      <th>Symbol</th>\n",
       "      <th>Callable</th>\n",
       "      <th>Sub-Product Type</th>\n",
       "      <th>Coupon</th>\n",
       "      <th>Maturity</th>\n",
       "      <th>Moody's®</th>\n",
       "      <th>S&amp;P</th>\n",
       "      <th>Price</th>\n",
       "      <th>Yield</th>\n",
       "      <th>Maturity Years</th>\n",
       "      <th>Duration</th>\n",
       "      <th>Operating Margin</th>\n",
       "      <th>Current ratio</th>\n",
       "      <th>EV/Revenue</th>\n",
       "      <th>Return on Assets</th>\n",
       "      <th>Return on Equity</th>\n",
       "    </tr>\n",
       "  </thead>\n",
       "  <tbody>\n",
       "    <tr>\n",
       "      <th>0</th>\n",
       "      <td>21ST CENTY FOX AMER INC</td>\n",
       "      <td>DIS</td>\n",
       "      <td>Yes</td>\n",
       "      <td>Corporate Bond</td>\n",
       "      <td>6.400</td>\n",
       "      <td>12/15/2035</td>\n",
       "      <td>Baa1</td>\n",
       "      <td>BBB+</td>\n",
       "      <td>131.166</td>\n",
       "      <td>3.596</td>\n",
       "      <td>14.516667</td>\n",
       "      <td>3.668031</td>\n",
       "      <td>3.91%</td>\n",
       "      <td>1.24</td>\n",
       "      <td>5.85</td>\n",
       "      <td>0.76%</td>\n",
       "      <td>1.65%</td>\n",
       "    </tr>\n",
       "    <tr>\n",
       "      <th>1</th>\n",
       "      <td>ABBVIE INC</td>\n",
       "      <td>ABBV</td>\n",
       "      <td>Yes</td>\n",
       "      <td>Corporate Bond</td>\n",
       "      <td>3.200</td>\n",
       "      <td>11/06/2022</td>\n",
       "      <td>Baa2</td>\n",
       "      <td>BBB+</td>\n",
       "      <td>102.833</td>\n",
       "      <td>0.442</td>\n",
       "      <td>1.219444</td>\n",
       "      <td>0.000000</td>\n",
       "      <td>35.17%</td>\n",
       "      <td>0.91</td>\n",
       "      <td>5.30</td>\n",
       "      <td>7.94%</td>\n",
       "      <td>48.86%</td>\n",
       "    </tr>\n",
       "    <tr>\n",
       "      <th>2</th>\n",
       "      <td>ABBVIE INC</td>\n",
       "      <td>ABBV</td>\n",
       "      <td>Yes</td>\n",
       "      <td>Corporate Bond</td>\n",
       "      <td>3.600</td>\n",
       "      <td>05/14/2025</td>\n",
       "      <td>Baa2</td>\n",
       "      <td>BBB+</td>\n",
       "      <td>108.701</td>\n",
       "      <td>1.040</td>\n",
       "      <td>3.775000</td>\n",
       "      <td>0.193976</td>\n",
       "      <td>35.17%</td>\n",
       "      <td>0.91</td>\n",
       "      <td>5.30</td>\n",
       "      <td>7.94%</td>\n",
       "      <td>48.86%</td>\n",
       "    </tr>\n",
       "    <tr>\n",
       "      <th>3</th>\n",
       "      <td>ABBVIE INC</td>\n",
       "      <td>ABBV</td>\n",
       "      <td>Yes</td>\n",
       "      <td>Corporate Bond</td>\n",
       "      <td>4.500</td>\n",
       "      <td>05/14/2035</td>\n",
       "      <td>Baa2</td>\n",
       "      <td>BBB+</td>\n",
       "      <td>121.696</td>\n",
       "      <td>2.555</td>\n",
       "      <td>13.919444</td>\n",
       "      <td>2.690101</td>\n",
       "      <td>35.17%</td>\n",
       "      <td>0.91</td>\n",
       "      <td>5.30</td>\n",
       "      <td>7.94%</td>\n",
       "      <td>48.86%</td>\n",
       "    </tr>\n",
       "    <tr>\n",
       "      <th>4</th>\n",
       "      <td>ABBVIE INC</td>\n",
       "      <td>ABBV</td>\n",
       "      <td>Yes</td>\n",
       "      <td>Corporate Bond</td>\n",
       "      <td>4.700</td>\n",
       "      <td>05/14/2045</td>\n",
       "      <td>Baa2</td>\n",
       "      <td>BBB+</td>\n",
       "      <td>126.227</td>\n",
       "      <td>3.106</td>\n",
       "      <td>24.066667</td>\n",
       "      <td>6.458556</td>\n",
       "      <td>35.17%</td>\n",
       "      <td>0.91</td>\n",
       "      <td>5.30</td>\n",
       "      <td>7.94%</td>\n",
       "      <td>48.86%</td>\n",
       "    </tr>\n",
       "    <tr>\n",
       "      <th>...</th>\n",
       "      <td>...</td>\n",
       "      <td>...</td>\n",
       "      <td>...</td>\n",
       "      <td>...</td>\n",
       "      <td>...</td>\n",
       "      <td>...</td>\n",
       "      <td>...</td>\n",
       "      <td>...</td>\n",
       "      <td>...</td>\n",
       "      <td>...</td>\n",
       "      <td>...</td>\n",
       "      <td>...</td>\n",
       "      <td>...</td>\n",
       "      <td>...</td>\n",
       "      <td>...</td>\n",
       "      <td>...</td>\n",
       "      <td>...</td>\n",
       "    </tr>\n",
       "    <tr>\n",
       "      <th>6335</th>\n",
       "      <td>YUM BRANDS INC</td>\n",
       "      <td>YUM</td>\n",
       "      <td>Yes</td>\n",
       "      <td>Corporate Bond</td>\n",
       "      <td>3.625</td>\n",
       "      <td>03/15/2031</td>\n",
       "      <td>B1</td>\n",
       "      <td>BB-</td>\n",
       "      <td>102.274</td>\n",
       "      <td>3.339</td>\n",
       "      <td>9.694444</td>\n",
       "      <td>1.298900</td>\n",
       "      <td>34.10%</td>\n",
       "      <td>0.97</td>\n",
       "      <td>8.09</td>\n",
       "      <td>22.17%</td>\n",
       "      <td>0</td>\n",
       "    </tr>\n",
       "    <tr>\n",
       "      <th>6336</th>\n",
       "      <td>YUM BRANDS INC</td>\n",
       "      <td>YUM</td>\n",
       "      <td>Yes</td>\n",
       "      <td>Corporate Bond</td>\n",
       "      <td>7.750</td>\n",
       "      <td>04/01/2025</td>\n",
       "      <td>B1</td>\n",
       "      <td>BB-</td>\n",
       "      <td>107.750</td>\n",
       "      <td>1.199</td>\n",
       "      <td>3.655556</td>\n",
       "      <td>0.419735</td>\n",
       "      <td>34.10%</td>\n",
       "      <td>0.97</td>\n",
       "      <td>8.09</td>\n",
       "      <td>22.17%</td>\n",
       "      <td>0</td>\n",
       "    </tr>\n",
       "    <tr>\n",
       "      <th>6337</th>\n",
       "      <td>ZIMMER BIOMET HLDGS INC</td>\n",
       "      <td>ZBH</td>\n",
       "      <td>Yes</td>\n",
       "      <td>Corporate Bond</td>\n",
       "      <td>3.150</td>\n",
       "      <td>04/01/2022</td>\n",
       "      <td>Baa3</td>\n",
       "      <td>BBB</td>\n",
       "      <td>101.140</td>\n",
       "      <td>0.513</td>\n",
       "      <td>0.611111</td>\n",
       "      <td>0.000000</td>\n",
       "      <td>17.04%</td>\n",
       "      <td>1.83</td>\n",
       "      <td>4.71</td>\n",
       "      <td>3.51%</td>\n",
       "      <td>7.60%</td>\n",
       "    </tr>\n",
       "    <tr>\n",
       "      <th>6338</th>\n",
       "      <td>ZIMMER BIOMET HLDGS INC</td>\n",
       "      <td>ZBH</td>\n",
       "      <td>Yes</td>\n",
       "      <td>Corporate Bond</td>\n",
       "      <td>3.550</td>\n",
       "      <td>04/01/2025</td>\n",
       "      <td>Baa3</td>\n",
       "      <td>BBB</td>\n",
       "      <td>107.812</td>\n",
       "      <td>1.164</td>\n",
       "      <td>3.655556</td>\n",
       "      <td>0.192310</td>\n",
       "      <td>17.04%</td>\n",
       "      <td>1.83</td>\n",
       "      <td>4.71</td>\n",
       "      <td>3.51%</td>\n",
       "      <td>7.60%</td>\n",
       "    </tr>\n",
       "    <tr>\n",
       "      <th>6339</th>\n",
       "      <td>ZIMMER BIOMET HLDGS INC</td>\n",
       "      <td>ZBH</td>\n",
       "      <td>Yes</td>\n",
       "      <td>Corporate Bond</td>\n",
       "      <td>4.250</td>\n",
       "      <td>08/15/2035</td>\n",
       "      <td>Baa3</td>\n",
       "      <td>BBB</td>\n",
       "      <td>110.812</td>\n",
       "      <td>3.253</td>\n",
       "      <td>14.177778</td>\n",
       "      <td>2.630184</td>\n",
       "      <td>17.04%</td>\n",
       "      <td>1.83</td>\n",
       "      <td>4.71</td>\n",
       "      <td>3.51%</td>\n",
       "      <td>7.60%</td>\n",
       "    </tr>\n",
       "  </tbody>\n",
       "</table>\n",
       "<p>6340 rows × 17 columns</p>\n",
       "</div>"
      ],
      "text/plain": [
       "                  Issuer Name Symbol Callable Sub-Product Type  Coupon  \\\n",
       "0     21ST CENTY FOX AMER INC    DIS      Yes   Corporate Bond   6.400   \n",
       "1                  ABBVIE INC   ABBV      Yes   Corporate Bond   3.200   \n",
       "2                  ABBVIE INC   ABBV      Yes   Corporate Bond   3.600   \n",
       "3                  ABBVIE INC   ABBV      Yes   Corporate Bond   4.500   \n",
       "4                  ABBVIE INC   ABBV      Yes   Corporate Bond   4.700   \n",
       "...                       ...    ...      ...              ...     ...   \n",
       "6335           YUM BRANDS INC    YUM      Yes   Corporate Bond   3.625   \n",
       "6336           YUM BRANDS INC    YUM      Yes   Corporate Bond   7.750   \n",
       "6337  ZIMMER BIOMET HLDGS INC    ZBH      Yes   Corporate Bond   3.150   \n",
       "6338  ZIMMER BIOMET HLDGS INC    ZBH      Yes   Corporate Bond   3.550   \n",
       "6339  ZIMMER BIOMET HLDGS INC    ZBH      Yes   Corporate Bond   4.250   \n",
       "\n",
       "        Maturity Moody's®   S&P    Price  Yield  Maturity Years  Duration  \\\n",
       "0     12/15/2035     Baa1  BBB+  131.166  3.596       14.516667  3.668031   \n",
       "1     11/06/2022     Baa2  BBB+  102.833  0.442        1.219444  0.000000   \n",
       "2     05/14/2025     Baa2  BBB+  108.701  1.040        3.775000  0.193976   \n",
       "3     05/14/2035     Baa2  BBB+  121.696  2.555       13.919444  2.690101   \n",
       "4     05/14/2045     Baa2  BBB+  126.227  3.106       24.066667  6.458556   \n",
       "...          ...      ...   ...      ...    ...             ...       ...   \n",
       "6335  03/15/2031       B1   BB-  102.274  3.339        9.694444  1.298900   \n",
       "6336  04/01/2025       B1   BB-  107.750  1.199        3.655556  0.419735   \n",
       "6337  04/01/2022     Baa3   BBB  101.140  0.513        0.611111  0.000000   \n",
       "6338  04/01/2025     Baa3   BBB  107.812  1.164        3.655556  0.192310   \n",
       "6339  08/15/2035     Baa3   BBB  110.812  3.253       14.177778  2.630184   \n",
       "\n",
       "     Operating Margin Current ratio EV/Revenue Return on Assets  \\\n",
       "0               3.91%          1.24       5.85            0.76%   \n",
       "1              35.17%          0.91       5.30            7.94%   \n",
       "2              35.17%          0.91       5.30            7.94%   \n",
       "3              35.17%          0.91       5.30            7.94%   \n",
       "4              35.17%          0.91       5.30            7.94%   \n",
       "...               ...           ...        ...              ...   \n",
       "6335           34.10%          0.97       8.09           22.17%   \n",
       "6336           34.10%          0.97       8.09           22.17%   \n",
       "6337           17.04%          1.83       4.71            3.51%   \n",
       "6338           17.04%          1.83       4.71            3.51%   \n",
       "6339           17.04%          1.83       4.71            3.51%   \n",
       "\n",
       "     Return on Equity  \n",
       "0               1.65%  \n",
       "1              48.86%  \n",
       "2              48.86%  \n",
       "3              48.86%  \n",
       "4              48.86%  \n",
       "...               ...  \n",
       "6335                0  \n",
       "6336                0  \n",
       "6337            7.60%  \n",
       "6338            7.60%  \n",
       "6339            7.60%  \n",
       "\n",
       "[6340 rows x 17 columns]"
      ]
     },
     "execution_count": 481,
     "metadata": {},
     "output_type": "execute_result"
    }
   ],
   "source": [
    "# Add the AlphaWave Data Stock info to the bond dataframe\n",
    "data = pd.merge(bond_prices_df, \n",
    "                     result_alphawave_df, \n",
    "                     on ='Symbol', \n",
    "                     how ='left')\n",
    "data"
   ]
  },
  {
   "cell_type": "markdown",
   "metadata": {},
   "source": [
    "Next, let's save the combined dataframes to a pickle file if we wish.  We will also clean the data, drop missing values, and create random samples of BBB, BB, and B rated bonds to use in our k-NN algorithm."
   ]
  },
  {
   "cell_type": "code",
   "execution_count": 482,
   "metadata": {},
   "outputs": [],
   "source": [
    "# Save the combined dataframe into a pickle file\n",
    "# data.to_pickle(\"./data.pkl\")"
   ]
  },
  {
   "cell_type": "code",
   "execution_count": 483,
   "metadata": {},
   "outputs": [
    {
     "data": {
      "text/html": [
       "<div>\n",
       "<style scoped>\n",
       "    .dataframe tbody tr th:only-of-type {\n",
       "        vertical-align: middle;\n",
       "    }\n",
       "\n",
       "    .dataframe tbody tr th {\n",
       "        vertical-align: top;\n",
       "    }\n",
       "\n",
       "    .dataframe thead th {\n",
       "        text-align: right;\n",
       "    }\n",
       "</style>\n",
       "<table border=\"1\" class=\"dataframe\">\n",
       "  <thead>\n",
       "    <tr style=\"text-align: right;\">\n",
       "      <th></th>\n",
       "      <th>Issuer Name</th>\n",
       "      <th>Symbol</th>\n",
       "      <th>Callable</th>\n",
       "      <th>Sub-Product Type</th>\n",
       "      <th>Coupon</th>\n",
       "      <th>Maturity</th>\n",
       "      <th>Moody's®</th>\n",
       "      <th>S&amp;P</th>\n",
       "      <th>Price</th>\n",
       "      <th>Yield</th>\n",
       "      <th>Maturity Years</th>\n",
       "      <th>Duration</th>\n",
       "      <th>Operating Margin</th>\n",
       "      <th>Current ratio</th>\n",
       "      <th>EV/Revenue</th>\n",
       "      <th>Return on Assets</th>\n",
       "      <th>Return on Equity</th>\n",
       "    </tr>\n",
       "  </thead>\n",
       "  <tbody>\n",
       "    <tr>\n",
       "      <th>0</th>\n",
       "      <td>21ST CENTY FOX AMER INC</td>\n",
       "      <td>DIS</td>\n",
       "      <td>Yes</td>\n",
       "      <td>Corporate Bond</td>\n",
       "      <td>6.400</td>\n",
       "      <td>12/15/2035</td>\n",
       "      <td>Baa1</td>\n",
       "      <td>BBB+</td>\n",
       "      <td>131.166</td>\n",
       "      <td>3.596</td>\n",
       "      <td>14.516667</td>\n",
       "      <td>3.668031</td>\n",
       "      <td>3.91%</td>\n",
       "      <td>1.24</td>\n",
       "      <td>5.85</td>\n",
       "      <td>0.76%</td>\n",
       "      <td>1.65%</td>\n",
       "    </tr>\n",
       "    <tr>\n",
       "      <th>1</th>\n",
       "      <td>ABBVIE INC</td>\n",
       "      <td>ABBV</td>\n",
       "      <td>Yes</td>\n",
       "      <td>Corporate Bond</td>\n",
       "      <td>3.200</td>\n",
       "      <td>11/06/2022</td>\n",
       "      <td>Baa2</td>\n",
       "      <td>BBB+</td>\n",
       "      <td>102.833</td>\n",
       "      <td>0.442</td>\n",
       "      <td>1.219444</td>\n",
       "      <td>0.000000</td>\n",
       "      <td>35.17%</td>\n",
       "      <td>0.91</td>\n",
       "      <td>5.30</td>\n",
       "      <td>7.94%</td>\n",
       "      <td>48.86%</td>\n",
       "    </tr>\n",
       "    <tr>\n",
       "      <th>2</th>\n",
       "      <td>ABBVIE INC</td>\n",
       "      <td>ABBV</td>\n",
       "      <td>Yes</td>\n",
       "      <td>Corporate Bond</td>\n",
       "      <td>3.600</td>\n",
       "      <td>05/14/2025</td>\n",
       "      <td>Baa2</td>\n",
       "      <td>BBB+</td>\n",
       "      <td>108.701</td>\n",
       "      <td>1.040</td>\n",
       "      <td>3.775000</td>\n",
       "      <td>0.193976</td>\n",
       "      <td>35.17%</td>\n",
       "      <td>0.91</td>\n",
       "      <td>5.30</td>\n",
       "      <td>7.94%</td>\n",
       "      <td>48.86%</td>\n",
       "    </tr>\n",
       "    <tr>\n",
       "      <th>3</th>\n",
       "      <td>ABBVIE INC</td>\n",
       "      <td>ABBV</td>\n",
       "      <td>Yes</td>\n",
       "      <td>Corporate Bond</td>\n",
       "      <td>4.500</td>\n",
       "      <td>05/14/2035</td>\n",
       "      <td>Baa2</td>\n",
       "      <td>BBB+</td>\n",
       "      <td>121.696</td>\n",
       "      <td>2.555</td>\n",
       "      <td>13.919444</td>\n",
       "      <td>2.690101</td>\n",
       "      <td>35.17%</td>\n",
       "      <td>0.91</td>\n",
       "      <td>5.30</td>\n",
       "      <td>7.94%</td>\n",
       "      <td>48.86%</td>\n",
       "    </tr>\n",
       "    <tr>\n",
       "      <th>4</th>\n",
       "      <td>ABBVIE INC</td>\n",
       "      <td>ABBV</td>\n",
       "      <td>Yes</td>\n",
       "      <td>Corporate Bond</td>\n",
       "      <td>4.700</td>\n",
       "      <td>05/14/2045</td>\n",
       "      <td>Baa2</td>\n",
       "      <td>BBB+</td>\n",
       "      <td>126.227</td>\n",
       "      <td>3.106</td>\n",
       "      <td>24.066667</td>\n",
       "      <td>6.458556</td>\n",
       "      <td>35.17%</td>\n",
       "      <td>0.91</td>\n",
       "      <td>5.30</td>\n",
       "      <td>7.94%</td>\n",
       "      <td>48.86%</td>\n",
       "    </tr>\n",
       "    <tr>\n",
       "      <th>...</th>\n",
       "      <td>...</td>\n",
       "      <td>...</td>\n",
       "      <td>...</td>\n",
       "      <td>...</td>\n",
       "      <td>...</td>\n",
       "      <td>...</td>\n",
       "      <td>...</td>\n",
       "      <td>...</td>\n",
       "      <td>...</td>\n",
       "      <td>...</td>\n",
       "      <td>...</td>\n",
       "      <td>...</td>\n",
       "      <td>...</td>\n",
       "      <td>...</td>\n",
       "      <td>...</td>\n",
       "      <td>...</td>\n",
       "      <td>...</td>\n",
       "    </tr>\n",
       "    <tr>\n",
       "      <th>6335</th>\n",
       "      <td>YUM BRANDS INC</td>\n",
       "      <td>YUM</td>\n",
       "      <td>Yes</td>\n",
       "      <td>Corporate Bond</td>\n",
       "      <td>3.625</td>\n",
       "      <td>03/15/2031</td>\n",
       "      <td>B1</td>\n",
       "      <td>BB-</td>\n",
       "      <td>102.274</td>\n",
       "      <td>3.339</td>\n",
       "      <td>9.694444</td>\n",
       "      <td>1.298900</td>\n",
       "      <td>34.10%</td>\n",
       "      <td>0.97</td>\n",
       "      <td>8.09</td>\n",
       "      <td>22.17%</td>\n",
       "      <td>0</td>\n",
       "    </tr>\n",
       "    <tr>\n",
       "      <th>6336</th>\n",
       "      <td>YUM BRANDS INC</td>\n",
       "      <td>YUM</td>\n",
       "      <td>Yes</td>\n",
       "      <td>Corporate Bond</td>\n",
       "      <td>7.750</td>\n",
       "      <td>04/01/2025</td>\n",
       "      <td>B1</td>\n",
       "      <td>BB-</td>\n",
       "      <td>107.750</td>\n",
       "      <td>1.199</td>\n",
       "      <td>3.655556</td>\n",
       "      <td>0.419735</td>\n",
       "      <td>34.10%</td>\n",
       "      <td>0.97</td>\n",
       "      <td>8.09</td>\n",
       "      <td>22.17%</td>\n",
       "      <td>0</td>\n",
       "    </tr>\n",
       "    <tr>\n",
       "      <th>6337</th>\n",
       "      <td>ZIMMER BIOMET HLDGS INC</td>\n",
       "      <td>ZBH</td>\n",
       "      <td>Yes</td>\n",
       "      <td>Corporate Bond</td>\n",
       "      <td>3.150</td>\n",
       "      <td>04/01/2022</td>\n",
       "      <td>Baa3</td>\n",
       "      <td>BBB</td>\n",
       "      <td>101.140</td>\n",
       "      <td>0.513</td>\n",
       "      <td>0.611111</td>\n",
       "      <td>0.000000</td>\n",
       "      <td>17.04%</td>\n",
       "      <td>1.83</td>\n",
       "      <td>4.71</td>\n",
       "      <td>3.51%</td>\n",
       "      <td>7.60%</td>\n",
       "    </tr>\n",
       "    <tr>\n",
       "      <th>6338</th>\n",
       "      <td>ZIMMER BIOMET HLDGS INC</td>\n",
       "      <td>ZBH</td>\n",
       "      <td>Yes</td>\n",
       "      <td>Corporate Bond</td>\n",
       "      <td>3.550</td>\n",
       "      <td>04/01/2025</td>\n",
       "      <td>Baa3</td>\n",
       "      <td>BBB</td>\n",
       "      <td>107.812</td>\n",
       "      <td>1.164</td>\n",
       "      <td>3.655556</td>\n",
       "      <td>0.192310</td>\n",
       "      <td>17.04%</td>\n",
       "      <td>1.83</td>\n",
       "      <td>4.71</td>\n",
       "      <td>3.51%</td>\n",
       "      <td>7.60%</td>\n",
       "    </tr>\n",
       "    <tr>\n",
       "      <th>6339</th>\n",
       "      <td>ZIMMER BIOMET HLDGS INC</td>\n",
       "      <td>ZBH</td>\n",
       "      <td>Yes</td>\n",
       "      <td>Corporate Bond</td>\n",
       "      <td>4.250</td>\n",
       "      <td>08/15/2035</td>\n",
       "      <td>Baa3</td>\n",
       "      <td>BBB</td>\n",
       "      <td>110.812</td>\n",
       "      <td>3.253</td>\n",
       "      <td>14.177778</td>\n",
       "      <td>2.630184</td>\n",
       "      <td>17.04%</td>\n",
       "      <td>1.83</td>\n",
       "      <td>4.71</td>\n",
       "      <td>3.51%</td>\n",
       "      <td>7.60%</td>\n",
       "    </tr>\n",
       "  </tbody>\n",
       "</table>\n",
       "<p>6340 rows × 17 columns</p>\n",
       "</div>"
      ],
      "text/plain": [
       "                  Issuer Name Symbol Callable Sub-Product Type  Coupon  \\\n",
       "0     21ST CENTY FOX AMER INC    DIS      Yes   Corporate Bond   6.400   \n",
       "1                  ABBVIE INC   ABBV      Yes   Corporate Bond   3.200   \n",
       "2                  ABBVIE INC   ABBV      Yes   Corporate Bond   3.600   \n",
       "3                  ABBVIE INC   ABBV      Yes   Corporate Bond   4.500   \n",
       "4                  ABBVIE INC   ABBV      Yes   Corporate Bond   4.700   \n",
       "...                       ...    ...      ...              ...     ...   \n",
       "6335           YUM BRANDS INC    YUM      Yes   Corporate Bond   3.625   \n",
       "6336           YUM BRANDS INC    YUM      Yes   Corporate Bond   7.750   \n",
       "6337  ZIMMER BIOMET HLDGS INC    ZBH      Yes   Corporate Bond   3.150   \n",
       "6338  ZIMMER BIOMET HLDGS INC    ZBH      Yes   Corporate Bond   3.550   \n",
       "6339  ZIMMER BIOMET HLDGS INC    ZBH      Yes   Corporate Bond   4.250   \n",
       "\n",
       "        Maturity Moody's®   S&P    Price  Yield  Maturity Years  Duration  \\\n",
       "0     12/15/2035     Baa1  BBB+  131.166  3.596       14.516667  3.668031   \n",
       "1     11/06/2022     Baa2  BBB+  102.833  0.442        1.219444  0.000000   \n",
       "2     05/14/2025     Baa2  BBB+  108.701  1.040        3.775000  0.193976   \n",
       "3     05/14/2035     Baa2  BBB+  121.696  2.555       13.919444  2.690101   \n",
       "4     05/14/2045     Baa2  BBB+  126.227  3.106       24.066667  6.458556   \n",
       "...          ...      ...   ...      ...    ...             ...       ...   \n",
       "6335  03/15/2031       B1   BB-  102.274  3.339        9.694444  1.298900   \n",
       "6336  04/01/2025       B1   BB-  107.750  1.199        3.655556  0.419735   \n",
       "6337  04/01/2022     Baa3   BBB  101.140  0.513        0.611111  0.000000   \n",
       "6338  04/01/2025     Baa3   BBB  107.812  1.164        3.655556  0.192310   \n",
       "6339  08/15/2035     Baa3   BBB  110.812  3.253       14.177778  2.630184   \n",
       "\n",
       "     Operating Margin Current ratio EV/Revenue Return on Assets  \\\n",
       "0               3.91%          1.24       5.85            0.76%   \n",
       "1              35.17%          0.91       5.30            7.94%   \n",
       "2              35.17%          0.91       5.30            7.94%   \n",
       "3              35.17%          0.91       5.30            7.94%   \n",
       "4              35.17%          0.91       5.30            7.94%   \n",
       "...               ...           ...        ...              ...   \n",
       "6335           34.10%          0.97       8.09           22.17%   \n",
       "6336           34.10%          0.97       8.09           22.17%   \n",
       "6337           17.04%          1.83       4.71            3.51%   \n",
       "6338           17.04%          1.83       4.71            3.51%   \n",
       "6339           17.04%          1.83       4.71            3.51%   \n",
       "\n",
       "     Return on Equity  \n",
       "0               1.65%  \n",
       "1              48.86%  \n",
       "2              48.86%  \n",
       "3              48.86%  \n",
       "4              48.86%  \n",
       "...               ...  \n",
       "6335                0  \n",
       "6336                0  \n",
       "6337            7.60%  \n",
       "6338            7.60%  \n",
       "6339            7.60%  \n",
       "\n",
       "[6340 rows x 17 columns]"
      ]
     },
     "execution_count": 483,
     "metadata": {},
     "output_type": "execute_result"
    }
   ],
   "source": [
    "# Load the alphawave dataframe from the saved pickle file\n",
    "# data = pd.read_pickle(\"./data.pkl\")\n",
    "# data"
   ]
  },
  {
   "cell_type": "code",
   "execution_count": 484,
   "metadata": {},
   "outputs": [
    {
     "data": {
      "text/html": [
       "<div>\n",
       "<style scoped>\n",
       "    .dataframe tbody tr th:only-of-type {\n",
       "        vertical-align: middle;\n",
       "    }\n",
       "\n",
       "    .dataframe tbody tr th {\n",
       "        vertical-align: top;\n",
       "    }\n",
       "\n",
       "    .dataframe thead th {\n",
       "        text-align: right;\n",
       "    }\n",
       "</style>\n",
       "<table border=\"1\" class=\"dataframe\">\n",
       "  <thead>\n",
       "    <tr style=\"text-align: right;\">\n",
       "      <th></th>\n",
       "      <th>Issuer Name</th>\n",
       "      <th>Symbol</th>\n",
       "      <th>Callable</th>\n",
       "      <th>Sub-Product Type</th>\n",
       "      <th>Coupon</th>\n",
       "      <th>Maturity</th>\n",
       "      <th>Moody's®</th>\n",
       "      <th>S&amp;P</th>\n",
       "      <th>Price</th>\n",
       "      <th>Yield</th>\n",
       "      <th>Maturity Years</th>\n",
       "      <th>Duration</th>\n",
       "      <th>Operating Margin</th>\n",
       "      <th>Current ratio</th>\n",
       "      <th>EV/Revenue</th>\n",
       "      <th>Return on Assets</th>\n",
       "      <th>Return on Equity</th>\n",
       "    </tr>\n",
       "  </thead>\n",
       "  <tbody>\n",
       "    <tr>\n",
       "      <th>0</th>\n",
       "      <td>21ST CENTY FOX AMER INC</td>\n",
       "      <td>DIS</td>\n",
       "      <td>Yes</td>\n",
       "      <td>Corporate Bond</td>\n",
       "      <td>6.4</td>\n",
       "      <td>12/15/2035</td>\n",
       "      <td>Baa1</td>\n",
       "      <td>BBB</td>\n",
       "      <td>131.166</td>\n",
       "      <td>3.596</td>\n",
       "      <td>14.516667</td>\n",
       "      <td>3.668031</td>\n",
       "      <td>3.91%</td>\n",
       "      <td>1.24</td>\n",
       "      <td>5.85</td>\n",
       "      <td>0.76%</td>\n",
       "      <td>1.65%</td>\n",
       "    </tr>\n",
       "    <tr>\n",
       "      <th>1</th>\n",
       "      <td>ABBVIE INC</td>\n",
       "      <td>ABBV</td>\n",
       "      <td>Yes</td>\n",
       "      <td>Corporate Bond</td>\n",
       "      <td>3.2</td>\n",
       "      <td>11/06/2022</td>\n",
       "      <td>Baa2</td>\n",
       "      <td>BBB</td>\n",
       "      <td>102.833</td>\n",
       "      <td>0.442</td>\n",
       "      <td>1.219444</td>\n",
       "      <td>0.000000</td>\n",
       "      <td>35.17%</td>\n",
       "      <td>0.91</td>\n",
       "      <td>5.30</td>\n",
       "      <td>7.94%</td>\n",
       "      <td>48.86%</td>\n",
       "    </tr>\n",
       "    <tr>\n",
       "      <th>2</th>\n",
       "      <td>ABBVIE INC</td>\n",
       "      <td>ABBV</td>\n",
       "      <td>Yes</td>\n",
       "      <td>Corporate Bond</td>\n",
       "      <td>3.6</td>\n",
       "      <td>05/14/2025</td>\n",
       "      <td>Baa2</td>\n",
       "      <td>BBB</td>\n",
       "      <td>108.701</td>\n",
       "      <td>1.040</td>\n",
       "      <td>3.775000</td>\n",
       "      <td>0.193976</td>\n",
       "      <td>35.17%</td>\n",
       "      <td>0.91</td>\n",
       "      <td>5.30</td>\n",
       "      <td>7.94%</td>\n",
       "      <td>48.86%</td>\n",
       "    </tr>\n",
       "    <tr>\n",
       "      <th>3</th>\n",
       "      <td>ABBVIE INC</td>\n",
       "      <td>ABBV</td>\n",
       "      <td>Yes</td>\n",
       "      <td>Corporate Bond</td>\n",
       "      <td>4.5</td>\n",
       "      <td>05/14/2035</td>\n",
       "      <td>Baa2</td>\n",
       "      <td>BBB</td>\n",
       "      <td>121.696</td>\n",
       "      <td>2.555</td>\n",
       "      <td>13.919444</td>\n",
       "      <td>2.690101</td>\n",
       "      <td>35.17%</td>\n",
       "      <td>0.91</td>\n",
       "      <td>5.30</td>\n",
       "      <td>7.94%</td>\n",
       "      <td>48.86%</td>\n",
       "    </tr>\n",
       "    <tr>\n",
       "      <th>4</th>\n",
       "      <td>ABBVIE INC</td>\n",
       "      <td>ABBV</td>\n",
       "      <td>Yes</td>\n",
       "      <td>Corporate Bond</td>\n",
       "      <td>4.7</td>\n",
       "      <td>05/14/2045</td>\n",
       "      <td>Baa2</td>\n",
       "      <td>BBB</td>\n",
       "      <td>126.227</td>\n",
       "      <td>3.106</td>\n",
       "      <td>24.066667</td>\n",
       "      <td>6.458556</td>\n",
       "      <td>35.17%</td>\n",
       "      <td>0.91</td>\n",
       "      <td>5.30</td>\n",
       "      <td>7.94%</td>\n",
       "      <td>48.86%</td>\n",
       "    </tr>\n",
       "  </tbody>\n",
       "</table>\n",
       "</div>"
      ],
      "text/plain": [
       "               Issuer Name Symbol Callable Sub-Product Type  Coupon  \\\n",
       "0  21ST CENTY FOX AMER INC    DIS      Yes   Corporate Bond     6.4   \n",
       "1               ABBVIE INC   ABBV      Yes   Corporate Bond     3.2   \n",
       "2               ABBVIE INC   ABBV      Yes   Corporate Bond     3.6   \n",
       "3               ABBVIE INC   ABBV      Yes   Corporate Bond     4.5   \n",
       "4               ABBVIE INC   ABBV      Yes   Corporate Bond     4.7   \n",
       "\n",
       "     Maturity Moody's®  S&P    Price  Yield  Maturity Years  Duration  \\\n",
       "0  12/15/2035     Baa1  BBB  131.166  3.596       14.516667  3.668031   \n",
       "1  11/06/2022     Baa2  BBB  102.833  0.442        1.219444  0.000000   \n",
       "2  05/14/2025     Baa2  BBB  108.701  1.040        3.775000  0.193976   \n",
       "3  05/14/2035     Baa2  BBB  121.696  2.555       13.919444  2.690101   \n",
       "4  05/14/2045     Baa2  BBB  126.227  3.106       24.066667  6.458556   \n",
       "\n",
       "  Operating Margin Current ratio EV/Revenue Return on Assets Return on Equity  \n",
       "0            3.91%          1.24       5.85            0.76%            1.65%  \n",
       "1           35.17%          0.91       5.30            7.94%           48.86%  \n",
       "2           35.17%          0.91       5.30            7.94%           48.86%  \n",
       "3           35.17%          0.91       5.30            7.94%           48.86%  \n",
       "4           35.17%          0.91       5.30            7.94%           48.86%  "
      ]
     },
     "execution_count": 484,
     "metadata": {},
     "output_type": "execute_result"
    }
   ],
   "source": [
    "# Remove the - and + signs in order to create three ratings buckets BBB, BB, and B\n",
    "data[[\"S&P\"]] = data[[\"S&P\"]].apply(lambda x: x.str.replace('[-+]','', regex=True))\n",
    "\n",
    "# Remove missing values\n",
    "data = data.dropna()\n",
    "data.head()"
   ]
  },
  {
   "cell_type": "code",
   "execution_count": 485,
   "metadata": {},
   "outputs": [
    {
     "data": {
      "text/plain": [
       "(5098, 17)"
      ]
     },
     "execution_count": 485,
     "metadata": {},
     "output_type": "execute_result"
    }
   ],
   "source": [
    "# Get the dataframe shape\n",
    "data.shape"
   ]
  },
  {
   "cell_type": "code",
   "execution_count": 486,
   "metadata": {},
   "outputs": [
    {
     "data": {
      "text/html": [
       "<div>\n",
       "<style scoped>\n",
       "    .dataframe tbody tr th:only-of-type {\n",
       "        vertical-align: middle;\n",
       "    }\n",
       "\n",
       "    .dataframe tbody tr th {\n",
       "        vertical-align: top;\n",
       "    }\n",
       "\n",
       "    .dataframe thead th {\n",
       "        text-align: right;\n",
       "    }\n",
       "</style>\n",
       "<table border=\"1\" class=\"dataframe\">\n",
       "  <thead>\n",
       "    <tr style=\"text-align: right;\">\n",
       "      <th></th>\n",
       "      <th>S&amp;P</th>\n",
       "    </tr>\n",
       "  </thead>\n",
       "  <tbody>\n",
       "    <tr>\n",
       "      <th>B</th>\n",
       "      <td>380</td>\n",
       "    </tr>\n",
       "    <tr>\n",
       "      <th>BB</th>\n",
       "      <td>730</td>\n",
       "    </tr>\n",
       "    <tr>\n",
       "      <th>BBB</th>\n",
       "      <td>3988</td>\n",
       "    </tr>\n",
       "  </tbody>\n",
       "</table>\n",
       "</div>"
      ],
      "text/plain": [
       "      S&P\n",
       "B     380\n",
       "BB    730\n",
       "BBB  3988"
      ]
     },
     "execution_count": 486,
     "metadata": {},
     "output_type": "execute_result"
    }
   ],
   "source": [
    "# Get counts of each rating\n",
    "pd.DataFrame( data['S&P'].value_counts() ).sort_index()"
   ]
  },
  {
   "cell_type": "code",
   "execution_count": 487,
   "metadata": {},
   "outputs": [
    {
     "name": "stderr",
     "output_type": "stream",
     "text": [
      "SettingWithCopyWarning: \n",
      "A value is trying to be set on a copy of a slice from a DataFrame.\n",
      "Try using .loc[row_indexer,col_indexer] = value instead\n",
      "\n",
      "See the caveats in the documentation: https://pandas.pydata.org/pandas-docs/stable/user_guide/indexing.html#returning-a-view-versus-a-copy [frame.py:3636]\n"
     ]
    },
    {
     "data": {
      "text/html": [
       "<div>\n",
       "<style scoped>\n",
       "    .dataframe tbody tr th:only-of-type {\n",
       "        vertical-align: middle;\n",
       "    }\n",
       "\n",
       "    .dataframe tbody tr th {\n",
       "        vertical-align: top;\n",
       "    }\n",
       "\n",
       "    .dataframe thead th {\n",
       "        text-align: right;\n",
       "    }\n",
       "</style>\n",
       "<table border=\"1\" class=\"dataframe\">\n",
       "  <thead>\n",
       "    <tr style=\"text-align: right;\">\n",
       "      <th></th>\n",
       "      <th>Issuer Name</th>\n",
       "      <th>Symbol</th>\n",
       "      <th>Callable</th>\n",
       "      <th>Sub-Product Type</th>\n",
       "      <th>Coupon</th>\n",
       "      <th>Maturity</th>\n",
       "      <th>Moody's®</th>\n",
       "      <th>S&amp;P</th>\n",
       "      <th>Price</th>\n",
       "      <th>Yield</th>\n",
       "      <th>Maturity Years</th>\n",
       "      <th>Duration</th>\n",
       "      <th>Operating Margin</th>\n",
       "      <th>Current ratio</th>\n",
       "      <th>EV/Revenue</th>\n",
       "      <th>Return on Assets</th>\n",
       "      <th>Return on Equity</th>\n",
       "    </tr>\n",
       "  </thead>\n",
       "  <tbody>\n",
       "    <tr>\n",
       "      <th>0</th>\n",
       "      <td>21ST CENTY FOX AMER INC</td>\n",
       "      <td>DIS</td>\n",
       "      <td>Yes</td>\n",
       "      <td>Corporate Bond</td>\n",
       "      <td>0.064</td>\n",
       "      <td>12/15/2035</td>\n",
       "      <td>Baa1</td>\n",
       "      <td>BBB</td>\n",
       "      <td>131.166</td>\n",
       "      <td>0.03596</td>\n",
       "      <td>14.516667</td>\n",
       "      <td>3.668031</td>\n",
       "      <td>0.0391</td>\n",
       "      <td>1.24</td>\n",
       "      <td>5.85</td>\n",
       "      <td>0.0076</td>\n",
       "      <td>0.0165</td>\n",
       "    </tr>\n",
       "    <tr>\n",
       "      <th>1</th>\n",
       "      <td>ABBVIE INC</td>\n",
       "      <td>ABBV</td>\n",
       "      <td>Yes</td>\n",
       "      <td>Corporate Bond</td>\n",
       "      <td>0.032</td>\n",
       "      <td>11/06/2022</td>\n",
       "      <td>Baa2</td>\n",
       "      <td>BBB</td>\n",
       "      <td>102.833</td>\n",
       "      <td>0.00442</td>\n",
       "      <td>1.219444</td>\n",
       "      <td>0.000000</td>\n",
       "      <td>0.3517</td>\n",
       "      <td>0.91</td>\n",
       "      <td>5.30</td>\n",
       "      <td>0.0794</td>\n",
       "      <td>0.4886</td>\n",
       "    </tr>\n",
       "    <tr>\n",
       "      <th>2</th>\n",
       "      <td>ABBVIE INC</td>\n",
       "      <td>ABBV</td>\n",
       "      <td>Yes</td>\n",
       "      <td>Corporate Bond</td>\n",
       "      <td>0.036</td>\n",
       "      <td>05/14/2025</td>\n",
       "      <td>Baa2</td>\n",
       "      <td>BBB</td>\n",
       "      <td>108.701</td>\n",
       "      <td>0.01040</td>\n",
       "      <td>3.775000</td>\n",
       "      <td>0.193976</td>\n",
       "      <td>0.3517</td>\n",
       "      <td>0.91</td>\n",
       "      <td>5.30</td>\n",
       "      <td>0.0794</td>\n",
       "      <td>0.4886</td>\n",
       "    </tr>\n",
       "    <tr>\n",
       "      <th>3</th>\n",
       "      <td>ABBVIE INC</td>\n",
       "      <td>ABBV</td>\n",
       "      <td>Yes</td>\n",
       "      <td>Corporate Bond</td>\n",
       "      <td>0.045</td>\n",
       "      <td>05/14/2035</td>\n",
       "      <td>Baa2</td>\n",
       "      <td>BBB</td>\n",
       "      <td>121.696</td>\n",
       "      <td>0.02555</td>\n",
       "      <td>13.919444</td>\n",
       "      <td>2.690101</td>\n",
       "      <td>0.3517</td>\n",
       "      <td>0.91</td>\n",
       "      <td>5.30</td>\n",
       "      <td>0.0794</td>\n",
       "      <td>0.4886</td>\n",
       "    </tr>\n",
       "    <tr>\n",
       "      <th>4</th>\n",
       "      <td>ABBVIE INC</td>\n",
       "      <td>ABBV</td>\n",
       "      <td>Yes</td>\n",
       "      <td>Corporate Bond</td>\n",
       "      <td>0.047</td>\n",
       "      <td>05/14/2045</td>\n",
       "      <td>Baa2</td>\n",
       "      <td>BBB</td>\n",
       "      <td>126.227</td>\n",
       "      <td>0.03106</td>\n",
       "      <td>24.066667</td>\n",
       "      <td>6.458556</td>\n",
       "      <td>0.3517</td>\n",
       "      <td>0.91</td>\n",
       "      <td>5.30</td>\n",
       "      <td>0.0794</td>\n",
       "      <td>0.4886</td>\n",
       "    </tr>\n",
       "  </tbody>\n",
       "</table>\n",
       "</div>"
      ],
      "text/plain": [
       "               Issuer Name Symbol Callable Sub-Product Type  Coupon  \\\n",
       "0  21ST CENTY FOX AMER INC    DIS      Yes   Corporate Bond   0.064   \n",
       "1               ABBVIE INC   ABBV      Yes   Corporate Bond   0.032   \n",
       "2               ABBVIE INC   ABBV      Yes   Corporate Bond   0.036   \n",
       "3               ABBVIE INC   ABBV      Yes   Corporate Bond   0.045   \n",
       "4               ABBVIE INC   ABBV      Yes   Corporate Bond   0.047   \n",
       "\n",
       "     Maturity Moody's®  S&P    Price    Yield  Maturity Years  Duration  \\\n",
       "0  12/15/2035     Baa1  BBB  131.166  0.03596       14.516667  3.668031   \n",
       "1  11/06/2022     Baa2  BBB  102.833  0.00442        1.219444  0.000000   \n",
       "2  05/14/2025     Baa2  BBB  108.701  0.01040        3.775000  0.193976   \n",
       "3  05/14/2035     Baa2  BBB  121.696  0.02555       13.919444  2.690101   \n",
       "4  05/14/2045     Baa2  BBB  126.227  0.03106       24.066667  6.458556   \n",
       "\n",
       "   Operating Margin  Current ratio  EV/Revenue  Return on Assets  \\\n",
       "0            0.0391           1.24        5.85            0.0076   \n",
       "1            0.3517           0.91        5.30            0.0794   \n",
       "2            0.3517           0.91        5.30            0.0794   \n",
       "3            0.3517           0.91        5.30            0.0794   \n",
       "4            0.3517           0.91        5.30            0.0794   \n",
       "\n",
       "   Return on Equity  \n",
       "0            0.0165  \n",
       "1            0.4886  \n",
       "2            0.4886  \n",
       "3            0.4886  \n",
       "4            0.4886  "
      ]
     },
     "execution_count": 487,
     "metadata": {},
     "output_type": "execute_result"
    }
   ],
   "source": [
    "# Remove any commas and % characters, change string values to numeric values\n",
    "\n",
    "data[[\"Operating Margin\", \n",
    "      \"Return on Assets\", \n",
    "      \"Return on Equity\"]] = data[[\"Operating Margin\", \n",
    "                                   \"Return on Assets\", \n",
    "                                   \"Return on Equity\"]].apply(lambda x: x.str.replace('[,]','', regex=True))\n",
    "\n",
    "data[[\"Operating Margin\", \n",
    "      \"Return on Assets\", \n",
    "      \"Return on Equity\"]] = data[[\"Operating Margin\", \n",
    "                                   \"Return on Assets\", \n",
    "                                   \"Return on Equity\"]].apply(lambda x: x.str.replace('[%]','', regex=True))\n",
    "\n",
    "data[[\"Coupon\", \"Yield\"]] = data[[\"Coupon\", \"Yield\"]].apply(lambda x: x/100)\n",
    "\n",
    "data[[\"Operating Margin\", \n",
    "      \"Return on Assets\", \n",
    "      \"Return on Equity\"]] = data[[\"Operating Margin\", \n",
    "                                   \"Return on Assets\", \n",
    "                                   \"Return on Equity\"]].apply(pd.to_numeric)\n",
    "data[[\"Operating Margin\", \n",
    "      \"Return on Assets\", \n",
    "      \"Return on Equity\"]] = data[[\"Operating Margin\", \n",
    "                                   \"Return on Assets\", \n",
    "                                   \"Return on Equity\"]].apply(lambda x: x/100)\n",
    "\n",
    "data[[\"Coupon\", \"Price\", \"Yield\", \"Maturity Years\", \n",
    "    \"Duration\", \"Operating Margin\", \"Current ratio\", \"EV/Revenue\", \n",
    "    \"Return on Assets\", \"Return on Equity\"]] = data[[\n",
    "    \"Coupon\", \"Price\", \"Yield\", \"Maturity Years\", \n",
    "    \"Duration\", \"Operating Margin\", \"Current ratio\", \"EV/Revenue\", \n",
    "    \"Return on Assets\", \"Return on Equity\"]].apply(pd.to_numeric)\n",
    "\n",
    "data.head()"
   ]
  },
  {
   "cell_type": "markdown",
   "metadata": {},
   "source": [
    "Now we create a sample of the combined dataframes that include an equal number of bonds rated BBB, BB, and B."
   ]
  },
  {
   "cell_type": "code",
   "execution_count": 488,
   "metadata": {},
   "outputs": [
    {
     "data": {
      "text/html": [
       "<div>\n",
       "<style scoped>\n",
       "    .dataframe tbody tr th:only-of-type {\n",
       "        vertical-align: middle;\n",
       "    }\n",
       "\n",
       "    .dataframe tbody tr th {\n",
       "        vertical-align: top;\n",
       "    }\n",
       "\n",
       "    .dataframe thead th {\n",
       "        text-align: right;\n",
       "    }\n",
       "</style>\n",
       "<table border=\"1\" class=\"dataframe\">\n",
       "  <thead>\n",
       "    <tr style=\"text-align: right;\">\n",
       "      <th></th>\n",
       "      <th>Issuer Name</th>\n",
       "      <th>Symbol</th>\n",
       "      <th>Callable</th>\n",
       "      <th>Sub-Product Type</th>\n",
       "      <th>Coupon</th>\n",
       "      <th>Maturity</th>\n",
       "      <th>Moody's®</th>\n",
       "      <th>S&amp;P</th>\n",
       "      <th>Price</th>\n",
       "      <th>Yield</th>\n",
       "      <th>Maturity Years</th>\n",
       "      <th>Duration</th>\n",
       "      <th>Operating Margin</th>\n",
       "      <th>Current ratio</th>\n",
       "      <th>EV/Revenue</th>\n",
       "      <th>Return on Assets</th>\n",
       "      <th>Return on Equity</th>\n",
       "    </tr>\n",
       "  </thead>\n",
       "  <tbody>\n",
       "    <tr>\n",
       "      <th>6324</th>\n",
       "      <td>XPO LOGISTICS INC</td>\n",
       "      <td>XPO</td>\n",
       "      <td>Yes</td>\n",
       "      <td>Corporate Bond</td>\n",
       "      <td>0.0675</td>\n",
       "      <td>08/15/2024</td>\n",
       "      <td>Ba3</td>\n",
       "      <td>B</td>\n",
       "      <td>103.420</td>\n",
       "      <td>0.02530</td>\n",
       "      <td>3.019444</td>\n",
       "      <td>0.187830</td>\n",
       "      <td>0.0528</td>\n",
       "      <td>1.02</td>\n",
       "      <td>0.90</td>\n",
       "      <td>0.0395</td>\n",
       "      <td>0.1792</td>\n",
       "    </tr>\n",
       "    <tr>\n",
       "      <th>2285</th>\n",
       "      <td>FORESTAR GROUP INC</td>\n",
       "      <td>DHI</td>\n",
       "      <td>Yes</td>\n",
       "      <td>Corporate Bond</td>\n",
       "      <td>0.0500</td>\n",
       "      <td>03/01/2028</td>\n",
       "      <td>B1</td>\n",
       "      <td>B</td>\n",
       "      <td>104.055</td>\n",
       "      <td>0.03839</td>\n",
       "      <td>6.613889</td>\n",
       "      <td>0.858466</td>\n",
       "      <td>0.1806</td>\n",
       "      <td>5.87</td>\n",
       "      <td>1.41</td>\n",
       "      <td>0.1480</td>\n",
       "      <td>0.2889</td>\n",
       "    </tr>\n",
       "    <tr>\n",
       "      <th>891</th>\n",
       "      <td>CHURCHILL DOWNS INC</td>\n",
       "      <td>CHDN</td>\n",
       "      <td>Yes</td>\n",
       "      <td>Corporate Bond</td>\n",
       "      <td>0.0550</td>\n",
       "      <td>04/01/2027</td>\n",
       "      <td>B1</td>\n",
       "      <td>B</td>\n",
       "      <td>103.884</td>\n",
       "      <td>0.03472</td>\n",
       "      <td>5.683333</td>\n",
       "      <td>0.701377</td>\n",
       "      <td>0.1828</td>\n",
       "      <td>1.44</td>\n",
       "      <td>6.12</td>\n",
       "      <td>0.0538</td>\n",
       "      <td>0.6371</td>\n",
       "    </tr>\n",
       "    <tr>\n",
       "      <th>1155</th>\n",
       "      <td>COMSTOCK ESCROW CORP</td>\n",
       "      <td>CRK</td>\n",
       "      <td>Yes</td>\n",
       "      <td>Corporate Bond</td>\n",
       "      <td>0.0975</td>\n",
       "      <td>08/15/2026</td>\n",
       "      <td>Caa1</td>\n",
       "      <td>B</td>\n",
       "      <td>108.479</td>\n",
       "      <td>0.00557</td>\n",
       "      <td>5.047222</td>\n",
       "      <td>0.883952</td>\n",
       "      <td>0.3705</td>\n",
       "      <td>0.34</td>\n",
       "      <td>3.72</td>\n",
       "      <td>0.0566</td>\n",
       "      <td>-0.2741</td>\n",
       "    </tr>\n",
       "    <tr>\n",
       "      <th>3739</th>\n",
       "      <td>KOPPERS INC PA</td>\n",
       "      <td>KOP</td>\n",
       "      <td>Yes</td>\n",
       "      <td>Corporate Bond</td>\n",
       "      <td>0.0600</td>\n",
       "      <td>02/15/2025</td>\n",
       "      <td>B1</td>\n",
       "      <td>B</td>\n",
       "      <td>102.630</td>\n",
       "      <td>0.03537</td>\n",
       "      <td>3.530556</td>\n",
       "      <td>0.323558</td>\n",
       "      <td>0.1063</td>\n",
       "      <td>2.30</td>\n",
       "      <td>0.90</td>\n",
       "      <td>0.0691</td>\n",
       "      <td>0.3649</td>\n",
       "    </tr>\n",
       "  </tbody>\n",
       "</table>\n",
       "</div>"
      ],
      "text/plain": [
       "               Issuer Name Symbol Callable Sub-Product Type  Coupon  \\\n",
       "6324     XPO LOGISTICS INC    XPO      Yes   Corporate Bond  0.0675   \n",
       "2285    FORESTAR GROUP INC    DHI      Yes   Corporate Bond  0.0500   \n",
       "891    CHURCHILL DOWNS INC   CHDN      Yes   Corporate Bond  0.0550   \n",
       "1155  COMSTOCK ESCROW CORP    CRK      Yes   Corporate Bond  0.0975   \n",
       "3739        KOPPERS INC PA    KOP      Yes   Corporate Bond  0.0600   \n",
       "\n",
       "        Maturity Moody's® S&P    Price    Yield  Maturity Years  Duration  \\\n",
       "6324  08/15/2024      Ba3   B  103.420  0.02530        3.019444  0.187830   \n",
       "2285  03/01/2028       B1   B  104.055  0.03839        6.613889  0.858466   \n",
       "891   04/01/2027       B1   B  103.884  0.03472        5.683333  0.701377   \n",
       "1155  08/15/2026     Caa1   B  108.479  0.00557        5.047222  0.883952   \n",
       "3739  02/15/2025       B1   B  102.630  0.03537        3.530556  0.323558   \n",
       "\n",
       "      Operating Margin  Current ratio  EV/Revenue  Return on Assets  \\\n",
       "6324            0.0528           1.02        0.90            0.0395   \n",
       "2285            0.1806           5.87        1.41            0.1480   \n",
       "891             0.1828           1.44        6.12            0.0538   \n",
       "1155            0.3705           0.34        3.72            0.0566   \n",
       "3739            0.1063           2.30        0.90            0.0691   \n",
       "\n",
       "      Return on Equity  \n",
       "6324            0.1792  \n",
       "2285            0.2889  \n",
       "891             0.6371  \n",
       "1155           -0.2741  \n",
       "3739            0.3649  "
      ]
     },
     "execution_count": 488,
     "metadata": {},
     "output_type": "execute_result"
    }
   ],
   "source": [
    "# The below code will sample the DataFrame and return only one sample per Symbol for the total 75 desired samples.\n",
    "# create a sample of the combined dataframes\n",
    "\n",
    "df_bbb = data[data['S&P'] == 'BBB'].groupby('Symbol', group_keys=False).apply(lambda data: data.sample(1))\n",
    "df_bbb = df_bbb.sample(n=75)\n",
    "\n",
    "df_bb = data[data['S&P'] == 'BB'].groupby('Symbol', group_keys=False).apply(lambda data: data.sample(1))\n",
    "df_bb = df_bb.sample(n=75)\n",
    "\n",
    "df_b = data[data['S&P'] == 'B'].groupby('Symbol', group_keys=False).apply(lambda data: data.sample(1))\n",
    "df_b = df_b.sample(n=75)\n",
    "\n",
    "df_ratings = pd.concat([df_b, df_bb, df_bbb])\n",
    "df_ratings.head()"
   ]
  },
  {
   "cell_type": "code",
   "execution_count": 489,
   "metadata": {
    "scrolled": true
   },
   "outputs": [
    {
     "data": {
      "text/html": [
       "<div>\n",
       "<style scoped>\n",
       "    .dataframe tbody tr th:only-of-type {\n",
       "        vertical-align: middle;\n",
       "    }\n",
       "\n",
       "    .dataframe tbody tr th {\n",
       "        vertical-align: top;\n",
       "    }\n",
       "\n",
       "    .dataframe thead th {\n",
       "        text-align: right;\n",
       "    }\n",
       "</style>\n",
       "<table border=\"1\" class=\"dataframe\">\n",
       "  <thead>\n",
       "    <tr style=\"text-align: right;\">\n",
       "      <th></th>\n",
       "      <th>Coupon</th>\n",
       "      <th>Price</th>\n",
       "      <th>Yield</th>\n",
       "      <th>Maturity Years</th>\n",
       "      <th>Duration</th>\n",
       "      <th>Operating Margin</th>\n",
       "      <th>Current ratio</th>\n",
       "      <th>EV/Revenue</th>\n",
       "      <th>Return on Assets</th>\n",
       "      <th>Return on Equity</th>\n",
       "    </tr>\n",
       "  </thead>\n",
       "  <tbody>\n",
       "    <tr>\n",
       "      <th>count</th>\n",
       "      <td>225.000000</td>\n",
       "      <td>225.000000</td>\n",
       "      <td>225.000000</td>\n",
       "      <td>225.000000</td>\n",
       "      <td>225.000000</td>\n",
       "      <td>225.000000</td>\n",
       "      <td>225.000000</td>\n",
       "      <td>225.000000</td>\n",
       "      <td>225.000000</td>\n",
       "      <td>207.000000</td>\n",
       "    </tr>\n",
       "    <tr>\n",
       "      <th>mean</th>\n",
       "      <td>0.051399</td>\n",
       "      <td>107.445631</td>\n",
       "      <td>0.032266</td>\n",
       "      <td>7.403481</td>\n",
       "      <td>1.193632</td>\n",
       "      <td>-0.215164</td>\n",
       "      <td>2.119822</td>\n",
       "      <td>7.637289</td>\n",
       "      <td>0.045124</td>\n",
       "      <td>0.431912</td>\n",
       "    </tr>\n",
       "    <tr>\n",
       "      <th>std</th>\n",
       "      <td>0.015140</td>\n",
       "      <td>8.652035</td>\n",
       "      <td>0.015779</td>\n",
       "      <td>5.788076</td>\n",
       "      <td>1.748927</td>\n",
       "      <td>3.801005</td>\n",
       "      <td>3.293016</td>\n",
       "      <td>35.450492</td>\n",
       "      <td>0.076232</td>\n",
       "      <td>3.031022</td>\n",
       "    </tr>\n",
       "    <tr>\n",
       "      <th>min</th>\n",
       "      <td>0.008750</td>\n",
       "      <td>91.600000</td>\n",
       "      <td>0.001290</td>\n",
       "      <td>0.819444</td>\n",
       "      <td>0.000000</td>\n",
       "      <td>-42.709200</td>\n",
       "      <td>0.000000</td>\n",
       "      <td>-3.030000</td>\n",
       "      <td>-0.807300</td>\n",
       "      <td>-6.579800</td>\n",
       "    </tr>\n",
       "    <tr>\n",
       "      <th>25%</th>\n",
       "      <td>0.041250</td>\n",
       "      <td>102.660000</td>\n",
       "      <td>0.021110</td>\n",
       "      <td>4.208333</td>\n",
       "      <td>0.305475</td>\n",
       "      <td>0.078400</td>\n",
       "      <td>0.970000</td>\n",
       "      <td>1.280000</td>\n",
       "      <td>0.022400</td>\n",
       "      <td>0.040250</td>\n",
       "    </tr>\n",
       "    <tr>\n",
       "      <th>50%</th>\n",
       "      <td>0.050000</td>\n",
       "      <td>105.188000</td>\n",
       "      <td>0.032360</td>\n",
       "      <td>6.188889</td>\n",
       "      <td>0.694909</td>\n",
       "      <td>0.143000</td>\n",
       "      <td>1.470000</td>\n",
       "      <td>2.440000</td>\n",
       "      <td>0.043800</td>\n",
       "      <td>0.142300</td>\n",
       "    </tr>\n",
       "    <tr>\n",
       "      <th>75%</th>\n",
       "      <td>0.060000</td>\n",
       "      <td>108.750000</td>\n",
       "      <td>0.041420</td>\n",
       "      <td>7.627778</td>\n",
       "      <td>1.038228</td>\n",
       "      <td>0.216800</td>\n",
       "      <td>2.300000</td>\n",
       "      <td>5.300000</td>\n",
       "      <td>0.069100</td>\n",
       "      <td>0.296900</td>\n",
       "    </tr>\n",
       "    <tr>\n",
       "      <th>max</th>\n",
       "      <td>0.105000</td>\n",
       "      <td>146.363000</td>\n",
       "      <td>0.109560</td>\n",
       "      <td>32.527778</td>\n",
       "      <td>9.091327</td>\n",
       "      <td>0.786800</td>\n",
       "      <td>37.830000</td>\n",
       "      <td>406.500000</td>\n",
       "      <td>0.241100</td>\n",
       "      <td>40.818600</td>\n",
       "    </tr>\n",
       "  </tbody>\n",
       "</table>\n",
       "</div>"
      ],
      "text/plain": [
       "           Coupon       Price       Yield  Maturity Years    Duration  \\\n",
       "count  225.000000  225.000000  225.000000      225.000000  225.000000   \n",
       "mean     0.051399  107.445631    0.032266        7.403481    1.193632   \n",
       "std      0.015140    8.652035    0.015779        5.788076    1.748927   \n",
       "min      0.008750   91.600000    0.001290        0.819444    0.000000   \n",
       "25%      0.041250  102.660000    0.021110        4.208333    0.305475   \n",
       "50%      0.050000  105.188000    0.032360        6.188889    0.694909   \n",
       "75%      0.060000  108.750000    0.041420        7.627778    1.038228   \n",
       "max      0.105000  146.363000    0.109560       32.527778    9.091327   \n",
       "\n",
       "       Operating Margin  Current ratio  EV/Revenue  Return on Assets  \\\n",
       "count        225.000000     225.000000  225.000000        225.000000   \n",
       "mean          -0.215164       2.119822    7.637289          0.045124   \n",
       "std            3.801005       3.293016   35.450492          0.076232   \n",
       "min          -42.709200       0.000000   -3.030000         -0.807300   \n",
       "25%            0.078400       0.970000    1.280000          0.022400   \n",
       "50%            0.143000       1.470000    2.440000          0.043800   \n",
       "75%            0.216800       2.300000    5.300000          0.069100   \n",
       "max            0.786800      37.830000  406.500000          0.241100   \n",
       "\n",
       "       Return on Equity  \n",
       "count        207.000000  \n",
       "mean           0.431912  \n",
       "std            3.031022  \n",
       "min           -6.579800  \n",
       "25%            0.040250  \n",
       "50%            0.142300  \n",
       "75%            0.296900  \n",
       "max           40.818600  "
      ]
     },
     "execution_count": 489,
     "metadata": {},
     "output_type": "execute_result"
    }
   ],
   "source": [
    "# Generate descriptive statistics\n",
    "df_ratings.describe()"
   ]
  },
  {
   "cell_type": "markdown",
   "metadata": {},
   "source": [
    "Let's now apply k-NN in practice on fundamental credit data.  Before we start analyzing the data, let's perform winsorization on the entire data set.  Winsorization is a way to minimize the influence of outliers on your data.  To apply winsorization to the entire dataframe, we can use the winsorization function from mstats."
   ]
  },
  {
   "cell_type": "markdown",
   "metadata": {},
   "source": [
    "### Minimize influence of outliers by performing Winsorization\n",
    "\n",
    "Winsorization transforms data by limiting extreme values, typically by setting all outliers to a specified percentile of data."
   ]
  },
  {
   "cell_type": "code",
   "execution_count": 490,
   "metadata": {},
   "outputs": [],
   "source": [
    "from scipy.stats import mstats\n",
    "# Winsorize top 1% and bottom 1% of points \n",
    "def using_mstats(s):\n",
    "    return mstats.winsorize(s, limits = [0.01, 0.01])\n",
    "\n",
    "# Apply on our ratings df\n",
    "df_ratings = df_ratings.apply(using_mstats, axis = 0)"
   ]
  },
  {
   "cell_type": "markdown",
   "metadata": {},
   "source": [
    "Next, let's visualize the classes.  By applying the value_counts function on the 'S&P' column, we can see that the classes are balanced.  It is ideal to keep the classes balanced, whether it is k-NN or any other classification algorithm."
   ]
  },
  {
   "cell_type": "code",
   "execution_count": 491,
   "metadata": {},
   "outputs": [
    {
     "data": {
      "text/plain": [
       "B      75\n",
       "BB     75\n",
       "BBB    75\n",
       "Name: S&P, dtype: int64"
      ]
     },
     "execution_count": 491,
     "metadata": {},
     "output_type": "execute_result"
    }
   ],
   "source": [
    "# Make sure classes are balanced\n",
    "df_ratings['S&P'].value_counts()"
   ]
  },
  {
   "cell_type": "markdown",
   "metadata": {},
   "source": [
    "## k-NN for Classification\n",
    "\n",
    "Now let's filter the data for only BBB and B rated bonds. BBB is investment grade for bonds while B is in the high yield category for bonds."
   ]
  },
  {
   "cell_type": "markdown",
   "metadata": {},
   "source": [
    "### Begin with 2-class classification\n",
    "\n",
    "Filter our data for BBB & B ratings only, for now."
   ]
  },
  {
   "cell_type": "code",
   "execution_count": 492,
   "metadata": {},
   "outputs": [],
   "source": [
    "# Filter our data for BBB & B ratings only\n",
    "df_BBBandB = df_ratings[df_ratings['S&P'].isin(['BBB','B'])]"
   ]
  },
  {
   "cell_type": "markdown",
   "metadata": {},
   "source": [
    "For simplicity, assume the S&P rating column is only dependent on EV/Revenue and the Current Ratio.\n",
    "\n",
    "Next, let's visualize our data in a scatter plot.  We pass in our first two parameters we are going to use to predict the credit rating (EV/Revenue, Current Ratio).  We pass the bond rating as the color of the scatter plot data points."
   ]
  },
  {
   "cell_type": "code",
   "execution_count": 493,
   "metadata": {
    "scrolled": false
   },
   "outputs": [
    {
     "data": {
      "text/plain": [
       "<matplotlib.collections.PathCollection at 0x1a2f092d90>"
      ]
     },
     "execution_count": 493,
     "metadata": {},
     "output_type": "execute_result"
    },
    {
     "data": {
      "image/png": "[encoded data removed]",
      "text/plain": [
       "<Figure size 792x504 with 1 Axes>"
      ]
     },
     "metadata": {},
     "output_type": "display_data"
    }
   ],
   "source": [
    "# Visualize scatterplot\n",
    "plt.figure(figsize=(11,7))\n",
    "plt.style.use(\"dark_background\")\n",
    "\n",
    "g = sns.scatterplot(x='EV/Revenue', y='Current ratio', hue='S&P', \n",
    "                    data=df_BBBandB, s=40, palette=['blue','orange'])\n",
    "\n",
    "# Some random point we want to classify\n",
    "plt.scatter(4.2, 2.66, marker='o', s=80, color='red')"
   ]
  },
  {
   "cell_type": "markdown",
   "metadata": {},
   "source": [
    "To build this model we are going to use sklearn which is a popular machine learning software.  Let's begin by importing KNeighborsClassifier, train_test_split, and accuracy_score libraries."
   ]
  },
  {
   "cell_type": "markdown",
   "metadata": {},
   "source": [
    "#### Scikit learn library - k-NN\n",
    "#### sklearn.neighbors.KNeighborsClassifier"
   ]
  },
  {
   "cell_type": "code",
   "execution_count": 494,
   "metadata": {},
   "outputs": [],
   "source": [
    "from sklearn.neighbors import KNeighborsClassifier\n",
    "# Split arrays or matrices into random train and test subsets\n",
    "from sklearn.model_selection import train_test_split\n",
    "# Computes accuracy of the algorithm on the test data \n",
    "from sklearn.metrics import accuracy_score"
   ]
  },
  {
   "cell_type": "markdown",
   "metadata": {},
   "source": [
    "#### Use EV/Revenue and the Current Ratio to predict Bond S&P Ratings \n",
    "Here is a list of steps we will follow. \n",
    "\n",
    "#### 1. Define attributes (independent) and labels (dependent)\n",
    "We will first define dependent and independent variables. Independent variables are called features and are sometimes referred to as attributes. The dependent variable is the output; or in other words, what we are attempting to predict. In our example, the independent variables are EV/Revenue and the Current Ratio while the dependent variable, or the target, is the S&P rating.\n",
    "\n",
    "#### 2. Split data into train and test\n",
    "Then, we split the data into train and test. This is absolutely necessary to avoid overfitting. It allows you to see how good the model is and how well it performs on the new test data we feed into it.\n",
    "\n",
    "#### 3. Train the model\n",
    "In part three, we train our model. \n",
    "\n",
    "#### 4. Make a prediction\n",
    "Then make the prediction using the model we learned in the train phase.  The prediction is done on the unlabeled test data.\n",
    "\n",
    "#### 5. Evaluate accuracy of the prediction\n",
    "After we made the prediction, we must evaluate the accuracy of the algorithm. In the classification setting of k-NN, we are going to use the accuracy metric."
   ]
  },
  {
   "cell_type": "markdown",
   "metadata": {},
   "source": [
    "Let's define our independent variables, or features, by the name X and the target variable by the name Y.  We pass X and Y into the train_test_split in order to split this data randomly 70/30. This means 70% of the data goes to the training phase and 30% of the data goes to the testing phase.\n",
    "\n",
    "We can visualize the size of the data as well as the splits between X_train, X_test, y_train, and y_test."
   ]
  },
  {
   "cell_type": "code",
   "execution_count": 495,
   "metadata": {},
   "outputs": [],
   "source": [
    "# Create features or independent variables\n",
    "X = df_BBBandB[['EV/Revenue','Current ratio']]\n",
    "# Our target or dependent variable\n",
    "y = df_BBBandB['S&P']\n",
    "# Create test and train data sets, split data randomly into 30% test and 70% train\n",
    "X_train, X_test, y_train, y_test = train_test_split(X, y, test_size = 0.3, random_state = 2)"
   ]
  },
  {
   "cell_type": "code",
   "execution_count": 496,
   "metadata": {},
   "outputs": [
    {
     "data": {
      "text/html": [
       "<div>\n",
       "<style scoped>\n",
       "    .dataframe tbody tr th:only-of-type {\n",
       "        vertical-align: middle;\n",
       "    }\n",
       "\n",
       "    .dataframe tbody tr th {\n",
       "        vertical-align: top;\n",
       "    }\n",
       "\n",
       "    .dataframe thead th {\n",
       "        text-align: right;\n",
       "    }\n",
       "</style>\n",
       "<table border=\"1\" class=\"dataframe\">\n",
       "  <thead>\n",
       "    <tr style=\"text-align: right;\">\n",
       "      <th></th>\n",
       "      <th>EV/Revenue</th>\n",
       "      <th>Current ratio</th>\n",
       "    </tr>\n",
       "  </thead>\n",
       "  <tbody>\n",
       "    <tr>\n",
       "      <th>1240</th>\n",
       "      <td>2.00</td>\n",
       "      <td>2.20</td>\n",
       "    </tr>\n",
       "    <tr>\n",
       "      <th>1958</th>\n",
       "      <td>5.12</td>\n",
       "      <td>1.59</td>\n",
       "    </tr>\n",
       "    <tr>\n",
       "      <th>4754</th>\n",
       "      <td>0.94</td>\n",
       "      <td>2.32</td>\n",
       "    </tr>\n",
       "  </tbody>\n",
       "</table>\n",
       "</div>"
      ],
      "text/plain": [
       "      EV/Revenue  Current ratio\n",
       "1240        2.00           2.20\n",
       "1958        5.12           1.59\n",
       "4754        0.94           2.32"
      ]
     },
     "execution_count": 496,
     "metadata": {},
     "output_type": "execute_result"
    }
   ],
   "source": [
    "X_train.head(3)"
   ]
  },
  {
   "cell_type": "code",
   "execution_count": 497,
   "metadata": {},
   "outputs": [
    {
     "data": {
      "text/plain": [
       "5555      B\n",
       "1155      B\n",
       "3296    BBB\n",
       "Name: S&P, dtype: object"
      ]
     },
     "execution_count": 497,
     "metadata": {},
     "output_type": "execute_result"
    }
   ],
   "source": [
    "y_test.head(3)"
   ]
  },
  {
   "cell_type": "code",
   "execution_count": 498,
   "metadata": {},
   "outputs": [
    {
     "name": "stdout",
     "output_type": "stream",
     "text": [
      "X_train size = 105\n",
      "X_test size  =  45\n",
      "y_test size  =  45\n",
      "y_train size =  105\n"
     ]
    }
   ],
   "source": [
    "# 70% train, 30% test\n",
    "print(\"X_train size =\",X_train.shape[0])\n",
    "print(\"X_test size  = \",X_test.shape[0])\n",
    "print(\"y_test size  = \",y_test.shape[0])\n",
    "print(\"y_train size = \",y_train.shape[0])"
   ]
  },
  {
   "cell_type": "markdown",
   "metadata": {},
   "source": [
    "Then, we follow our steps.\n",
    "\n",
    "We first initialize the algorithm k-NN. Next, we fit, or train, the algorithm. Then we make the prediction. Finally, we calculate the accuracy score by using the accuracy_score function from scikit-learn."
   ]
  },
  {
   "cell_type": "code",
   "execution_count": 499,
   "metadata": {},
   "outputs": [
    {
     "name": "stdout",
     "output_type": "stream",
     "text": [
      "Accuracy: 0.69\n"
     ]
    }
   ],
   "source": [
    "# Initialize knn model\n",
    "knn = KNeighborsClassifier()\n",
    "# train knn algorithm on training data\n",
    "knn.fit(X_train, y_train)\n",
    "# Predict dependent variable,Rating using test data\n",
    "predictions = knn.predict(X_test)\n",
    "# Compute accuracy \n",
    "accuracy = accuracy_score(y_test, predictions)\n",
    "\n",
    "print('Accuracy: {:.2f}'.format(accuracy))"
   ]
  },
  {
   "cell_type": "code",
   "execution_count": 500,
   "metadata": {},
   "outputs": [
    {
     "data": {
      "text/html": [
       "<div>\n",
       "<style scoped>\n",
       "    .dataframe tbody tr th:only-of-type {\n",
       "        vertical-align: middle;\n",
       "    }\n",
       "\n",
       "    .dataframe tbody tr th {\n",
       "        vertical-align: top;\n",
       "    }\n",
       "\n",
       "    .dataframe thead th {\n",
       "        text-align: right;\n",
       "    }\n",
       "</style>\n",
       "<table border=\"1\" class=\"dataframe\">\n",
       "  <thead>\n",
       "    <tr style=\"text-align: right;\">\n",
       "      <th></th>\n",
       "      <th>S&amp;P</th>\n",
       "      <th>Predicted</th>\n",
       "      <th>Misclassified</th>\n",
       "    </tr>\n",
       "  </thead>\n",
       "  <tbody>\n",
       "    <tr>\n",
       "      <th>3296</th>\n",
       "      <td>BBB</td>\n",
       "      <td>B</td>\n",
       "      <td>True</td>\n",
       "    </tr>\n",
       "    <tr>\n",
       "      <th>3383</th>\n",
       "      <td>B</td>\n",
       "      <td>BBB</td>\n",
       "      <td>True</td>\n",
       "    </tr>\n",
       "    <tr>\n",
       "      <th>4022</th>\n",
       "      <td>B</td>\n",
       "      <td>BBB</td>\n",
       "      <td>True</td>\n",
       "    </tr>\n",
       "    <tr>\n",
       "      <th>5855</th>\n",
       "      <td>B</td>\n",
       "      <td>BBB</td>\n",
       "      <td>True</td>\n",
       "    </tr>\n",
       "    <tr>\n",
       "      <th>825</th>\n",
       "      <td>BBB</td>\n",
       "      <td>B</td>\n",
       "      <td>True</td>\n",
       "    </tr>\n",
       "  </tbody>\n",
       "</table>\n",
       "</div>"
      ],
      "text/plain": [
       "      S&P Predicted  Misclassified\n",
       "3296  BBB         B           True\n",
       "3383    B       BBB           True\n",
       "4022    B       BBB           True\n",
       "5855    B       BBB           True\n",
       "825   BBB         B           True"
      ]
     },
     "execution_count": 500,
     "metadata": {},
     "output_type": "execute_result"
    }
   ],
   "source": [
    "# Visualize misclassified data\n",
    "pred = pd.Series(predictions, index = y_test.index, name = 'Predicted')\n",
    "pred_and_actual = pd.concat([y_test, pred], axis = 1)\n",
    "pred_and_actual['Misclassified'] = pred_and_actual['S&P'] != pred_and_actual['Predicted']\n",
    "pred_and_actual[pred_and_actual['Misclassified'] == True].head(5)"
   ]
  },
  {
   "cell_type": "markdown",
   "metadata": {},
   "source": [
    "Accuracy is easy to calculate : number of ratings classified correctly / length of test data"
   ]
  },
  {
   "cell_type": "code",
   "execution_count": 501,
   "metadata": {},
   "outputs": [
    {
     "name": "stdout",
     "output_type": "stream",
     "text": [
      "0.69\n"
     ]
    }
   ],
   "source": [
    "correctly_predicted = pred_and_actual[pred_and_actual['Misclassified'] != True].shape[0]\n",
    "#Accuracy\n",
    "print(round((correctly_predicted / len(y_test)), 2))"
   ]
  },
  {
   "cell_type": "code",
   "execution_count": 502,
   "metadata": {},
   "outputs": [],
   "source": [
    "# First misclassified bond\n",
    "misclassified_bond = pred_and_actual[pred_and_actual['Misclassified'] == True].index[0]"
   ]
  },
  {
   "cell_type": "code",
   "execution_count": 503,
   "metadata": {},
   "outputs": [
    {
     "data": {
      "text/plain": [
       "EV/Revenue       2.06\n",
       "Current ratio    1.45\n",
       "Name: 3296, dtype: object"
      ]
     },
     "execution_count": 503,
     "metadata": {},
     "output_type": "execute_result"
    }
   ],
   "source": [
    "# Fundamentals of the misclassified bond\n",
    "df_ratings.loc[misclassified_bond][['EV/Revenue','Current ratio']]"
   ]
  },
  {
   "cell_type": "markdown",
   "metadata": {},
   "source": [
    "We can see that the accuracy score here seems ok, at least for the out of the box method.  But as you recall parameter k, which is the number of nearest points we're going to take into consideration when making our prediction, is crucial.  Whatever k that we pick is going to have a huge influence on the accuracy and the predictive power of k-NN.\n",
    "\n",
    "The method of finding k is pretty simple.  We train our model with different k values.  We calculate the accuracy for each number of neighbors and then see which k yields the highest accuracy.  This is best visualized in a plot."
   ]
  },
  {
   "cell_type": "markdown",
   "metadata": {},
   "source": [
    "#### Finding optimal k\n",
    "\n",
    "Here we create two lists for train accuracy and test accuracy.  We then split our data into train and test.  Then, we train our k-NN classifier for our range of values of k.  Next, we plot train accuracy and test accuracy for each number of nearest neighbors.  In this example, we will plot for our range of k's 1 through 15.  The default value for k in k-NN is 5.\n",
    "\n",
    "One thing to remember is that when you select a small value for k, like 1 in the train data, it will severely overfit the data as you can see in the graph.  The accuracy is very high in the train data when k is equal to 1.  However, the algorithm performs poorly on the test data as defined by the blue line when k is equal to 1.  This is because the model captures all the nuances in the train data when k is equal to 1, but the model fails to generalize to the new data.  We call this low bias and high variance.\n",
    "\n",
    "A large value for k will over simplify the model or underfit.  This is an example of high bias and low variance."
   ]
  },
  {
   "cell_type": "markdown",
   "metadata": {},
   "source": [
    "#### In k-NN Classifier, default number of neighbors = 5\n",
    "#### Strategy for finding k: try different values for k and plot k vs the results of the performance metric"
   ]
  },
  {
   "cell_type": "code",
   "execution_count": 504,
   "metadata": {},
   "outputs": [
    {
     "data": {
      "application/vnd.plotly.v1+json": {
       "config": {
        "plotlyServerURL": "https://plot.ly"
       },
       "data": [
        {
         "name": "Test Accuracy",
         "type": "scatter",
         "x": [
          1,
          2,
          3,
          4,
          5,
          6,
          7,
          8,
          9,
          10,
          11,
          12,
          13,
          14,
          15
         ],
         "y": [
          0.5555555555555556,
          0.6,
          0.5777777777777777,
          0.6444444444444445,
          0.6888888888888889,
          0.5777777777777777,
          0.6,
          0.5333333333333333,
          0.4888888888888889,
          0.5777777777777777,
          0.5111111111111111,
          0.5333333333333333,
          0.5111111111111111,
          0.5111111111111111,
          0.4888888888888889
         ]
        },
        {
         "name": "Train Accuracy",
         "type": "scatter",
         "x": [
          1,
          2,
          3,
          4,
          5,
          6,
          7,
          8,
          9,
          10,
          11,
          12,
          13,
          14,
          15
         ],
         "y": [
          1,
          0.780952380952381,
          0.8285714285714286,
          0.7428571428571429,
          0.7238095238095238,
          0.6952380952380952,
          0.6952380952380952,
          0.6666666666666666,
          0.6476190476190476,
          0.6666666666666666,
          0.6952380952380952,
          0.6571428571428571,
          0.6761904761904762,
          0.638095238095238,
          0.638095238095238
         ]
        }
       ],
       "layout": {
        "template": {
         "data": {
          "bar": [
           {
            "error_x": {
             "color": "#f2f5fa"
            },
            "error_y": {
             "color": "#f2f5fa"
            },
            "marker": {
             "line": {
              "color": "rgb(17,17,17)",
              "width": 0.5
             }
            },
            "type": "bar"
           }
          ],
          "barpolar": [
           {
            "marker": {
             "line": {
              "color": "rgb(17,17,17)",
              "width": 0.5
             }
            },
            "type": "barpolar"
           }
          ],
          "carpet": [
           {
            "aaxis": {
             "endlinecolor": "#A2B1C6",
             "gridcolor": "#506784",
             "linecolor": "#506784",
             "minorgridcolor": "#506784",
             "startlinecolor": "#A2B1C6"
            },
            "baxis": {
             "endlinecolor": "#A2B1C6",
             "gridcolor": "#506784",
             "linecolor": "#506784",
             "minorgridcolor": "#506784",
             "startlinecolor": "#A2B1C6"
            },
            "type": "carpet"
           }
          ],
          "choropleth": [
           {
            "colorbar": {
             "outlinewidth": 0,
             "ticks": ""
            },
            "type": "choropleth"
           }
          ],
          "contour": [
           {
            "colorbar": {
             "outlinewidth": 0,
             "ticks": ""
            },
            "colorscale": [
             [
              0,
              "#0d0887"
             ],
             [
              0.1111111111111111,
              "#46039f"
             ],
             [
              0.2222222222222222,
              "#7201a8"
             ],
             [
              0.3333333333333333,
              "#9c179e"
             ],
             [
              0.4444444444444444,
              "#bd3786"
             ],
             [
              0.5555555555555556,
              "#d8576b"
             ],
             [
              0.6666666666666666,
              "#ed7953"
             ],
             [
              0.7777777777777778,
              "#fb9f3a"
             ],
             [
              0.8888888888888888,
              "#fdca26"
             ],
             [
              1,
              "#f0f921"
             ]
            ],
            "type": "contour"
           }
          ],
          "contourcarpet": [
           {
            "colorbar": {
             "outlinewidth": 0,
             "ticks": ""
            },
            "type": "contourcarpet"
           }
          ],
          "heatmap": [
           {
            "colorbar": {
             "outlinewidth": 0,
             "ticks": ""
            },
            "colorscale": [
             [
              0,
              "#0d0887"
             ],
             [
              0.1111111111111111,
              "#46039f"
             ],
             [
              0.2222222222222222,
              "#7201a8"
             ],
             [
              0.3333333333333333,
              "#9c179e"
             ],
             [
              0.4444444444444444,
              "#bd3786"
             ],
             [
              0.5555555555555556,
              "#d8576b"
             ],
             [
              0.6666666666666666,
              "#ed7953"
             ],
             [
              0.7777777777777778,
              "#fb9f3a"
             ],
             [
              0.8888888888888888,
              "#fdca26"
             ],
             [
              1,
              "#f0f921"
             ]
            ],
            "type": "heatmap"
           }
          ],
          "heatmapgl": [
           {
            "colorbar": {
             "outlinewidth": 0,
             "ticks": ""
            },
            "colorscale": [
             [
              0,
              "#0d0887"
             ],
             [
              0.1111111111111111,
              "#46039f"
             ],
             [
              0.2222222222222222,
              "#7201a8"
             ],
             [
              0.3333333333333333,
              "#9c179e"
             ],
             [
              0.4444444444444444,
              "#bd3786"
             ],
             [
              0.5555555555555556,
              "#d8576b"
             ],
             [
              0.6666666666666666,
              "#ed7953"
             ],
             [
              0.7777777777777778,
              "#fb9f3a"
             ],
             [
              0.8888888888888888,
              "#fdca26"
             ],
             [
              1,
              "#f0f921"
             ]
            ],
            "type": "heatmapgl"
           }
          ],
          "histogram": [
           {
            "marker": {
             "colorbar": {
              "outlinewidth": 0,
              "ticks": ""
             }
            },
            "type": "histogram"
           }
          ],
          "histogram2d": [
           {
            "colorbar": {
             "outlinewidth": 0,
             "ticks": ""
            },
            "colorscale": [
             [
              0,
              "#0d0887"
             ],
             [
              0.1111111111111111,
              "#46039f"
             ],
             [
              0.2222222222222222,
              "#7201a8"
             ],
             [
              0.3333333333333333,
              "#9c179e"
             ],
             [
              0.4444444444444444,
              "#bd3786"
             ],
             [
              0.5555555555555556,
              "#d8576b"
             ],
             [
              0.6666666666666666,
              "#ed7953"
             ],
             [
              0.7777777777777778,
              "#fb9f3a"
             ],
             [
              0.8888888888888888,
              "#fdca26"
             ],
             [
              1,
              "#f0f921"
             ]
            ],
            "type": "histogram2d"
           }
          ],
          "histogram2dcontour": [
           {
            "colorbar": {
             "outlinewidth": 0,
             "ticks": ""
            },
            "colorscale": [
             [
              0,
              "#0d0887"
             ],
             [
              0.1111111111111111,
              "#46039f"
             ],
             [
              0.2222222222222222,
              "#7201a8"
             ],
             [
              0.3333333333333333,
              "#9c179e"
             ],
             [
              0.4444444444444444,
              "#bd3786"
             ],
             [
              0.5555555555555556,
              "#d8576b"
             ],
             [
              0.6666666666666666,
              "#ed7953"
             ],
             [
              0.7777777777777778,
              "#fb9f3a"
             ],
             [
              0.8888888888888888,
              "#fdca26"
             ],
             [
              1,
              "#f0f921"
             ]
            ],
            "type": "histogram2dcontour"
           }
          ],
          "mesh3d": [
           {
            "colorbar": {
             "outlinewidth": 0,
             "ticks": ""
            },
            "type": "mesh3d"
           }
          ],
          "parcoords": [
           {
            "line": {
             "colorbar": {
              "outlinewidth": 0,
              "ticks": ""
             }
            },
            "type": "parcoords"
           }
          ],
          "pie": [
           {
            "automargin": true,
            "type": "pie"
           }
          ],
          "scatter": [
           {
            "marker": {
             "line": {
              "color": "#283442"
             }
            },
            "type": "scatter"
           }
          ],
          "scatter3d": [
           {
            "line": {
             "colorbar": {
              "outlinewidth": 0,
              "ticks": ""
             }
            },
            "marker": {
             "colorbar": {
              "outlinewidth": 0,
              "ticks": ""
             }
            },
            "type": "scatter3d"
           }
          ],
          "scattercarpet": [
           {
            "marker": {
             "colorbar": {
              "outlinewidth": 0,
              "ticks": ""
             }
            },
            "type": "scattercarpet"
           }
          ],
          "scattergeo": [
           {
            "marker": {
             "colorbar": {
              "outlinewidth": 0,
              "ticks": ""
             }
            },
            "type": "scattergeo"
           }
          ],
          "scattergl": [
           {
            "marker": {
             "line": {
              "color": "#283442"
             }
            },
            "type": "scattergl"
           }
          ],
          "scattermapbox": [
           {
            "marker": {
             "colorbar": {
              "outlinewidth": 0,
              "ticks": ""
             }
            },
            "type": "scattermapbox"
           }
          ],
          "scatterpolar": [
           {
            "marker": {
             "colorbar": {
              "outlinewidth": 0,
              "ticks": ""
             }
            },
            "type": "scatterpolar"
           }
          ],
          "scatterpolargl": [
           {
            "marker": {
             "colorbar": {
              "outlinewidth": 0,
              "ticks": ""
             }
            },
            "type": "scatterpolargl"
           }
          ],
          "scatterternary": [
           {
            "marker": {
             "colorbar": {
              "outlinewidth": 0,
              "ticks": ""
             }
            },
            "type": "scatterternary"
           }
          ],
          "surface": [
           {
            "colorbar": {
             "outlinewidth": 0,
             "ticks": ""
            },
            "colorscale": [
             [
              0,
              "#0d0887"
             ],
             [
              0.1111111111111111,
              "#46039f"
             ],
             [
              0.2222222222222222,
              "#7201a8"
             ],
             [
              0.3333333333333333,
              "#9c179e"
             ],
             [
              0.4444444444444444,
              "#bd3786"
             ],
             [
              0.5555555555555556,
              "#d8576b"
             ],
             [
              0.6666666666666666,
              "#ed7953"
             ],
             [
              0.7777777777777778,
              "#fb9f3a"
             ],
             [
              0.8888888888888888,
              "#fdca26"
             ],
             [
              1,
              "#f0f921"
             ]
            ],
            "type": "surface"
           }
          ],
          "table": [
           {
            "cells": {
             "fill": {
              "color": "#506784"
             },
             "line": {
              "color": "rgb(17,17,17)"
             }
            },
            "header": {
             "fill": {
              "color": "#2a3f5f"
             },
             "line": {
              "color": "rgb(17,17,17)"
             }
            },
            "type": "table"
           }
          ]
         },
         "layout": {
          "annotationdefaults": {
           "arrowcolor": "#f2f5fa",
           "arrowhead": 0,
           "arrowwidth": 1
          },
          "coloraxis": {
           "colorbar": {
            "outlinewidth": 0,
            "ticks": ""
           }
          },
          "colorscale": {
           "diverging": [
            [
             0,
             "#8e0152"
            ],
            [
             0.1,
             "#c51b7d"
            ],
            [
             0.2,
             "#de77ae"
            ],
            [
             0.3,
             "#f1b6da"
            ],
            [
             0.4,
             "#fde0ef"
            ],
            [
             0.5,
             "#f7f7f7"
            ],
            [
             0.6,
             "#e6f5d0"
            ],
            [
             0.7,
             "#b8e186"
            ],
            [
             0.8,
             "#7fbc41"
            ],
            [
             0.9,
             "#4d9221"
            ],
            [
             1,
             "#276419"
            ]
           ],
           "sequential": [
            [
             0,
             "#0d0887"
            ],
            [
             0.1111111111111111,
             "#46039f"
            ],
            [
             0.2222222222222222,
             "#7201a8"
            ],
            [
             0.3333333333333333,
             "#9c179e"
            ],
            [
             0.4444444444444444,
             "#bd3786"
            ],
            [
             0.5555555555555556,
             "#d8576b"
            ],
            [
             0.6666666666666666,
             "#ed7953"
            ],
            [
             0.7777777777777778,
             "#fb9f3a"
            ],
            [
             0.8888888888888888,
             "#fdca26"
            ],
            [
             1,
             "#f0f921"
            ]
           ],
           "sequentialminus": [
            [
             0,
             "#0d0887"
            ],
            [
             0.1111111111111111,
             "#46039f"
            ],
            [
             0.2222222222222222,
             "#7201a8"
            ],
            [
             0.3333333333333333,
             "#9c179e"
            ],
            [
             0.4444444444444444,
             "#bd3786"
            ],
            [
             0.5555555555555556,
             "#d8576b"
            ],
            [
             0.6666666666666666,
             "#ed7953"
            ],
            [
             0.7777777777777778,
             "#fb9f3a"
            ],
            [
             0.8888888888888888,
             "#fdca26"
            ],
            [
             1,
             "#f0f921"
            ]
           ]
          },
          "colorway": [
           "#636efa",
           "#EF553B",
           "#00cc96",
           "#ab63fa",
           "#FFA15A",
           "#19d3f3",
           "#FF6692",
           "#B6E880",
           "#FF97FF",
           "#FECB52"
          ],
          "font": {
           "color": "#f2f5fa"
          },
          "geo": {
           "bgcolor": "rgb(17,17,17)",
           "lakecolor": "rgb(17,17,17)",
           "landcolor": "rgb(17,17,17)",
           "showlakes": true,
           "showland": true,
           "subunitcolor": "#506784"
          },
          "hoverlabel": {
           "align": "left"
          },
          "hovermode": "closest",
          "mapbox": {
           "style": "dark"
          },
          "paper_bgcolor": "rgb(17,17,17)",
          "plot_bgcolor": "rgb(17,17,17)",
          "polar": {
           "angularaxis": {
            "gridcolor": "#506784",
            "linecolor": "#506784",
            "ticks": ""
           },
           "bgcolor": "rgb(17,17,17)",
           "radialaxis": {
            "gridcolor": "#506784",
            "linecolor": "#506784",
            "ticks": ""
           }
          },
          "scene": {
           "xaxis": {
            "backgroundcolor": "rgb(17,17,17)",
            "gridcolor": "#506784",
            "gridwidth": 2,
            "linecolor": "#506784",
            "showbackground": true,
            "ticks": "",
            "zerolinecolor": "#C8D4E3"
           },
           "yaxis": {
            "backgroundcolor": "rgb(17,17,17)",
            "gridcolor": "#506784",
            "gridwidth": 2,
            "linecolor": "#506784",
            "showbackground": true,
            "ticks": "",
            "zerolinecolor": "#C8D4E3"
           },
           "zaxis": {
            "backgroundcolor": "rgb(17,17,17)",
            "gridcolor": "#506784",
            "gridwidth": 2,
            "linecolor": "#506784",
            "showbackground": true,
            "ticks": "",
            "zerolinecolor": "#C8D4E3"
           }
          },
          "shapedefaults": {
           "line": {
            "color": "#f2f5fa"
           }
          },
          "sliderdefaults": {
           "bgcolor": "#C8D4E3",
           "bordercolor": "rgb(17,17,17)",
           "borderwidth": 1,
           "tickwidth": 0
          },
          "ternary": {
           "aaxis": {
            "gridcolor": "#506784",
            "linecolor": "#506784",
            "ticks": ""
           },
           "baxis": {
            "gridcolor": "#506784",
            "linecolor": "#506784",
            "ticks": ""
           },
           "bgcolor": "rgb(17,17,17)",
           "caxis": {
            "gridcolor": "#506784",
            "linecolor": "#506784",
            "ticks": ""
           }
          },
          "title": {
           "x": 0.05
          },
          "updatemenudefaults": {
           "bgcolor": "#506784",
           "borderwidth": 0
          },
          "xaxis": {
           "automargin": true,
           "gridcolor": "#283442",
           "linecolor": "#506784",
           "ticks": "",
           "title": {
            "standoff": 15
           },
           "zerolinecolor": "#283442",
           "zerolinewidth": 2
          },
          "yaxis": {
           "automargin": true,
           "gridcolor": "#283442",
           "linecolor": "#506784",
           "ticks": "",
           "title": {
            "standoff": 15
           },
           "zerolinecolor": "#283442",
           "zerolinewidth": 2
          }
         }
        },
        "title": {
         "text": "Accuracy for different k values"
        },
        "xaxis": {
         "title": {
          "text": "K neighbors"
         }
        },
        "yaxis": {
         "title": {
          "text": "Accuracy"
         }
        }
       }
      },
      "text/html": [
       "<div>\n",
       "        \n",
       "        \n",
       "            <div id=\"f72ddff6-f126-40be-8a11-ec3bc7c612bb\" class=\"plotly-graph-div\" style=\"height:525px; width:100%;\"></div>\n",
       "            <script type=\"text/javascript\">\n",
       "                require([\"plotly\"], function(Plotly) {\n",
       "                    window.PLOTLYENV=window.PLOTLYENV || {};\n",
       "                    \n",
       "                if (document.getElementById(\"f72ddff6-f126-40be-8a11-ec3bc7c612bb\")) {\n",
       "                    Plotly.newPlot(\n",
       "                        'f72ddff6-f126-40be-8a11-ec3bc7c612bb',\n",
       "                        [{\"name\": \"Test Accuracy\", \"type\": \"scatter\", \"x\": [1, 2, 3, 4, 5, 6, 7, 8, 9, 10, 11, 12, 13, 14, 15], \"y\": [0.5555555555555556, 0.6, 0.5777777777777777, 0.6444444444444445, 0.6888888888888889, 0.5777777777777777, 0.6, 0.5333333333333333, 0.4888888888888889, 0.5777777777777777, 0.5111111111111111, 0.5333333333333333, 0.5111111111111111, 0.5111111111111111, 0.4888888888888889]}, {\"name\": \"Train Accuracy\", \"type\": \"scatter\", \"x\": [1, 2, 3, 4, 5, 6, 7, 8, 9, 10, 11, 12, 13, 14, 15], \"y\": [1.0, 0.780952380952381, 0.8285714285714286, 0.7428571428571429, 0.7238095238095238, 0.6952380952380952, 0.6952380952380952, 0.6666666666666666, 0.6476190476190476, 0.6666666666666666, 0.6952380952380952, 0.6571428571428571, 0.6761904761904762, 0.638095238095238, 0.638095238095238]}],\n",
       "                        {\"template\": {\"data\": {\"bar\": [{\"error_x\": {\"color\": \"#f2f5fa\"}, \"error_y\": {\"color\": \"#f2f5fa\"}, \"marker\": {\"line\": {\"color\": \"rgb(17,17,17)\", \"width\": 0.5}}, \"type\": \"bar\"}], \"barpolar\": [{\"marker\": {\"line\": {\"color\": \"rgb(17,17,17)\", \"width\": 0.5}}, \"type\": \"barpolar\"}], \"carpet\": [{\"aaxis\": {\"endlinecolor\": \"#A2B1C6\", \"gridcolor\": \"#506784\", \"linecolor\": \"#506784\", \"minorgridcolor\": \"#506784\", \"startlinecolor\": \"#A2B1C6\"}, \"baxis\": {\"endlinecolor\": \"#A2B1C6\", \"gridcolor\": \"#506784\", \"linecolor\": \"#506784\", \"minorgridcolor\": \"#506784\", \"startlinecolor\": \"#A2B1C6\"}, \"type\": \"carpet\"}], \"choropleth\": [{\"colorbar\": {\"outlinewidth\": 0, \"ticks\": \"\"}, \"type\": \"choropleth\"}], \"contour\": [{\"colorbar\": {\"outlinewidth\": 0, \"ticks\": \"\"}, \"colorscale\": [[0.0, \"#0d0887\"], [0.1111111111111111, \"#46039f\"], [0.2222222222222222, \"#7201a8\"], [0.3333333333333333, \"#9c179e\"], [0.4444444444444444, \"#bd3786\"], [0.5555555555555556, \"#d8576b\"], [0.6666666666666666, \"#ed7953\"], [0.7777777777777778, \"#fb9f3a\"], [0.8888888888888888, \"#fdca26\"], [1.0, \"#f0f921\"]], \"type\": \"contour\"}], \"contourcarpet\": [{\"colorbar\": {\"outlinewidth\": 0, \"ticks\": \"\"}, \"type\": \"contourcarpet\"}], \"heatmap\": [{\"colorbar\": {\"outlinewidth\": 0, \"ticks\": \"\"}, \"colorscale\": [[0.0, \"#0d0887\"], [0.1111111111111111, \"#46039f\"], [0.2222222222222222, \"#7201a8\"], [0.3333333333333333, \"#9c179e\"], [0.4444444444444444, \"#bd3786\"], [0.5555555555555556, \"#d8576b\"], [0.6666666666666666, \"#ed7953\"], [0.7777777777777778, \"#fb9f3a\"], [0.8888888888888888, \"#fdca26\"], [1.0, \"#f0f921\"]], \"type\": \"heatmap\"}], \"heatmapgl\": [{\"colorbar\": {\"outlinewidth\": 0, \"ticks\": \"\"}, \"colorscale\": [[0.0, \"#0d0887\"], [0.1111111111111111, \"#46039f\"], [0.2222222222222222, \"#7201a8\"], [0.3333333333333333, \"#9c179e\"], [0.4444444444444444, \"#bd3786\"], [0.5555555555555556, \"#d8576b\"], [0.6666666666666666, \"#ed7953\"], [0.7777777777777778, \"#fb9f3a\"], [0.8888888888888888, \"#fdca26\"], [1.0, \"#f0f921\"]], \"type\": \"heatmapgl\"}], \"histogram\": [{\"marker\": {\"colorbar\": {\"outlinewidth\": 0, \"ticks\": \"\"}}, \"type\": \"histogram\"}], \"histogram2d\": [{\"colorbar\": {\"outlinewidth\": 0, \"ticks\": \"\"}, \"colorscale\": [[0.0, \"#0d0887\"], [0.1111111111111111, \"#46039f\"], [0.2222222222222222, \"#7201a8\"], [0.3333333333333333, \"#9c179e\"], [0.4444444444444444, \"#bd3786\"], [0.5555555555555556, \"#d8576b\"], [0.6666666666666666, \"#ed7953\"], [0.7777777777777778, \"#fb9f3a\"], [0.8888888888888888, \"#fdca26\"], [1.0, \"#f0f921\"]], \"type\": \"histogram2d\"}], \"histogram2dcontour\": [{\"colorbar\": {\"outlinewidth\": 0, \"ticks\": \"\"}, \"colorscale\": [[0.0, \"#0d0887\"], [0.1111111111111111, \"#46039f\"], [0.2222222222222222, \"#7201a8\"], [0.3333333333333333, \"#9c179e\"], [0.4444444444444444, \"#bd3786\"], [0.5555555555555556, \"#d8576b\"], [0.6666666666666666, \"#ed7953\"], [0.7777777777777778, \"#fb9f3a\"], [0.8888888888888888, \"#fdca26\"], [1.0, \"#f0f921\"]], \"type\": \"histogram2dcontour\"}], \"mesh3d\": [{\"colorbar\": {\"outlinewidth\": 0, \"ticks\": \"\"}, \"type\": \"mesh3d\"}], \"parcoords\": [{\"line\": {\"colorbar\": {\"outlinewidth\": 0, \"ticks\": \"\"}}, \"type\": \"parcoords\"}], \"pie\": [{\"automargin\": true, \"type\": \"pie\"}], \"scatter\": [{\"marker\": {\"line\": {\"color\": \"#283442\"}}, \"type\": \"scatter\"}], \"scatter3d\": [{\"line\": {\"colorbar\": {\"outlinewidth\": 0, \"ticks\": \"\"}}, \"marker\": {\"colorbar\": {\"outlinewidth\": 0, \"ticks\": \"\"}}, \"type\": \"scatter3d\"}], \"scattercarpet\": [{\"marker\": {\"colorbar\": {\"outlinewidth\": 0, \"ticks\": \"\"}}, \"type\": \"scattercarpet\"}], \"scattergeo\": [{\"marker\": {\"colorbar\": {\"outlinewidth\": 0, \"ticks\": \"\"}}, \"type\": \"scattergeo\"}], \"scattergl\": [{\"marker\": {\"line\": {\"color\": \"#283442\"}}, \"type\": \"scattergl\"}], \"scattermapbox\": [{\"marker\": {\"colorbar\": {\"outlinewidth\": 0, \"ticks\": \"\"}}, \"type\": \"scattermapbox\"}], \"scatterpolar\": [{\"marker\": {\"colorbar\": {\"outlinewidth\": 0, \"ticks\": \"\"}}, \"type\": \"scatterpolar\"}], \"scatterpolargl\": [{\"marker\": {\"colorbar\": {\"outlinewidth\": 0, \"ticks\": \"\"}}, \"type\": \"scatterpolargl\"}], \"scatterternary\": [{\"marker\": {\"colorbar\": {\"outlinewidth\": 0, \"ticks\": \"\"}}, \"type\": \"scatterternary\"}], \"surface\": [{\"colorbar\": {\"outlinewidth\": 0, \"ticks\": \"\"}, \"colorscale\": [[0.0, \"#0d0887\"], [0.1111111111111111, \"#46039f\"], [0.2222222222222222, \"#7201a8\"], [0.3333333333333333, \"#9c179e\"], [0.4444444444444444, \"#bd3786\"], [0.5555555555555556, \"#d8576b\"], [0.6666666666666666, \"#ed7953\"], [0.7777777777777778, \"#fb9f3a\"], [0.8888888888888888, \"#fdca26\"], [1.0, \"#f0f921\"]], \"type\": \"surface\"}], \"table\": [{\"cells\": {\"fill\": {\"color\": \"#506784\"}, \"line\": {\"color\": \"rgb(17,17,17)\"}}, \"header\": {\"fill\": {\"color\": \"#2a3f5f\"}, \"line\": {\"color\": \"rgb(17,17,17)\"}}, \"type\": \"table\"}]}, \"layout\": {\"annotationdefaults\": {\"arrowcolor\": \"#f2f5fa\", \"arrowhead\": 0, \"arrowwidth\": 1}, \"coloraxis\": {\"colorbar\": {\"outlinewidth\": 0, \"ticks\": \"\"}}, \"colorscale\": {\"diverging\": [[0, \"#8e0152\"], [0.1, \"#c51b7d\"], [0.2, \"#de77ae\"], [0.3, \"#f1b6da\"], [0.4, \"#fde0ef\"], [0.5, \"#f7f7f7\"], [0.6, \"#e6f5d0\"], [0.7, \"#b8e186\"], [0.8, \"#7fbc41\"], [0.9, \"#4d9221\"], [1, \"#276419\"]], \"sequential\": [[0.0, \"#0d0887\"], [0.1111111111111111, \"#46039f\"], [0.2222222222222222, \"#7201a8\"], [0.3333333333333333, \"#9c179e\"], [0.4444444444444444, \"#bd3786\"], [0.5555555555555556, \"#d8576b\"], [0.6666666666666666, \"#ed7953\"], [0.7777777777777778, \"#fb9f3a\"], [0.8888888888888888, \"#fdca26\"], [1.0, \"#f0f921\"]], \"sequentialminus\": [[0.0, \"#0d0887\"], [0.1111111111111111, \"#46039f\"], [0.2222222222222222, \"#7201a8\"], [0.3333333333333333, \"#9c179e\"], [0.4444444444444444, \"#bd3786\"], [0.5555555555555556, \"#d8576b\"], [0.6666666666666666, \"#ed7953\"], [0.7777777777777778, \"#fb9f3a\"], [0.8888888888888888, \"#fdca26\"], [1.0, \"#f0f921\"]]}, \"colorway\": [\"#636efa\", \"#EF553B\", \"#00cc96\", \"#ab63fa\", \"#FFA15A\", \"#19d3f3\", \"#FF6692\", \"#B6E880\", \"#FF97FF\", \"#FECB52\"], \"font\": {\"color\": \"#f2f5fa\"}, \"geo\": {\"bgcolor\": \"rgb(17,17,17)\", \"lakecolor\": \"rgb(17,17,17)\", \"landcolor\": \"rgb(17,17,17)\", \"showlakes\": true, \"showland\": true, \"subunitcolor\": \"#506784\"}, \"hoverlabel\": {\"align\": \"left\"}, \"hovermode\": \"closest\", \"mapbox\": {\"style\": \"dark\"}, \"paper_bgcolor\": \"rgb(17,17,17)\", \"plot_bgcolor\": \"rgb(17,17,17)\", \"polar\": {\"angularaxis\": {\"gridcolor\": \"#506784\", \"linecolor\": \"#506784\", \"ticks\": \"\"}, \"bgcolor\": \"rgb(17,17,17)\", \"radialaxis\": {\"gridcolor\": \"#506784\", \"linecolor\": \"#506784\", \"ticks\": \"\"}}, \"scene\": {\"xaxis\": {\"backgroundcolor\": \"rgb(17,17,17)\", \"gridcolor\": \"#506784\", \"gridwidth\": 2, \"linecolor\": \"#506784\", \"showbackground\": true, \"ticks\": \"\", \"zerolinecolor\": \"#C8D4E3\"}, \"yaxis\": {\"backgroundcolor\": \"rgb(17,17,17)\", \"gridcolor\": \"#506784\", \"gridwidth\": 2, \"linecolor\": \"#506784\", \"showbackground\": true, \"ticks\": \"\", \"zerolinecolor\": \"#C8D4E3\"}, \"zaxis\": {\"backgroundcolor\": \"rgb(17,17,17)\", \"gridcolor\": \"#506784\", \"gridwidth\": 2, \"linecolor\": \"#506784\", \"showbackground\": true, \"ticks\": \"\", \"zerolinecolor\": \"#C8D4E3\"}}, \"shapedefaults\": {\"line\": {\"color\": \"#f2f5fa\"}}, \"sliderdefaults\": {\"bgcolor\": \"#C8D4E3\", \"bordercolor\": \"rgb(17,17,17)\", \"borderwidth\": 1, \"tickwidth\": 0}, \"ternary\": {\"aaxis\": {\"gridcolor\": \"#506784\", \"linecolor\": \"#506784\", \"ticks\": \"\"}, \"baxis\": {\"gridcolor\": \"#506784\", \"linecolor\": \"#506784\", \"ticks\": \"\"}, \"bgcolor\": \"rgb(17,17,17)\", \"caxis\": {\"gridcolor\": \"#506784\", \"linecolor\": \"#506784\", \"ticks\": \"\"}}, \"title\": {\"x\": 0.05}, \"updatemenudefaults\": {\"bgcolor\": \"#506784\", \"borderwidth\": 0}, \"xaxis\": {\"automargin\": true, \"gridcolor\": \"#283442\", \"linecolor\": \"#506784\", \"ticks\": \"\", \"title\": {\"standoff\": 15}, \"zerolinecolor\": \"#283442\", \"zerolinewidth\": 2}, \"yaxis\": {\"automargin\": true, \"gridcolor\": \"#283442\", \"linecolor\": \"#506784\", \"ticks\": \"\", \"title\": {\"standoff\": 15}, \"zerolinecolor\": \"#283442\", \"zerolinewidth\": 2}}}, \"title\": {\"text\": \"Accuracy for different k values\"}, \"xaxis\": {\"title\": {\"text\": \"K neighbors\"}}, \"yaxis\": {\"title\": {\"text\": \"Accuracy\"}}},\n",
       "                        {\"responsive\": true}\n",
       "                    ).then(function(){\n",
       "                            \n",
       "var gd = document.getElementById('f72ddff6-f126-40be-8a11-ec3bc7c612bb');\n",
       "var x = new MutationObserver(function (mutations, observer) {{\n",
       "        var display = window.getComputedStyle(gd).display;\n",
       "        if (!display || display === 'none') {{\n",
       "            console.log([gd, 'removed!']);\n",
       "            Plotly.purge(gd);\n",
       "            observer.disconnect();\n",
       "        }}\n",
       "}});\n",
       "\n",
       "// Listen for the removal of the full notebook cells\n",
       "var notebookContainer = gd.closest('#notebook-container');\n",
       "if (notebookContainer) {{\n",
       "    x.observe(notebookContainer, {childList: true});\n",
       "}}\n",
       "\n",
       "// Listen for the clearing of the current output cell\n",
       "var outputEl = gd.closest('.output');\n",
       "if (outputEl) {{\n",
       "    x.observe(outputEl, {childList: true});\n",
       "}}\n",
       "\n",
       "                        })\n",
       "                };\n",
       "                });\n",
       "            </script>\n",
       "        </div>"
      ]
     },
     "metadata": {},
     "output_type": "display_data"
    }
   ],
   "source": [
    "# Create lists to capture train and test accuracy values\n",
    "train_accuracy = []\n",
    "test_accuracy = []\n",
    "\n",
    "# Split date into train and test, set random_state = 2 so test/train data is same as above \n",
    "X_train, X_test, y_train, y_test = train_test_split(X, y, test_size = 0.3, random_state = 2)\n",
    "\n",
    "# Loop over values of k\n",
    "for k in np.arange(1, 16):\n",
    "    knn = KNeighborsClassifier(n_neighbors = k)\n",
    "    knn.fit(X_train, y_train)\n",
    "    train_accuracy.append(knn.score(X_train, y_train))\n",
    "    test_accuracy.append(knn.score(X_test, y_test))\n",
    "    \n",
    "#Plot\n",
    "fig = go.Figure()\n",
    "fig.add_trace(go.Scatter(x=np.arange(1,16), y=test_accuracy, name='Test Accuracy'))\n",
    "fig.add_trace(go.Scatter(x=np.arange(1,16), y=train_accuracy, name='Train Accuracy'))\n",
    "\n",
    "fig.update_layout(template='plotly_dark', xaxis_title=\"K neighbors\",\n",
    "                  title='Accuracy for different k values',\n",
    "                  yaxis_title='Accuracy')\n",
    "fig.show(width=600, height=600)"
   ]
  },
  {
   "cell_type": "markdown",
   "metadata": {},
   "source": [
    "#### Improving performance of k-NN - Feature Scaling\n",
    "#### Optimal k = 5, which gives an accuracy of 0.69, but can we do better ?\n",
    "\n",
    "Can we do better than this? Since we are just looking around for the most similar points in the neighborhood, defined by k, and are using Euclidean distance, the magnitude of features, or the variables, that we feed into the model will have an impact on performance. So if features vary by magnitude, then the algorithm will be bias toward variables with higher magnitude. To remedy this issue, we need to transform our data.\n",
    "\n",
    "There are two common transformation methods. The first is normalization, which rescales values so they are in a range from 0 to 1. Standardization is another method that subtracts the mean from each value and divides this by the standard deviation of values. Normalization is also called Min-Max scaling, which is what we will use in this example."
   ]
  },
  {
   "cell_type": "markdown",
   "metadata": {},
   "source": [
    "#### In k-NN, numerical features should have the same scale."
   ]
  },
  {
   "cell_type": "code",
   "execution_count": 505,
   "metadata": {},
   "outputs": [
    {
     "data": {
      "text/html": [
       "<div>\n",
       "<style scoped>\n",
       "    .dataframe tbody tr th:only-of-type {\n",
       "        vertical-align: middle;\n",
       "    }\n",
       "\n",
       "    .dataframe tbody tr th {\n",
       "        vertical-align: top;\n",
       "    }\n",
       "\n",
       "    .dataframe thead th {\n",
       "        text-align: right;\n",
       "    }\n",
       "</style>\n",
       "<table border=\"1\" class=\"dataframe\">\n",
       "  <thead>\n",
       "    <tr style=\"text-align: right;\">\n",
       "      <th></th>\n",
       "      <th>EV/Revenue</th>\n",
       "      <th>Current ratio</th>\n",
       "    </tr>\n",
       "  </thead>\n",
       "  <tbody>\n",
       "    <tr>\n",
       "      <th>count</th>\n",
       "      <td>150.000000</td>\n",
       "      <td>150.000000</td>\n",
       "    </tr>\n",
       "    <tr>\n",
       "      <th>mean</th>\n",
       "      <td>4.640067</td>\n",
       "      <td>1.913800</td>\n",
       "    </tr>\n",
       "    <tr>\n",
       "      <th>std</th>\n",
       "      <td>7.115433</td>\n",
       "      <td>1.902742</td>\n",
       "    </tr>\n",
       "    <tr>\n",
       "      <th>min</th>\n",
       "      <td>0.230000</td>\n",
       "      <td>0.000000</td>\n",
       "    </tr>\n",
       "    <tr>\n",
       "      <th>25%</th>\n",
       "      <td>1.325000</td>\n",
       "      <td>0.912500</td>\n",
       "    </tr>\n",
       "    <tr>\n",
       "      <th>50%</th>\n",
       "      <td>2.420000</td>\n",
       "      <td>1.450000</td>\n",
       "    </tr>\n",
       "    <tr>\n",
       "      <th>75%</th>\n",
       "      <td>5.220000</td>\n",
       "      <td>2.297500</td>\n",
       "    </tr>\n",
       "    <tr>\n",
       "      <th>max</th>\n",
       "      <td>52.860000</td>\n",
       "      <td>12.120000</td>\n",
       "    </tr>\n",
       "  </tbody>\n",
       "</table>\n",
       "</div>"
      ],
      "text/plain": [
       "       EV/Revenue  Current ratio\n",
       "count  150.000000     150.000000\n",
       "mean     4.640067       1.913800\n",
       "std      7.115433       1.902742\n",
       "min      0.230000       0.000000\n",
       "25%      1.325000       0.912500\n",
       "50%      2.420000       1.450000\n",
       "75%      5.220000       2.297500\n",
       "max     52.860000      12.120000"
      ]
     },
     "execution_count": 505,
     "metadata": {},
     "output_type": "execute_result"
    }
   ],
   "source": [
    "# Generate descriptive statistics\n",
    "df_BBBandB[['EV/Revenue','Current ratio']].describe()"
   ]
  },
  {
   "cell_type": "markdown",
   "metadata": {},
   "source": [
    "As you can see, EV/Revenue and the Current Ratio have somewhat different scales.  This can be seen by looking at the max, min, and standard deviation values.  Let's try to even out their magnitude.  We subtract the min from each value and then divide each value by the difference between max and min.\n",
    "\n",
    "Alternatively, scikit-learn has a function that takes in a dataframe of features X and returns a normalized array which can then be used in our algorithm."
   ]
  },
  {
   "cell_type": "markdown",
   "metadata": {},
   "source": [
    "#### Normalization - rescaling values in data into [0,1] range"
   ]
  },
  {
   "cell_type": "code",
   "execution_count": 506,
   "metadata": {},
   "outputs": [],
   "source": [
    "# Normalize by hand \n",
    "X = df_BBBandB[['EV/Revenue','Current ratio']]\n",
    "y = df_BBBandB[['S&P']]\n",
    "\n",
    "X_norm = (X - X.min()) / (X.max() - X.min())\n",
    "\n",
    "df_norm = pd.concat([X_norm, y], axis = 1)"
   ]
  },
  {
   "cell_type": "markdown",
   "metadata": {},
   "source": [
    "Let's plot our newly normalized data in a scatter plot format.  We can see that the values of the normalized data are slightly more even and not as spread out in terms of scale."
   ]
  },
  {
   "cell_type": "code",
   "execution_count": 507,
   "metadata": {},
   "outputs": [
    {
     "data": {
      "text/plain": [
       "(0, 0.3)"
      ]
     },
     "execution_count": 507,
     "metadata": {},
     "output_type": "execute_result"
    },
    {
     "data": {
      "image/png": "[encoded data removed]",
      "text/plain": [
       "<Figure size 792x504 with 1 Axes>"
      ]
     },
     "metadata": {},
     "output_type": "display_data"
    }
   ],
   "source": [
    "# Visualize scatter plot after normalization\n",
    "plt.figure(figsize = (11,7))\n",
    "plt.style.use(\"dark_background\")\n",
    "\n",
    "plt.title(\"Normalized Data\")\n",
    "\n",
    "g = sns.scatterplot(x='EV/Revenue', y='Current ratio', hue='S&P', \n",
    "                    data=df_norm, s=40,palette=['blue','orange'])\n",
    "\n",
    "plt.xlim(0,0.3)"
   ]
  },
  {
   "cell_type": "markdown",
   "metadata": {},
   "source": [
    "Let's train our model using new normalized data.  We use sklearn.preprocessing.MinMaxScaler to transform our data.  Then we train our model, make a prediction, and view the accuracy."
   ]
  },
  {
   "cell_type": "markdown",
   "metadata": {},
   "source": [
    "#### Use sklearn.preprocessing.MinMaxScaler to scale features to [0,1] range"
   ]
  },
  {
   "cell_type": "code",
   "execution_count": 508,
   "metadata": {},
   "outputs": [],
   "source": [
    "# Recall our features and categorical value\n",
    "X = df_BBBandB[['EV/Revenue','Current ratio']]\n",
    "y = df_BBBandB['S&P']\n",
    "\n",
    "# Import Scaler\n",
    "from sklearn.preprocessing import MinMaxScaler\n",
    "scaler = MinMaxScaler()\n",
    "\n",
    "# Normalize all features\n",
    "X_normalized = scaler.fit_transform(X)\n",
    "# Split normalized data into train and test\n",
    "X_train, X_test, y_train, y_test = train_test_split(X_normalized, y, test_size = 0.3, \n",
    "                                            random_state = 2)"
   ]
  },
  {
   "cell_type": "code",
   "execution_count": 509,
   "metadata": {},
   "outputs": [
    {
     "name": "stdout",
     "output_type": "stream",
     "text": [
      "Accuracy: 0.58\n"
     ]
    }
   ],
   "source": [
    "# Use previous optimal k or set n_neighbors to defualt for now\n",
    "knn = KNeighborsClassifier()\n",
    "\n",
    "knn.fit(X_train, y_train.values.ravel())\n",
    "\n",
    "predictions = knn.predict(X_test)\n",
    "\n",
    "accuracy = accuracy_score(y_test, predictions)\n",
    "\n",
    "print('Accuracy: {:.2f}'.format(accuracy))"
   ]
  },
  {
   "cell_type": "markdown",
   "metadata": {},
   "source": [
    "As you recall, the default value for k in k-NN is equal to 5, so let's see how the algorithm performs using the new normalized data for the range of k values 1 thourgh 15. To do this we plot the accuracy values for train and test for the range of k values 1 thourgh 15.\n",
    "\n",
    "With the higher number of neighbors, the model tends to be generalized, or more simplified. It is up to you to determine the optimal value for k. Keep in mind that we are taking a random sample of the data, so results may vary."
   ]
  },
  {
   "cell_type": "code",
   "execution_count": 510,
   "metadata": {},
   "outputs": [
    {
     "data": {
      "application/vnd.plotly.v1+json": {
       "config": {
        "plotlyServerURL": "https://plot.ly"
       },
       "data": [
        {
         "name": "Test Accuracy",
         "type": "scatter",
         "x": [
          1,
          2,
          3,
          4,
          5,
          6,
          7,
          8,
          9,
          10,
          11,
          12,
          13,
          14,
          15
         ],
         "y": [
          0.5777777777777777,
          0.4888888888888889,
          0.6444444444444445,
          0.5555555555555556,
          0.5777777777777777,
          0.6,
          0.6222222222222222,
          0.6222222222222222,
          0.6,
          0.6222222222222222,
          0.6222222222222222,
          0.6222222222222222,
          0.6,
          0.5777777777777777,
          0.5333333333333333
         ]
        },
        {
         "name": "Train Accuracy",
         "type": "scatter",
         "x": [
          1,
          2,
          3,
          4,
          5,
          6,
          7,
          8,
          9,
          10,
          11,
          12,
          13,
          14,
          15,
          16,
          17,
          18,
          19
         ],
         "y": [
          1,
          0.7904761904761904,
          0.7904761904761904,
          0.6761904761904762,
          0.7428571428571429,
          0.638095238095238,
          0.6952380952380952,
          0.6666666666666666,
          0.6666666666666666,
          0.6476190476190476,
          0.638095238095238,
          0.6476190476190476,
          0.6666666666666666,
          0.6285714285714286,
          0.6571428571428571
         ]
        }
       ],
       "layout": {
        "template": {
         "data": {
          "bar": [
           {
            "error_x": {
             "color": "#f2f5fa"
            },
            "error_y": {
             "color": "#f2f5fa"
            },
            "marker": {
             "line": {
              "color": "rgb(17,17,17)",
              "width": 0.5
             }
            },
            "type": "bar"
           }
          ],
          "barpolar": [
           {
            "marker": {
             "line": {
              "color": "rgb(17,17,17)",
              "width": 0.5
             }
            },
            "type": "barpolar"
           }
          ],
          "carpet": [
           {
            "aaxis": {
             "endlinecolor": "#A2B1C6",
             "gridcolor": "#506784",
             "linecolor": "#506784",
             "minorgridcolor": "#506784",
             "startlinecolor": "#A2B1C6"
            },
            "baxis": {
             "endlinecolor": "#A2B1C6",
             "gridcolor": "#506784",
             "linecolor": "#506784",
             "minorgridcolor": "#506784",
             "startlinecolor": "#A2B1C6"
            },
            "type": "carpet"
           }
          ],
          "choropleth": [
           {
            "colorbar": {
             "outlinewidth": 0,
             "ticks": ""
            },
            "type": "choropleth"
           }
          ],
          "contour": [
           {
            "colorbar": {
             "outlinewidth": 0,
             "ticks": ""
            },
            "colorscale": [
             [
              0,
              "#0d0887"
             ],
             [
              0.1111111111111111,
              "#46039f"
             ],
             [
              0.2222222222222222,
              "#7201a8"
             ],
             [
              0.3333333333333333,
              "#9c179e"
             ],
             [
              0.4444444444444444,
              "#bd3786"
             ],
             [
              0.5555555555555556,
              "#d8576b"
             ],
             [
              0.6666666666666666,
              "#ed7953"
             ],
             [
              0.7777777777777778,
              "#fb9f3a"
             ],
             [
              0.8888888888888888,
              "#fdca26"
             ],
             [
              1,
              "#f0f921"
             ]
            ],
            "type": "contour"
           }
          ],
          "contourcarpet": [
           {
            "colorbar": {
             "outlinewidth": 0,
             "ticks": ""
            },
            "type": "contourcarpet"
           }
          ],
          "heatmap": [
           {
            "colorbar": {
             "outlinewidth": 0,
             "ticks": ""
            },
            "colorscale": [
             [
              0,
              "#0d0887"
             ],
             [
              0.1111111111111111,
              "#46039f"
             ],
             [
              0.2222222222222222,
              "#7201a8"
             ],
             [
              0.3333333333333333,
              "#9c179e"
             ],
             [
              0.4444444444444444,
              "#bd3786"
             ],
             [
              0.5555555555555556,
              "#d8576b"
             ],
             [
              0.6666666666666666,
              "#ed7953"
             ],
             [
              0.7777777777777778,
              "#fb9f3a"
             ],
             [
              0.8888888888888888,
              "#fdca26"
             ],
             [
              1,
              "#f0f921"
             ]
            ],
            "type": "heatmap"
           }
          ],
          "heatmapgl": [
           {
            "colorbar": {
             "outlinewidth": 0,
             "ticks": ""
            },
            "colorscale": [
             [
              0,
              "#0d0887"
             ],
             [
              0.1111111111111111,
              "#46039f"
             ],
             [
              0.2222222222222222,
              "#7201a8"
             ],
             [
              0.3333333333333333,
              "#9c179e"
             ],
             [
              0.4444444444444444,
              "#bd3786"
             ],
             [
              0.5555555555555556,
              "#d8576b"
             ],
             [
              0.6666666666666666,
              "#ed7953"
             ],
             [
              0.7777777777777778,
              "#fb9f3a"
             ],
             [
              0.8888888888888888,
              "#fdca26"
             ],
             [
              1,
              "#f0f921"
             ]
            ],
            "type": "heatmapgl"
           }
          ],
          "histogram": [
           {
            "marker": {
             "colorbar": {
              "outlinewidth": 0,
              "ticks": ""
             }
            },
            "type": "histogram"
           }
          ],
          "histogram2d": [
           {
            "colorbar": {
             "outlinewidth": 0,
             "ticks": ""
            },
            "colorscale": [
             [
              0,
              "#0d0887"
             ],
             [
              0.1111111111111111,
              "#46039f"
             ],
             [
              0.2222222222222222,
              "#7201a8"
             ],
             [
              0.3333333333333333,
              "#9c179e"
             ],
             [
              0.4444444444444444,
              "#bd3786"
             ],
             [
              0.5555555555555556,
              "#d8576b"
             ],
             [
              0.6666666666666666,
              "#ed7953"
             ],
             [
              0.7777777777777778,
              "#fb9f3a"
             ],
             [
              0.8888888888888888,
              "#fdca26"
             ],
             [
              1,
              "#f0f921"
             ]
            ],
            "type": "histogram2d"
           }
          ],
          "histogram2dcontour": [
           {
            "colorbar": {
             "outlinewidth": 0,
             "ticks": ""
            },
            "colorscale": [
             [
              0,
              "#0d0887"
             ],
             [
              0.1111111111111111,
              "#46039f"
             ],
             [
              0.2222222222222222,
              "#7201a8"
             ],
             [
              0.3333333333333333,
              "#9c179e"
             ],
             [
              0.4444444444444444,
              "#bd3786"
             ],
             [
              0.5555555555555556,
              "#d8576b"
             ],
             [
              0.6666666666666666,
              "#ed7953"
             ],
             [
              0.7777777777777778,
              "#fb9f3a"
             ],
             [
              0.8888888888888888,
              "#fdca26"
             ],
             [
              1,
              "#f0f921"
             ]
            ],
            "type": "histogram2dcontour"
           }
          ],
          "mesh3d": [
           {
            "colorbar": {
             "outlinewidth": 0,
             "ticks": ""
            },
            "type": "mesh3d"
           }
          ],
          "parcoords": [
           {
            "line": {
             "colorbar": {
              "outlinewidth": 0,
              "ticks": ""
             }
            },
            "type": "parcoords"
           }
          ],
          "pie": [
           {
            "automargin": true,
            "type": "pie"
           }
          ],
          "scatter": [
           {
            "marker": {
             "line": {
              "color": "#283442"
             }
            },
            "type": "scatter"
           }
          ],
          "scatter3d": [
           {
            "line": {
             "colorbar": {
              "outlinewidth": 0,
              "ticks": ""
             }
            },
            "marker": {
             "colorbar": {
              "outlinewidth": 0,
              "ticks": ""
             }
            },
            "type": "scatter3d"
           }
          ],
          "scattercarpet": [
           {
            "marker": {
             "colorbar": {
              "outlinewidth": 0,
              "ticks": ""
             }
            },
            "type": "scattercarpet"
           }
          ],
          "scattergeo": [
           {
            "marker": {
             "colorbar": {
              "outlinewidth": 0,
              "ticks": ""
             }
            },
            "type": "scattergeo"
           }
          ],
          "scattergl": [
           {
            "marker": {
             "line": {
              "color": "#283442"
             }
            },
            "type": "scattergl"
           }
          ],
          "scattermapbox": [
           {
            "marker": {
             "colorbar": {
              "outlinewidth": 0,
              "ticks": ""
             }
            },
            "type": "scattermapbox"
           }
          ],
          "scatterpolar": [
           {
            "marker": {
             "colorbar": {
              "outlinewidth": 0,
              "ticks": ""
             }
            },
            "type": "scatterpolar"
           }
          ],
          "scatterpolargl": [
           {
            "marker": {
             "colorbar": {
              "outlinewidth": 0,
              "ticks": ""
             }
            },
            "type": "scatterpolargl"
           }
          ],
          "scatterternary": [
           {
            "marker": {
             "colorbar": {
              "outlinewidth": 0,
              "ticks": ""
             }
            },
            "type": "scatterternary"
           }
          ],
          "surface": [
           {
            "colorbar": {
             "outlinewidth": 0,
             "ticks": ""
            },
            "colorscale": [
             [
              0,
              "#0d0887"
             ],
             [
              0.1111111111111111,
              "#46039f"
             ],
             [
              0.2222222222222222,
              "#7201a8"
             ],
             [
              0.3333333333333333,
              "#9c179e"
             ],
             [
              0.4444444444444444,
              "#bd3786"
             ],
             [
              0.5555555555555556,
              "#d8576b"
             ],
             [
              0.6666666666666666,
              "#ed7953"
             ],
             [
              0.7777777777777778,
              "#fb9f3a"
             ],
             [
              0.8888888888888888,
              "#fdca26"
             ],
             [
              1,
              "#f0f921"
             ]
            ],
            "type": "surface"
           }
          ],
          "table": [
           {
            "cells": {
             "fill": {
              "color": "#506784"
             },
             "line": {
              "color": "rgb(17,17,17)"
             }
            },
            "header": {
             "fill": {
              "color": "#2a3f5f"
             },
             "line": {
              "color": "rgb(17,17,17)"
             }
            },
            "type": "table"
           }
          ]
         },
         "layout": {
          "annotationdefaults": {
           "arrowcolor": "#f2f5fa",
           "arrowhead": 0,
           "arrowwidth": 1
          },
          "coloraxis": {
           "colorbar": {
            "outlinewidth": 0,
            "ticks": ""
           }
          },
          "colorscale": {
           "diverging": [
            [
             0,
             "#8e0152"
            ],
            [
             0.1,
             "#c51b7d"
            ],
            [
             0.2,
             "#de77ae"
            ],
            [
             0.3,
             "#f1b6da"
            ],
            [
             0.4,
             "#fde0ef"
            ],
            [
             0.5,
             "#f7f7f7"
            ],
            [
             0.6,
             "#e6f5d0"
            ],
            [
             0.7,
             "#b8e186"
            ],
            [
             0.8,
             "#7fbc41"
            ],
            [
             0.9,
             "#4d9221"
            ],
            [
             1,
             "#276419"
            ]
           ],
           "sequential": [
            [
             0,
             "#0d0887"
            ],
            [
             0.1111111111111111,
             "#46039f"
            ],
            [
             0.2222222222222222,
             "#7201a8"
            ],
            [
             0.3333333333333333,
             "#9c179e"
            ],
            [
             0.4444444444444444,
             "#bd3786"
            ],
            [
             0.5555555555555556,
             "#d8576b"
            ],
            [
             0.6666666666666666,
             "#ed7953"
            ],
            [
             0.7777777777777778,
             "#fb9f3a"
            ],
            [
             0.8888888888888888,
             "#fdca26"
            ],
            [
             1,
             "#f0f921"
            ]
           ],
           "sequentialminus": [
            [
             0,
             "#0d0887"
            ],
            [
             0.1111111111111111,
             "#46039f"
            ],
            [
             0.2222222222222222,
             "#7201a8"
            ],
            [
             0.3333333333333333,
             "#9c179e"
            ],
            [
             0.4444444444444444,
             "#bd3786"
            ],
            [
             0.5555555555555556,
             "#d8576b"
            ],
            [
             0.6666666666666666,
             "#ed7953"
            ],
            [
             0.7777777777777778,
             "#fb9f3a"
            ],
            [
             0.8888888888888888,
             "#fdca26"
            ],
            [
             1,
             "#f0f921"
            ]
           ]
          },
          "colorway": [
           "#636efa",
           "#EF553B",
           "#00cc96",
           "#ab63fa",
           "#FFA15A",
           "#19d3f3",
           "#FF6692",
           "#B6E880",
           "#FF97FF",
           "#FECB52"
          ],
          "font": {
           "color": "#f2f5fa"
          },
          "geo": {
           "bgcolor": "rgb(17,17,17)",
           "lakecolor": "rgb(17,17,17)",
           "landcolor": "rgb(17,17,17)",
           "showlakes": true,
           "showland": true,
           "subunitcolor": "#506784"
          },
          "hoverlabel": {
           "align": "left"
          },
          "hovermode": "closest",
          "mapbox": {
           "style": "dark"
          },
          "paper_bgcolor": "rgb(17,17,17)",
          "plot_bgcolor": "rgb(17,17,17)",
          "polar": {
           "angularaxis": {
            "gridcolor": "#506784",
            "linecolor": "#506784",
            "ticks": ""
           },
           "bgcolor": "rgb(17,17,17)",
           "radialaxis": {
            "gridcolor": "#506784",
            "linecolor": "#506784",
            "ticks": ""
           }
          },
          "scene": {
           "xaxis": {
            "backgroundcolor": "rgb(17,17,17)",
            "gridcolor": "#506784",
            "gridwidth": 2,
            "linecolor": "#506784",
            "showbackground": true,
            "ticks": "",
            "zerolinecolor": "#C8D4E3"
           },
           "yaxis": {
            "backgroundcolor": "rgb(17,17,17)",
            "gridcolor": "#506784",
            "gridwidth": 2,
            "linecolor": "#506784",
            "showbackground": true,
            "ticks": "",
            "zerolinecolor": "#C8D4E3"
           },
           "zaxis": {
            "backgroundcolor": "rgb(17,17,17)",
            "gridcolor": "#506784",
            "gridwidth": 2,
            "linecolor": "#506784",
            "showbackground": true,
            "ticks": "",
            "zerolinecolor": "#C8D4E3"
           }
          },
          "shapedefaults": {
           "line": {
            "color": "#f2f5fa"
           }
          },
          "sliderdefaults": {
           "bgcolor": "#C8D4E3",
           "bordercolor": "rgb(17,17,17)",
           "borderwidth": 1,
           "tickwidth": 0
          },
          "ternary": {
           "aaxis": {
            "gridcolor": "#506784",
            "linecolor": "#506784",
            "ticks": ""
           },
           "baxis": {
            "gridcolor": "#506784",
            "linecolor": "#506784",
            "ticks": ""
           },
           "bgcolor": "rgb(17,17,17)",
           "caxis": {
            "gridcolor": "#506784",
            "linecolor": "#506784",
            "ticks": ""
           }
          },
          "title": {
           "x": 0.05
          },
          "updatemenudefaults": {
           "bgcolor": "#506784",
           "borderwidth": 0
          },
          "xaxis": {
           "automargin": true,
           "gridcolor": "#283442",
           "linecolor": "#506784",
           "ticks": "",
           "title": {
            "standoff": 15
           },
           "zerolinecolor": "#283442",
           "zerolinewidth": 2
          },
          "yaxis": {
           "automargin": true,
           "gridcolor": "#283442",
           "linecolor": "#506784",
           "ticks": "",
           "title": {
            "standoff": 15
           },
           "zerolinecolor": "#283442",
           "zerolinewidth": 2
          }
         }
        },
        "title": {
         "text": "Accuracy for different k values"
        },
        "xaxis": {
         "title": {
          "text": "K neighbors"
         }
        },
        "yaxis": {
         "title": {
          "text": "Accuracy"
         }
        }
       }
      },
      "text/html": [
       "<div>\n",
       "        \n",
       "        \n",
       "            <div id=\"5282b844-63dd-4f57-b32d-f724a79b4594\" class=\"plotly-graph-div\" style=\"height:525px; width:100%;\"></div>\n",
       "            <script type=\"text/javascript\">\n",
       "                require([\"plotly\"], function(Plotly) {\n",
       "                    window.PLOTLYENV=window.PLOTLYENV || {};\n",
       "                    \n",
       "                if (document.getElementById(\"5282b844-63dd-4f57-b32d-f724a79b4594\")) {\n",
       "                    Plotly.newPlot(\n",
       "                        '5282b844-63dd-4f57-b32d-f724a79b4594',\n",
       "                        [{\"name\": \"Test Accuracy\", \"type\": \"scatter\", \"x\": [1, 2, 3, 4, 5, 6, 7, 8, 9, 10, 11, 12, 13, 14, 15], \"y\": [0.5777777777777777, 0.4888888888888889, 0.6444444444444445, 0.5555555555555556, 0.5777777777777777, 0.6, 0.6222222222222222, 0.6222222222222222, 0.6, 0.6222222222222222, 0.6222222222222222, 0.6222222222222222, 0.6, 0.5777777777777777, 0.5333333333333333]}, {\"name\": \"Train Accuracy\", \"type\": \"scatter\", \"x\": [1, 2, 3, 4, 5, 6, 7, 8, 9, 10, 11, 12, 13, 14, 15, 16, 17, 18, 19], \"y\": [1.0, 0.7904761904761904, 0.7904761904761904, 0.6761904761904762, 0.7428571428571429, 0.638095238095238, 0.6952380952380952, 0.6666666666666666, 0.6666666666666666, 0.6476190476190476, 0.638095238095238, 0.6476190476190476, 0.6666666666666666, 0.6285714285714286, 0.6571428571428571]}],\n",
       "                        {\"template\": {\"data\": {\"bar\": [{\"error_x\": {\"color\": \"#f2f5fa\"}, \"error_y\": {\"color\": \"#f2f5fa\"}, \"marker\": {\"line\": {\"color\": \"rgb(17,17,17)\", \"width\": 0.5}}, \"type\": \"bar\"}], \"barpolar\": [{\"marker\": {\"line\": {\"color\": \"rgb(17,17,17)\", \"width\": 0.5}}, \"type\": \"barpolar\"}], \"carpet\": [{\"aaxis\": {\"endlinecolor\": \"#A2B1C6\", \"gridcolor\": \"#506784\", \"linecolor\": \"#506784\", \"minorgridcolor\": \"#506784\", \"startlinecolor\": \"#A2B1C6\"}, \"baxis\": {\"endlinecolor\": \"#A2B1C6\", \"gridcolor\": \"#506784\", \"linecolor\": \"#506784\", \"minorgridcolor\": \"#506784\", \"startlinecolor\": \"#A2B1C6\"}, \"type\": \"carpet\"}], \"choropleth\": [{\"colorbar\": {\"outlinewidth\": 0, \"ticks\": \"\"}, \"type\": \"choropleth\"}], \"contour\": [{\"colorbar\": {\"outlinewidth\": 0, \"ticks\": \"\"}, \"colorscale\": [[0.0, \"#0d0887\"], [0.1111111111111111, \"#46039f\"], [0.2222222222222222, \"#7201a8\"], [0.3333333333333333, \"#9c179e\"], [0.4444444444444444, \"#bd3786\"], [0.5555555555555556, \"#d8576b\"], [0.6666666666666666, \"#ed7953\"], [0.7777777777777778, \"#fb9f3a\"], [0.8888888888888888, \"#fdca26\"], [1.0, \"#f0f921\"]], \"type\": \"contour\"}], \"contourcarpet\": [{\"colorbar\": {\"outlinewidth\": 0, \"ticks\": \"\"}, \"type\": \"contourcarpet\"}], \"heatmap\": [{\"colorbar\": {\"outlinewidth\": 0, \"ticks\": \"\"}, \"colorscale\": [[0.0, \"#0d0887\"], [0.1111111111111111, \"#46039f\"], [0.2222222222222222, \"#7201a8\"], [0.3333333333333333, \"#9c179e\"], [0.4444444444444444, \"#bd3786\"], [0.5555555555555556, \"#d8576b\"], [0.6666666666666666, \"#ed7953\"], [0.7777777777777778, \"#fb9f3a\"], [0.8888888888888888, \"#fdca26\"], [1.0, \"#f0f921\"]], \"type\": \"heatmap\"}], \"heatmapgl\": [{\"colorbar\": {\"outlinewidth\": 0, \"ticks\": \"\"}, \"colorscale\": [[0.0, \"#0d0887\"], [0.1111111111111111, \"#46039f\"], [0.2222222222222222, \"#7201a8\"], [0.3333333333333333, \"#9c179e\"], [0.4444444444444444, \"#bd3786\"], [0.5555555555555556, \"#d8576b\"], [0.6666666666666666, \"#ed7953\"], [0.7777777777777778, \"#fb9f3a\"], [0.8888888888888888, \"#fdca26\"], [1.0, \"#f0f921\"]], \"type\": \"heatmapgl\"}], \"histogram\": [{\"marker\": {\"colorbar\": {\"outlinewidth\": 0, \"ticks\": \"\"}}, \"type\": \"histogram\"}], \"histogram2d\": [{\"colorbar\": {\"outlinewidth\": 0, \"ticks\": \"\"}, \"colorscale\": [[0.0, \"#0d0887\"], [0.1111111111111111, \"#46039f\"], [0.2222222222222222, \"#7201a8\"], [0.3333333333333333, \"#9c179e\"], [0.4444444444444444, \"#bd3786\"], [0.5555555555555556, \"#d8576b\"], [0.6666666666666666, \"#ed7953\"], [0.7777777777777778, \"#fb9f3a\"], [0.8888888888888888, \"#fdca26\"], [1.0, \"#f0f921\"]], \"type\": \"histogram2d\"}], \"histogram2dcontour\": [{\"colorbar\": {\"outlinewidth\": 0, \"ticks\": \"\"}, \"colorscale\": [[0.0, \"#0d0887\"], [0.1111111111111111, \"#46039f\"], [0.2222222222222222, \"#7201a8\"], [0.3333333333333333, \"#9c179e\"], [0.4444444444444444, \"#bd3786\"], [0.5555555555555556, \"#d8576b\"], [0.6666666666666666, \"#ed7953\"], [0.7777777777777778, \"#fb9f3a\"], [0.8888888888888888, \"#fdca26\"], [1.0, \"#f0f921\"]], \"type\": \"histogram2dcontour\"}], \"mesh3d\": [{\"colorbar\": {\"outlinewidth\": 0, \"ticks\": \"\"}, \"type\": \"mesh3d\"}], \"parcoords\": [{\"line\": {\"colorbar\": {\"outlinewidth\": 0, \"ticks\": \"\"}}, \"type\": \"parcoords\"}], \"pie\": [{\"automargin\": true, \"type\": \"pie\"}], \"scatter\": [{\"marker\": {\"line\": {\"color\": \"#283442\"}}, \"type\": \"scatter\"}], \"scatter3d\": [{\"line\": {\"colorbar\": {\"outlinewidth\": 0, \"ticks\": \"\"}}, \"marker\": {\"colorbar\": {\"outlinewidth\": 0, \"ticks\": \"\"}}, \"type\": \"scatter3d\"}], \"scattercarpet\": [{\"marker\": {\"colorbar\": {\"outlinewidth\": 0, \"ticks\": \"\"}}, \"type\": \"scattercarpet\"}], \"scattergeo\": [{\"marker\": {\"colorbar\": {\"outlinewidth\": 0, \"ticks\": \"\"}}, \"type\": \"scattergeo\"}], \"scattergl\": [{\"marker\": {\"line\": {\"color\": \"#283442\"}}, \"type\": \"scattergl\"}], \"scattermapbox\": [{\"marker\": {\"colorbar\": {\"outlinewidth\": 0, \"ticks\": \"\"}}, \"type\": \"scattermapbox\"}], \"scatterpolar\": [{\"marker\": {\"colorbar\": {\"outlinewidth\": 0, \"ticks\": \"\"}}, \"type\": \"scatterpolar\"}], \"scatterpolargl\": [{\"marker\": {\"colorbar\": {\"outlinewidth\": 0, \"ticks\": \"\"}}, \"type\": \"scatterpolargl\"}], \"scatterternary\": [{\"marker\": {\"colorbar\": {\"outlinewidth\": 0, \"ticks\": \"\"}}, \"type\": \"scatterternary\"}], \"surface\": [{\"colorbar\": {\"outlinewidth\": 0, \"ticks\": \"\"}, \"colorscale\": [[0.0, \"#0d0887\"], [0.1111111111111111, \"#46039f\"], [0.2222222222222222, \"#7201a8\"], [0.3333333333333333, \"#9c179e\"], [0.4444444444444444, \"#bd3786\"], [0.5555555555555556, \"#d8576b\"], [0.6666666666666666, \"#ed7953\"], [0.7777777777777778, \"#fb9f3a\"], [0.8888888888888888, \"#fdca26\"], [1.0, \"#f0f921\"]], \"type\": \"surface\"}], \"table\": [{\"cells\": {\"fill\": {\"color\": \"#506784\"}, \"line\": {\"color\": \"rgb(17,17,17)\"}}, \"header\": {\"fill\": {\"color\": \"#2a3f5f\"}, \"line\": {\"color\": \"rgb(17,17,17)\"}}, \"type\": \"table\"}]}, \"layout\": {\"annotationdefaults\": {\"arrowcolor\": \"#f2f5fa\", \"arrowhead\": 0, \"arrowwidth\": 1}, \"coloraxis\": {\"colorbar\": {\"outlinewidth\": 0, \"ticks\": \"\"}}, \"colorscale\": {\"diverging\": [[0, \"#8e0152\"], [0.1, \"#c51b7d\"], [0.2, \"#de77ae\"], [0.3, \"#f1b6da\"], [0.4, \"#fde0ef\"], [0.5, \"#f7f7f7\"], [0.6, \"#e6f5d0\"], [0.7, \"#b8e186\"], [0.8, \"#7fbc41\"], [0.9, \"#4d9221\"], [1, \"#276419\"]], \"sequential\": [[0.0, \"#0d0887\"], [0.1111111111111111, \"#46039f\"], [0.2222222222222222, \"#7201a8\"], [0.3333333333333333, \"#9c179e\"], [0.4444444444444444, \"#bd3786\"], [0.5555555555555556, \"#d8576b\"], [0.6666666666666666, \"#ed7953\"], [0.7777777777777778, \"#fb9f3a\"], [0.8888888888888888, \"#fdca26\"], [1.0, \"#f0f921\"]], \"sequentialminus\": [[0.0, \"#0d0887\"], [0.1111111111111111, \"#46039f\"], [0.2222222222222222, \"#7201a8\"], [0.3333333333333333, \"#9c179e\"], [0.4444444444444444, \"#bd3786\"], [0.5555555555555556, \"#d8576b\"], [0.6666666666666666, \"#ed7953\"], [0.7777777777777778, \"#fb9f3a\"], [0.8888888888888888, \"#fdca26\"], [1.0, \"#f0f921\"]]}, \"colorway\": [\"#636efa\", \"#EF553B\", \"#00cc96\", \"#ab63fa\", \"#FFA15A\", \"#19d3f3\", \"#FF6692\", \"#B6E880\", \"#FF97FF\", \"#FECB52\"], \"font\": {\"color\": \"#f2f5fa\"}, \"geo\": {\"bgcolor\": \"rgb(17,17,17)\", \"lakecolor\": \"rgb(17,17,17)\", \"landcolor\": \"rgb(17,17,17)\", \"showlakes\": true, \"showland\": true, \"subunitcolor\": \"#506784\"}, \"hoverlabel\": {\"align\": \"left\"}, \"hovermode\": \"closest\", \"mapbox\": {\"style\": \"dark\"}, \"paper_bgcolor\": \"rgb(17,17,17)\", \"plot_bgcolor\": \"rgb(17,17,17)\", \"polar\": {\"angularaxis\": {\"gridcolor\": \"#506784\", \"linecolor\": \"#506784\", \"ticks\": \"\"}, \"bgcolor\": \"rgb(17,17,17)\", \"radialaxis\": {\"gridcolor\": \"#506784\", \"linecolor\": \"#506784\", \"ticks\": \"\"}}, \"scene\": {\"xaxis\": {\"backgroundcolor\": \"rgb(17,17,17)\", \"gridcolor\": \"#506784\", \"gridwidth\": 2, \"linecolor\": \"#506784\", \"showbackground\": true, \"ticks\": \"\", \"zerolinecolor\": \"#C8D4E3\"}, \"yaxis\": {\"backgroundcolor\": \"rgb(17,17,17)\", \"gridcolor\": \"#506784\", \"gridwidth\": 2, \"linecolor\": \"#506784\", \"showbackground\": true, \"ticks\": \"\", \"zerolinecolor\": \"#C8D4E3\"}, \"zaxis\": {\"backgroundcolor\": \"rgb(17,17,17)\", \"gridcolor\": \"#506784\", \"gridwidth\": 2, \"linecolor\": \"#506784\", \"showbackground\": true, \"ticks\": \"\", \"zerolinecolor\": \"#C8D4E3\"}}, \"shapedefaults\": {\"line\": {\"color\": \"#f2f5fa\"}}, \"sliderdefaults\": {\"bgcolor\": \"#C8D4E3\", \"bordercolor\": \"rgb(17,17,17)\", \"borderwidth\": 1, \"tickwidth\": 0}, \"ternary\": {\"aaxis\": {\"gridcolor\": \"#506784\", \"linecolor\": \"#506784\", \"ticks\": \"\"}, \"baxis\": {\"gridcolor\": \"#506784\", \"linecolor\": \"#506784\", \"ticks\": \"\"}, \"bgcolor\": \"rgb(17,17,17)\", \"caxis\": {\"gridcolor\": \"#506784\", \"linecolor\": \"#506784\", \"ticks\": \"\"}}, \"title\": {\"x\": 0.05}, \"updatemenudefaults\": {\"bgcolor\": \"#506784\", \"borderwidth\": 0}, \"xaxis\": {\"automargin\": true, \"gridcolor\": \"#283442\", \"linecolor\": \"#506784\", \"ticks\": \"\", \"title\": {\"standoff\": 15}, \"zerolinecolor\": \"#283442\", \"zerolinewidth\": 2}, \"yaxis\": {\"automargin\": true, \"gridcolor\": \"#283442\", \"linecolor\": \"#506784\", \"ticks\": \"\", \"title\": {\"standoff\": 15}, \"zerolinecolor\": \"#283442\", \"zerolinewidth\": 2}}}, \"title\": {\"text\": \"Accuracy for different k values\"}, \"xaxis\": {\"title\": {\"text\": \"K neighbors\"}}, \"yaxis\": {\"title\": {\"text\": \"Accuracy\"}}},\n",
       "                        {\"responsive\": true}\n",
       "                    ).then(function(){\n",
       "                            \n",
       "var gd = document.getElementById('5282b844-63dd-4f57-b32d-f724a79b4594');\n",
       "var x = new MutationObserver(function (mutations, observer) {{\n",
       "        var display = window.getComputedStyle(gd).display;\n",
       "        if (!display || display === 'none') {{\n",
       "            console.log([gd, 'removed!']);\n",
       "            Plotly.purge(gd);\n",
       "            observer.disconnect();\n",
       "        }}\n",
       "}});\n",
       "\n",
       "// Listen for the removal of the full notebook cells\n",
       "var notebookContainer = gd.closest('#notebook-container');\n",
       "if (notebookContainer) {{\n",
       "    x.observe(notebookContainer, {childList: true});\n",
       "}}\n",
       "\n",
       "// Listen for the clearing of the current output cell\n",
       "var outputEl = gd.closest('.output');\n",
       "if (outputEl) {{\n",
       "    x.observe(outputEl, {childList: true});\n",
       "}}\n",
       "\n",
       "                        })\n",
       "                };\n",
       "                });\n",
       "            </script>\n",
       "        </div>"
      ]
     },
     "metadata": {},
     "output_type": "display_data"
    }
   ],
   "source": [
    "# Let's find k\n",
    "train_accuracy = []\n",
    "test_accuracy = []\n",
    "for k in np.arange(1,16):\n",
    "    \n",
    "    knn = KNeighborsClassifier(n_neighbors = k)\n",
    "    knn.fit(X_train, y_train.values.ravel())\n",
    "    train_accuracy.append(knn.score(X_train, y_train))\n",
    "    test_accuracy.append(knn.score(X_test, y_test))\n",
    "    \n",
    "#Plot\n",
    "fig = go.Figure()\n",
    "fig.add_trace(go.Scatter(x=np.arange(1,16), y=test_accuracy, name='Test Accuracy'))\n",
    "fig.add_trace(go.Scatter(x=np.arange(1,20), y=train_accuracy, name='Train Accuracy'))\n",
    "\n",
    "fig.update_layout(template='plotly_dark', xaxis_title=\"K neighbors\", title='Accuracy for different k values',\n",
    "                  yaxis_title=\"Accuracy\")\n",
    "\n",
    "fig.show(width=600, height=600)"
   ]
  },
  {
   "cell_type": "markdown",
   "metadata": {},
   "source": [
    "#### Visualizing Probabilities for each class\n",
    "Another interesting feature of k-NN is that we can visualize probabilities of each class. This means you can also think of it as a probabilistic decision model (sort of).\n",
    "\n",
    "Here we create a mesh grid, train the model, and instead of predicting categories, we predict probabilities. We use KNeighborsClassifier.predict_proba. Dark blue regions represent high probability a bond is rated BBB, whereas dark red represents low probability a bond is rated BBB.\n",
    "\n",
    "Z is the probability that corresponding x and y values are categorized as BBB."
   ]
  },
  {
   "cell_type": "markdown",
   "metadata": {},
   "source": [
    "#### KNeighborsClassifier.predict_proba() returns probability estimates for the test data X"
   ]
  },
  {
   "cell_type": "code",
   "execution_count": 511,
   "metadata": {},
   "outputs": [
    {
     "data": {
      "application/vnd.plotly.v1+json": {
       "config": {
        "plotlyServerURL": "https://plot.ly"
       },
       "data": [
        {
         "colorscale": [
          [
           0,
           "rgb(103,0,31)"
          ],
          [
           0.1,
           "rgb(178,24,43)"
          ],
          [
           0.2,
           "rgb(214,96,77)"
          ],
          [
           0.3,
           "rgb(244,165,130)"
          ],
          [
           0.4,
           "rgb(253,219,199)"
          ],
          [
           0.5,
           "rgb(247,247,247)"
          ],
          [
           0.6,
           "rgb(209,229,240)"
          ],
          [
           0.7,
           "rgb(146,197,222)"
          ],
          [
           0.8,
           "rgb(67,147,195)"
          ],
          [
           0.9,
           "rgb(33,102,172)"
          ],
          [
           1,
           "rgb(5,48,97)"
          ]
         ],
         "type": "contour",
         "x": [
          0,
          0.02,
          0.04,
          0.06,
          0.08,
          0.1,
          0.12,
          0.14,
          0.16,
          0.18,
          0.2,
          0.22,
          0.24,
          0.26,
          0.28,
          0.3,
          0.32,
          0.34,
          0.36,
          0.38,
          0.4,
          0.42,
          0.44,
          0.46,
          0.48,
          0.5,
          0.52,
          0.54,
          0.56,
          0.58,
          0.6,
          0.62,
          0.64,
          0.66,
          0.68,
          0.7000000000000001,
          0.72,
          0.74,
          0.76,
          0.78,
          0.8,
          0.8200000000000001,
          0.84,
          0.86,
          0.88,
          0.9,
          0.92,
          0.9400000000000001,
          0.96,
          0.98
         ],
         "y": [
          0,
          0.02,
          0.04,
          0.06,
          0.08,
          0.1,
          0.12,
          0.14,
          0.16,
          0.18,
          0.2,
          0.22,
          0.24,
          0.26,
          0.28,
          0.3,
          0.32,
          0.34,
          0.36,
          0.38,
          0.4,
          0.42,
          0.44,
          0.46,
          0.48,
          0.5,
          0.52,
          0.54,
          0.56,
          0.58,
          0.6,
          0.62,
          0.64,
          0.66,
          0.68,
          0.7000000000000001,
          0.72,
          0.74,
          0.76,
          0.78,
          0.8,
          0.8200000000000001,
          0.84,
          0.86,
          0.88,
          0.9,
          0.92,
          0.9400000000000001,
          0.96,
          0.98
         ],
         "z": [
          [
           0.6666666666666666,
           0.6,
           0.6666666666666666,
           0.6666666666666666,
           0.6,
           0.6666666666666666,
           0.7333333333333333,
           0.8,
           0.8666666666666667,
           0.8666666666666667,
           0.8666666666666667,
           0.8666666666666667,
           0.8,
           0.7333333333333333,
           0.7333333333333333,
           0.7333333333333333,
           0.7333333333333333,
           0.7333333333333333,
           0.7333333333333333,
           0.7333333333333333,
           0.7333333333333333,
           0.7333333333333333,
           0.7333333333333333,
           0.7333333333333333,
           0.7333333333333333,
           0.7333333333333333,
           0.7333333333333333,
           0.7333333333333333,
           0.6666666666666666,
           0.6666666666666666,
           0.6666666666666666,
           0.6666666666666666,
           0.6666666666666666,
           0.6666666666666666,
           0.6666666666666666,
           0.6666666666666666,
           0.6666666666666666,
           0.6666666666666666,
           0.6,
           0.6,
           0.6,
           0.6,
           0.6,
           0.6,
           0.6,
           0.6,
           0.6,
           0.6,
           0.6,
           0.6
          ],
          [
           0.6,
           0.6,
           0.6666666666666666,
           0.6,
           0.6666666666666666,
           0.7333333333333333,
           0.7333333333333333,
           0.7333333333333333,
           0.8666666666666667,
           0.8666666666666667,
           0.8,
           0.8,
           0.8,
           0.8,
           0.7333333333333333,
           0.7333333333333333,
           0.7333333333333333,
           0.7333333333333333,
           0.7333333333333333,
           0.7333333333333333,
           0.7333333333333333,
           0.7333333333333333,
           0.7333333333333333,
           0.7333333333333333,
           0.7333333333333333,
           0.7333333333333333,
           0.8,
           0.8,
           0.6666666666666666,
           0.6666666666666666,
           0.6666666666666666,
           0.6666666666666666,
           0.6666666666666666,
           0.6666666666666666,
           0.6666666666666666,
           0.6666666666666666,
           0.6,
           0.6,
           0.6,
           0.6,
           0.6,
           0.6,
           0.6,
           0.6,
           0.6,
           0.6,
           0.6,
           0.6,
           0.6,
           0.6
          ],
          [
           0.6,
           0.5333333333333333,
           0.4666666666666667,
           0.6666666666666666,
           0.6666666666666666,
           0.7333333333333333,
           0.7333333333333333,
           0.8,
           0.8666666666666667,
           0.8666666666666667,
           0.8,
           0.8,
           0.8,
           0.8,
           0.7333333333333333,
           0.7333333333333333,
           0.7333333333333333,
           0.7333333333333333,
           0.7333333333333333,
           0.7333333333333333,
           0.7333333333333333,
           0.8,
           0.8,
           0.8,
           0.8,
           0.8,
           0.8,
           0.8,
           0.6666666666666666,
           0.6666666666666666,
           0.6666666666666666,
           0.6666666666666666,
           0.6666666666666666,
           0.6666666666666666,
           0.6,
           0.6,
           0.6,
           0.6,
           0.6,
           0.6,
           0.6,
           0.6,
           0.6,
           0.6,
           0.6,
           0.6,
           0.6,
           0.6,
           0.6,
           0.6
          ],
          [
           0.5333333333333333,
           0.5333333333333333,
           0.4,
           0.6,
           0.7333333333333333,
           0.8,
           0.8,
           0.8666666666666667,
           0.8666666666666667,
           0.8666666666666667,
           0.8,
           0.8,
           0.8,
           0.8,
           0.7333333333333333,
           0.7333333333333333,
           0.7333333333333333,
           0.7333333333333333,
           0.7333333333333333,
           0.7333333333333333,
           0.7333333333333333,
           0.7333333333333333,
           0.8,
           0.8,
           0.8,
           0.8,
           0.8,
           0.8,
           0.6666666666666666,
           0.6666666666666666,
           0.6666666666666666,
           0.6666666666666666,
           0.6,
           0.6,
           0.6,
           0.6,
           0.6,
           0.6,
           0.6,
           0.6,
           0.6,
           0.6,
           0.6,
           0.6,
           0.6,
           0.6,
           0.6,
           0.6,
           0.6,
           0.6
          ],
          [
           0.4666666666666667,
           0.4666666666666667,
           0.3333333333333333,
           0.6,
           0.7333333333333333,
           0.8666666666666667,
           0.8,
           0.8666666666666667,
           0.8666666666666667,
           0.8666666666666667,
           0.8,
           0.8,
           0.8,
           0.8,
           0.7333333333333333,
           0.7333333333333333,
           0.7333333333333333,
           0.7333333333333333,
           0.7333333333333333,
           0.7333333333333333,
           0.7333333333333333,
           0.7333333333333333,
           0.8,
           0.8,
           0.8,
           0.8,
           0.7333333333333333,
           0.7333333333333333,
           0.6666666666666666,
           0.6666666666666666,
           0.6,
           0.6,
           0.6,
           0.6,
           0.6,
           0.6,
           0.6,
           0.6,
           0.6,
           0.6,
           0.6,
           0.6,
           0.6,
           0.6,
           0.6,
           0.6,
           0.6,
           0.6,
           0.6,
           0.6
          ],
          [
           0.4,
           0.3333333333333333,
           0.26666666666666666,
           0.4666666666666667,
           0.6666666666666666,
           0.7333333333333333,
           0.7333333333333333,
           0.8,
           0.8,
           0.8,
           0.7333333333333333,
           0.7333333333333333,
           0.8,
           0.8,
           0.7333333333333333,
           0.7333333333333333,
           0.7333333333333333,
           0.7333333333333333,
           0.8,
           0.8,
           0.8,
           0.8,
           0.8,
           0.8,
           0.7333333333333333,
           0.7333333333333333,
           0.7333333333333333,
           0.7333333333333333,
           0.6,
           0.6,
           0.6,
           0.6,
           0.6,
           0.6,
           0.6,
           0.6,
           0.6,
           0.6,
           0.6,
           0.6,
           0.6,
           0.6,
           0.6,
           0.6,
           0.6,
           0.6,
           0.6,
           0.6,
           0.6,
           0.6
          ],
          [
           0.3333333333333333,
           0.3333333333333333,
           0.4,
           0.3333333333333333,
           0.4666666666666667,
           0.7333333333333333,
           0.8,
           0.8,
           0.7333333333333333,
           0.8,
           0.7333333333333333,
           0.7333333333333333,
           0.8,
           0.8,
           0.8,
           0.8,
           0.8,
           0.8,
           0.8,
           0.8,
           0.8,
           0.8,
           0.7333333333333333,
           0.7333333333333333,
           0.7333333333333333,
           0.7333333333333333,
           0.7333333333333333,
           0.7333333333333333,
           0.6666666666666666,
           0.6,
           0.6,
           0.6,
           0.6,
           0.6,
           0.6,
           0.6,
           0.6,
           0.6,
           0.6,
           0.6,
           0.6,
           0.6,
           0.6,
           0.6,
           0.6,
           0.6,
           0.6,
           0.6,
           0.6,
           0.6
          ],
          [
           0.3333333333333333,
           0.3333333333333333,
           0.4,
           0.26666666666666666,
           0.5333333333333333,
           0.6,
           0.7333333333333333,
           0.7333333333333333,
           0.6666666666666666,
           0.7333333333333333,
           0.7333333333333333,
           0.7333333333333333,
           0.8,
           0.8,
           0.8,
           0.8,
           0.8,
           0.8,
           0.8,
           0.8,
           0.7333333333333333,
           0.7333333333333333,
           0.7333333333333333,
           0.7333333333333333,
           0.7333333333333333,
           0.7333333333333333,
           0.7333333333333333,
           0.7333333333333333,
           0.6666666666666666,
           0.6,
           0.6,
           0.6,
           0.6,
           0.6,
           0.6,
           0.6,
           0.6,
           0.6,
           0.6,
           0.6,
           0.6,
           0.6,
           0.6,
           0.6,
           0.6,
           0.6,
           0.6,
           0.6,
           0.6,
           0.6
          ],
          [
           0.4,
           0.4666666666666667,
           0.5333333333333333,
           0.3333333333333333,
           0.4666666666666667,
           0.6,
           0.6,
           0.7333333333333333,
           0.6666666666666666,
           0.7333333333333333,
           0.7333333333333333,
           0.7333333333333333,
           0.7333333333333333,
           0.8,
           0.8,
           0.7333333333333333,
           0.8,
           0.7333333333333333,
           0.7333333333333333,
           0.7333333333333333,
           0.7333333333333333,
           0.7333333333333333,
           0.7333333333333333,
           0.7333333333333333,
           0.7333333333333333,
           0.7333333333333333,
           0.7333333333333333,
           0.7333333333333333,
           0.6666666666666666,
           0.6,
           0.6,
           0.6,
           0.6,
           0.6,
           0.6,
           0.6,
           0.6,
           0.6,
           0.6,
           0.6,
           0.6,
           0.6,
           0.6,
           0.6,
           0.6,
           0.6,
           0.6,
           0.6,
           0.6,
           0.6
          ],
          [
           0.4666666666666667,
           0.4,
           0.4,
           0.3333333333333333,
           0.4,
           0.4666666666666667,
           0.5333333333333333,
           0.5333333333333333,
           0.6,
           0.6666666666666666,
           0.6,
           0.6,
           0.6666666666666666,
           0.6666666666666666,
           0.6666666666666666,
           0.7333333333333333,
           0.7333333333333333,
           0.7333333333333333,
           0.7333333333333333,
           0.7333333333333333,
           0.7333333333333333,
           0.7333333333333333,
           0.7333333333333333,
           0.7333333333333333,
           0.7333333333333333,
           0.7333333333333333,
           0.7333333333333333,
           0.7333333333333333,
           0.6666666666666666,
           0.6,
           0.6,
           0.6,
           0.6,
           0.6,
           0.6,
           0.6,
           0.6,
           0.6,
           0.6,
           0.6,
           0.6,
           0.6,
           0.6,
           0.6,
           0.6,
           0.6,
           0.6,
           0.6,
           0.6,
           0.6
          ],
          [
           0.4,
           0.4,
           0.3333333333333333,
           0.3333333333333333,
           0.4,
           0.4,
           0.4,
           0.5333333333333333,
           0.5333333333333333,
           0.6,
           0.6,
           0.6,
           0.6,
           0.6,
           0.6,
           0.6666666666666666,
           0.6666666666666666,
           0.6666666666666666,
           0.6666666666666666,
           0.6666666666666666,
           0.6666666666666666,
           0.7333333333333333,
           0.7333333333333333,
           0.7333333333333333,
           0.7333333333333333,
           0.7333333333333333,
           0.7333333333333333,
           0.7333333333333333,
           0.7333333333333333,
           0.6,
           0.6,
           0.6,
           0.6,
           0.6,
           0.6,
           0.6,
           0.6,
           0.6,
           0.6,
           0.6,
           0.6,
           0.6,
           0.6,
           0.6,
           0.6,
           0.6,
           0.6,
           0.6,
           0.6,
           0.6
          ],
          [
           0.4,
           0.3333333333333333,
           0.3333333333333333,
           0.26666666666666666,
           0.3333333333333333,
           0.3333333333333333,
           0.3333333333333333,
           0.4,
           0.4,
           0.5333333333333333,
           0.6,
           0.6,
           0.6,
           0.6,
           0.6,
           0.6666666666666666,
           0.6666666666666666,
           0.6666666666666666,
           0.6666666666666666,
           0.6666666666666666,
           0.6666666666666666,
           0.6666666666666666,
           0.6666666666666666,
           0.6666666666666666,
           0.6666666666666666,
           0.6666666666666666,
           0.6666666666666666,
           0.6666666666666666,
           0.6666666666666666,
           0.6,
           0.6,
           0.6,
           0.6,
           0.6,
           0.6,
           0.6,
           0.6,
           0.6,
           0.6,
           0.6,
           0.6,
           0.6,
           0.6,
           0.6,
           0.6,
           0.6,
           0.6,
           0.6,
           0.6,
           0.6
          ],
          [
           0.4,
           0.3333333333333333,
           0.3333333333333333,
           0.26666666666666666,
           0.3333333333333333,
           0.3333333333333333,
           0.4,
           0.3333333333333333,
           0.4,
           0.4666666666666667,
           0.5333333333333333,
           0.6,
           0.5333333333333333,
           0.5333333333333333,
           0.6,
           0.6,
           0.6666666666666666,
           0.6666666666666666,
           0.6666666666666666,
           0.6666666666666666,
           0.6666666666666666,
           0.6666666666666666,
           0.6666666666666666,
           0.6666666666666666,
           0.6666666666666666,
           0.6666666666666666,
           0.6666666666666666,
           0.6666666666666666,
           0.6666666666666666,
           0.6,
           0.6,
           0.6,
           0.6,
           0.6,
           0.6,
           0.6,
           0.6,
           0.6,
           0.6,
           0.6,
           0.6,
           0.6,
           0.6,
           0.6,
           0.6,
           0.6,
           0.6,
           0.6,
           0.6,
           0.6
          ],
          [
           0.4,
           0.3333333333333333,
           0.3333333333333333,
           0.3333333333333333,
           0.3333333333333333,
           0.3333333333333333,
           0.3333333333333333,
           0.3333333333333333,
           0.3333333333333333,
           0.4,
           0.4666666666666667,
           0.5333333333333333,
           0.5333333333333333,
           0.5333333333333333,
           0.5333333333333333,
           0.6,
           0.6,
           0.6,
           0.6,
           0.6666666666666666,
           0.6666666666666666,
           0.6666666666666666,
           0.6666666666666666,
           0.6,
           0.6,
           0.6,
           0.6666666666666666,
           0.6666666666666666,
           0.6666666666666666,
           0.6,
           0.6,
           0.6,
           0.6,
           0.6,
           0.6,
           0.6,
           0.6,
           0.6,
           0.6,
           0.6,
           0.6,
           0.6,
           0.6,
           0.6,
           0.6,
           0.6,
           0.6,
           0.6,
           0.6,
           0.6
          ],
          [
           0.3333333333333333,
           0.3333333333333333,
           0.26666666666666666,
           0.26666666666666666,
           0.3333333333333333,
           0.26666666666666666,
           0.3333333333333333,
           0.4,
           0.4,
           0.4,
           0.4,
           0.5333333333333333,
           0.5333333333333333,
           0.5333333333333333,
           0.5333333333333333,
           0.5333333333333333,
           0.6,
           0.6,
           0.6,
           0.6,
           0.6,
           0.6,
           0.6666666666666666,
           0.6666666666666666,
           0.6666666666666666,
           0.6,
           0.6,
           0.6,
           0.6,
           0.6,
           0.6,
           0.6,
           0.6,
           0.6,
           0.6,
           0.6,
           0.6,
           0.6,
           0.6,
           0.6,
           0.6,
           0.6,
           0.6,
           0.6,
           0.6,
           0.6,
           0.6,
           0.6,
           0.6,
           0.6
          ],
          [
           0.3333333333333333,
           0.3333333333333333,
           0.26666666666666666,
           0.3333333333333333,
           0.3333333333333333,
           0.26666666666666666,
           0.3333333333333333,
           0.4,
           0.4,
           0.4,
           0.4666666666666667,
           0.4,
           0.5333333333333333,
           0.5333333333333333,
           0.5333333333333333,
           0.5333333333333333,
           0.5333333333333333,
           0.6,
           0.6,
           0.6,
           0.6,
           0.6,
           0.6,
           0.6,
           0.6,
           0.6666666666666666,
           0.6666666666666666,
           0.6,
           0.6,
           0.6,
           0.6,
           0.6,
           0.6,
           0.6,
           0.6,
           0.6,
           0.6,
           0.6,
           0.6,
           0.6,
           0.6,
           0.6,
           0.6,
           0.6,
           0.6,
           0.6,
           0.6,
           0.6,
           0.6,
           0.6
          ],
          [
           0.3333333333333333,
           0.3333333333333333,
           0.3333333333333333,
           0.3333333333333333,
           0.3333333333333333,
           0.3333333333333333,
           0.3333333333333333,
           0.3333333333333333,
           0.4666666666666667,
           0.4666666666666667,
           0.4666666666666667,
           0.4666666666666667,
           0.4666666666666667,
           0.6,
           0.5333333333333333,
           0.5333333333333333,
           0.5333333333333333,
           0.5333333333333333,
           0.5333333333333333,
           0.5333333333333333,
           0.6,
           0.6,
           0.6,
           0.6,
           0.6,
           0.6,
           0.6,
           0.6,
           0.6666666666666666,
           0.6,
           0.6,
           0.6,
           0.6,
           0.6,
           0.6,
           0.6,
           0.6,
           0.6,
           0.6,
           0.6,
           0.6,
           0.6,
           0.6,
           0.6,
           0.6,
           0.6,
           0.6,
           0.6,
           0.6,
           0.6
          ],
          [
           0.3333333333333333,
           0.3333333333333333,
           0.3333333333333333,
           0.3333333333333333,
           0.3333333333333333,
           0.3333333333333333,
           0.3333333333333333,
           0.3333333333333333,
           0.4,
           0.4666666666666667,
           0.4666666666666667,
           0.4666666666666667,
           0.4666666666666667,
           0.4666666666666667,
           0.5333333333333333,
           0.5333333333333333,
           0.5333333333333333,
           0.5333333333333333,
           0.5333333333333333,
           0.5333333333333333,
           0.5333333333333333,
           0.6,
           0.6,
           0.6,
           0.6,
           0.6,
           0.6,
           0.6,
           0.6,
           0.6,
           0.6,
           0.6,
           0.6,
           0.6,
           0.6,
           0.6,
           0.6,
           0.6,
           0.6,
           0.6,
           0.6,
           0.6666666666666666,
           0.6,
           0.6,
           0.6,
           0.6,
           0.6,
           0.6,
           0.6,
           0.6
          ],
          [
           0.3333333333333333,
           0.3333333333333333,
           0.3333333333333333,
           0.3333333333333333,
           0.3333333333333333,
           0.3333333333333333,
           0.3333333333333333,
           0.3333333333333333,
           0.4,
           0.4666666666666667,
           0.4666666666666667,
           0.4666666666666667,
           0.4666666666666667,
           0.4666666666666667,
           0.4666666666666667,
           0.4666666666666667,
           0.5333333333333333,
           0.5333333333333333,
           0.5333333333333333,
           0.5333333333333333,
           0.5333333333333333,
           0.5333333333333333,
           0.6,
           0.6,
           0.6,
           0.6,
           0.6666666666666666,
           0.6666666666666666,
           0.6666666666666666,
           0.6666666666666666,
           0.6,
           0.6,
           0.6,
           0.6,
           0.6,
           0.6666666666666666,
           0.6666666666666666,
           0.6666666666666666,
           0.6666666666666666,
           0.6666666666666666,
           0.6666666666666666,
           0.6,
           0.6,
           0.6,
           0.6,
           0.6,
           0.6,
           0.6,
           0.6,
           0.6
          ],
          [
           0.3333333333333333,
           0.3333333333333333,
           0.3333333333333333,
           0.3333333333333333,
           0.3333333333333333,
           0.3333333333333333,
           0.3333333333333333,
           0.3333333333333333,
           0.3333333333333333,
           0.4,
           0.4666666666666667,
           0.4666666666666667,
           0.4666666666666667,
           0.4666666666666667,
           0.4666666666666667,
           0.4666666666666667,
           0.5333333333333333,
           0.5333333333333333,
           0.5333333333333333,
           0.5333333333333333,
           0.5333333333333333,
           0.5333333333333333,
           0.6,
           0.6666666666666666,
           0.6666666666666666,
           0.6666666666666666,
           0.6666666666666666,
           0.6666666666666666,
           0.6666666666666666,
           0.6666666666666666,
           0.6,
           0.6,
           0.6,
           0.6,
           0.6666666666666666,
           0.6666666666666666,
           0.6666666666666666,
           0.6666666666666666,
           0.6666666666666666,
           0.6,
           0.6,
           0.6,
           0.6,
           0.6,
           0.6,
           0.6,
           0.6,
           0.6,
           0.6,
           0.6
          ],
          [
           0.3333333333333333,
           0.3333333333333333,
           0.3333333333333333,
           0.3333333333333333,
           0.3333333333333333,
           0.3333333333333333,
           0.3333333333333333,
           0.3333333333333333,
           0.3333333333333333,
           0.4,
           0.4,
           0.4666666666666667,
           0.4666666666666667,
           0.5333333333333333,
           0.5333333333333333,
           0.5333333333333333,
           0.5333333333333333,
           0.5333333333333333,
           0.5333333333333333,
           0.5333333333333333,
           0.5333333333333333,
           0.5333333333333333,
           0.5333333333333333,
           0.6,
           0.6666666666666666,
           0.6666666666666666,
           0.6666666666666666,
           0.6666666666666666,
           0.6666666666666666,
           0.6666666666666666,
           0.6,
           0.6,
           0.6,
           0.6,
           0.6,
           0.6,
           0.6,
           0.6,
           0.6,
           0.6,
           0.6,
           0.6,
           0.6,
           0.6,
           0.6,
           0.6,
           0.6,
           0.6,
           0.6,
           0.6
          ],
          [
           0.3333333333333333,
           0.3333333333333333,
           0.3333333333333333,
           0.3333333333333333,
           0.3333333333333333,
           0.3333333333333333,
           0.3333333333333333,
           0.3333333333333333,
           0.4,
           0.4,
           0.4666666666666667,
           0.4666666666666667,
           0.4666666666666667,
           0.4666666666666667,
           0.5333333333333333,
           0.5333333333333333,
           0.5333333333333333,
           0.5333333333333333,
           0.5333333333333333,
           0.5333333333333333,
           0.4666666666666667,
           0.5333333333333333,
           0.5333333333333333,
           0.5333333333333333,
           0.6,
           0.6666666666666666,
           0.6666666666666666,
           0.6666666666666666,
           0.6666666666666666,
           0.6666666666666666,
           0.6,
           0.6,
           0.6,
           0.6,
           0.6,
           0.5333333333333333,
           0.5333333333333333,
           0.6,
           0.6,
           0.6,
           0.6,
           0.6,
           0.6,
           0.6,
           0.6,
           0.6,
           0.6,
           0.6,
           0.6,
           0.6
          ],
          [
           0.26666666666666666,
           0.3333333333333333,
           0.26666666666666666,
           0.26666666666666666,
           0.3333333333333333,
           0.4,
           0.4,
           0.4,
           0.4,
           0.4,
           0.4666666666666667,
           0.4666666666666667,
           0.4666666666666667,
           0.4666666666666667,
           0.4666666666666667,
           0.5333333333333333,
           0.5333333333333333,
           0.5333333333333333,
           0.5333333333333333,
           0.5333333333333333,
           0.5333333333333333,
           0.4666666666666667,
           0.4666666666666667,
           0.5333333333333333,
           0.5333333333333333,
           0.6,
           0.6666666666666666,
           0.6666666666666666,
           0.6666666666666666,
           0.6666666666666666,
           0.6,
           0.6,
           0.5333333333333333,
           0.5333333333333333,
           0.5333333333333333,
           0.5333333333333333,
           0.5333333333333333,
           0.5333333333333333,
           0.5333333333333333,
           0.5333333333333333,
           0.6,
           0.6,
           0.6,
           0.6,
           0.6,
           0.6,
           0.6,
           0.6,
           0.6,
           0.6
          ],
          [
           0.26666666666666666,
           0.3333333333333333,
           0.3333333333333333,
           0.3333333333333333,
           0.3333333333333333,
           0.4,
           0.4,
           0.4,
           0.4,
           0.4,
           0.4,
           0.4,
           0.4666666666666667,
           0.4666666666666667,
           0.4666666666666667,
           0.4666666666666667,
           0.5333333333333333,
           0.5333333333333333,
           0.5333333333333333,
           0.5333333333333333,
           0.5333333333333333,
           0.4666666666666667,
           0.4666666666666667,
           0.5333333333333333,
           0.5333333333333333,
           0.5333333333333333,
           0.6,
           0.6666666666666666,
           0.6666666666666666,
           0.6,
           0.5333333333333333,
           0.5333333333333333,
           0.5333333333333333,
           0.5333333333333333,
           0.5333333333333333,
           0.5333333333333333,
           0.5333333333333333,
           0.5333333333333333,
           0.5333333333333333,
           0.5333333333333333,
           0.5333333333333333,
           0.5333333333333333,
           0.6,
           0.6,
           0.6,
           0.6,
           0.6,
           0.6,
           0.6,
           0.6
          ],
          [
           0.3333333333333333,
           0.3333333333333333,
           0.3333333333333333,
           0.3333333333333333,
           0.3333333333333333,
           0.4,
           0.4,
           0.4,
           0.4,
           0.4,
           0.4,
           0.4,
           0.4666666666666667,
           0.4666666666666667,
           0.4666666666666667,
           0.4666666666666667,
           0.4666666666666667,
           0.4666666666666667,
           0.4666666666666667,
           0.4666666666666667,
           0.4666666666666667,
           0.4666666666666667,
           0.4666666666666667,
           0.4666666666666667,
           0.5333333333333333,
           0.5333333333333333,
           0.6,
           0.6,
           0.6,
           0.6,
           0.5333333333333333,
           0.5333333333333333,
           0.5333333333333333,
           0.5333333333333333,
           0.5333333333333333,
           0.5333333333333333,
           0.5333333333333333,
           0.5333333333333333,
           0.5333333333333333,
           0.5333333333333333,
           0.5333333333333333,
           0.5333333333333333,
           0.5333333333333333,
           0.5333333333333333,
           0.5333333333333333,
           0.6,
           0.6,
           0.6,
           0.6,
           0.6
          ],
          [
           0.3333333333333333,
           0.3333333333333333,
           0.3333333333333333,
           0.3333333333333333,
           0.3333333333333333,
           0.4,
           0.4,
           0.4,
           0.4,
           0.4,
           0.4,
           0.4,
           0.4,
           0.4666666666666667,
           0.4666666666666667,
           0.4666666666666667,
           0.4666666666666667,
           0.4666666666666667,
           0.4666666666666667,
           0.4666666666666667,
           0.5333333333333333,
           0.5333333333333333,
           0.5333333333333333,
           0.5333333333333333,
           0.5333333333333333,
           0.5333333333333333,
           0.6,
           0.6,
           0.6,
           0.6,
           0.6,
           0.5333333333333333,
           0.5333333333333333,
           0.5333333333333333,
           0.5333333333333333,
           0.5333333333333333,
           0.5333333333333333,
           0.5333333333333333,
           0.5333333333333333,
           0.5333333333333333,
           0.5333333333333333,
           0.5333333333333333,
           0.5333333333333333,
           0.5333333333333333,
           0.5333333333333333,
           0.5333333333333333,
           0.5333333333333333,
           0.6,
           0.6,
           0.6
          ],
          [
           0.3333333333333333,
           0.3333333333333333,
           0.3333333333333333,
           0.3333333333333333,
           0.3333333333333333,
           0.4,
           0.4,
           0.4,
           0.4,
           0.4,
           0.4,
           0.4666666666666667,
           0.4666666666666667,
           0.4666666666666667,
           0.4666666666666667,
           0.4666666666666667,
           0.4666666666666667,
           0.4666666666666667,
           0.4666666666666667,
           0.4666666666666667,
           0.4666666666666667,
           0.5333333333333333,
           0.5333333333333333,
           0.5333333333333333,
           0.5333333333333333,
           0.5333333333333333,
           0.5333333333333333,
           0.6,
           0.6,
           0.6,
           0.6,
           0.5333333333333333,
           0.5333333333333333,
           0.5333333333333333,
           0.5333333333333333,
           0.5333333333333333,
           0.5333333333333333,
           0.5333333333333333,
           0.5333333333333333,
           0.5333333333333333,
           0.5333333333333333,
           0.5333333333333333,
           0.5333333333333333,
           0.5333333333333333,
           0.5333333333333333,
           0.5333333333333333,
           0.5333333333333333,
           0.5333333333333333,
           0.5333333333333333,
           0.5333333333333333
          ],
          [
           0.3333333333333333,
           0.3333333333333333,
           0.3333333333333333,
           0.3333333333333333,
           0.3333333333333333,
           0.4,
           0.4,
           0.4666666666666667,
           0.4666666666666667,
           0.4666666666666667,
           0.4666666666666667,
           0.4666666666666667,
           0.4666666666666667,
           0.4666666666666667,
           0.4666666666666667,
           0.4666666666666667,
           0.4666666666666667,
           0.4666666666666667,
           0.4666666666666667,
           0.4666666666666667,
           0.4666666666666667,
           0.4666666666666667,
           0.5333333333333333,
           0.5333333333333333,
           0.4666666666666667,
           0.5333333333333333,
           0.5333333333333333,
           0.5333333333333333,
           0.5333333333333333,
           0.6,
           0.6,
           0.5333333333333333,
           0.5333333333333333,
           0.5333333333333333,
           0.5333333333333333,
           0.5333333333333333,
           0.5333333333333333,
           0.5333333333333333,
           0.5333333333333333,
           0.5333333333333333,
           0.5333333333333333,
           0.5333333333333333,
           0.5333333333333333,
           0.5333333333333333,
           0.5333333333333333,
           0.5333333333333333,
           0.5333333333333333,
           0.5333333333333333,
           0.5333333333333333,
           0.5333333333333333
          ],
          [
           0.3333333333333333,
           0.3333333333333333,
           0.4,
           0.4,
           0.4,
           0.4666666666666667,
           0.4666666666666667,
           0.4666666666666667,
           0.4666666666666667,
           0.4666666666666667,
           0.4666666666666667,
           0.4666666666666667,
           0.4666666666666667,
           0.4666666666666667,
           0.4666666666666667,
           0.4666666666666667,
           0.4666666666666667,
           0.4666666666666667,
           0.4666666666666667,
           0.4666666666666667,
           0.4666666666666667,
           0.4666666666666667,
           0.4666666666666667,
           0.5333333333333333,
           0.4666666666666667,
           0.4666666666666667,
           0.5333333333333333,
           0.5333333333333333,
           0.5333333333333333,
           0.6,
           0.6,
           0.5333333333333333,
           0.5333333333333333,
           0.5333333333333333,
           0.5333333333333333,
           0.5333333333333333,
           0.5333333333333333,
           0.5333333333333333,
           0.5333333333333333,
           0.5333333333333333,
           0.5333333333333333,
           0.5333333333333333,
           0.5333333333333333,
           0.5333333333333333,
           0.5333333333333333,
           0.5333333333333333,
           0.5333333333333333,
           0.5333333333333333,
           0.5333333333333333,
           0.5333333333333333
          ],
          [
           0.4,
           0.4,
           0.4,
           0.4,
           0.4,
           0.4666666666666667,
           0.4666666666666667,
           0.4666666666666667,
           0.4666666666666667,
           0.4666666666666667,
           0.4666666666666667,
           0.4666666666666667,
           0.4666666666666667,
           0.4666666666666667,
           0.4666666666666667,
           0.4666666666666667,
           0.4666666666666667,
           0.4666666666666667,
           0.4666666666666667,
           0.4666666666666667,
           0.4666666666666667,
           0.4666666666666667,
           0.4666666666666667,
           0.4666666666666667,
           0.5333333333333333,
           0.4666666666666667,
           0.4666666666666667,
           0.5333333333333333,
           0.5333333333333333,
           0.5333333333333333,
           0.6,
           0.4666666666666667,
           0.4666666666666667,
           0.5333333333333333,
           0.5333333333333333,
           0.5333333333333333,
           0.5333333333333333,
           0.5333333333333333,
           0.5333333333333333,
           0.5333333333333333,
           0.5333333333333333,
           0.5333333333333333,
           0.5333333333333333,
           0.5333333333333333,
           0.5333333333333333,
           0.5333333333333333,
           0.5333333333333333,
           0.5333333333333333,
           0.5333333333333333,
           0.5333333333333333
          ],
          [
           0.4,
           0.4,
           0.4,
           0.4,
           0.4,
           0.4666666666666667,
           0.4666666666666667,
           0.4666666666666667,
           0.4666666666666667,
           0.4666666666666667,
           0.4666666666666667,
           0.4666666666666667,
           0.4666666666666667,
           0.4666666666666667,
           0.4666666666666667,
           0.4666666666666667,
           0.4,
           0.4,
           0.4,
           0.4666666666666667,
           0.4666666666666667,
           0.4666666666666667,
           0.4666666666666667,
           0.4666666666666667,
           0.4666666666666667,
           0.4666666666666667,
           0.4666666666666667,
           0.5333333333333333,
           0.5333333333333333,
           0.5333333333333333,
           0.5333333333333333,
           0.4666666666666667,
           0.4666666666666667,
           0.4666666666666667,
           0.4666666666666667,
           0.4666666666666667,
           0.5333333333333333,
           0.5333333333333333,
           0.5333333333333333,
           0.5333333333333333,
           0.5333333333333333,
           0.5333333333333333,
           0.5333333333333333,
           0.5333333333333333,
           0.5333333333333333,
           0.5333333333333333,
           0.5333333333333333,
           0.5333333333333333,
           0.5333333333333333,
           0.5333333333333333
          ],
          [
           0.4666666666666667,
           0.4666666666666667,
           0.4666666666666667,
           0.4666666666666667,
           0.4666666666666667,
           0.4666666666666667,
           0.5333333333333333,
           0.5333333333333333,
           0.5333333333333333,
           0.5333333333333333,
           0.5333333333333333,
           0.5333333333333333,
           0.5333333333333333,
           0.5333333333333333,
           0.4666666666666667,
           0.4,
           0.4,
           0.4,
           0.4,
           0.4666666666666667,
           0.4666666666666667,
           0.4666666666666667,
           0.4666666666666667,
           0.4666666666666667,
           0.4666666666666667,
           0.4666666666666667,
           0.4666666666666667,
           0.4666666666666667,
           0.5333333333333333,
           0.5333333333333333,
           0.5333333333333333,
           0.4666666666666667,
           0.4666666666666667,
           0.4666666666666667,
           0.4666666666666667,
           0.4666666666666667,
           0.4666666666666667,
           0.4666666666666667,
           0.4666666666666667,
           0.5333333333333333,
           0.5333333333333333,
           0.5333333333333333,
           0.5333333333333333,
           0.5333333333333333,
           0.5333333333333333,
           0.5333333333333333,
           0.5333333333333333,
           0.5333333333333333,
           0.5333333333333333,
           0.5333333333333333
          ],
          [
           0.4666666666666667,
           0.4666666666666667,
           0.4666666666666667,
           0.4666666666666667,
           0.4666666666666667,
           0.4666666666666667,
           0.5333333333333333,
           0.5333333333333333,
           0.5333333333333333,
           0.5333333333333333,
           0.5333333333333333,
           0.5333333333333333,
           0.5333333333333333,
           0.4666666666666667,
           0.4666666666666667,
           0.4666666666666667,
           0.4666666666666667,
           0.4666666666666667,
           0.4666666666666667,
           0.4666666666666667,
           0.4666666666666667,
           0.4666666666666667,
           0.4666666666666667,
           0.4666666666666667,
           0.4666666666666667,
           0.4666666666666667,
           0.4666666666666667,
           0.4666666666666667,
           0.4666666666666667,
           0.5333333333333333,
           0.5333333333333333,
           0.4666666666666667,
           0.4666666666666667,
           0.4666666666666667,
           0.4666666666666667,
           0.4666666666666667,
           0.4666666666666667,
           0.4666666666666667,
           0.4666666666666667,
           0.4666666666666667,
           0.4666666666666667,
           0.4666666666666667,
           0.5333333333333333,
           0.5333333333333333,
           0.5333333333333333,
           0.5333333333333333,
           0.5333333333333333,
           0.5333333333333333,
           0.5333333333333333,
           0.5333333333333333
          ],
          [
           0.4666666666666667,
           0.4666666666666667,
           0.4666666666666667,
           0.4666666666666667,
           0.4666666666666667,
           0.4666666666666667,
           0.5333333333333333,
           0.5333333333333333,
           0.5333333333333333,
           0.5333333333333333,
           0.5333333333333333,
           0.4666666666666667,
           0.4666666666666667,
           0.4666666666666667,
           0.4666666666666667,
           0.4666666666666667,
           0.4666666666666667,
           0.4666666666666667,
           0.4666666666666667,
           0.4666666666666667,
           0.4666666666666667,
           0.4666666666666667,
           0.4666666666666667,
           0.5333333333333333,
           0.5333333333333333,
           0.5333333333333333,
           0.5333333333333333,
           0.5333333333333333,
           0.4666666666666667,
           0.4666666666666667,
           0.5333333333333333,
           0.4666666666666667,
           0.4666666666666667,
           0.4666666666666667,
           0.4666666666666667,
           0.4666666666666667,
           0.4666666666666667,
           0.4666666666666667,
           0.4666666666666667,
           0.4666666666666667,
           0.4666666666666667,
           0.4666666666666667,
           0.4666666666666667,
           0.4666666666666667,
           0.4666666666666667,
           0.5333333333333333,
           0.5333333333333333,
           0.5333333333333333,
           0.5333333333333333,
           0.5333333333333333
          ],
          [
           0.4666666666666667,
           0.4666666666666667,
           0.4666666666666667,
           0.4666666666666667,
           0.4666666666666667,
           0.4666666666666667,
           0.5333333333333333,
           0.5333333333333333,
           0.5333333333333333,
           0.5333333333333333,
           0.4666666666666667,
           0.4666666666666667,
           0.4666666666666667,
           0.4666666666666667,
           0.4666666666666667,
           0.4666666666666667,
           0.4666666666666667,
           0.4666666666666667,
           0.4666666666666667,
           0.4666666666666667,
           0.4666666666666667,
           0.4666666666666667,
           0.4666666666666667,
           0.4666666666666667,
           0.5333333333333333,
           0.5333333333333333,
           0.5333333333333333,
           0.5333333333333333,
           0.5333333333333333,
           0.5333333333333333,
           0.5333333333333333,
           0.4666666666666667,
           0.4666666666666667,
           0.4666666666666667,
           0.4666666666666667,
           0.4666666666666667,
           0.4666666666666667,
           0.4666666666666667,
           0.4666666666666667,
           0.4666666666666667,
           0.4666666666666667,
           0.4666666666666667,
           0.4666666666666667,
           0.4666666666666667,
           0.4666666666666667,
           0.4666666666666667,
           0.4666666666666667,
           0.4666666666666667,
           0.4666666666666667,
           0.4666666666666667
          ],
          [
           0.4666666666666667,
           0.4666666666666667,
           0.4666666666666667,
           0.4666666666666667,
           0.4666666666666667,
           0.4666666666666667,
           0.5333333333333333,
           0.5333333333333333,
           0.5333333333333333,
           0.5333333333333333,
           0.4666666666666667,
           0.4666666666666667,
           0.4666666666666667,
           0.4666666666666667,
           0.4666666666666667,
           0.4666666666666667,
           0.4666666666666667,
           0.4666666666666667,
           0.4666666666666667,
           0.4666666666666667,
           0.4666666666666667,
           0.4666666666666667,
           0.4666666666666667,
           0.4666666666666667,
           0.4666666666666667,
           0.5333333333333333,
           0.5333333333333333,
           0.5333333333333333,
           0.5333333333333333,
           0.5333333333333333,
           0.5333333333333333,
           0.4666666666666667,
           0.4666666666666667,
           0.4666666666666667,
           0.4666666666666667,
           0.4666666666666667,
           0.4666666666666667,
           0.4666666666666667,
           0.4666666666666667,
           0.4666666666666667,
           0.4666666666666667,
           0.4666666666666667,
           0.4666666666666667,
           0.4666666666666667,
           0.4666666666666667,
           0.4666666666666667,
           0.4666666666666667,
           0.4666666666666667,
           0.4666666666666667,
           0.4666666666666667
          ],
          [
           0.4666666666666667,
           0.4666666666666667,
           0.4666666666666667,
           0.4666666666666667,
           0.4666666666666667,
           0.4666666666666667,
           0.4666666666666667,
           0.5333333333333333,
           0.5333333333333333,
           0.5333333333333333,
           0.4666666666666667,
           0.4666666666666667,
           0.4666666666666667,
           0.4666666666666667,
           0.4666666666666667,
           0.4666666666666667,
           0.4666666666666667,
           0.4666666666666667,
           0.4666666666666667,
           0.4666666666666667,
           0.4666666666666667,
           0.4666666666666667,
           0.4666666666666667,
           0.4666666666666667,
           0.4666666666666667,
           0.4666666666666667,
           0.5333333333333333,
           0.5333333333333333,
           0.5333333333333333,
           0.5333333333333333,
           0.5333333333333333,
           0.5333333333333333,
           0.4666666666666667,
           0.4666666666666667,
           0.4666666666666667,
           0.4666666666666667,
           0.4666666666666667,
           0.4666666666666667,
           0.4666666666666667,
           0.4666666666666667,
           0.4666666666666667,
           0.4666666666666667,
           0.4666666666666667,
           0.4666666666666667,
           0.4666666666666667,
           0.4666666666666667,
           0.4666666666666667,
           0.4666666666666667,
           0.4666666666666667,
           0.4666666666666667
          ],
          [
           0.4666666666666667,
           0.4666666666666667,
           0.4666666666666667,
           0.4666666666666667,
           0.4666666666666667,
           0.4666666666666667,
           0.4666666666666667,
           0.5333333333333333,
           0.5333333333333333,
           0.5333333333333333,
           0.4666666666666667,
           0.4666666666666667,
           0.4666666666666667,
           0.4666666666666667,
           0.4666666666666667,
           0.4666666666666667,
           0.4666666666666667,
           0.4666666666666667,
           0.4666666666666667,
           0.4666666666666667,
           0.4666666666666667,
           0.4666666666666667,
           0.4666666666666667,
           0.4666666666666667,
           0.4666666666666667,
           0.4666666666666667,
           0.5333333333333333,
           0.5333333333333333,
           0.5333333333333333,
           0.5333333333333333,
           0.5333333333333333,
           0.5333333333333333,
           0.4666666666666667,
           0.4666666666666667,
           0.4666666666666667,
           0.4666666666666667,
           0.4666666666666667,
           0.4666666666666667,
           0.4666666666666667,
           0.4666666666666667,
           0.4666666666666667,
           0.4666666666666667,
           0.4666666666666667,
           0.4666666666666667,
           0.4666666666666667,
           0.4666666666666667,
           0.4666666666666667,
           0.4666666666666667,
           0.4666666666666667,
           0.4666666666666667
          ],
          [
           0.4666666666666667,
           0.4666666666666667,
           0.4666666666666667,
           0.4666666666666667,
           0.4666666666666667,
           0.4666666666666667,
           0.4666666666666667,
           0.5333333333333333,
           0.5333333333333333,
           0.5333333333333333,
           0.4666666666666667,
           0.4666666666666667,
           0.4666666666666667,
           0.4666666666666667,
           0.4666666666666667,
           0.4666666666666667,
           0.4666666666666667,
           0.4666666666666667,
           0.4666666666666667,
           0.4666666666666667,
           0.4666666666666667,
           0.4666666666666667,
           0.4666666666666667,
           0.4666666666666667,
           0.4666666666666667,
           0.4666666666666667,
           0.4666666666666667,
           0.5333333333333333,
           0.5333333333333333,
           0.5333333333333333,
           0.5333333333333333,
           0.5333333333333333,
           0.4666666666666667,
           0.4666666666666667,
           0.4666666666666667,
           0.4666666666666667,
           0.4666666666666667,
           0.4666666666666667,
           0.4666666666666667,
           0.4666666666666667,
           0.4666666666666667,
           0.4666666666666667,
           0.4666666666666667,
           0.4666666666666667,
           0.4666666666666667,
           0.4666666666666667,
           0.4666666666666667,
           0.4666666666666667,
           0.4666666666666667,
           0.4666666666666667
          ],
          [
           0.4666666666666667,
           0.4666666666666667,
           0.4666666666666667,
           0.4666666666666667,
           0.4666666666666667,
           0.4666666666666667,
           0.4666666666666667,
           0.5333333333333333,
           0.5333333333333333,
           0.5333333333333333,
           0.5333333333333333,
           0.4666666666666667,
           0.4666666666666667,
           0.4666666666666667,
           0.4666666666666667,
           0.4666666666666667,
           0.4666666666666667,
           0.4666666666666667,
           0.4666666666666667,
           0.4666666666666667,
           0.4666666666666667,
           0.4666666666666667,
           0.4666666666666667,
           0.4666666666666667,
           0.4666666666666667,
           0.4666666666666667,
           0.4666666666666667,
           0.4666666666666667,
           0.5333333333333333,
           0.5333333333333333,
           0.5333333333333333,
           0.5333333333333333,
           0.4666666666666667,
           0.4666666666666667,
           0.4666666666666667,
           0.4666666666666667,
           0.4666666666666667,
           0.4666666666666667,
           0.4666666666666667,
           0.4666666666666667,
           0.4666666666666667,
           0.4666666666666667,
           0.4666666666666667,
           0.4666666666666667,
           0.4666666666666667,
           0.4666666666666667,
           0.4666666666666667,
           0.4666666666666667,
           0.4666666666666667,
           0.4666666666666667
          ],
          [
           0.4666666666666667,
           0.4666666666666667,
           0.4666666666666667,
           0.4666666666666667,
           0.4666666666666667,
           0.4666666666666667,
           0.4666666666666667,
           0.5333333333333333,
           0.5333333333333333,
           0.5333333333333333,
           0.5333333333333333,
           0.4666666666666667,
           0.4666666666666667,
           0.4666666666666667,
           0.4666666666666667,
           0.4666666666666667,
           0.4666666666666667,
           0.4666666666666667,
           0.4666666666666667,
           0.4666666666666667,
           0.4666666666666667,
           0.4666666666666667,
           0.4666666666666667,
           0.4666666666666667,
           0.4666666666666667,
           0.4666666666666667,
           0.4666666666666667,
           0.4666666666666667,
           0.4666666666666667,
           0.5333333333333333,
           0.4666666666666667,
           0.5333333333333333,
           0.4666666666666667,
           0.4666666666666667,
           0.4666666666666667,
           0.4666666666666667,
           0.4666666666666667,
           0.4666666666666667,
           0.4666666666666667,
           0.4666666666666667,
           0.4666666666666667,
           0.4666666666666667,
           0.4666666666666667,
           0.4666666666666667,
           0.4666666666666667,
           0.4666666666666667,
           0.4666666666666667,
           0.4666666666666667,
           0.4666666666666667,
           0.4666666666666667
          ],
          [
           0.4666666666666667,
           0.4666666666666667,
           0.4666666666666667,
           0.4666666666666667,
           0.4666666666666667,
           0.4666666666666667,
           0.4666666666666667,
           0.5333333333333333,
           0.5333333333333333,
           0.5333333333333333,
           0.5333333333333333,
           0.4666666666666667,
           0.4666666666666667,
           0.4666666666666667,
           0.4666666666666667,
           0.4666666666666667,
           0.4666666666666667,
           0.4666666666666667,
           0.4666666666666667,
           0.4666666666666667,
           0.4666666666666667,
           0.4666666666666667,
           0.4666666666666667,
           0.4666666666666667,
           0.4666666666666667,
           0.4666666666666667,
           0.4666666666666667,
           0.4666666666666667,
           0.4666666666666667,
           0.5333333333333333,
           0.4666666666666667,
           0.4666666666666667,
           0.4666666666666667,
           0.4666666666666667,
           0.4666666666666667,
           0.4666666666666667,
           0.4666666666666667,
           0.4666666666666667,
           0.4666666666666667,
           0.4666666666666667,
           0.4666666666666667,
           0.4666666666666667,
           0.4666666666666667,
           0.4666666666666667,
           0.4666666666666667,
           0.4666666666666667,
           0.4666666666666667,
           0.4666666666666667,
           0.4666666666666667,
           0.4666666666666667
          ],
          [
           0.4666666666666667,
           0.4666666666666667,
           0.4666666666666667,
           0.4666666666666667,
           0.4666666666666667,
           0.4666666666666667,
           0.4666666666666667,
           0.5333333333333333,
           0.5333333333333333,
           0.5333333333333333,
           0.5333333333333333,
           0.4666666666666667,
           0.4666666666666667,
           0.4666666666666667,
           0.4666666666666667,
           0.4666666666666667,
           0.4666666666666667,
           0.4666666666666667,
           0.4666666666666667,
           0.4666666666666667,
           0.4666666666666667,
           0.4666666666666667,
           0.4666666666666667,
           0.4666666666666667,
           0.4666666666666667,
           0.4666666666666667,
           0.4666666666666667,
           0.4666666666666667,
           0.4666666666666667,
           0.4666666666666667,
           0.5333333333333333,
           0.4666666666666667,
           0.4666666666666667,
           0.4666666666666667,
           0.4666666666666667,
           0.4666666666666667,
           0.4666666666666667,
           0.4666666666666667,
           0.4666666666666667,
           0.4666666666666667,
           0.4666666666666667,
           0.4666666666666667,
           0.4666666666666667,
           0.4666666666666667,
           0.4666666666666667,
           0.4666666666666667,
           0.4666666666666667,
           0.4666666666666667,
           0.4666666666666667,
           0.4666666666666667
          ],
          [
           0.4666666666666667,
           0.4666666666666667,
           0.4666666666666667,
           0.4666666666666667,
           0.4666666666666667,
           0.4666666666666667,
           0.4666666666666667,
           0.5333333333333333,
           0.5333333333333333,
           0.5333333333333333,
           0.5333333333333333,
           0.5333333333333333,
           0.4666666666666667,
           0.4666666666666667,
           0.4666666666666667,
           0.4666666666666667,
           0.4666666666666667,
           0.4666666666666667,
           0.4666666666666667,
           0.4666666666666667,
           0.4666666666666667,
           0.4666666666666667,
           0.4666666666666667,
           0.4666666666666667,
           0.4666666666666667,
           0.4666666666666667,
           0.4666666666666667,
           0.4666666666666667,
           0.4666666666666667,
           0.4666666666666667,
           0.4666666666666667,
           0.4666666666666667,
           0.4666666666666667,
           0.4666666666666667,
           0.4666666666666667,
           0.4666666666666667,
           0.4666666666666667,
           0.4666666666666667,
           0.4666666666666667,
           0.4666666666666667,
           0.4666666666666667,
           0.4666666666666667,
           0.4666666666666667,
           0.4666666666666667,
           0.4666666666666667,
           0.4666666666666667,
           0.4666666666666667,
           0.4666666666666667,
           0.4666666666666667,
           0.4666666666666667
          ],
          [
           0.4666666666666667,
           0.4666666666666667,
           0.4666666666666667,
           0.4666666666666667,
           0.4666666666666667,
           0.4666666666666667,
           0.4666666666666667,
           0.5333333333333333,
           0.5333333333333333,
           0.5333333333333333,
           0.5333333333333333,
           0.5333333333333333,
           0.4666666666666667,
           0.4666666666666667,
           0.4666666666666667,
           0.4666666666666667,
           0.4666666666666667,
           0.4666666666666667,
           0.4666666666666667,
           0.4666666666666667,
           0.4666666666666667,
           0.4666666666666667,
           0.4666666666666667,
           0.4666666666666667,
           0.4666666666666667,
           0.4666666666666667,
           0.4666666666666667,
           0.4666666666666667,
           0.4666666666666667,
           0.4666666666666667,
           0.4666666666666667,
           0.4666666666666667,
           0.4666666666666667,
           0.4666666666666667,
           0.4666666666666667,
           0.4666666666666667,
           0.4666666666666667,
           0.4666666666666667,
           0.4666666666666667,
           0.4666666666666667,
           0.4666666666666667,
           0.4666666666666667,
           0.4666666666666667,
           0.4666666666666667,
           0.4666666666666667,
           0.4666666666666667,
           0.4666666666666667,
           0.4666666666666667,
           0.4666666666666667,
           0.4666666666666667
          ],
          [
           0.4666666666666667,
           0.4666666666666667,
           0.4666666666666667,
           0.4666666666666667,
           0.4666666666666667,
           0.4666666666666667,
           0.4666666666666667,
           0.5333333333333333,
           0.5333333333333333,
           0.5333333333333333,
           0.5333333333333333,
           0.5333333333333333,
           0.4666666666666667,
           0.4666666666666667,
           0.4666666666666667,
           0.4666666666666667,
           0.4666666666666667,
           0.4666666666666667,
           0.4666666666666667,
           0.4666666666666667,
           0.4666666666666667,
           0.4666666666666667,
           0.4666666666666667,
           0.4666666666666667,
           0.4666666666666667,
           0.4666666666666667,
           0.4666666666666667,
           0.4666666666666667,
           0.4666666666666667,
           0.4666666666666667,
           0.4666666666666667,
           0.4666666666666667,
           0.4666666666666667,
           0.4666666666666667,
           0.4666666666666667,
           0.4666666666666667,
           0.4666666666666667,
           0.4666666666666667,
           0.4666666666666667,
           0.4666666666666667,
           0.4666666666666667,
           0.4666666666666667,
           0.4666666666666667,
           0.4666666666666667,
           0.4666666666666667,
           0.4666666666666667,
           0.4666666666666667,
           0.4666666666666667,
           0.4666666666666667,
           0.4666666666666667
          ],
          [
           0.4666666666666667,
           0.4666666666666667,
           0.4666666666666667,
           0.4666666666666667,
           0.4666666666666667,
           0.4666666666666667,
           0.4666666666666667,
           0.5333333333333333,
           0.5333333333333333,
           0.5333333333333333,
           0.5333333333333333,
           0.5333333333333333,
           0.4666666666666667,
           0.4666666666666667,
           0.4666666666666667,
           0.4666666666666667,
           0.4666666666666667,
           0.4666666666666667,
           0.4666666666666667,
           0.4666666666666667,
           0.4666666666666667,
           0.4666666666666667,
           0.4666666666666667,
           0.4666666666666667,
           0.4666666666666667,
           0.4666666666666667,
           0.4666666666666667,
           0.4666666666666667,
           0.4666666666666667,
           0.4666666666666667,
           0.4666666666666667,
           0.4666666666666667,
           0.4666666666666667,
           0.4666666666666667,
           0.4666666666666667,
           0.4666666666666667,
           0.4666666666666667,
           0.4666666666666667,
           0.4666666666666667,
           0.4666666666666667,
           0.4666666666666667,
           0.4666666666666667,
           0.4666666666666667,
           0.4666666666666667,
           0.4666666666666667,
           0.4666666666666667,
           0.4666666666666667,
           0.4666666666666667,
           0.4666666666666667,
           0.4666666666666667
          ],
          [
           0.4666666666666667,
           0.4666666666666667,
           0.4666666666666667,
           0.4666666666666667,
           0.4666666666666667,
           0.4666666666666667,
           0.4666666666666667,
           0.5333333333333333,
           0.5333333333333333,
           0.5333333333333333,
           0.5333333333333333,
           0.5333333333333333,
           0.5333333333333333,
           0.4666666666666667,
           0.4666666666666667,
           0.4666666666666667,
           0.4666666666666667,
           0.4666666666666667,
           0.4666666666666667,
           0.4666666666666667,
           0.4666666666666667,
           0.4666666666666667,
           0.4666666666666667,
           0.4666666666666667,
           0.4666666666666667,
           0.4666666666666667,
           0.4666666666666667,
           0.4666666666666667,
           0.4666666666666667,
           0.4666666666666667,
           0.4666666666666667,
           0.4666666666666667,
           0.4666666666666667,
           0.4666666666666667,
           0.4666666666666667,
           0.4666666666666667,
           0.4666666666666667,
           0.4666666666666667,
           0.4666666666666667,
           0.4666666666666667,
           0.4666666666666667,
           0.4666666666666667,
           0.4666666666666667,
           0.4666666666666667,
           0.4666666666666667,
           0.4666666666666667,
           0.4666666666666667,
           0.4666666666666667,
           0.4666666666666667,
           0.4666666666666667
          ],
          [
           0.4666666666666667,
           0.4666666666666667,
           0.4666666666666667,
           0.4666666666666667,
           0.4666666666666667,
           0.4666666666666667,
           0.4666666666666667,
           0.5333333333333333,
           0.5333333333333333,
           0.5333333333333333,
           0.5333333333333333,
           0.5333333333333333,
           0.5333333333333333,
           0.4666666666666667,
           0.4666666666666667,
           0.4666666666666667,
           0.4666666666666667,
           0.4666666666666667,
           0.4666666666666667,
           0.4666666666666667,
           0.4666666666666667,
           0.4666666666666667,
           0.4666666666666667,
           0.4666666666666667,
           0.4666666666666667,
           0.4666666666666667,
           0.4666666666666667,
           0.4666666666666667,
           0.4666666666666667,
           0.4666666666666667,
           0.4666666666666667,
           0.4666666666666667,
           0.4666666666666667,
           0.4666666666666667,
           0.4666666666666667,
           0.4666666666666667,
           0.4666666666666667,
           0.4666666666666667,
           0.4666666666666667,
           0.4666666666666667,
           0.4666666666666667,
           0.4666666666666667,
           0.4666666666666667,
           0.4666666666666667,
           0.4666666666666667,
           0.4666666666666667,
           0.4666666666666667,
           0.4666666666666667,
           0.4666666666666667,
           0.4666666666666667
          ],
          [
           0.4666666666666667,
           0.4666666666666667,
           0.4666666666666667,
           0.4666666666666667,
           0.4666666666666667,
           0.4666666666666667,
           0.4666666666666667,
           0.5333333333333333,
           0.5333333333333333,
           0.5333333333333333,
           0.5333333333333333,
           0.5333333333333333,
           0.5333333333333333,
           0.4666666666666667,
           0.4666666666666667,
           0.4666666666666667,
           0.4666666666666667,
           0.4666666666666667,
           0.4666666666666667,
           0.4666666666666667,
           0.4666666666666667,
           0.4666666666666667,
           0.4666666666666667,
           0.4666666666666667,
           0.4666666666666667,
           0.4666666666666667,
           0.4666666666666667,
           0.4666666666666667,
           0.4666666666666667,
           0.4666666666666667,
           0.4666666666666667,
           0.4666666666666667,
           0.4666666666666667,
           0.4666666666666667,
           0.4666666666666667,
           0.4666666666666667,
           0.4666666666666667,
           0.4666666666666667,
           0.4666666666666667,
           0.4666666666666667,
           0.4666666666666667,
           0.4666666666666667,
           0.4666666666666667,
           0.4666666666666667,
           0.4666666666666667,
           0.4666666666666667,
           0.4666666666666667,
           0.4666666666666667,
           0.4666666666666667,
           0.4666666666666667
          ]
         ]
        }
       ],
       "layout": {
        "template": {
         "data": {
          "bar": [
           {
            "error_x": {
             "color": "#f2f5fa"
            },
            "error_y": {
             "color": "#f2f5fa"
            },
            "marker": {
             "line": {
              "color": "rgb(17,17,17)",
              "width": 0.5
             }
            },
            "type": "bar"
           }
          ],
          "barpolar": [
           {
            "marker": {
             "line": {
              "color": "rgb(17,17,17)",
              "width": 0.5
             }
            },
            "type": "barpolar"
           }
          ],
          "carpet": [
           {
            "aaxis": {
             "endlinecolor": "#A2B1C6",
             "gridcolor": "#506784",
             "linecolor": "#506784",
             "minorgridcolor": "#506784",
             "startlinecolor": "#A2B1C6"
            },
            "baxis": {
             "endlinecolor": "#A2B1C6",
             "gridcolor": "#506784",
             "linecolor": "#506784",
             "minorgridcolor": "#506784",
             "startlinecolor": "#A2B1C6"
            },
            "type": "carpet"
           }
          ],
          "choropleth": [
           {
            "colorbar": {
             "outlinewidth": 0,
             "ticks": ""
            },
            "type": "choropleth"
           }
          ],
          "contour": [
           {
            "colorbar": {
             "outlinewidth": 0,
             "ticks": ""
            },
            "colorscale": [
             [
              0,
              "#0d0887"
             ],
             [
              0.1111111111111111,
              "#46039f"
             ],
             [
              0.2222222222222222,
              "#7201a8"
             ],
             [
              0.3333333333333333,
              "#9c179e"
             ],
             [
              0.4444444444444444,
              "#bd3786"
             ],
             [
              0.5555555555555556,
              "#d8576b"
             ],
             [
              0.6666666666666666,
              "#ed7953"
             ],
             [
              0.7777777777777778,
              "#fb9f3a"
             ],
             [
              0.8888888888888888,
              "#fdca26"
             ],
             [
              1,
              "#f0f921"
             ]
            ],
            "type": "contour"
           }
          ],
          "contourcarpet": [
           {
            "colorbar": {
             "outlinewidth": 0,
             "ticks": ""
            },
            "type": "contourcarpet"
           }
          ],
          "heatmap": [
           {
            "colorbar": {
             "outlinewidth": 0,
             "ticks": ""
            },
            "colorscale": [
             [
              0,
              "#0d0887"
             ],
             [
              0.1111111111111111,
              "#46039f"
             ],
             [
              0.2222222222222222,
              "#7201a8"
             ],
             [
              0.3333333333333333,
              "#9c179e"
             ],
             [
              0.4444444444444444,
              "#bd3786"
             ],
             [
              0.5555555555555556,
              "#d8576b"
             ],
             [
              0.6666666666666666,
              "#ed7953"
             ],
             [
              0.7777777777777778,
              "#fb9f3a"
             ],
             [
              0.8888888888888888,
              "#fdca26"
             ],
             [
              1,
              "#f0f921"
             ]
            ],
            "type": "heatmap"
           }
          ],
          "heatmapgl": [
           {
            "colorbar": {
             "outlinewidth": 0,
             "ticks": ""
            },
            "colorscale": [
             [
              0,
              "#0d0887"
             ],
             [
              0.1111111111111111,
              "#46039f"
             ],
             [
              0.2222222222222222,
              "#7201a8"
             ],
             [
              0.3333333333333333,
              "#9c179e"
             ],
             [
              0.4444444444444444,
              "#bd3786"
             ],
             [
              0.5555555555555556,
              "#d8576b"
             ],
             [
              0.6666666666666666,
              "#ed7953"
             ],
             [
              0.7777777777777778,
              "#fb9f3a"
             ],
             [
              0.8888888888888888,
              "#fdca26"
             ],
             [
              1,
              "#f0f921"
             ]
            ],
            "type": "heatmapgl"
           }
          ],
          "histogram": [
           {
            "marker": {
             "colorbar": {
              "outlinewidth": 0,
              "ticks": ""
             }
            },
            "type": "histogram"
           }
          ],
          "histogram2d": [
           {
            "colorbar": {
             "outlinewidth": 0,
             "ticks": ""
            },
            "colorscale": [
             [
              0,
              "#0d0887"
             ],
             [
              0.1111111111111111,
              "#46039f"
             ],
             [
              0.2222222222222222,
              "#7201a8"
             ],
             [
              0.3333333333333333,
              "#9c179e"
             ],
             [
              0.4444444444444444,
              "#bd3786"
             ],
             [
              0.5555555555555556,
              "#d8576b"
             ],
             [
              0.6666666666666666,
              "#ed7953"
             ],
             [
              0.7777777777777778,
              "#fb9f3a"
             ],
             [
              0.8888888888888888,
              "#fdca26"
             ],
             [
              1,
              "#f0f921"
             ]
            ],
            "type": "histogram2d"
           }
          ],
          "histogram2dcontour": [
           {
            "colorbar": {
             "outlinewidth": 0,
             "ticks": ""
            },
            "colorscale": [
             [
              0,
              "#0d0887"
             ],
             [
              0.1111111111111111,
              "#46039f"
             ],
             [
              0.2222222222222222,
              "#7201a8"
             ],
             [
              0.3333333333333333,
              "#9c179e"
             ],
             [
              0.4444444444444444,
              "#bd3786"
             ],
             [
              0.5555555555555556,
              "#d8576b"
             ],
             [
              0.6666666666666666,
              "#ed7953"
             ],
             [
              0.7777777777777778,
              "#fb9f3a"
             ],
             [
              0.8888888888888888,
              "#fdca26"
             ],
             [
              1,
              "#f0f921"
             ]
            ],
            "type": "histogram2dcontour"
           }
          ],
          "mesh3d": [
           {
            "colorbar": {
             "outlinewidth": 0,
             "ticks": ""
            },
            "type": "mesh3d"
           }
          ],
          "parcoords": [
           {
            "line": {
             "colorbar": {
              "outlinewidth": 0,
              "ticks": ""
             }
            },
            "type": "parcoords"
           }
          ],
          "pie": [
           {
            "automargin": true,
            "type": "pie"
           }
          ],
          "scatter": [
           {
            "marker": {
             "line": {
              "color": "#283442"
             }
            },
            "type": "scatter"
           }
          ],
          "scatter3d": [
           {
            "line": {
             "colorbar": {
              "outlinewidth": 0,
              "ticks": ""
             }
            },
            "marker": {
             "colorbar": {
              "outlinewidth": 0,
              "ticks": ""
             }
            },
            "type": "scatter3d"
           }
          ],
          "scattercarpet": [
           {
            "marker": {
             "colorbar": {
              "outlinewidth": 0,
              "ticks": ""
             }
            },
            "type": "scattercarpet"
           }
          ],
          "scattergeo": [
           {
            "marker": {
             "colorbar": {
              "outlinewidth": 0,
              "ticks": ""
             }
            },
            "type": "scattergeo"
           }
          ],
          "scattergl": [
           {
            "marker": {
             "line": {
              "color": "#283442"
             }
            },
            "type": "scattergl"
           }
          ],
          "scattermapbox": [
           {
            "marker": {
             "colorbar": {
              "outlinewidth": 0,
              "ticks": ""
             }
            },
            "type": "scattermapbox"
           }
          ],
          "scatterpolar": [
           {
            "marker": {
             "colorbar": {
              "outlinewidth": 0,
              "ticks": ""
             }
            },
            "type": "scatterpolar"
           }
          ],
          "scatterpolargl": [
           {
            "marker": {
             "colorbar": {
              "outlinewidth": 0,
              "ticks": ""
             }
            },
            "type": "scatterpolargl"
           }
          ],
          "scatterternary": [
           {
            "marker": {
             "colorbar": {
              "outlinewidth": 0,
              "ticks": ""
             }
            },
            "type": "scatterternary"
           }
          ],
          "surface": [
           {
            "colorbar": {
             "outlinewidth": 0,
             "ticks": ""
            },
            "colorscale": [
             [
              0,
              "#0d0887"
             ],
             [
              0.1111111111111111,
              "#46039f"
             ],
             [
              0.2222222222222222,
              "#7201a8"
             ],
             [
              0.3333333333333333,
              "#9c179e"
             ],
             [
              0.4444444444444444,
              "#bd3786"
             ],
             [
              0.5555555555555556,
              "#d8576b"
             ],
             [
              0.6666666666666666,
              "#ed7953"
             ],
             [
              0.7777777777777778,
              "#fb9f3a"
             ],
             [
              0.8888888888888888,
              "#fdca26"
             ],
             [
              1,
              "#f0f921"
             ]
            ],
            "type": "surface"
           }
          ],
          "table": [
           {
            "cells": {
             "fill": {
              "color": "#506784"
             },
             "line": {
              "color": "rgb(17,17,17)"
             }
            },
            "header": {
             "fill": {
              "color": "#2a3f5f"
             },
             "line": {
              "color": "rgb(17,17,17)"
             }
            },
            "type": "table"
           }
          ]
         },
         "layout": {
          "annotationdefaults": {
           "arrowcolor": "#f2f5fa",
           "arrowhead": 0,
           "arrowwidth": 1
          },
          "coloraxis": {
           "colorbar": {
            "outlinewidth": 0,
            "ticks": ""
           }
          },
          "colorscale": {
           "diverging": [
            [
             0,
             "#8e0152"
            ],
            [
             0.1,
             "#c51b7d"
            ],
            [
             0.2,
             "#de77ae"
            ],
            [
             0.3,
             "#f1b6da"
            ],
            [
             0.4,
             "#fde0ef"
            ],
            [
             0.5,
             "#f7f7f7"
            ],
            [
             0.6,
             "#e6f5d0"
            ],
            [
             0.7,
             "#b8e186"
            ],
            [
             0.8,
             "#7fbc41"
            ],
            [
             0.9,
             "#4d9221"
            ],
            [
             1,
             "#276419"
            ]
           ],
           "sequential": [
            [
             0,
             "#0d0887"
            ],
            [
             0.1111111111111111,
             "#46039f"
            ],
            [
             0.2222222222222222,
             "#7201a8"
            ],
            [
             0.3333333333333333,
             "#9c179e"
            ],
            [
             0.4444444444444444,
             "#bd3786"
            ],
            [
             0.5555555555555556,
             "#d8576b"
            ],
            [
             0.6666666666666666,
             "#ed7953"
            ],
            [
             0.7777777777777778,
             "#fb9f3a"
            ],
            [
             0.8888888888888888,
             "#fdca26"
            ],
            [
             1,
             "#f0f921"
            ]
           ],
           "sequentialminus": [
            [
             0,
             "#0d0887"
            ],
            [
             0.1111111111111111,
             "#46039f"
            ],
            [
             0.2222222222222222,
             "#7201a8"
            ],
            [
             0.3333333333333333,
             "#9c179e"
            ],
            [
             0.4444444444444444,
             "#bd3786"
            ],
            [
             0.5555555555555556,
             "#d8576b"
            ],
            [
             0.6666666666666666,
             "#ed7953"
            ],
            [
             0.7777777777777778,
             "#fb9f3a"
            ],
            [
             0.8888888888888888,
             "#fdca26"
            ],
            [
             1,
             "#f0f921"
            ]
           ]
          },
          "colorway": [
           "#636efa",
           "#EF553B",
           "#00cc96",
           "#ab63fa",
           "#FFA15A",
           "#19d3f3",
           "#FF6692",
           "#B6E880",
           "#FF97FF",
           "#FECB52"
          ],
          "font": {
           "color": "#f2f5fa"
          },
          "geo": {
           "bgcolor": "rgb(17,17,17)",
           "lakecolor": "rgb(17,17,17)",
           "landcolor": "rgb(17,17,17)",
           "showlakes": true,
           "showland": true,
           "subunitcolor": "#506784"
          },
          "hoverlabel": {
           "align": "left"
          },
          "hovermode": "closest",
          "mapbox": {
           "style": "dark"
          },
          "paper_bgcolor": "rgb(17,17,17)",
          "plot_bgcolor": "rgb(17,17,17)",
          "polar": {
           "angularaxis": {
            "gridcolor": "#506784",
            "linecolor": "#506784",
            "ticks": ""
           },
           "bgcolor": "rgb(17,17,17)",
           "radialaxis": {
            "gridcolor": "#506784",
            "linecolor": "#506784",
            "ticks": ""
           }
          },
          "scene": {
           "xaxis": {
            "backgroundcolor": "rgb(17,17,17)",
            "gridcolor": "#506784",
            "gridwidth": 2,
            "linecolor": "#506784",
            "showbackground": true,
            "ticks": "",
            "zerolinecolor": "#C8D4E3"
           },
           "yaxis": {
            "backgroundcolor": "rgb(17,17,17)",
            "gridcolor": "#506784",
            "gridwidth": 2,
            "linecolor": "#506784",
            "showbackground": true,
            "ticks": "",
            "zerolinecolor": "#C8D4E3"
           },
           "zaxis": {
            "backgroundcolor": "rgb(17,17,17)",
            "gridcolor": "#506784",
            "gridwidth": 2,
            "linecolor": "#506784",
            "showbackground": true,
            "ticks": "",
            "zerolinecolor": "#C8D4E3"
           }
          },
          "shapedefaults": {
           "line": {
            "color": "#f2f5fa"
           }
          },
          "sliderdefaults": {
           "bgcolor": "#C8D4E3",
           "bordercolor": "rgb(17,17,17)",
           "borderwidth": 1,
           "tickwidth": 0
          },
          "ternary": {
           "aaxis": {
            "gridcolor": "#506784",
            "linecolor": "#506784",
            "ticks": ""
           },
           "baxis": {
            "gridcolor": "#506784",
            "linecolor": "#506784",
            "ticks": ""
           },
           "bgcolor": "rgb(17,17,17)",
           "caxis": {
            "gridcolor": "#506784",
            "linecolor": "#506784",
            "ticks": ""
           }
          },
          "title": {
           "x": 0.05
          },
          "updatemenudefaults": {
           "bgcolor": "#506784",
           "borderwidth": 0
          },
          "xaxis": {
           "automargin": true,
           "gridcolor": "#283442",
           "linecolor": "#506784",
           "ticks": "",
           "title": {
            "standoff": 15
           },
           "zerolinecolor": "#283442",
           "zerolinewidth": 2
          },
          "yaxis": {
           "automargin": true,
           "gridcolor": "#283442",
           "linecolor": "#506784",
           "ticks": "",
           "title": {
            "standoff": 15
           },
           "zerolinecolor": "#283442",
           "zerolinewidth": 2
          }
         }
        },
        "title": {
         "text": "Probability Estimates"
        },
        "xaxis": {
         "title": {
          "text": "EV/Revenue"
         }
        },
        "yaxis": {
         "title": {
          "text": "Current ratio"
         }
        }
       }
      },
      "text/html": [
       "<div>\n",
       "        \n",
       "        \n",
       "            <div id=\"2f079d50-38aa-4252-9cb4-b330887d209d\" class=\"plotly-graph-div\" style=\"height:525px; width:100%;\"></div>\n",
       "            <script type=\"text/javascript\">\n",
       "                require([\"plotly\"], function(Plotly) {\n",
       "                    window.PLOTLYENV=window.PLOTLYENV || {};\n",
       "                    \n",
       "                if (document.getElementById(\"2f079d50-38aa-4252-9cb4-b330887d209d\")) {\n",
       "                    Plotly.newPlot(\n",
       "                        '2f079d50-38aa-4252-9cb4-b330887d209d',\n",
       "                        [{\"colorscale\": [[0.0, \"rgb(103,0,31)\"], [0.1, \"rgb(178,24,43)\"], [0.2, \"rgb(214,96,77)\"], [0.3, \"rgb(244,165,130)\"], [0.4, \"rgb(253,219,199)\"], [0.5, \"rgb(247,247,247)\"], [0.6, \"rgb(209,229,240)\"], [0.7, \"rgb(146,197,222)\"], [0.8, \"rgb(67,147,195)\"], [0.9, \"rgb(33,102,172)\"], [1.0, \"rgb(5,48,97)\"]], \"type\": \"contour\", \"x\": [0.0, 0.02, 0.04, 0.06, 0.08, 0.1, 0.12, 0.14, 0.16, 0.18, 0.2, 0.22, 0.24, 0.26, 0.28, 0.3, 0.32, 0.34, 0.36, 0.38, 0.4, 0.42, 0.44, 0.46, 0.48, 0.5, 0.52, 0.54, 0.56, 0.58, 0.6, 0.62, 0.64, 0.66, 0.68, 0.7000000000000001, 0.72, 0.74, 0.76, 0.78, 0.8, 0.8200000000000001, 0.84, 0.86, 0.88, 0.9, 0.92, 0.9400000000000001, 0.96, 0.98], \"y\": [0.0, 0.02, 0.04, 0.06, 0.08, 0.1, 0.12, 0.14, 0.16, 0.18, 0.2, 0.22, 0.24, 0.26, 0.28, 0.3, 0.32, 0.34, 0.36, 0.38, 0.4, 0.42, 0.44, 0.46, 0.48, 0.5, 0.52, 0.54, 0.56, 0.58, 0.6, 0.62, 0.64, 0.66, 0.68, 0.7000000000000001, 0.72, 0.74, 0.76, 0.78, 0.8, 0.8200000000000001, 0.84, 0.86, 0.88, 0.9, 0.92, 0.9400000000000001, 0.96, 0.98], \"z\": [[0.6666666666666666, 0.6, 0.6666666666666666, 0.6666666666666666, 0.6, 0.6666666666666666, 0.7333333333333333, 0.8, 0.8666666666666667, 0.8666666666666667, 0.8666666666666667, 0.8666666666666667, 0.8, 0.7333333333333333, 0.7333333333333333, 0.7333333333333333, 0.7333333333333333, 0.7333333333333333, 0.7333333333333333, 0.7333333333333333, 0.7333333333333333, 0.7333333333333333, 0.7333333333333333, 0.7333333333333333, 0.7333333333333333, 0.7333333333333333, 0.7333333333333333, 0.7333333333333333, 0.6666666666666666, 0.6666666666666666, 0.6666666666666666, 0.6666666666666666, 0.6666666666666666, 0.6666666666666666, 0.6666666666666666, 0.6666666666666666, 0.6666666666666666, 0.6666666666666666, 0.6, 0.6, 0.6, 0.6, 0.6, 0.6, 0.6, 0.6, 0.6, 0.6, 0.6, 0.6], [0.6, 0.6, 0.6666666666666666, 0.6, 0.6666666666666666, 0.7333333333333333, 0.7333333333333333, 0.7333333333333333, 0.8666666666666667, 0.8666666666666667, 0.8, 0.8, 0.8, 0.8, 0.7333333333333333, 0.7333333333333333, 0.7333333333333333, 0.7333333333333333, 0.7333333333333333, 0.7333333333333333, 0.7333333333333333, 0.7333333333333333, 0.7333333333333333, 0.7333333333333333, 0.7333333333333333, 0.7333333333333333, 0.8, 0.8, 0.6666666666666666, 0.6666666666666666, 0.6666666666666666, 0.6666666666666666, 0.6666666666666666, 0.6666666666666666, 0.6666666666666666, 0.6666666666666666, 0.6, 0.6, 0.6, 0.6, 0.6, 0.6, 0.6, 0.6, 0.6, 0.6, 0.6, 0.6, 0.6, 0.6], [0.6, 0.5333333333333333, 0.4666666666666667, 0.6666666666666666, 0.6666666666666666, 0.7333333333333333, 0.7333333333333333, 0.8, 0.8666666666666667, 0.8666666666666667, 0.8, 0.8, 0.8, 0.8, 0.7333333333333333, 0.7333333333333333, 0.7333333333333333, 0.7333333333333333, 0.7333333333333333, 0.7333333333333333, 0.7333333333333333, 0.8, 0.8, 0.8, 0.8, 0.8, 0.8, 0.8, 0.6666666666666666, 0.6666666666666666, 0.6666666666666666, 0.6666666666666666, 0.6666666666666666, 0.6666666666666666, 0.6, 0.6, 0.6, 0.6, 0.6, 0.6, 0.6, 0.6, 0.6, 0.6, 0.6, 0.6, 0.6, 0.6, 0.6, 0.6], [0.5333333333333333, 0.5333333333333333, 0.4, 0.6, 0.7333333333333333, 0.8, 0.8, 0.8666666666666667, 0.8666666666666667, 0.8666666666666667, 0.8, 0.8, 0.8, 0.8, 0.7333333333333333, 0.7333333333333333, 0.7333333333333333, 0.7333333333333333, 0.7333333333333333, 0.7333333333333333, 0.7333333333333333, 0.7333333333333333, 0.8, 0.8, 0.8, 0.8, 0.8, 0.8, 0.6666666666666666, 0.6666666666666666, 0.6666666666666666, 0.6666666666666666, 0.6, 0.6, 0.6, 0.6, 0.6, 0.6, 0.6, 0.6, 0.6, 0.6, 0.6, 0.6, 0.6, 0.6, 0.6, 0.6, 0.6, 0.6], [0.4666666666666667, 0.4666666666666667, 0.3333333333333333, 0.6, 0.7333333333333333, 0.8666666666666667, 0.8, 0.8666666666666667, 0.8666666666666667, 0.8666666666666667, 0.8, 0.8, 0.8, 0.8, 0.7333333333333333, 0.7333333333333333, 0.7333333333333333, 0.7333333333333333, 0.7333333333333333, 0.7333333333333333, 0.7333333333333333, 0.7333333333333333, 0.8, 0.8, 0.8, 0.8, 0.7333333333333333, 0.7333333333333333, 0.6666666666666666, 0.6666666666666666, 0.6, 0.6, 0.6, 0.6, 0.6, 0.6, 0.6, 0.6, 0.6, 0.6, 0.6, 0.6, 0.6, 0.6, 0.6, 0.6, 0.6, 0.6, 0.6, 0.6], [0.4, 0.3333333333333333, 0.26666666666666666, 0.4666666666666667, 0.6666666666666666, 0.7333333333333333, 0.7333333333333333, 0.8, 0.8, 0.8, 0.7333333333333333, 0.7333333333333333, 0.8, 0.8, 0.7333333333333333, 0.7333333333333333, 0.7333333333333333, 0.7333333333333333, 0.8, 0.8, 0.8, 0.8, 0.8, 0.8, 0.7333333333333333, 0.7333333333333333, 0.7333333333333333, 0.7333333333333333, 0.6, 0.6, 0.6, 0.6, 0.6, 0.6, 0.6, 0.6, 0.6, 0.6, 0.6, 0.6, 0.6, 0.6, 0.6, 0.6, 0.6, 0.6, 0.6, 0.6, 0.6, 0.6], [0.3333333333333333, 0.3333333333333333, 0.4, 0.3333333333333333, 0.4666666666666667, 0.7333333333333333, 0.8, 0.8, 0.7333333333333333, 0.8, 0.7333333333333333, 0.7333333333333333, 0.8, 0.8, 0.8, 0.8, 0.8, 0.8, 0.8, 0.8, 0.8, 0.8, 0.7333333333333333, 0.7333333333333333, 0.7333333333333333, 0.7333333333333333, 0.7333333333333333, 0.7333333333333333, 0.6666666666666666, 0.6, 0.6, 0.6, 0.6, 0.6, 0.6, 0.6, 0.6, 0.6, 0.6, 0.6, 0.6, 0.6, 0.6, 0.6, 0.6, 0.6, 0.6, 0.6, 0.6, 0.6], [0.3333333333333333, 0.3333333333333333, 0.4, 0.26666666666666666, 0.5333333333333333, 0.6, 0.7333333333333333, 0.7333333333333333, 0.6666666666666666, 0.7333333333333333, 0.7333333333333333, 0.7333333333333333, 0.8, 0.8, 0.8, 0.8, 0.8, 0.8, 0.8, 0.8, 0.7333333333333333, 0.7333333333333333, 0.7333333333333333, 0.7333333333333333, 0.7333333333333333, 0.7333333333333333, 0.7333333333333333, 0.7333333333333333, 0.6666666666666666, 0.6, 0.6, 0.6, 0.6, 0.6, 0.6, 0.6, 0.6, 0.6, 0.6, 0.6, 0.6, 0.6, 0.6, 0.6, 0.6, 0.6, 0.6, 0.6, 0.6, 0.6], [0.4, 0.4666666666666667, 0.5333333333333333, 0.3333333333333333, 0.4666666666666667, 0.6, 0.6, 0.7333333333333333, 0.6666666666666666, 0.7333333333333333, 0.7333333333333333, 0.7333333333333333, 0.7333333333333333, 0.8, 0.8, 0.7333333333333333, 0.8, 0.7333333333333333, 0.7333333333333333, 0.7333333333333333, 0.7333333333333333, 0.7333333333333333, 0.7333333333333333, 0.7333333333333333, 0.7333333333333333, 0.7333333333333333, 0.7333333333333333, 0.7333333333333333, 0.6666666666666666, 0.6, 0.6, 0.6, 0.6, 0.6, 0.6, 0.6, 0.6, 0.6, 0.6, 0.6, 0.6, 0.6, 0.6, 0.6, 0.6, 0.6, 0.6, 0.6, 0.6, 0.6], [0.4666666666666667, 0.4, 0.4, 0.3333333333333333, 0.4, 0.4666666666666667, 0.5333333333333333, 0.5333333333333333, 0.6, 0.6666666666666666, 0.6, 0.6, 0.6666666666666666, 0.6666666666666666, 0.6666666666666666, 0.7333333333333333, 0.7333333333333333, 0.7333333333333333, 0.7333333333333333, 0.7333333333333333, 0.7333333333333333, 0.7333333333333333, 0.7333333333333333, 0.7333333333333333, 0.7333333333333333, 0.7333333333333333, 0.7333333333333333, 0.7333333333333333, 0.6666666666666666, 0.6, 0.6, 0.6, 0.6, 0.6, 0.6, 0.6, 0.6, 0.6, 0.6, 0.6, 0.6, 0.6, 0.6, 0.6, 0.6, 0.6, 0.6, 0.6, 0.6, 0.6], [0.4, 0.4, 0.3333333333333333, 0.3333333333333333, 0.4, 0.4, 0.4, 0.5333333333333333, 0.5333333333333333, 0.6, 0.6, 0.6, 0.6, 0.6, 0.6, 0.6666666666666666, 0.6666666666666666, 0.6666666666666666, 0.6666666666666666, 0.6666666666666666, 0.6666666666666666, 0.7333333333333333, 0.7333333333333333, 0.7333333333333333, 0.7333333333333333, 0.7333333333333333, 0.7333333333333333, 0.7333333333333333, 0.7333333333333333, 0.6, 0.6, 0.6, 0.6, 0.6, 0.6, 0.6, 0.6, 0.6, 0.6, 0.6, 0.6, 0.6, 0.6, 0.6, 0.6, 0.6, 0.6, 0.6, 0.6, 0.6], [0.4, 0.3333333333333333, 0.3333333333333333, 0.26666666666666666, 0.3333333333333333, 0.3333333333333333, 0.3333333333333333, 0.4, 0.4, 0.5333333333333333, 0.6, 0.6, 0.6, 0.6, 0.6, 0.6666666666666666, 0.6666666666666666, 0.6666666666666666, 0.6666666666666666, 0.6666666666666666, 0.6666666666666666, 0.6666666666666666, 0.6666666666666666, 0.6666666666666666, 0.6666666666666666, 0.6666666666666666, 0.6666666666666666, 0.6666666666666666, 0.6666666666666666, 0.6, 0.6, 0.6, 0.6, 0.6, 0.6, 0.6, 0.6, 0.6, 0.6, 0.6, 0.6, 0.6, 0.6, 0.6, 0.6, 0.6, 0.6, 0.6, 0.6, 0.6], [0.4, 0.3333333333333333, 0.3333333333333333, 0.26666666666666666, 0.3333333333333333, 0.3333333333333333, 0.4, 0.3333333333333333, 0.4, 0.4666666666666667, 0.5333333333333333, 0.6, 0.5333333333333333, 0.5333333333333333, 0.6, 0.6, 0.6666666666666666, 0.6666666666666666, 0.6666666666666666, 0.6666666666666666, 0.6666666666666666, 0.6666666666666666, 0.6666666666666666, 0.6666666666666666, 0.6666666666666666, 0.6666666666666666, 0.6666666666666666, 0.6666666666666666, 0.6666666666666666, 0.6, 0.6, 0.6, 0.6, 0.6, 0.6, 0.6, 0.6, 0.6, 0.6, 0.6, 0.6, 0.6, 0.6, 0.6, 0.6, 0.6, 0.6, 0.6, 0.6, 0.6], [0.4, 0.3333333333333333, 0.3333333333333333, 0.3333333333333333, 0.3333333333333333, 0.3333333333333333, 0.3333333333333333, 0.3333333333333333, 0.3333333333333333, 0.4, 0.4666666666666667, 0.5333333333333333, 0.5333333333333333, 0.5333333333333333, 0.5333333333333333, 0.6, 0.6, 0.6, 0.6, 0.6666666666666666, 0.6666666666666666, 0.6666666666666666, 0.6666666666666666, 0.6, 0.6, 0.6, 0.6666666666666666, 0.6666666666666666, 0.6666666666666666, 0.6, 0.6, 0.6, 0.6, 0.6, 0.6, 0.6, 0.6, 0.6, 0.6, 0.6, 0.6, 0.6, 0.6, 0.6, 0.6, 0.6, 0.6, 0.6, 0.6, 0.6], [0.3333333333333333, 0.3333333333333333, 0.26666666666666666, 0.26666666666666666, 0.3333333333333333, 0.26666666666666666, 0.3333333333333333, 0.4, 0.4, 0.4, 0.4, 0.5333333333333333, 0.5333333333333333, 0.5333333333333333, 0.5333333333333333, 0.5333333333333333, 0.6, 0.6, 0.6, 0.6, 0.6, 0.6, 0.6666666666666666, 0.6666666666666666, 0.6666666666666666, 0.6, 0.6, 0.6, 0.6, 0.6, 0.6, 0.6, 0.6, 0.6, 0.6, 0.6, 0.6, 0.6, 0.6, 0.6, 0.6, 0.6, 0.6, 0.6, 0.6, 0.6, 0.6, 0.6, 0.6, 0.6], [0.3333333333333333, 0.3333333333333333, 0.26666666666666666, 0.3333333333333333, 0.3333333333333333, 0.26666666666666666, 0.3333333333333333, 0.4, 0.4, 0.4, 0.4666666666666667, 0.4, 0.5333333333333333, 0.5333333333333333, 0.5333333333333333, 0.5333333333333333, 0.5333333333333333, 0.6, 0.6, 0.6, 0.6, 0.6, 0.6, 0.6, 0.6, 0.6666666666666666, 0.6666666666666666, 0.6, 0.6, 0.6, 0.6, 0.6, 0.6, 0.6, 0.6, 0.6, 0.6, 0.6, 0.6, 0.6, 0.6, 0.6, 0.6, 0.6, 0.6, 0.6, 0.6, 0.6, 0.6, 0.6], [0.3333333333333333, 0.3333333333333333, 0.3333333333333333, 0.3333333333333333, 0.3333333333333333, 0.3333333333333333, 0.3333333333333333, 0.3333333333333333, 0.4666666666666667, 0.4666666666666667, 0.4666666666666667, 0.4666666666666667, 0.4666666666666667, 0.6, 0.5333333333333333, 0.5333333333333333, 0.5333333333333333, 0.5333333333333333, 0.5333333333333333, 0.5333333333333333, 0.6, 0.6, 0.6, 0.6, 0.6, 0.6, 0.6, 0.6, 0.6666666666666666, 0.6, 0.6, 0.6, 0.6, 0.6, 0.6, 0.6, 0.6, 0.6, 0.6, 0.6, 0.6, 0.6, 0.6, 0.6, 0.6, 0.6, 0.6, 0.6, 0.6, 0.6], [0.3333333333333333, 0.3333333333333333, 0.3333333333333333, 0.3333333333333333, 0.3333333333333333, 0.3333333333333333, 0.3333333333333333, 0.3333333333333333, 0.4, 0.4666666666666667, 0.4666666666666667, 0.4666666666666667, 0.4666666666666667, 0.4666666666666667, 0.5333333333333333, 0.5333333333333333, 0.5333333333333333, 0.5333333333333333, 0.5333333333333333, 0.5333333333333333, 0.5333333333333333, 0.6, 0.6, 0.6, 0.6, 0.6, 0.6, 0.6, 0.6, 0.6, 0.6, 0.6, 0.6, 0.6, 0.6, 0.6, 0.6, 0.6, 0.6, 0.6, 0.6, 0.6666666666666666, 0.6, 0.6, 0.6, 0.6, 0.6, 0.6, 0.6, 0.6], [0.3333333333333333, 0.3333333333333333, 0.3333333333333333, 0.3333333333333333, 0.3333333333333333, 0.3333333333333333, 0.3333333333333333, 0.3333333333333333, 0.4, 0.4666666666666667, 0.4666666666666667, 0.4666666666666667, 0.4666666666666667, 0.4666666666666667, 0.4666666666666667, 0.4666666666666667, 0.5333333333333333, 0.5333333333333333, 0.5333333333333333, 0.5333333333333333, 0.5333333333333333, 0.5333333333333333, 0.6, 0.6, 0.6, 0.6, 0.6666666666666666, 0.6666666666666666, 0.6666666666666666, 0.6666666666666666, 0.6, 0.6, 0.6, 0.6, 0.6, 0.6666666666666666, 0.6666666666666666, 0.6666666666666666, 0.6666666666666666, 0.6666666666666666, 0.6666666666666666, 0.6, 0.6, 0.6, 0.6, 0.6, 0.6, 0.6, 0.6, 0.6], [0.3333333333333333, 0.3333333333333333, 0.3333333333333333, 0.3333333333333333, 0.3333333333333333, 0.3333333333333333, 0.3333333333333333, 0.3333333333333333, 0.3333333333333333, 0.4, 0.4666666666666667, 0.4666666666666667, 0.4666666666666667, 0.4666666666666667, 0.4666666666666667, 0.4666666666666667, 0.5333333333333333, 0.5333333333333333, 0.5333333333333333, 0.5333333333333333, 0.5333333333333333, 0.5333333333333333, 0.6, 0.6666666666666666, 0.6666666666666666, 0.6666666666666666, 0.6666666666666666, 0.6666666666666666, 0.6666666666666666, 0.6666666666666666, 0.6, 0.6, 0.6, 0.6, 0.6666666666666666, 0.6666666666666666, 0.6666666666666666, 0.6666666666666666, 0.6666666666666666, 0.6, 0.6, 0.6, 0.6, 0.6, 0.6, 0.6, 0.6, 0.6, 0.6, 0.6], [0.3333333333333333, 0.3333333333333333, 0.3333333333333333, 0.3333333333333333, 0.3333333333333333, 0.3333333333333333, 0.3333333333333333, 0.3333333333333333, 0.3333333333333333, 0.4, 0.4, 0.4666666666666667, 0.4666666666666667, 0.5333333333333333, 0.5333333333333333, 0.5333333333333333, 0.5333333333333333, 0.5333333333333333, 0.5333333333333333, 0.5333333333333333, 0.5333333333333333, 0.5333333333333333, 0.5333333333333333, 0.6, 0.6666666666666666, 0.6666666666666666, 0.6666666666666666, 0.6666666666666666, 0.6666666666666666, 0.6666666666666666, 0.6, 0.6, 0.6, 0.6, 0.6, 0.6, 0.6, 0.6, 0.6, 0.6, 0.6, 0.6, 0.6, 0.6, 0.6, 0.6, 0.6, 0.6, 0.6, 0.6], [0.3333333333333333, 0.3333333333333333, 0.3333333333333333, 0.3333333333333333, 0.3333333333333333, 0.3333333333333333, 0.3333333333333333, 0.3333333333333333, 0.4, 0.4, 0.4666666666666667, 0.4666666666666667, 0.4666666666666667, 0.4666666666666667, 0.5333333333333333, 0.5333333333333333, 0.5333333333333333, 0.5333333333333333, 0.5333333333333333, 0.5333333333333333, 0.4666666666666667, 0.5333333333333333, 0.5333333333333333, 0.5333333333333333, 0.6, 0.6666666666666666, 0.6666666666666666, 0.6666666666666666, 0.6666666666666666, 0.6666666666666666, 0.6, 0.6, 0.6, 0.6, 0.6, 0.5333333333333333, 0.5333333333333333, 0.6, 0.6, 0.6, 0.6, 0.6, 0.6, 0.6, 0.6, 0.6, 0.6, 0.6, 0.6, 0.6], [0.26666666666666666, 0.3333333333333333, 0.26666666666666666, 0.26666666666666666, 0.3333333333333333, 0.4, 0.4, 0.4, 0.4, 0.4, 0.4666666666666667, 0.4666666666666667, 0.4666666666666667, 0.4666666666666667, 0.4666666666666667, 0.5333333333333333, 0.5333333333333333, 0.5333333333333333, 0.5333333333333333, 0.5333333333333333, 0.5333333333333333, 0.4666666666666667, 0.4666666666666667, 0.5333333333333333, 0.5333333333333333, 0.6, 0.6666666666666666, 0.6666666666666666, 0.6666666666666666, 0.6666666666666666, 0.6, 0.6, 0.5333333333333333, 0.5333333333333333, 0.5333333333333333, 0.5333333333333333, 0.5333333333333333, 0.5333333333333333, 0.5333333333333333, 0.5333333333333333, 0.6, 0.6, 0.6, 0.6, 0.6, 0.6, 0.6, 0.6, 0.6, 0.6], [0.26666666666666666, 0.3333333333333333, 0.3333333333333333, 0.3333333333333333, 0.3333333333333333, 0.4, 0.4, 0.4, 0.4, 0.4, 0.4, 0.4, 0.4666666666666667, 0.4666666666666667, 0.4666666666666667, 0.4666666666666667, 0.5333333333333333, 0.5333333333333333, 0.5333333333333333, 0.5333333333333333, 0.5333333333333333, 0.4666666666666667, 0.4666666666666667, 0.5333333333333333, 0.5333333333333333, 0.5333333333333333, 0.6, 0.6666666666666666, 0.6666666666666666, 0.6, 0.5333333333333333, 0.5333333333333333, 0.5333333333333333, 0.5333333333333333, 0.5333333333333333, 0.5333333333333333, 0.5333333333333333, 0.5333333333333333, 0.5333333333333333, 0.5333333333333333, 0.5333333333333333, 0.5333333333333333, 0.6, 0.6, 0.6, 0.6, 0.6, 0.6, 0.6, 0.6], [0.3333333333333333, 0.3333333333333333, 0.3333333333333333, 0.3333333333333333, 0.3333333333333333, 0.4, 0.4, 0.4, 0.4, 0.4, 0.4, 0.4, 0.4666666666666667, 0.4666666666666667, 0.4666666666666667, 0.4666666666666667, 0.4666666666666667, 0.4666666666666667, 0.4666666666666667, 0.4666666666666667, 0.4666666666666667, 0.4666666666666667, 0.4666666666666667, 0.4666666666666667, 0.5333333333333333, 0.5333333333333333, 0.6, 0.6, 0.6, 0.6, 0.5333333333333333, 0.5333333333333333, 0.5333333333333333, 0.5333333333333333, 0.5333333333333333, 0.5333333333333333, 0.5333333333333333, 0.5333333333333333, 0.5333333333333333, 0.5333333333333333, 0.5333333333333333, 0.5333333333333333, 0.5333333333333333, 0.5333333333333333, 0.5333333333333333, 0.6, 0.6, 0.6, 0.6, 0.6], [0.3333333333333333, 0.3333333333333333, 0.3333333333333333, 0.3333333333333333, 0.3333333333333333, 0.4, 0.4, 0.4, 0.4, 0.4, 0.4, 0.4, 0.4, 0.4666666666666667, 0.4666666666666667, 0.4666666666666667, 0.4666666666666667, 0.4666666666666667, 0.4666666666666667, 0.4666666666666667, 0.5333333333333333, 0.5333333333333333, 0.5333333333333333, 0.5333333333333333, 0.5333333333333333, 0.5333333333333333, 0.6, 0.6, 0.6, 0.6, 0.6, 0.5333333333333333, 0.5333333333333333, 0.5333333333333333, 0.5333333333333333, 0.5333333333333333, 0.5333333333333333, 0.5333333333333333, 0.5333333333333333, 0.5333333333333333, 0.5333333333333333, 0.5333333333333333, 0.5333333333333333, 0.5333333333333333, 0.5333333333333333, 0.5333333333333333, 0.5333333333333333, 0.6, 0.6, 0.6], [0.3333333333333333, 0.3333333333333333, 0.3333333333333333, 0.3333333333333333, 0.3333333333333333, 0.4, 0.4, 0.4, 0.4, 0.4, 0.4, 0.4666666666666667, 0.4666666666666667, 0.4666666666666667, 0.4666666666666667, 0.4666666666666667, 0.4666666666666667, 0.4666666666666667, 0.4666666666666667, 0.4666666666666667, 0.4666666666666667, 0.5333333333333333, 0.5333333333333333, 0.5333333333333333, 0.5333333333333333, 0.5333333333333333, 0.5333333333333333, 0.6, 0.6, 0.6, 0.6, 0.5333333333333333, 0.5333333333333333, 0.5333333333333333, 0.5333333333333333, 0.5333333333333333, 0.5333333333333333, 0.5333333333333333, 0.5333333333333333, 0.5333333333333333, 0.5333333333333333, 0.5333333333333333, 0.5333333333333333, 0.5333333333333333, 0.5333333333333333, 0.5333333333333333, 0.5333333333333333, 0.5333333333333333, 0.5333333333333333, 0.5333333333333333], [0.3333333333333333, 0.3333333333333333, 0.3333333333333333, 0.3333333333333333, 0.3333333333333333, 0.4, 0.4, 0.4666666666666667, 0.4666666666666667, 0.4666666666666667, 0.4666666666666667, 0.4666666666666667, 0.4666666666666667, 0.4666666666666667, 0.4666666666666667, 0.4666666666666667, 0.4666666666666667, 0.4666666666666667, 0.4666666666666667, 0.4666666666666667, 0.4666666666666667, 0.4666666666666667, 0.5333333333333333, 0.5333333333333333, 0.4666666666666667, 0.5333333333333333, 0.5333333333333333, 0.5333333333333333, 0.5333333333333333, 0.6, 0.6, 0.5333333333333333, 0.5333333333333333, 0.5333333333333333, 0.5333333333333333, 0.5333333333333333, 0.5333333333333333, 0.5333333333333333, 0.5333333333333333, 0.5333333333333333, 0.5333333333333333, 0.5333333333333333, 0.5333333333333333, 0.5333333333333333, 0.5333333333333333, 0.5333333333333333, 0.5333333333333333, 0.5333333333333333, 0.5333333333333333, 0.5333333333333333], [0.3333333333333333, 0.3333333333333333, 0.4, 0.4, 0.4, 0.4666666666666667, 0.4666666666666667, 0.4666666666666667, 0.4666666666666667, 0.4666666666666667, 0.4666666666666667, 0.4666666666666667, 0.4666666666666667, 0.4666666666666667, 0.4666666666666667, 0.4666666666666667, 0.4666666666666667, 0.4666666666666667, 0.4666666666666667, 0.4666666666666667, 0.4666666666666667, 0.4666666666666667, 0.4666666666666667, 0.5333333333333333, 0.4666666666666667, 0.4666666666666667, 0.5333333333333333, 0.5333333333333333, 0.5333333333333333, 0.6, 0.6, 0.5333333333333333, 0.5333333333333333, 0.5333333333333333, 0.5333333333333333, 0.5333333333333333, 0.5333333333333333, 0.5333333333333333, 0.5333333333333333, 0.5333333333333333, 0.5333333333333333, 0.5333333333333333, 0.5333333333333333, 0.5333333333333333, 0.5333333333333333, 0.5333333333333333, 0.5333333333333333, 0.5333333333333333, 0.5333333333333333, 0.5333333333333333], [0.4, 0.4, 0.4, 0.4, 0.4, 0.4666666666666667, 0.4666666666666667, 0.4666666666666667, 0.4666666666666667, 0.4666666666666667, 0.4666666666666667, 0.4666666666666667, 0.4666666666666667, 0.4666666666666667, 0.4666666666666667, 0.4666666666666667, 0.4666666666666667, 0.4666666666666667, 0.4666666666666667, 0.4666666666666667, 0.4666666666666667, 0.4666666666666667, 0.4666666666666667, 0.4666666666666667, 0.5333333333333333, 0.4666666666666667, 0.4666666666666667, 0.5333333333333333, 0.5333333333333333, 0.5333333333333333, 0.6, 0.4666666666666667, 0.4666666666666667, 0.5333333333333333, 0.5333333333333333, 0.5333333333333333, 0.5333333333333333, 0.5333333333333333, 0.5333333333333333, 0.5333333333333333, 0.5333333333333333, 0.5333333333333333, 0.5333333333333333, 0.5333333333333333, 0.5333333333333333, 0.5333333333333333, 0.5333333333333333, 0.5333333333333333, 0.5333333333333333, 0.5333333333333333], [0.4, 0.4, 0.4, 0.4, 0.4, 0.4666666666666667, 0.4666666666666667, 0.4666666666666667, 0.4666666666666667, 0.4666666666666667, 0.4666666666666667, 0.4666666666666667, 0.4666666666666667, 0.4666666666666667, 0.4666666666666667, 0.4666666666666667, 0.4, 0.4, 0.4, 0.4666666666666667, 0.4666666666666667, 0.4666666666666667, 0.4666666666666667, 0.4666666666666667, 0.4666666666666667, 0.4666666666666667, 0.4666666666666667, 0.5333333333333333, 0.5333333333333333, 0.5333333333333333, 0.5333333333333333, 0.4666666666666667, 0.4666666666666667, 0.4666666666666667, 0.4666666666666667, 0.4666666666666667, 0.5333333333333333, 0.5333333333333333, 0.5333333333333333, 0.5333333333333333, 0.5333333333333333, 0.5333333333333333, 0.5333333333333333, 0.5333333333333333, 0.5333333333333333, 0.5333333333333333, 0.5333333333333333, 0.5333333333333333, 0.5333333333333333, 0.5333333333333333], [0.4666666666666667, 0.4666666666666667, 0.4666666666666667, 0.4666666666666667, 0.4666666666666667, 0.4666666666666667, 0.5333333333333333, 0.5333333333333333, 0.5333333333333333, 0.5333333333333333, 0.5333333333333333, 0.5333333333333333, 0.5333333333333333, 0.5333333333333333, 0.4666666666666667, 0.4, 0.4, 0.4, 0.4, 0.4666666666666667, 0.4666666666666667, 0.4666666666666667, 0.4666666666666667, 0.4666666666666667, 0.4666666666666667, 0.4666666666666667, 0.4666666666666667, 0.4666666666666667, 0.5333333333333333, 0.5333333333333333, 0.5333333333333333, 0.4666666666666667, 0.4666666666666667, 0.4666666666666667, 0.4666666666666667, 0.4666666666666667, 0.4666666666666667, 0.4666666666666667, 0.4666666666666667, 0.5333333333333333, 0.5333333333333333, 0.5333333333333333, 0.5333333333333333, 0.5333333333333333, 0.5333333333333333, 0.5333333333333333, 0.5333333333333333, 0.5333333333333333, 0.5333333333333333, 0.5333333333333333], [0.4666666666666667, 0.4666666666666667, 0.4666666666666667, 0.4666666666666667, 0.4666666666666667, 0.4666666666666667, 0.5333333333333333, 0.5333333333333333, 0.5333333333333333, 0.5333333333333333, 0.5333333333333333, 0.5333333333333333, 0.5333333333333333, 0.4666666666666667, 0.4666666666666667, 0.4666666666666667, 0.4666666666666667, 0.4666666666666667, 0.4666666666666667, 0.4666666666666667, 0.4666666666666667, 0.4666666666666667, 0.4666666666666667, 0.4666666666666667, 0.4666666666666667, 0.4666666666666667, 0.4666666666666667, 0.4666666666666667, 0.4666666666666667, 0.5333333333333333, 0.5333333333333333, 0.4666666666666667, 0.4666666666666667, 0.4666666666666667, 0.4666666666666667, 0.4666666666666667, 0.4666666666666667, 0.4666666666666667, 0.4666666666666667, 0.4666666666666667, 0.4666666666666667, 0.4666666666666667, 0.5333333333333333, 0.5333333333333333, 0.5333333333333333, 0.5333333333333333, 0.5333333333333333, 0.5333333333333333, 0.5333333333333333, 0.5333333333333333], [0.4666666666666667, 0.4666666666666667, 0.4666666666666667, 0.4666666666666667, 0.4666666666666667, 0.4666666666666667, 0.5333333333333333, 0.5333333333333333, 0.5333333333333333, 0.5333333333333333, 0.5333333333333333, 0.4666666666666667, 0.4666666666666667, 0.4666666666666667, 0.4666666666666667, 0.4666666666666667, 0.4666666666666667, 0.4666666666666667, 0.4666666666666667, 0.4666666666666667, 0.4666666666666667, 0.4666666666666667, 0.4666666666666667, 0.5333333333333333, 0.5333333333333333, 0.5333333333333333, 0.5333333333333333, 0.5333333333333333, 0.4666666666666667, 0.4666666666666667, 0.5333333333333333, 0.4666666666666667, 0.4666666666666667, 0.4666666666666667, 0.4666666666666667, 0.4666666666666667, 0.4666666666666667, 0.4666666666666667, 0.4666666666666667, 0.4666666666666667, 0.4666666666666667, 0.4666666666666667, 0.4666666666666667, 0.4666666666666667, 0.4666666666666667, 0.5333333333333333, 0.5333333333333333, 0.5333333333333333, 0.5333333333333333, 0.5333333333333333], [0.4666666666666667, 0.4666666666666667, 0.4666666666666667, 0.4666666666666667, 0.4666666666666667, 0.4666666666666667, 0.5333333333333333, 0.5333333333333333, 0.5333333333333333, 0.5333333333333333, 0.4666666666666667, 0.4666666666666667, 0.4666666666666667, 0.4666666666666667, 0.4666666666666667, 0.4666666666666667, 0.4666666666666667, 0.4666666666666667, 0.4666666666666667, 0.4666666666666667, 0.4666666666666667, 0.4666666666666667, 0.4666666666666667, 0.4666666666666667, 0.5333333333333333, 0.5333333333333333, 0.5333333333333333, 0.5333333333333333, 0.5333333333333333, 0.5333333333333333, 0.5333333333333333, 0.4666666666666667, 0.4666666666666667, 0.4666666666666667, 0.4666666666666667, 0.4666666666666667, 0.4666666666666667, 0.4666666666666667, 0.4666666666666667, 0.4666666666666667, 0.4666666666666667, 0.4666666666666667, 0.4666666666666667, 0.4666666666666667, 0.4666666666666667, 0.4666666666666667, 0.4666666666666667, 0.4666666666666667, 0.4666666666666667, 0.4666666666666667], [0.4666666666666667, 0.4666666666666667, 0.4666666666666667, 0.4666666666666667, 0.4666666666666667, 0.4666666666666667, 0.5333333333333333, 0.5333333333333333, 0.5333333333333333, 0.5333333333333333, 0.4666666666666667, 0.4666666666666667, 0.4666666666666667, 0.4666666666666667, 0.4666666666666667, 0.4666666666666667, 0.4666666666666667, 0.4666666666666667, 0.4666666666666667, 0.4666666666666667, 0.4666666666666667, 0.4666666666666667, 0.4666666666666667, 0.4666666666666667, 0.4666666666666667, 0.5333333333333333, 0.5333333333333333, 0.5333333333333333, 0.5333333333333333, 0.5333333333333333, 0.5333333333333333, 0.4666666666666667, 0.4666666666666667, 0.4666666666666667, 0.4666666666666667, 0.4666666666666667, 0.4666666666666667, 0.4666666666666667, 0.4666666666666667, 0.4666666666666667, 0.4666666666666667, 0.4666666666666667, 0.4666666666666667, 0.4666666666666667, 0.4666666666666667, 0.4666666666666667, 0.4666666666666667, 0.4666666666666667, 0.4666666666666667, 0.4666666666666667], [0.4666666666666667, 0.4666666666666667, 0.4666666666666667, 0.4666666666666667, 0.4666666666666667, 0.4666666666666667, 0.4666666666666667, 0.5333333333333333, 0.5333333333333333, 0.5333333333333333, 0.4666666666666667, 0.4666666666666667, 0.4666666666666667, 0.4666666666666667, 0.4666666666666667, 0.4666666666666667, 0.4666666666666667, 0.4666666666666667, 0.4666666666666667, 0.4666666666666667, 0.4666666666666667, 0.4666666666666667, 0.4666666666666667, 0.4666666666666667, 0.4666666666666667, 0.4666666666666667, 0.5333333333333333, 0.5333333333333333, 0.5333333333333333, 0.5333333333333333, 0.5333333333333333, 0.5333333333333333, 0.4666666666666667, 0.4666666666666667, 0.4666666666666667, 0.4666666666666667, 0.4666666666666667, 0.4666666666666667, 0.4666666666666667, 0.4666666666666667, 0.4666666666666667, 0.4666666666666667, 0.4666666666666667, 0.4666666666666667, 0.4666666666666667, 0.4666666666666667, 0.4666666666666667, 0.4666666666666667, 0.4666666666666667, 0.4666666666666667], [0.4666666666666667, 0.4666666666666667, 0.4666666666666667, 0.4666666666666667, 0.4666666666666667, 0.4666666666666667, 0.4666666666666667, 0.5333333333333333, 0.5333333333333333, 0.5333333333333333, 0.4666666666666667, 0.4666666666666667, 0.4666666666666667, 0.4666666666666667, 0.4666666666666667, 0.4666666666666667, 0.4666666666666667, 0.4666666666666667, 0.4666666666666667, 0.4666666666666667, 0.4666666666666667, 0.4666666666666667, 0.4666666666666667, 0.4666666666666667, 0.4666666666666667, 0.4666666666666667, 0.5333333333333333, 0.5333333333333333, 0.5333333333333333, 0.5333333333333333, 0.5333333333333333, 0.5333333333333333, 0.4666666666666667, 0.4666666666666667, 0.4666666666666667, 0.4666666666666667, 0.4666666666666667, 0.4666666666666667, 0.4666666666666667, 0.4666666666666667, 0.4666666666666667, 0.4666666666666667, 0.4666666666666667, 0.4666666666666667, 0.4666666666666667, 0.4666666666666667, 0.4666666666666667, 0.4666666666666667, 0.4666666666666667, 0.4666666666666667], [0.4666666666666667, 0.4666666666666667, 0.4666666666666667, 0.4666666666666667, 0.4666666666666667, 0.4666666666666667, 0.4666666666666667, 0.5333333333333333, 0.5333333333333333, 0.5333333333333333, 0.4666666666666667, 0.4666666666666667, 0.4666666666666667, 0.4666666666666667, 0.4666666666666667, 0.4666666666666667, 0.4666666666666667, 0.4666666666666667, 0.4666666666666667, 0.4666666666666667, 0.4666666666666667, 0.4666666666666667, 0.4666666666666667, 0.4666666666666667, 0.4666666666666667, 0.4666666666666667, 0.4666666666666667, 0.5333333333333333, 0.5333333333333333, 0.5333333333333333, 0.5333333333333333, 0.5333333333333333, 0.4666666666666667, 0.4666666666666667, 0.4666666666666667, 0.4666666666666667, 0.4666666666666667, 0.4666666666666667, 0.4666666666666667, 0.4666666666666667, 0.4666666666666667, 0.4666666666666667, 0.4666666666666667, 0.4666666666666667, 0.4666666666666667, 0.4666666666666667, 0.4666666666666667, 0.4666666666666667, 0.4666666666666667, 0.4666666666666667], [0.4666666666666667, 0.4666666666666667, 0.4666666666666667, 0.4666666666666667, 0.4666666666666667, 0.4666666666666667, 0.4666666666666667, 0.5333333333333333, 0.5333333333333333, 0.5333333333333333, 0.5333333333333333, 0.4666666666666667, 0.4666666666666667, 0.4666666666666667, 0.4666666666666667, 0.4666666666666667, 0.4666666666666667, 0.4666666666666667, 0.4666666666666667, 0.4666666666666667, 0.4666666666666667, 0.4666666666666667, 0.4666666666666667, 0.4666666666666667, 0.4666666666666667, 0.4666666666666667, 0.4666666666666667, 0.4666666666666667, 0.5333333333333333, 0.5333333333333333, 0.5333333333333333, 0.5333333333333333, 0.4666666666666667, 0.4666666666666667, 0.4666666666666667, 0.4666666666666667, 0.4666666666666667, 0.4666666666666667, 0.4666666666666667, 0.4666666666666667, 0.4666666666666667, 0.4666666666666667, 0.4666666666666667, 0.4666666666666667, 0.4666666666666667, 0.4666666666666667, 0.4666666666666667, 0.4666666666666667, 0.4666666666666667, 0.4666666666666667], [0.4666666666666667, 0.4666666666666667, 0.4666666666666667, 0.4666666666666667, 0.4666666666666667, 0.4666666666666667, 0.4666666666666667, 0.5333333333333333, 0.5333333333333333, 0.5333333333333333, 0.5333333333333333, 0.4666666666666667, 0.4666666666666667, 0.4666666666666667, 0.4666666666666667, 0.4666666666666667, 0.4666666666666667, 0.4666666666666667, 0.4666666666666667, 0.4666666666666667, 0.4666666666666667, 0.4666666666666667, 0.4666666666666667, 0.4666666666666667, 0.4666666666666667, 0.4666666666666667, 0.4666666666666667, 0.4666666666666667, 0.4666666666666667, 0.5333333333333333, 0.4666666666666667, 0.5333333333333333, 0.4666666666666667, 0.4666666666666667, 0.4666666666666667, 0.4666666666666667, 0.4666666666666667, 0.4666666666666667, 0.4666666666666667, 0.4666666666666667, 0.4666666666666667, 0.4666666666666667, 0.4666666666666667, 0.4666666666666667, 0.4666666666666667, 0.4666666666666667, 0.4666666666666667, 0.4666666666666667, 0.4666666666666667, 0.4666666666666667], [0.4666666666666667, 0.4666666666666667, 0.4666666666666667, 0.4666666666666667, 0.4666666666666667, 0.4666666666666667, 0.4666666666666667, 0.5333333333333333, 0.5333333333333333, 0.5333333333333333, 0.5333333333333333, 0.4666666666666667, 0.4666666666666667, 0.4666666666666667, 0.4666666666666667, 0.4666666666666667, 0.4666666666666667, 0.4666666666666667, 0.4666666666666667, 0.4666666666666667, 0.4666666666666667, 0.4666666666666667, 0.4666666666666667, 0.4666666666666667, 0.4666666666666667, 0.4666666666666667, 0.4666666666666667, 0.4666666666666667, 0.4666666666666667, 0.5333333333333333, 0.4666666666666667, 0.4666666666666667, 0.4666666666666667, 0.4666666666666667, 0.4666666666666667, 0.4666666666666667, 0.4666666666666667, 0.4666666666666667, 0.4666666666666667, 0.4666666666666667, 0.4666666666666667, 0.4666666666666667, 0.4666666666666667, 0.4666666666666667, 0.4666666666666667, 0.4666666666666667, 0.4666666666666667, 0.4666666666666667, 0.4666666666666667, 0.4666666666666667], [0.4666666666666667, 0.4666666666666667, 0.4666666666666667, 0.4666666666666667, 0.4666666666666667, 0.4666666666666667, 0.4666666666666667, 0.5333333333333333, 0.5333333333333333, 0.5333333333333333, 0.5333333333333333, 0.4666666666666667, 0.4666666666666667, 0.4666666666666667, 0.4666666666666667, 0.4666666666666667, 0.4666666666666667, 0.4666666666666667, 0.4666666666666667, 0.4666666666666667, 0.4666666666666667, 0.4666666666666667, 0.4666666666666667, 0.4666666666666667, 0.4666666666666667, 0.4666666666666667, 0.4666666666666667, 0.4666666666666667, 0.4666666666666667, 0.4666666666666667, 0.5333333333333333, 0.4666666666666667, 0.4666666666666667, 0.4666666666666667, 0.4666666666666667, 0.4666666666666667, 0.4666666666666667, 0.4666666666666667, 0.4666666666666667, 0.4666666666666667, 0.4666666666666667, 0.4666666666666667, 0.4666666666666667, 0.4666666666666667, 0.4666666666666667, 0.4666666666666667, 0.4666666666666667, 0.4666666666666667, 0.4666666666666667, 0.4666666666666667], [0.4666666666666667, 0.4666666666666667, 0.4666666666666667, 0.4666666666666667, 0.4666666666666667, 0.4666666666666667, 0.4666666666666667, 0.5333333333333333, 0.5333333333333333, 0.5333333333333333, 0.5333333333333333, 0.5333333333333333, 0.4666666666666667, 0.4666666666666667, 0.4666666666666667, 0.4666666666666667, 0.4666666666666667, 0.4666666666666667, 0.4666666666666667, 0.4666666666666667, 0.4666666666666667, 0.4666666666666667, 0.4666666666666667, 0.4666666666666667, 0.4666666666666667, 0.4666666666666667, 0.4666666666666667, 0.4666666666666667, 0.4666666666666667, 0.4666666666666667, 0.4666666666666667, 0.4666666666666667, 0.4666666666666667, 0.4666666666666667, 0.4666666666666667, 0.4666666666666667, 0.4666666666666667, 0.4666666666666667, 0.4666666666666667, 0.4666666666666667, 0.4666666666666667, 0.4666666666666667, 0.4666666666666667, 0.4666666666666667, 0.4666666666666667, 0.4666666666666667, 0.4666666666666667, 0.4666666666666667, 0.4666666666666667, 0.4666666666666667], [0.4666666666666667, 0.4666666666666667, 0.4666666666666667, 0.4666666666666667, 0.4666666666666667, 0.4666666666666667, 0.4666666666666667, 0.5333333333333333, 0.5333333333333333, 0.5333333333333333, 0.5333333333333333, 0.5333333333333333, 0.4666666666666667, 0.4666666666666667, 0.4666666666666667, 0.4666666666666667, 0.4666666666666667, 0.4666666666666667, 0.4666666666666667, 0.4666666666666667, 0.4666666666666667, 0.4666666666666667, 0.4666666666666667, 0.4666666666666667, 0.4666666666666667, 0.4666666666666667, 0.4666666666666667, 0.4666666666666667, 0.4666666666666667, 0.4666666666666667, 0.4666666666666667, 0.4666666666666667, 0.4666666666666667, 0.4666666666666667, 0.4666666666666667, 0.4666666666666667, 0.4666666666666667, 0.4666666666666667, 0.4666666666666667, 0.4666666666666667, 0.4666666666666667, 0.4666666666666667, 0.4666666666666667, 0.4666666666666667, 0.4666666666666667, 0.4666666666666667, 0.4666666666666667, 0.4666666666666667, 0.4666666666666667, 0.4666666666666667], [0.4666666666666667, 0.4666666666666667, 0.4666666666666667, 0.4666666666666667, 0.4666666666666667, 0.4666666666666667, 0.4666666666666667, 0.5333333333333333, 0.5333333333333333, 0.5333333333333333, 0.5333333333333333, 0.5333333333333333, 0.4666666666666667, 0.4666666666666667, 0.4666666666666667, 0.4666666666666667, 0.4666666666666667, 0.4666666666666667, 0.4666666666666667, 0.4666666666666667, 0.4666666666666667, 0.4666666666666667, 0.4666666666666667, 0.4666666666666667, 0.4666666666666667, 0.4666666666666667, 0.4666666666666667, 0.4666666666666667, 0.4666666666666667, 0.4666666666666667, 0.4666666666666667, 0.4666666666666667, 0.4666666666666667, 0.4666666666666667, 0.4666666666666667, 0.4666666666666667, 0.4666666666666667, 0.4666666666666667, 0.4666666666666667, 0.4666666666666667, 0.4666666666666667, 0.4666666666666667, 0.4666666666666667, 0.4666666666666667, 0.4666666666666667, 0.4666666666666667, 0.4666666666666667, 0.4666666666666667, 0.4666666666666667, 0.4666666666666667], [0.4666666666666667, 0.4666666666666667, 0.4666666666666667, 0.4666666666666667, 0.4666666666666667, 0.4666666666666667, 0.4666666666666667, 0.5333333333333333, 0.5333333333333333, 0.5333333333333333, 0.5333333333333333, 0.5333333333333333, 0.4666666666666667, 0.4666666666666667, 0.4666666666666667, 0.4666666666666667, 0.4666666666666667, 0.4666666666666667, 0.4666666666666667, 0.4666666666666667, 0.4666666666666667, 0.4666666666666667, 0.4666666666666667, 0.4666666666666667, 0.4666666666666667, 0.4666666666666667, 0.4666666666666667, 0.4666666666666667, 0.4666666666666667, 0.4666666666666667, 0.4666666666666667, 0.4666666666666667, 0.4666666666666667, 0.4666666666666667, 0.4666666666666667, 0.4666666666666667, 0.4666666666666667, 0.4666666666666667, 0.4666666666666667, 0.4666666666666667, 0.4666666666666667, 0.4666666666666667, 0.4666666666666667, 0.4666666666666667, 0.4666666666666667, 0.4666666666666667, 0.4666666666666667, 0.4666666666666667, 0.4666666666666667, 0.4666666666666667], [0.4666666666666667, 0.4666666666666667, 0.4666666666666667, 0.4666666666666667, 0.4666666666666667, 0.4666666666666667, 0.4666666666666667, 0.5333333333333333, 0.5333333333333333, 0.5333333333333333, 0.5333333333333333, 0.5333333333333333, 0.5333333333333333, 0.4666666666666667, 0.4666666666666667, 0.4666666666666667, 0.4666666666666667, 0.4666666666666667, 0.4666666666666667, 0.4666666666666667, 0.4666666666666667, 0.4666666666666667, 0.4666666666666667, 0.4666666666666667, 0.4666666666666667, 0.4666666666666667, 0.4666666666666667, 0.4666666666666667, 0.4666666666666667, 0.4666666666666667, 0.4666666666666667, 0.4666666666666667, 0.4666666666666667, 0.4666666666666667, 0.4666666666666667, 0.4666666666666667, 0.4666666666666667, 0.4666666666666667, 0.4666666666666667, 0.4666666666666667, 0.4666666666666667, 0.4666666666666667, 0.4666666666666667, 0.4666666666666667, 0.4666666666666667, 0.4666666666666667, 0.4666666666666667, 0.4666666666666667, 0.4666666666666667, 0.4666666666666667], [0.4666666666666667, 0.4666666666666667, 0.4666666666666667, 0.4666666666666667, 0.4666666666666667, 0.4666666666666667, 0.4666666666666667, 0.5333333333333333, 0.5333333333333333, 0.5333333333333333, 0.5333333333333333, 0.5333333333333333, 0.5333333333333333, 0.4666666666666667, 0.4666666666666667, 0.4666666666666667, 0.4666666666666667, 0.4666666666666667, 0.4666666666666667, 0.4666666666666667, 0.4666666666666667, 0.4666666666666667, 0.4666666666666667, 0.4666666666666667, 0.4666666666666667, 0.4666666666666667, 0.4666666666666667, 0.4666666666666667, 0.4666666666666667, 0.4666666666666667, 0.4666666666666667, 0.4666666666666667, 0.4666666666666667, 0.4666666666666667, 0.4666666666666667, 0.4666666666666667, 0.4666666666666667, 0.4666666666666667, 0.4666666666666667, 0.4666666666666667, 0.4666666666666667, 0.4666666666666667, 0.4666666666666667, 0.4666666666666667, 0.4666666666666667, 0.4666666666666667, 0.4666666666666667, 0.4666666666666667, 0.4666666666666667, 0.4666666666666667], [0.4666666666666667, 0.4666666666666667, 0.4666666666666667, 0.4666666666666667, 0.4666666666666667, 0.4666666666666667, 0.4666666666666667, 0.5333333333333333, 0.5333333333333333, 0.5333333333333333, 0.5333333333333333, 0.5333333333333333, 0.5333333333333333, 0.4666666666666667, 0.4666666666666667, 0.4666666666666667, 0.4666666666666667, 0.4666666666666667, 0.4666666666666667, 0.4666666666666667, 0.4666666666666667, 0.4666666666666667, 0.4666666666666667, 0.4666666666666667, 0.4666666666666667, 0.4666666666666667, 0.4666666666666667, 0.4666666666666667, 0.4666666666666667, 0.4666666666666667, 0.4666666666666667, 0.4666666666666667, 0.4666666666666667, 0.4666666666666667, 0.4666666666666667, 0.4666666666666667, 0.4666666666666667, 0.4666666666666667, 0.4666666666666667, 0.4666666666666667, 0.4666666666666667, 0.4666666666666667, 0.4666666666666667, 0.4666666666666667, 0.4666666666666667, 0.4666666666666667, 0.4666666666666667, 0.4666666666666667, 0.4666666666666667, 0.4666666666666667]]}],\n",
       "                        {\"template\": {\"data\": {\"bar\": [{\"error_x\": {\"color\": \"#f2f5fa\"}, \"error_y\": {\"color\": \"#f2f5fa\"}, \"marker\": {\"line\": {\"color\": \"rgb(17,17,17)\", \"width\": 0.5}}, \"type\": \"bar\"}], \"barpolar\": [{\"marker\": {\"line\": {\"color\": \"rgb(17,17,17)\", \"width\": 0.5}}, \"type\": \"barpolar\"}], \"carpet\": [{\"aaxis\": {\"endlinecolor\": \"#A2B1C6\", \"gridcolor\": \"#506784\", \"linecolor\": \"#506784\", \"minorgridcolor\": \"#506784\", \"startlinecolor\": \"#A2B1C6\"}, \"baxis\": {\"endlinecolor\": \"#A2B1C6\", \"gridcolor\": \"#506784\", \"linecolor\": \"#506784\", \"minorgridcolor\": \"#506784\", \"startlinecolor\": \"#A2B1C6\"}, \"type\": \"carpet\"}], \"choropleth\": [{\"colorbar\": {\"outlinewidth\": 0, \"ticks\": \"\"}, \"type\": \"choropleth\"}], \"contour\": [{\"colorbar\": {\"outlinewidth\": 0, \"ticks\": \"\"}, \"colorscale\": [[0.0, \"#0d0887\"], [0.1111111111111111, \"#46039f\"], [0.2222222222222222, \"#7201a8\"], [0.3333333333333333, \"#9c179e\"], [0.4444444444444444, \"#bd3786\"], [0.5555555555555556, \"#d8576b\"], [0.6666666666666666, \"#ed7953\"], [0.7777777777777778, \"#fb9f3a\"], [0.8888888888888888, \"#fdca26\"], [1.0, \"#f0f921\"]], \"type\": \"contour\"}], \"contourcarpet\": [{\"colorbar\": {\"outlinewidth\": 0, \"ticks\": \"\"}, \"type\": \"contourcarpet\"}], \"heatmap\": [{\"colorbar\": {\"outlinewidth\": 0, \"ticks\": \"\"}, \"colorscale\": [[0.0, \"#0d0887\"], [0.1111111111111111, \"#46039f\"], [0.2222222222222222, \"#7201a8\"], [0.3333333333333333, \"#9c179e\"], [0.4444444444444444, \"#bd3786\"], [0.5555555555555556, \"#d8576b\"], [0.6666666666666666, \"#ed7953\"], [0.7777777777777778, \"#fb9f3a\"], [0.8888888888888888, \"#fdca26\"], [1.0, \"#f0f921\"]], \"type\": \"heatmap\"}], \"heatmapgl\": [{\"colorbar\": {\"outlinewidth\": 0, \"ticks\": \"\"}, \"colorscale\": [[0.0, \"#0d0887\"], [0.1111111111111111, \"#46039f\"], [0.2222222222222222, \"#7201a8\"], [0.3333333333333333, \"#9c179e\"], [0.4444444444444444, \"#bd3786\"], [0.5555555555555556, \"#d8576b\"], [0.6666666666666666, \"#ed7953\"], [0.7777777777777778, \"#fb9f3a\"], [0.8888888888888888, \"#fdca26\"], [1.0, \"#f0f921\"]], \"type\": \"heatmapgl\"}], \"histogram\": [{\"marker\": {\"colorbar\": {\"outlinewidth\": 0, \"ticks\": \"\"}}, \"type\": \"histogram\"}], \"histogram2d\": [{\"colorbar\": {\"outlinewidth\": 0, \"ticks\": \"\"}, \"colorscale\": [[0.0, \"#0d0887\"], [0.1111111111111111, \"#46039f\"], [0.2222222222222222, \"#7201a8\"], [0.3333333333333333, \"#9c179e\"], [0.4444444444444444, \"#bd3786\"], [0.5555555555555556, \"#d8576b\"], [0.6666666666666666, \"#ed7953\"], [0.7777777777777778, \"#fb9f3a\"], [0.8888888888888888, \"#fdca26\"], [1.0, \"#f0f921\"]], \"type\": \"histogram2d\"}], \"histogram2dcontour\": [{\"colorbar\": {\"outlinewidth\": 0, \"ticks\": \"\"}, \"colorscale\": [[0.0, \"#0d0887\"], [0.1111111111111111, \"#46039f\"], [0.2222222222222222, \"#7201a8\"], [0.3333333333333333, \"#9c179e\"], [0.4444444444444444, \"#bd3786\"], [0.5555555555555556, \"#d8576b\"], [0.6666666666666666, \"#ed7953\"], [0.7777777777777778, \"#fb9f3a\"], [0.8888888888888888, \"#fdca26\"], [1.0, \"#f0f921\"]], \"type\": \"histogram2dcontour\"}], \"mesh3d\": [{\"colorbar\": {\"outlinewidth\": 0, \"ticks\": \"\"}, \"type\": \"mesh3d\"}], \"parcoords\": [{\"line\": {\"colorbar\": {\"outlinewidth\": 0, \"ticks\": \"\"}}, \"type\": \"parcoords\"}], \"pie\": [{\"automargin\": true, \"type\": \"pie\"}], \"scatter\": [{\"marker\": {\"line\": {\"color\": \"#283442\"}}, \"type\": \"scatter\"}], \"scatter3d\": [{\"line\": {\"colorbar\": {\"outlinewidth\": 0, \"ticks\": \"\"}}, \"marker\": {\"colorbar\": {\"outlinewidth\": 0, \"ticks\": \"\"}}, \"type\": \"scatter3d\"}], \"scattercarpet\": [{\"marker\": {\"colorbar\": {\"outlinewidth\": 0, \"ticks\": \"\"}}, \"type\": \"scattercarpet\"}], \"scattergeo\": [{\"marker\": {\"colorbar\": {\"outlinewidth\": 0, \"ticks\": \"\"}}, \"type\": \"scattergeo\"}], \"scattergl\": [{\"marker\": {\"line\": {\"color\": \"#283442\"}}, \"type\": \"scattergl\"}], \"scattermapbox\": [{\"marker\": {\"colorbar\": {\"outlinewidth\": 0, \"ticks\": \"\"}}, \"type\": \"scattermapbox\"}], \"scatterpolar\": [{\"marker\": {\"colorbar\": {\"outlinewidth\": 0, \"ticks\": \"\"}}, \"type\": \"scatterpolar\"}], \"scatterpolargl\": [{\"marker\": {\"colorbar\": {\"outlinewidth\": 0, \"ticks\": \"\"}}, \"type\": \"scatterpolargl\"}], \"scatterternary\": [{\"marker\": {\"colorbar\": {\"outlinewidth\": 0, \"ticks\": \"\"}}, \"type\": \"scatterternary\"}], \"surface\": [{\"colorbar\": {\"outlinewidth\": 0, \"ticks\": \"\"}, \"colorscale\": [[0.0, \"#0d0887\"], [0.1111111111111111, \"#46039f\"], [0.2222222222222222, \"#7201a8\"], [0.3333333333333333, \"#9c179e\"], [0.4444444444444444, \"#bd3786\"], [0.5555555555555556, \"#d8576b\"], [0.6666666666666666, \"#ed7953\"], [0.7777777777777778, \"#fb9f3a\"], [0.8888888888888888, \"#fdca26\"], [1.0, \"#f0f921\"]], \"type\": \"surface\"}], \"table\": [{\"cells\": {\"fill\": {\"color\": \"#506784\"}, \"line\": {\"color\": \"rgb(17,17,17)\"}}, \"header\": {\"fill\": {\"color\": \"#2a3f5f\"}, \"line\": {\"color\": \"rgb(17,17,17)\"}}, \"type\": \"table\"}]}, \"layout\": {\"annotationdefaults\": {\"arrowcolor\": \"#f2f5fa\", \"arrowhead\": 0, \"arrowwidth\": 1}, \"coloraxis\": {\"colorbar\": {\"outlinewidth\": 0, \"ticks\": \"\"}}, \"colorscale\": {\"diverging\": [[0, \"#8e0152\"], [0.1, \"#c51b7d\"], [0.2, \"#de77ae\"], [0.3, \"#f1b6da\"], [0.4, \"#fde0ef\"], [0.5, \"#f7f7f7\"], [0.6, \"#e6f5d0\"], [0.7, \"#b8e186\"], [0.8, \"#7fbc41\"], [0.9, \"#4d9221\"], [1, \"#276419\"]], \"sequential\": [[0.0, \"#0d0887\"], [0.1111111111111111, \"#46039f\"], [0.2222222222222222, \"#7201a8\"], [0.3333333333333333, \"#9c179e\"], [0.4444444444444444, \"#bd3786\"], [0.5555555555555556, \"#d8576b\"], [0.6666666666666666, \"#ed7953\"], [0.7777777777777778, \"#fb9f3a\"], [0.8888888888888888, \"#fdca26\"], [1.0, \"#f0f921\"]], \"sequentialminus\": [[0.0, \"#0d0887\"], [0.1111111111111111, \"#46039f\"], [0.2222222222222222, \"#7201a8\"], [0.3333333333333333, \"#9c179e\"], [0.4444444444444444, \"#bd3786\"], [0.5555555555555556, \"#d8576b\"], [0.6666666666666666, \"#ed7953\"], [0.7777777777777778, \"#fb9f3a\"], [0.8888888888888888, \"#fdca26\"], [1.0, \"#f0f921\"]]}, \"colorway\": [\"#636efa\", \"#EF553B\", \"#00cc96\", \"#ab63fa\", \"#FFA15A\", \"#19d3f3\", \"#FF6692\", \"#B6E880\", \"#FF97FF\", \"#FECB52\"], \"font\": {\"color\": \"#f2f5fa\"}, \"geo\": {\"bgcolor\": \"rgb(17,17,17)\", \"lakecolor\": \"rgb(17,17,17)\", \"landcolor\": \"rgb(17,17,17)\", \"showlakes\": true, \"showland\": true, \"subunitcolor\": \"#506784\"}, \"hoverlabel\": {\"align\": \"left\"}, \"hovermode\": \"closest\", \"mapbox\": {\"style\": \"dark\"}, \"paper_bgcolor\": \"rgb(17,17,17)\", \"plot_bgcolor\": \"rgb(17,17,17)\", \"polar\": {\"angularaxis\": {\"gridcolor\": \"#506784\", \"linecolor\": \"#506784\", \"ticks\": \"\"}, \"bgcolor\": \"rgb(17,17,17)\", \"radialaxis\": {\"gridcolor\": \"#506784\", \"linecolor\": \"#506784\", \"ticks\": \"\"}}, \"scene\": {\"xaxis\": {\"backgroundcolor\": \"rgb(17,17,17)\", \"gridcolor\": \"#506784\", \"gridwidth\": 2, \"linecolor\": \"#506784\", \"showbackground\": true, \"ticks\": \"\", \"zerolinecolor\": \"#C8D4E3\"}, \"yaxis\": {\"backgroundcolor\": \"rgb(17,17,17)\", \"gridcolor\": \"#506784\", \"gridwidth\": 2, \"linecolor\": \"#506784\", \"showbackground\": true, \"ticks\": \"\", \"zerolinecolor\": \"#C8D4E3\"}, \"zaxis\": {\"backgroundcolor\": \"rgb(17,17,17)\", \"gridcolor\": \"#506784\", \"gridwidth\": 2, \"linecolor\": \"#506784\", \"showbackground\": true, \"ticks\": \"\", \"zerolinecolor\": \"#C8D4E3\"}}, \"shapedefaults\": {\"line\": {\"color\": \"#f2f5fa\"}}, \"sliderdefaults\": {\"bgcolor\": \"#C8D4E3\", \"bordercolor\": \"rgb(17,17,17)\", \"borderwidth\": 1, \"tickwidth\": 0}, \"ternary\": {\"aaxis\": {\"gridcolor\": \"#506784\", \"linecolor\": \"#506784\", \"ticks\": \"\"}, \"baxis\": {\"gridcolor\": \"#506784\", \"linecolor\": \"#506784\", \"ticks\": \"\"}, \"bgcolor\": \"rgb(17,17,17)\", \"caxis\": {\"gridcolor\": \"#506784\", \"linecolor\": \"#506784\", \"ticks\": \"\"}}, \"title\": {\"x\": 0.05}, \"updatemenudefaults\": {\"bgcolor\": \"#506784\", \"borderwidth\": 0}, \"xaxis\": {\"automargin\": true, \"gridcolor\": \"#283442\", \"linecolor\": \"#506784\", \"ticks\": \"\", \"title\": {\"standoff\": 15}, \"zerolinecolor\": \"#283442\", \"zerolinewidth\": 2}, \"yaxis\": {\"automargin\": true, \"gridcolor\": \"#283442\", \"linecolor\": \"#506784\", \"ticks\": \"\", \"title\": {\"standoff\": 15}, \"zerolinecolor\": \"#283442\", \"zerolinewidth\": 2}}}, \"title\": {\"text\": \"Probability Estimates\"}, \"xaxis\": {\"title\": {\"text\": \"EV/Revenue\"}}, \"yaxis\": {\"title\": {\"text\": \"Current ratio\"}}},\n",
       "                        {\"responsive\": true}\n",
       "                    ).then(function(){\n",
       "                            \n",
       "var gd = document.getElementById('2f079d50-38aa-4252-9cb4-b330887d209d');\n",
       "var x = new MutationObserver(function (mutations, observer) {{\n",
       "        var display = window.getComputedStyle(gd).display;\n",
       "        if (!display || display === 'none') {{\n",
       "            console.log([gd, 'removed!']);\n",
       "            Plotly.purge(gd);\n",
       "            observer.disconnect();\n",
       "        }}\n",
       "}});\n",
       "\n",
       "// Listen for the removal of the full notebook cells\n",
       "var notebookContainer = gd.closest('#notebook-container');\n",
       "if (notebookContainer) {{\n",
       "    x.observe(notebookContainer, {childList: true});\n",
       "}}\n",
       "\n",
       "// Listen for the clearing of the current output cell\n",
       "var outputEl = gd.closest('.output');\n",
       "if (outputEl) {{\n",
       "    x.observe(outputEl, {childList: true});\n",
       "}}\n",
       "\n",
       "                        })\n",
       "                };\n",
       "                });\n",
       "            </script>\n",
       "        </div>"
      ]
     },
     "metadata": {},
     "output_type": "display_data"
    }
   ],
   "source": [
    "mesh_size = .02\n",
    "margin = 0.0\n",
    "\n",
    "# Split our data into train and test\n",
    "X_train, X_test, y_train, y_test = train_test_split(X_normalized, y, test_size = .3, random_state = 4)\n",
    "\n",
    "# Create a mesh grid on which we will run our model\n",
    "X = X_normalized.copy()\n",
    "x_min, x_max = X[:, 0].min() - margin, X[:, 0].max() + margin\n",
    "y_min, y_max = X[:, 1].min() - margin, X[:, 1].max() + margin\n",
    "xrange = np.arange(x_min, x_max, mesh_size)\n",
    "yrange = np.arange(y_min, y_max, mesh_size)\n",
    "xx, yy = np.meshgrid(xrange, yrange)\n",
    "\n",
    "# Fit KNN on the train data\n",
    "knn.fit(X_train, y_train.values.ravel())\n",
    "\n",
    "# Predict probabilities\n",
    "Z = knn.predict_proba(np.c_[xx.ravel(), yy.ravel()])[:, 1]\n",
    "Z = Z.reshape(xx.shape)\n",
    "\n",
    "# Plot figure\n",
    "fig = go.Figure(data = [go.Contour(x=xrange, y=yrange, z=Z, colorscale='RdBu')])\n",
    "\n",
    "fig.update_layout(template='plotly_dark', xaxis_title=\"EV/Revenue\", title='Probability Estimates',\n",
    "                  yaxis_title=\"Current ratio\")\n",
    "\n",
    "fig.show()"
   ]
  },
  {
   "cell_type": "markdown",
   "metadata": {},
   "source": [
    "Looking at the scatter plot created earlier after normalization, the region in the lower right has the majority of the BBB rated bonds.  The probability that a bond is rated BBB in this region is higher.  Conversely, the left region of the scatter plot has the majority of B rated bonds.  The probability that a bond is rated BBB is lower in this region and is why the probability graph shades this region red."
   ]
  },
  {
   "cell_type": "code",
   "execution_count": 512,
   "metadata": {},
   "outputs": [
    {
     "data": {
      "text/plain": [
       "(0, 0.3)"
      ]
     },
     "execution_count": 512,
     "metadata": {},
     "output_type": "execute_result"
    },
    {
     "data": {
      "image/png": "[encoded data removed]",
      "text/plain": [
       "<Figure size 792x504 with 1 Axes>"
      ]
     },
     "metadata": {},
     "output_type": "display_data"
    }
   ],
   "source": [
    "# Visualize scatter plot after normalization\n",
    "plt.figure(figsize = (11,7))\n",
    "plt.style.use(\"dark_background\")\n",
    "\n",
    "plt.title(\"Normalized Data\")\n",
    "\n",
    "g = sns.scatterplot(x='EV/Revenue', y='Current ratio', hue='S&P', \n",
    "                    data=df_norm, s=40,palette=['blue','orange'])\n",
    "\n",
    "plt.xlim(0,0.3)"
   ]
  },
  {
   "cell_type": "markdown",
   "metadata": {},
   "source": [
    "On your own, try classifying B and BBB using all features (not just EV/Revenue and Current ratio). You should see accuracy increase with the introduction of\n",
    "more variables."
   ]
  },
  {
   "cell_type": "markdown",
   "metadata": {},
   "source": [
    "### Apply k-NN on a larger subset of credit data"
   ]
  },
  {
   "cell_type": "markdown",
   "metadata": {},
   "source": [
    "#### Increase number of classes and features\n",
    "Now that we have developed an intuition for our workflow, let's give k-NN a more difficult task.  Often when applying k-NN to financial applications, the data may have more categories and more features that can be used to make predictions.\n",
    "\n",
    "In this example, we are going to expand our features.  We are also going to increase the number of categories we are trying to predict so that BB rated bonds are included.  We will predict if a bond is rated either BBB, BB, or B."
   ]
  },
  {
   "cell_type": "code",
   "execution_count": 513,
   "metadata": {},
   "outputs": [
    {
     "data": {
      "text/html": [
       "<div>\n",
       "<style scoped>\n",
       "    .dataframe tbody tr th:only-of-type {\n",
       "        vertical-align: middle;\n",
       "    }\n",
       "\n",
       "    .dataframe tbody tr th {\n",
       "        vertical-align: top;\n",
       "    }\n",
       "\n",
       "    .dataframe thead th {\n",
       "        text-align: right;\n",
       "    }\n",
       "</style>\n",
       "<table border=\"1\" class=\"dataframe\">\n",
       "  <thead>\n",
       "    <tr style=\"text-align: right;\">\n",
       "      <th></th>\n",
       "      <th>Issuer Name</th>\n",
       "      <th>Symbol</th>\n",
       "      <th>Callable</th>\n",
       "      <th>Sub-Product Type</th>\n",
       "      <th>Coupon</th>\n",
       "      <th>Maturity</th>\n",
       "      <th>Moody's®</th>\n",
       "      <th>S&amp;P</th>\n",
       "      <th>Price</th>\n",
       "      <th>Yield</th>\n",
       "      <th>Maturity Years</th>\n",
       "      <th>Duration</th>\n",
       "      <th>Operating Margin</th>\n",
       "      <th>Current ratio</th>\n",
       "      <th>EV/Revenue</th>\n",
       "      <th>Return on Assets</th>\n",
       "      <th>Return on Equity</th>\n",
       "    </tr>\n",
       "  </thead>\n",
       "  <tbody>\n",
       "    <tr>\n",
       "      <th>6324</th>\n",
       "      <td>XEROX HLDGS CORP</td>\n",
       "      <td>XPO</td>\n",
       "      <td>Yes</td>\n",
       "      <td>Corporate Bond</td>\n",
       "      <td>0.0675</td>\n",
       "      <td>08/15/2024</td>\n",
       "      <td>Ba3</td>\n",
       "      <td>B</td>\n",
       "      <td>103.420</td>\n",
       "      <td>0.02530</td>\n",
       "      <td>3.019444</td>\n",
       "      <td>0.187830</td>\n",
       "      <td>0.0528</td>\n",
       "      <td>1.02</td>\n",
       "      <td>0.90</td>\n",
       "      <td>0.0395</td>\n",
       "      <td>0.1792</td>\n",
       "    </tr>\n",
       "    <tr>\n",
       "      <th>2285</th>\n",
       "      <td>FORESTAR GROUP INC</td>\n",
       "      <td>DHI</td>\n",
       "      <td>Yes</td>\n",
       "      <td>Corporate Bond</td>\n",
       "      <td>0.0500</td>\n",
       "      <td>03/01/2028</td>\n",
       "      <td>B1</td>\n",
       "      <td>B</td>\n",
       "      <td>104.055</td>\n",
       "      <td>0.03839</td>\n",
       "      <td>6.613889</td>\n",
       "      <td>0.858466</td>\n",
       "      <td>0.1806</td>\n",
       "      <td>5.87</td>\n",
       "      <td>1.41</td>\n",
       "      <td>0.1480</td>\n",
       "      <td>0.2889</td>\n",
       "    </tr>\n",
       "    <tr>\n",
       "      <th>891</th>\n",
       "      <td>CHURCHILL DOWNS INC</td>\n",
       "      <td>CHDN</td>\n",
       "      <td>Yes</td>\n",
       "      <td>Corporate Bond</td>\n",
       "      <td>0.0550</td>\n",
       "      <td>04/01/2027</td>\n",
       "      <td>B1</td>\n",
       "      <td>B</td>\n",
       "      <td>103.884</td>\n",
       "      <td>0.03472</td>\n",
       "      <td>5.683333</td>\n",
       "      <td>0.701377</td>\n",
       "      <td>0.1828</td>\n",
       "      <td>1.44</td>\n",
       "      <td>6.12</td>\n",
       "      <td>0.0538</td>\n",
       "      <td>0.6371</td>\n",
       "    </tr>\n",
       "  </tbody>\n",
       "</table>\n",
       "</div>"
      ],
      "text/plain": [
       "              Issuer Name Symbol Callable Sub-Product Type  Coupon  \\\n",
       "6324     XEROX HLDGS CORP    XPO      Yes   Corporate Bond  0.0675   \n",
       "2285   FORESTAR GROUP INC    DHI      Yes   Corporate Bond  0.0500   \n",
       "891   CHURCHILL DOWNS INC   CHDN      Yes   Corporate Bond  0.0550   \n",
       "\n",
       "        Maturity Moody's® S&P    Price    Yield  Maturity Years  Duration  \\\n",
       "6324  08/15/2024      Ba3   B  103.420  0.02530        3.019444  0.187830   \n",
       "2285  03/01/2028       B1   B  104.055  0.03839        6.613889  0.858466   \n",
       "891   04/01/2027       B1   B  103.884  0.03472        5.683333  0.701377   \n",
       "\n",
       "      Operating Margin  Current ratio  EV/Revenue  Return on Assets  \\\n",
       "6324            0.0528           1.02        0.90            0.0395   \n",
       "2285            0.1806           5.87        1.41            0.1480   \n",
       "891             0.1828           1.44        6.12            0.0538   \n",
       "\n",
       "      Return on Equity  \n",
       "6324            0.1792  \n",
       "2285            0.2889  \n",
       "891             0.6371  "
      ]
     },
     "execution_count": 513,
     "metadata": {},
     "output_type": "execute_result"
    }
   ],
   "source": [
    "# Visualize our dataset\n",
    "df_ratings.head(3)"
   ]
  },
  {
   "cell_type": "code",
   "execution_count": 514,
   "metadata": {},
   "outputs": [],
   "source": [
    "# Columns from the data set \n",
    "features = ['Current ratio', 'Operating Margin', 'Return on Assets', 'EV/Revenue']\n",
    "\n",
    "# Numerical features or independent variables\n",
    "X = df_ratings[features]\n",
    "\n",
    "# Dependent variable, B, BB & BBB\n",
    "y = df_ratings['S&P']"
   ]
  },
  {
   "cell_type": "code",
   "execution_count": 515,
   "metadata": {},
   "outputs": [
    {
     "data": {
      "text/plain": [
       "B      75\n",
       "BB     75\n",
       "BBB    75\n",
       "Name: S&P, dtype: int64"
      ]
     },
     "execution_count": 515,
     "metadata": {},
     "output_type": "execute_result"
    }
   ],
   "source": [
    "y.value_counts()"
   ]
  },
  {
   "cell_type": "markdown",
   "metadata": {},
   "source": [
    "#### 1. Normalize features\n",
    "First we normalize the data.  \n",
    "\n",
    "#### 2. Split data into train and test\n",
    "We then split the data into train and test again.\n",
    "\n",
    "#### 3. Train k-NN algorithm on numerical columns\n",
    "We train our model.\n",
    "\n",
    "#### 4. Predict \n",
    "Then we make our prediction on the test data and compute the accuracy score.\n",
    "\n",
    "#### 5. Evaluate accuracy of the prediction\n",
    "After we made the prediction, we must evaluate the accuracy of the algorithm."
   ]
  },
  {
   "cell_type": "code",
   "execution_count": 516,
   "metadata": {},
   "outputs": [
    {
     "name": "stdout",
     "output_type": "stream",
     "text": [
      "Accuracy: 0.43\n"
     ]
    }
   ],
   "source": [
    "# Normalize independent cols of data\n",
    "X_normalized = scaler.fit_transform(X)\n",
    "# Split into train and test\n",
    "X_train, X_test, y_train, y_test = train_test_split(X_normalized, y, test_size = 0.3, random_state = 2)\n",
    "\n",
    "# Initialize model\n",
    "knn = KNeighborsClassifier()\n",
    "# Train\n",
    "knn.fit(X_train, y_train)\n",
    "# Predict\n",
    "predictions = knn.predict(X_test)\n",
    "# Compute accuracy\n",
    "accuracy = accuracy_score(y_test, predictions)\n",
    "print('Accuracy: {:.2f}'.format(accuracy))"
   ]
  },
  {
   "cell_type": "markdown",
   "metadata": {},
   "source": [
    "Let's visualize our accuracy for a range of k values."
   ]
  },
  {
   "cell_type": "code",
   "execution_count": 517,
   "metadata": {},
   "outputs": [
    {
     "data": {
      "application/vnd.plotly.v1+json": {
       "config": {
        "plotlyServerURL": "https://plot.ly"
       },
       "data": [
        {
         "name": "Test Accuracy",
         "type": "scatter",
         "x": [
          1,
          2,
          3,
          4,
          5,
          6,
          7,
          8,
          9,
          10,
          11,
          12,
          13,
          14,
          15
         ],
         "y": [
          0.38235294117647056,
          0.36764705882352944,
          0.45588235294117646,
          0.4264705882352941,
          0.4264705882352941,
          0.4264705882352941,
          0.39705882352941174,
          0.35294117647058826,
          0.36764705882352944,
          0.4117647058823529,
          0.38235294117647056,
          0.35294117647058826,
          0.35294117647058826,
          0.36764705882352944,
          0.4117647058823529
         ]
        },
        {
         "name": "Train Accuracy",
         "type": "scatter",
         "x": [
          1,
          2,
          3,
          4,
          5,
          6,
          7,
          8,
          9,
          10,
          11,
          12,
          13,
          14,
          15
         ],
         "y": [
          0.9745222929936306,
          0.6560509554140127,
          0.6624203821656051,
          0.5923566878980892,
          0.5732484076433121,
          0.5222929936305732,
          0.554140127388535,
          0.5414012738853503,
          0.5159235668789809,
          0.5477707006369427,
          0.5095541401273885,
          0.5159235668789809,
          0.5159235668789809,
          0.5095541401273885,
          0.4968152866242038
         ]
        }
       ],
       "layout": {
        "template": {
         "data": {
          "bar": [
           {
            "error_x": {
             "color": "#f2f5fa"
            },
            "error_y": {
             "color": "#f2f5fa"
            },
            "marker": {
             "line": {
              "color": "rgb(17,17,17)",
              "width": 0.5
             }
            },
            "type": "bar"
           }
          ],
          "barpolar": [
           {
            "marker": {
             "line": {
              "color": "rgb(17,17,17)",
              "width": 0.5
             }
            },
            "type": "barpolar"
           }
          ],
          "carpet": [
           {
            "aaxis": {
             "endlinecolor": "#A2B1C6",
             "gridcolor": "#506784",
             "linecolor": "#506784",
             "minorgridcolor": "#506784",
             "startlinecolor": "#A2B1C6"
            },
            "baxis": {
             "endlinecolor": "#A2B1C6",
             "gridcolor": "#506784",
             "linecolor": "#506784",
             "minorgridcolor": "#506784",
             "startlinecolor": "#A2B1C6"
            },
            "type": "carpet"
           }
          ],
          "choropleth": [
           {
            "colorbar": {
             "outlinewidth": 0,
             "ticks": ""
            },
            "type": "choropleth"
           }
          ],
          "contour": [
           {
            "colorbar": {
             "outlinewidth": 0,
             "ticks": ""
            },
            "colorscale": [
             [
              0,
              "#0d0887"
             ],
             [
              0.1111111111111111,
              "#46039f"
             ],
             [
              0.2222222222222222,
              "#7201a8"
             ],
             [
              0.3333333333333333,
              "#9c179e"
             ],
             [
              0.4444444444444444,
              "#bd3786"
             ],
             [
              0.5555555555555556,
              "#d8576b"
             ],
             [
              0.6666666666666666,
              "#ed7953"
             ],
             [
              0.7777777777777778,
              "#fb9f3a"
             ],
             [
              0.8888888888888888,
              "#fdca26"
             ],
             [
              1,
              "#f0f921"
             ]
            ],
            "type": "contour"
           }
          ],
          "contourcarpet": [
           {
            "colorbar": {
             "outlinewidth": 0,
             "ticks": ""
            },
            "type": "contourcarpet"
           }
          ],
          "heatmap": [
           {
            "colorbar": {
             "outlinewidth": 0,
             "ticks": ""
            },
            "colorscale": [
             [
              0,
              "#0d0887"
             ],
             [
              0.1111111111111111,
              "#46039f"
             ],
             [
              0.2222222222222222,
              "#7201a8"
             ],
             [
              0.3333333333333333,
              "#9c179e"
             ],
             [
              0.4444444444444444,
              "#bd3786"
             ],
             [
              0.5555555555555556,
              "#d8576b"
             ],
             [
              0.6666666666666666,
              "#ed7953"
             ],
             [
              0.7777777777777778,
              "#fb9f3a"
             ],
             [
              0.8888888888888888,
              "#fdca26"
             ],
             [
              1,
              "#f0f921"
             ]
            ],
            "type": "heatmap"
           }
          ],
          "heatmapgl": [
           {
            "colorbar": {
             "outlinewidth": 0,
             "ticks": ""
            },
            "colorscale": [
             [
              0,
              "#0d0887"
             ],
             [
              0.1111111111111111,
              "#46039f"
             ],
             [
              0.2222222222222222,
              "#7201a8"
             ],
             [
              0.3333333333333333,
              "#9c179e"
             ],
             [
              0.4444444444444444,
              "#bd3786"
             ],
             [
              0.5555555555555556,
              "#d8576b"
             ],
             [
              0.6666666666666666,
              "#ed7953"
             ],
             [
              0.7777777777777778,
              "#fb9f3a"
             ],
             [
              0.8888888888888888,
              "#fdca26"
             ],
             [
              1,
              "#f0f921"
             ]
            ],
            "type": "heatmapgl"
           }
          ],
          "histogram": [
           {
            "marker": {
             "colorbar": {
              "outlinewidth": 0,
              "ticks": ""
             }
            },
            "type": "histogram"
           }
          ],
          "histogram2d": [
           {
            "colorbar": {
             "outlinewidth": 0,
             "ticks": ""
            },
            "colorscale": [
             [
              0,
              "#0d0887"
             ],
             [
              0.1111111111111111,
              "#46039f"
             ],
             [
              0.2222222222222222,
              "#7201a8"
             ],
             [
              0.3333333333333333,
              "#9c179e"
             ],
             [
              0.4444444444444444,
              "#bd3786"
             ],
             [
              0.5555555555555556,
              "#d8576b"
             ],
             [
              0.6666666666666666,
              "#ed7953"
             ],
             [
              0.7777777777777778,
              "#fb9f3a"
             ],
             [
              0.8888888888888888,
              "#fdca26"
             ],
             [
              1,
              "#f0f921"
             ]
            ],
            "type": "histogram2d"
           }
          ],
          "histogram2dcontour": [
           {
            "colorbar": {
             "outlinewidth": 0,
             "ticks": ""
            },
            "colorscale": [
             [
              0,
              "#0d0887"
             ],
             [
              0.1111111111111111,
              "#46039f"
             ],
             [
              0.2222222222222222,
              "#7201a8"
             ],
             [
              0.3333333333333333,
              "#9c179e"
             ],
             [
              0.4444444444444444,
              "#bd3786"
             ],
             [
              0.5555555555555556,
              "#d8576b"
             ],
             [
              0.6666666666666666,
              "#ed7953"
             ],
             [
              0.7777777777777778,
              "#fb9f3a"
             ],
             [
              0.8888888888888888,
              "#fdca26"
             ],
             [
              1,
              "#f0f921"
             ]
            ],
            "type": "histogram2dcontour"
           }
          ],
          "mesh3d": [
           {
            "colorbar": {
             "outlinewidth": 0,
             "ticks": ""
            },
            "type": "mesh3d"
           }
          ],
          "parcoords": [
           {
            "line": {
             "colorbar": {
              "outlinewidth": 0,
              "ticks": ""
             }
            },
            "type": "parcoords"
           }
          ],
          "pie": [
           {
            "automargin": true,
            "type": "pie"
           }
          ],
          "scatter": [
           {
            "marker": {
             "line": {
              "color": "#283442"
             }
            },
            "type": "scatter"
           }
          ],
          "scatter3d": [
           {
            "line": {
             "colorbar": {
              "outlinewidth": 0,
              "ticks": ""
             }
            },
            "marker": {
             "colorbar": {
              "outlinewidth": 0,
              "ticks": ""
             }
            },
            "type": "scatter3d"
           }
          ],
          "scattercarpet": [
           {
            "marker": {
             "colorbar": {
              "outlinewidth": 0,
              "ticks": ""
             }
            },
            "type": "scattercarpet"
           }
          ],
          "scattergeo": [
           {
            "marker": {
             "colorbar": {
              "outlinewidth": 0,
              "ticks": ""
             }
            },
            "type": "scattergeo"
           }
          ],
          "scattergl": [
           {
            "marker": {
             "line": {
              "color": "#283442"
             }
            },
            "type": "scattergl"
           }
          ],
          "scattermapbox": [
           {
            "marker": {
             "colorbar": {
              "outlinewidth": 0,
              "ticks": ""
             }
            },
            "type": "scattermapbox"
           }
          ],
          "scatterpolar": [
           {
            "marker": {
             "colorbar": {
              "outlinewidth": 0,
              "ticks": ""
             }
            },
            "type": "scatterpolar"
           }
          ],
          "scatterpolargl": [
           {
            "marker": {
             "colorbar": {
              "outlinewidth": 0,
              "ticks": ""
             }
            },
            "type": "scatterpolargl"
           }
          ],
          "scatterternary": [
           {
            "marker": {
             "colorbar": {
              "outlinewidth": 0,
              "ticks": ""
             }
            },
            "type": "scatterternary"
           }
          ],
          "surface": [
           {
            "colorbar": {
             "outlinewidth": 0,
             "ticks": ""
            },
            "colorscale": [
             [
              0,
              "#0d0887"
             ],
             [
              0.1111111111111111,
              "#46039f"
             ],
             [
              0.2222222222222222,
              "#7201a8"
             ],
             [
              0.3333333333333333,
              "#9c179e"
             ],
             [
              0.4444444444444444,
              "#bd3786"
             ],
             [
              0.5555555555555556,
              "#d8576b"
             ],
             [
              0.6666666666666666,
              "#ed7953"
             ],
             [
              0.7777777777777778,
              "#fb9f3a"
             ],
             [
              0.8888888888888888,
              "#fdca26"
             ],
             [
              1,
              "#f0f921"
             ]
            ],
            "type": "surface"
           }
          ],
          "table": [
           {
            "cells": {
             "fill": {
              "color": "#506784"
             },
             "line": {
              "color": "rgb(17,17,17)"
             }
            },
            "header": {
             "fill": {
              "color": "#2a3f5f"
             },
             "line": {
              "color": "rgb(17,17,17)"
             }
            },
            "type": "table"
           }
          ]
         },
         "layout": {
          "annotationdefaults": {
           "arrowcolor": "#f2f5fa",
           "arrowhead": 0,
           "arrowwidth": 1
          },
          "coloraxis": {
           "colorbar": {
            "outlinewidth": 0,
            "ticks": ""
           }
          },
          "colorscale": {
           "diverging": [
            [
             0,
             "#8e0152"
            ],
            [
             0.1,
             "#c51b7d"
            ],
            [
             0.2,
             "#de77ae"
            ],
            [
             0.3,
             "#f1b6da"
            ],
            [
             0.4,
             "#fde0ef"
            ],
            [
             0.5,
             "#f7f7f7"
            ],
            [
             0.6,
             "#e6f5d0"
            ],
            [
             0.7,
             "#b8e186"
            ],
            [
             0.8,
             "#7fbc41"
            ],
            [
             0.9,
             "#4d9221"
            ],
            [
             1,
             "#276419"
            ]
           ],
           "sequential": [
            [
             0,
             "#0d0887"
            ],
            [
             0.1111111111111111,
             "#46039f"
            ],
            [
             0.2222222222222222,
             "#7201a8"
            ],
            [
             0.3333333333333333,
             "#9c179e"
            ],
            [
             0.4444444444444444,
             "#bd3786"
            ],
            [
             0.5555555555555556,
             "#d8576b"
            ],
            [
             0.6666666666666666,
             "#ed7953"
            ],
            [
             0.7777777777777778,
             "#fb9f3a"
            ],
            [
             0.8888888888888888,
             "#fdca26"
            ],
            [
             1,
             "#f0f921"
            ]
           ],
           "sequentialminus": [
            [
             0,
             "#0d0887"
            ],
            [
             0.1111111111111111,
             "#46039f"
            ],
            [
             0.2222222222222222,
             "#7201a8"
            ],
            [
             0.3333333333333333,
             "#9c179e"
            ],
            [
             0.4444444444444444,
             "#bd3786"
            ],
            [
             0.5555555555555556,
             "#d8576b"
            ],
            [
             0.6666666666666666,
             "#ed7953"
            ],
            [
             0.7777777777777778,
             "#fb9f3a"
            ],
            [
             0.8888888888888888,
             "#fdca26"
            ],
            [
             1,
             "#f0f921"
            ]
           ]
          },
          "colorway": [
           "#636efa",
           "#EF553B",
           "#00cc96",
           "#ab63fa",
           "#FFA15A",
           "#19d3f3",
           "#FF6692",
           "#B6E880",
           "#FF97FF",
           "#FECB52"
          ],
          "font": {
           "color": "#f2f5fa"
          },
          "geo": {
           "bgcolor": "rgb(17,17,17)",
           "lakecolor": "rgb(17,17,17)",
           "landcolor": "rgb(17,17,17)",
           "showlakes": true,
           "showland": true,
           "subunitcolor": "#506784"
          },
          "hoverlabel": {
           "align": "left"
          },
          "hovermode": "closest",
          "mapbox": {
           "style": "dark"
          },
          "paper_bgcolor": "rgb(17,17,17)",
          "plot_bgcolor": "rgb(17,17,17)",
          "polar": {
           "angularaxis": {
            "gridcolor": "#506784",
            "linecolor": "#506784",
            "ticks": ""
           },
           "bgcolor": "rgb(17,17,17)",
           "radialaxis": {
            "gridcolor": "#506784",
            "linecolor": "#506784",
            "ticks": ""
           }
          },
          "scene": {
           "xaxis": {
            "backgroundcolor": "rgb(17,17,17)",
            "gridcolor": "#506784",
            "gridwidth": 2,
            "linecolor": "#506784",
            "showbackground": true,
            "ticks": "",
            "zerolinecolor": "#C8D4E3"
           },
           "yaxis": {
            "backgroundcolor": "rgb(17,17,17)",
            "gridcolor": "#506784",
            "gridwidth": 2,
            "linecolor": "#506784",
            "showbackground": true,
            "ticks": "",
            "zerolinecolor": "#C8D4E3"
           },
           "zaxis": {
            "backgroundcolor": "rgb(17,17,17)",
            "gridcolor": "#506784",
            "gridwidth": 2,
            "linecolor": "#506784",
            "showbackground": true,
            "ticks": "",
            "zerolinecolor": "#C8D4E3"
           }
          },
          "shapedefaults": {
           "line": {
            "color": "#f2f5fa"
           }
          },
          "sliderdefaults": {
           "bgcolor": "#C8D4E3",
           "bordercolor": "rgb(17,17,17)",
           "borderwidth": 1,
           "tickwidth": 0
          },
          "ternary": {
           "aaxis": {
            "gridcolor": "#506784",
            "linecolor": "#506784",
            "ticks": ""
           },
           "baxis": {
            "gridcolor": "#506784",
            "linecolor": "#506784",
            "ticks": ""
           },
           "bgcolor": "rgb(17,17,17)",
           "caxis": {
            "gridcolor": "#506784",
            "linecolor": "#506784",
            "ticks": ""
           }
          },
          "title": {
           "x": 0.05
          },
          "updatemenudefaults": {
           "bgcolor": "#506784",
           "borderwidth": 0
          },
          "xaxis": {
           "automargin": true,
           "gridcolor": "#283442",
           "linecolor": "#506784",
           "ticks": "",
           "title": {
            "standoff": 15
           },
           "zerolinecolor": "#283442",
           "zerolinewidth": 2
          },
          "yaxis": {
           "automargin": true,
           "gridcolor": "#283442",
           "linecolor": "#506784",
           "ticks": "",
           "title": {
            "standoff": 15
           },
           "zerolinecolor": "#283442",
           "zerolinewidth": 2
          }
         }
        },
        "title": {
         "text": "Accuracy for different k values"
        },
        "xaxis": {
         "title": {
          "text": "K neighbors"
         }
        },
        "yaxis": {
         "title": {
          "text": "Accuracy"
         }
        }
       }
      },
      "text/html": [
       "<div>\n",
       "        \n",
       "        \n",
       "            <div id=\"81476d03-c009-407c-978b-a361361e6e46\" class=\"plotly-graph-div\" style=\"height:525px; width:100%;\"></div>\n",
       "            <script type=\"text/javascript\">\n",
       "                require([\"plotly\"], function(Plotly) {\n",
       "                    window.PLOTLYENV=window.PLOTLYENV || {};\n",
       "                    \n",
       "                if (document.getElementById(\"81476d03-c009-407c-978b-a361361e6e46\")) {\n",
       "                    Plotly.newPlot(\n",
       "                        '81476d03-c009-407c-978b-a361361e6e46',\n",
       "                        [{\"name\": \"Test Accuracy\", \"type\": \"scatter\", \"x\": [1, 2, 3, 4, 5, 6, 7, 8, 9, 10, 11, 12, 13, 14, 15], \"y\": [0.38235294117647056, 0.36764705882352944, 0.45588235294117646, 0.4264705882352941, 0.4264705882352941, 0.4264705882352941, 0.39705882352941174, 0.35294117647058826, 0.36764705882352944, 0.4117647058823529, 0.38235294117647056, 0.35294117647058826, 0.35294117647058826, 0.36764705882352944, 0.4117647058823529]}, {\"name\": \"Train Accuracy\", \"type\": \"scatter\", \"x\": [1, 2, 3, 4, 5, 6, 7, 8, 9, 10, 11, 12, 13, 14, 15], \"y\": [0.9745222929936306, 0.6560509554140127, 0.6624203821656051, 0.5923566878980892, 0.5732484076433121, 0.5222929936305732, 0.554140127388535, 0.5414012738853503, 0.5159235668789809, 0.5477707006369427, 0.5095541401273885, 0.5159235668789809, 0.5159235668789809, 0.5095541401273885, 0.4968152866242038]}],\n",
       "                        {\"template\": {\"data\": {\"bar\": [{\"error_x\": {\"color\": \"#f2f5fa\"}, \"error_y\": {\"color\": \"#f2f5fa\"}, \"marker\": {\"line\": {\"color\": \"rgb(17,17,17)\", \"width\": 0.5}}, \"type\": \"bar\"}], \"barpolar\": [{\"marker\": {\"line\": {\"color\": \"rgb(17,17,17)\", \"width\": 0.5}}, \"type\": \"barpolar\"}], \"carpet\": [{\"aaxis\": {\"endlinecolor\": \"#A2B1C6\", \"gridcolor\": \"#506784\", \"linecolor\": \"#506784\", \"minorgridcolor\": \"#506784\", \"startlinecolor\": \"#A2B1C6\"}, \"baxis\": {\"endlinecolor\": \"#A2B1C6\", \"gridcolor\": \"#506784\", \"linecolor\": \"#506784\", \"minorgridcolor\": \"#506784\", \"startlinecolor\": \"#A2B1C6\"}, \"type\": \"carpet\"}], \"choropleth\": [{\"colorbar\": {\"outlinewidth\": 0, \"ticks\": \"\"}, \"type\": \"choropleth\"}], \"contour\": [{\"colorbar\": {\"outlinewidth\": 0, \"ticks\": \"\"}, \"colorscale\": [[0.0, \"#0d0887\"], [0.1111111111111111, \"#46039f\"], [0.2222222222222222, \"#7201a8\"], [0.3333333333333333, \"#9c179e\"], [0.4444444444444444, \"#bd3786\"], [0.5555555555555556, \"#d8576b\"], [0.6666666666666666, \"#ed7953\"], [0.7777777777777778, \"#fb9f3a\"], [0.8888888888888888, \"#fdca26\"], [1.0, \"#f0f921\"]], \"type\": \"contour\"}], \"contourcarpet\": [{\"colorbar\": {\"outlinewidth\": 0, \"ticks\": \"\"}, \"type\": \"contourcarpet\"}], \"heatmap\": [{\"colorbar\": {\"outlinewidth\": 0, \"ticks\": \"\"}, \"colorscale\": [[0.0, \"#0d0887\"], [0.1111111111111111, \"#46039f\"], [0.2222222222222222, \"#7201a8\"], [0.3333333333333333, \"#9c179e\"], [0.4444444444444444, \"#bd3786\"], [0.5555555555555556, \"#d8576b\"], [0.6666666666666666, \"#ed7953\"], [0.7777777777777778, \"#fb9f3a\"], [0.8888888888888888, \"#fdca26\"], [1.0, \"#f0f921\"]], \"type\": \"heatmap\"}], \"heatmapgl\": [{\"colorbar\": {\"outlinewidth\": 0, \"ticks\": \"\"}, \"colorscale\": [[0.0, \"#0d0887\"], [0.1111111111111111, \"#46039f\"], [0.2222222222222222, \"#7201a8\"], [0.3333333333333333, \"#9c179e\"], [0.4444444444444444, \"#bd3786\"], [0.5555555555555556, \"#d8576b\"], [0.6666666666666666, \"#ed7953\"], [0.7777777777777778, \"#fb9f3a\"], [0.8888888888888888, \"#fdca26\"], [1.0, \"#f0f921\"]], \"type\": \"heatmapgl\"}], \"histogram\": [{\"marker\": {\"colorbar\": {\"outlinewidth\": 0, \"ticks\": \"\"}}, \"type\": \"histogram\"}], \"histogram2d\": [{\"colorbar\": {\"outlinewidth\": 0, \"ticks\": \"\"}, \"colorscale\": [[0.0, \"#0d0887\"], [0.1111111111111111, \"#46039f\"], [0.2222222222222222, \"#7201a8\"], [0.3333333333333333, \"#9c179e\"], [0.4444444444444444, \"#bd3786\"], [0.5555555555555556, \"#d8576b\"], [0.6666666666666666, \"#ed7953\"], [0.7777777777777778, \"#fb9f3a\"], [0.8888888888888888, \"#fdca26\"], [1.0, \"#f0f921\"]], \"type\": \"histogram2d\"}], \"histogram2dcontour\": [{\"colorbar\": {\"outlinewidth\": 0, \"ticks\": \"\"}, \"colorscale\": [[0.0, \"#0d0887\"], [0.1111111111111111, \"#46039f\"], [0.2222222222222222, \"#7201a8\"], [0.3333333333333333, \"#9c179e\"], [0.4444444444444444, \"#bd3786\"], [0.5555555555555556, \"#d8576b\"], [0.6666666666666666, \"#ed7953\"], [0.7777777777777778, \"#fb9f3a\"], [0.8888888888888888, \"#fdca26\"], [1.0, \"#f0f921\"]], \"type\": \"histogram2dcontour\"}], \"mesh3d\": [{\"colorbar\": {\"outlinewidth\": 0, \"ticks\": \"\"}, \"type\": \"mesh3d\"}], \"parcoords\": [{\"line\": {\"colorbar\": {\"outlinewidth\": 0, \"ticks\": \"\"}}, \"type\": \"parcoords\"}], \"pie\": [{\"automargin\": true, \"type\": \"pie\"}], \"scatter\": [{\"marker\": {\"line\": {\"color\": \"#283442\"}}, \"type\": \"scatter\"}], \"scatter3d\": [{\"line\": {\"colorbar\": {\"outlinewidth\": 0, \"ticks\": \"\"}}, \"marker\": {\"colorbar\": {\"outlinewidth\": 0, \"ticks\": \"\"}}, \"type\": \"scatter3d\"}], \"scattercarpet\": [{\"marker\": {\"colorbar\": {\"outlinewidth\": 0, \"ticks\": \"\"}}, \"type\": \"scattercarpet\"}], \"scattergeo\": [{\"marker\": {\"colorbar\": {\"outlinewidth\": 0, \"ticks\": \"\"}}, \"type\": \"scattergeo\"}], \"scattergl\": [{\"marker\": {\"line\": {\"color\": \"#283442\"}}, \"type\": \"scattergl\"}], \"scattermapbox\": [{\"marker\": {\"colorbar\": {\"outlinewidth\": 0, \"ticks\": \"\"}}, \"type\": \"scattermapbox\"}], \"scatterpolar\": [{\"marker\": {\"colorbar\": {\"outlinewidth\": 0, \"ticks\": \"\"}}, \"type\": \"scatterpolar\"}], \"scatterpolargl\": [{\"marker\": {\"colorbar\": {\"outlinewidth\": 0, \"ticks\": \"\"}}, \"type\": \"scatterpolargl\"}], \"scatterternary\": [{\"marker\": {\"colorbar\": {\"outlinewidth\": 0, \"ticks\": \"\"}}, \"type\": \"scatterternary\"}], \"surface\": [{\"colorbar\": {\"outlinewidth\": 0, \"ticks\": \"\"}, \"colorscale\": [[0.0, \"#0d0887\"], [0.1111111111111111, \"#46039f\"], [0.2222222222222222, \"#7201a8\"], [0.3333333333333333, \"#9c179e\"], [0.4444444444444444, \"#bd3786\"], [0.5555555555555556, \"#d8576b\"], [0.6666666666666666, \"#ed7953\"], [0.7777777777777778, \"#fb9f3a\"], [0.8888888888888888, \"#fdca26\"], [1.0, \"#f0f921\"]], \"type\": \"surface\"}], \"table\": [{\"cells\": {\"fill\": {\"color\": \"#506784\"}, \"line\": {\"color\": \"rgb(17,17,17)\"}}, \"header\": {\"fill\": {\"color\": \"#2a3f5f\"}, \"line\": {\"color\": \"rgb(17,17,17)\"}}, \"type\": \"table\"}]}, \"layout\": {\"annotationdefaults\": {\"arrowcolor\": \"#f2f5fa\", \"arrowhead\": 0, \"arrowwidth\": 1}, \"coloraxis\": {\"colorbar\": {\"outlinewidth\": 0, \"ticks\": \"\"}}, \"colorscale\": {\"diverging\": [[0, \"#8e0152\"], [0.1, \"#c51b7d\"], [0.2, \"#de77ae\"], [0.3, \"#f1b6da\"], [0.4, \"#fde0ef\"], [0.5, \"#f7f7f7\"], [0.6, \"#e6f5d0\"], [0.7, \"#b8e186\"], [0.8, \"#7fbc41\"], [0.9, \"#4d9221\"], [1, \"#276419\"]], \"sequential\": [[0.0, \"#0d0887\"], [0.1111111111111111, \"#46039f\"], [0.2222222222222222, \"#7201a8\"], [0.3333333333333333, \"#9c179e\"], [0.4444444444444444, \"#bd3786\"], [0.5555555555555556, \"#d8576b\"], [0.6666666666666666, \"#ed7953\"], [0.7777777777777778, \"#fb9f3a\"], [0.8888888888888888, \"#fdca26\"], [1.0, \"#f0f921\"]], \"sequentialminus\": [[0.0, \"#0d0887\"], [0.1111111111111111, \"#46039f\"], [0.2222222222222222, \"#7201a8\"], [0.3333333333333333, \"#9c179e\"], [0.4444444444444444, \"#bd3786\"], [0.5555555555555556, \"#d8576b\"], [0.6666666666666666, \"#ed7953\"], [0.7777777777777778, \"#fb9f3a\"], [0.8888888888888888, \"#fdca26\"], [1.0, \"#f0f921\"]]}, \"colorway\": [\"#636efa\", \"#EF553B\", \"#00cc96\", \"#ab63fa\", \"#FFA15A\", \"#19d3f3\", \"#FF6692\", \"#B6E880\", \"#FF97FF\", \"#FECB52\"], \"font\": {\"color\": \"#f2f5fa\"}, \"geo\": {\"bgcolor\": \"rgb(17,17,17)\", \"lakecolor\": \"rgb(17,17,17)\", \"landcolor\": \"rgb(17,17,17)\", \"showlakes\": true, \"showland\": true, \"subunitcolor\": \"#506784\"}, \"hoverlabel\": {\"align\": \"left\"}, \"hovermode\": \"closest\", \"mapbox\": {\"style\": \"dark\"}, \"paper_bgcolor\": \"rgb(17,17,17)\", \"plot_bgcolor\": \"rgb(17,17,17)\", \"polar\": {\"angularaxis\": {\"gridcolor\": \"#506784\", \"linecolor\": \"#506784\", \"ticks\": \"\"}, \"bgcolor\": \"rgb(17,17,17)\", \"radialaxis\": {\"gridcolor\": \"#506784\", \"linecolor\": \"#506784\", \"ticks\": \"\"}}, \"scene\": {\"xaxis\": {\"backgroundcolor\": \"rgb(17,17,17)\", \"gridcolor\": \"#506784\", \"gridwidth\": 2, \"linecolor\": \"#506784\", \"showbackground\": true, \"ticks\": \"\", \"zerolinecolor\": \"#C8D4E3\"}, \"yaxis\": {\"backgroundcolor\": \"rgb(17,17,17)\", \"gridcolor\": \"#506784\", \"gridwidth\": 2, \"linecolor\": \"#506784\", \"showbackground\": true, \"ticks\": \"\", \"zerolinecolor\": \"#C8D4E3\"}, \"zaxis\": {\"backgroundcolor\": \"rgb(17,17,17)\", \"gridcolor\": \"#506784\", \"gridwidth\": 2, \"linecolor\": \"#506784\", \"showbackground\": true, \"ticks\": \"\", \"zerolinecolor\": \"#C8D4E3\"}}, \"shapedefaults\": {\"line\": {\"color\": \"#f2f5fa\"}}, \"sliderdefaults\": {\"bgcolor\": \"#C8D4E3\", \"bordercolor\": \"rgb(17,17,17)\", \"borderwidth\": 1, \"tickwidth\": 0}, \"ternary\": {\"aaxis\": {\"gridcolor\": \"#506784\", \"linecolor\": \"#506784\", \"ticks\": \"\"}, \"baxis\": {\"gridcolor\": \"#506784\", \"linecolor\": \"#506784\", \"ticks\": \"\"}, \"bgcolor\": \"rgb(17,17,17)\", \"caxis\": {\"gridcolor\": \"#506784\", \"linecolor\": \"#506784\", \"ticks\": \"\"}}, \"title\": {\"x\": 0.05}, \"updatemenudefaults\": {\"bgcolor\": \"#506784\", \"borderwidth\": 0}, \"xaxis\": {\"automargin\": true, \"gridcolor\": \"#283442\", \"linecolor\": \"#506784\", \"ticks\": \"\", \"title\": {\"standoff\": 15}, \"zerolinecolor\": \"#283442\", \"zerolinewidth\": 2}, \"yaxis\": {\"automargin\": true, \"gridcolor\": \"#283442\", \"linecolor\": \"#506784\", \"ticks\": \"\", \"title\": {\"standoff\": 15}, \"zerolinecolor\": \"#283442\", \"zerolinewidth\": 2}}}, \"title\": {\"text\": \"Accuracy for different k values\"}, \"xaxis\": {\"title\": {\"text\": \"K neighbors\"}}, \"yaxis\": {\"title\": {\"text\": \"Accuracy\"}}},\n",
       "                        {\"responsive\": true}\n",
       "                    ).then(function(){\n",
       "                            \n",
       "var gd = document.getElementById('81476d03-c009-407c-978b-a361361e6e46');\n",
       "var x = new MutationObserver(function (mutations, observer) {{\n",
       "        var display = window.getComputedStyle(gd).display;\n",
       "        if (!display || display === 'none') {{\n",
       "            console.log([gd, 'removed!']);\n",
       "            Plotly.purge(gd);\n",
       "            observer.disconnect();\n",
       "        }}\n",
       "}});\n",
       "\n",
       "// Listen for the removal of the full notebook cells\n",
       "var notebookContainer = gd.closest('#notebook-container');\n",
       "if (notebookContainer) {{\n",
       "    x.observe(notebookContainer, {childList: true});\n",
       "}}\n",
       "\n",
       "// Listen for the clearing of the current output cell\n",
       "var outputEl = gd.closest('.output');\n",
       "if (outputEl) {{\n",
       "    x.observe(outputEl, {childList: true});\n",
       "}}\n",
       "\n",
       "                        })\n",
       "                };\n",
       "                });\n",
       "            </script>\n",
       "        </div>"
      ]
     },
     "metadata": {},
     "output_type": "display_data"
    }
   ],
   "source": [
    "# Try different values for k\n",
    "train_accuracy = []\n",
    "test_accuracy = []\n",
    "\n",
    "for k in np.arange(1,16):\n",
    "    knn = KNeighborsClassifier(n_neighbors = k)\n",
    "    knn.fit(X_train, y_train)\n",
    "    train_accuracy.append(knn.score(X_train, y_train))\n",
    "    test_accuracy.append(knn.score(X_test, y_test))\n",
    "    \n",
    "fig = go.Figure()\n",
    "fig.add_trace(go.Scatter(x=np.arange(1,16), y=test_accuracy, name='Test Accuracy'))\n",
    "fig.add_trace(go.Scatter(x=np.arange(1,16), y=train_accuracy, name='Train Accuracy'))\n",
    "\n",
    "fig.update_layout(template='plotly_dark', xaxis_title=\"K neighbors\", title='Accuracy for different k values',\n",
    "                  yaxis_title=\"Accuracy\")\n",
    "\n",
    "fig.show(width=600, height=600)"
   ]
  },
  {
   "cell_type": "markdown",
   "metadata": {},
   "source": [
    "One potential reason for the decrease in the accuracy is the introduction of a new category BB. Features, like fundamental data, are now more likely to overlap between BB and the original values of BBB and B.\n",
    "\n",
    "Other potential reasons for the decrease in accuracy is that we are either not using the correct features or k-NN is not the correct model to use in this instance. For example, k-NN is often used as a baseline model to help measure more complex algorithms like support vector machines (SVM) and neural networks (NN)."
   ]
  },
  {
   "cell_type": "markdown",
   "metadata": {},
   "source": [
    "## k-NN for regression"
   ]
  },
  {
   "cell_type": "markdown",
   "metadata": {},
   "source": [
    "For the last example, let's look at k-NN in a regression setting.  Although k-NN is more commonly used in classification, it is worth taking a look at how k-NN can be applied in a regression.  Recall that in a regression test, we predict continuous values while in a classification test we predict categories or labels.  We will use sklearn.neighbors.KNeighborsRegressor and use the same features in the data, but we will change the dependent value to Yield."
   ]
  },
  {
   "cell_type": "markdown",
   "metadata": {},
   "source": [
    "As you recall in the classification example, we calculated the distance between the test point and all the points.  Then, we got the closest k neighbors and sorted by distance.  If the k equals 3, like in our theory section where we were looking at the triangles and squares, and there were two triangles and one square, then we would classify a new point as a triangle.\n",
    "\n",
    "In a regression setting, where the values we are trying to calculate are numeric, all we have to do is take the average or the mean of the k nearest neighbors.  If we have k equal to 3, we just take the average of the 3 closest points to come up with our prediction.\n",
    "\n",
    "Let's again follow the steps now that we have defined our X and Y values.\n",
    "\n",
    "#### 1. We normalized the data.\n",
    "#### 2. We split data into train and test.\n",
    "#### 3. We train the algorithm.\n",
    "#### 4. We make a prediction.\n",
    "#### 5. We evaluate the accuracy of the prediction."
   ]
  },
  {
   "cell_type": "markdown",
   "metadata": {},
   "source": [
    "#### sklearn.neighbors.KNeighborsRegressor"
   ]
  },
  {
   "cell_type": "code",
   "execution_count": 518,
   "metadata": {},
   "outputs": [],
   "source": [
    "# Import KNN regressor \n",
    "from sklearn.neighbors import KNeighborsRegressor\n",
    "from sklearn.metrics import mean_squared_error\n",
    "\n",
    "# Keep the same columns as features\n",
    "features = ['Current ratio', 'Operating Margin', 'Return on Assets', 'EV/Revenue']\n",
    "\n",
    "y = df_ratings['Yield']\n",
    "X = df_ratings[features]\n",
    "\n",
    "# Normalize data\n",
    "X_normalized = scaler.fit_transform(X)\n",
    "\n",
    "# Split data into train and test\n",
    "X_train, X_test, y_train, y_test = train_test_split(X_normalized, y, test_size = 0.3, \n",
    "                                                    random_state = 2)\n",
    "# Initialize model\n",
    "knn = KNeighborsRegressor()\n",
    "\n",
    "# train\n",
    "knn.fit(X_train, y_train)\n",
    "# Predict\n",
    "predictions = knn.predict(X_test)"
   ]
  },
  {
   "cell_type": "markdown",
   "metadata": {},
   "source": [
    "But how do we go about evaluating the result? The accuracy metric that we used before no longer makes sense for this type of problem. This is where root-mean-square error (RMSE) is useful. RMSE is a standard way to measure the error of a model that has tried to predict numerical or quantitative data."
   ]
  },
  {
   "cell_type": "markdown",
   "metadata": {},
   "source": [
    "<h4>Root Mean Square Error (RMSE) measures the error in numerical predictions</h4>  \n",
    "<img src='img/rmse.jpg'>"
   ]
  },
  {
   "cell_type": "markdown",
   "metadata": {},
   "source": [
    "#### predicted(i) - predicted value for the ith observation\n",
    "#### actual(i) - observed (true) data\n",
    "#### N - total number of observations"
   ]
  },
  {
   "cell_type": "markdown",
   "metadata": {},
   "source": [
    "As we can see from the formula, we can think of this as the normalized distance between actual value and the value the model predicted. We then sum the differences between the actual value and the predicted value and then find the average by dividing the result by the number of observations. This is done so that the units of our error match the units of the value we are trying to predict, which only requires us to take the square root of the value.\n",
    "\n",
    "In our example, we plug in both the model's predictions and y-test into mean_squared_error we imported from scikit-learn. The result will show us how many decimal format percentage points we deviate on average from the true Yield (e.g. 0.01 = 1%)."
   ]
  },
  {
   "cell_type": "code",
   "execution_count": 519,
   "metadata": {},
   "outputs": [
    {
     "name": "stdout",
     "output_type": "stream",
     "text": [
      "Root Mean Square Error: 0.0146\n"
     ]
    }
   ],
   "source": [
    "RMSE = math.sqrt(mean_squared_error(y_test, predictions))\n",
    "\n",
    "print('Root Mean Square Error: {:.4f}'.format(RMSE))"
   ]
  },
  {
   "cell_type": "markdown",
   "metadata": {},
   "source": [
    "Note that RMSE is in the same units as the value we are trying to predict\n",
    "so in our case, the error is in decimal format of percent (e.g. 0.01 = 1%).\n",
    "\n",
    "To find the optimal value of k, we plot RMSE versus k values. In this case, we are looking for the k value that will result in the lowest RMSE."
   ]
  },
  {
   "cell_type": "code",
   "execution_count": 520,
   "metadata": {},
   "outputs": [
    {
     "data": {
      "application/vnd.plotly.v1+json": {
       "config": {
        "plotlyServerURL": "https://plot.ly"
       },
       "data": [
        {
         "name": "Test Accuracy",
         "type": "scatter",
         "x": [
          1,
          2,
          3,
          4,
          5,
          6,
          7,
          8,
          9,
          10,
          11,
          12,
          13,
          14,
          15
         ],
         "y": [
          0.01852998702421691,
          0.016730370301974086,
          0.015561124601268675,
          0.015079585233315389,
          0.014619906449366744,
          0.014563291916530356,
          0.014301910548879098,
          0.014273239984829026,
          0.014132968550678453,
          0.013965567498104672,
          0.013949028064095075,
          0.013820053248200175,
          0.013656181446776203,
          0.013736690460621304,
          0.013841643077738395
         ]
        }
       ],
       "layout": {
        "template": {
         "data": {
          "bar": [
           {
            "error_x": {
             "color": "#f2f5fa"
            },
            "error_y": {
             "color": "#f2f5fa"
            },
            "marker": {
             "line": {
              "color": "rgb(17,17,17)",
              "width": 0.5
             }
            },
            "type": "bar"
           }
          ],
          "barpolar": [
           {
            "marker": {
             "line": {
              "color": "rgb(17,17,17)",
              "width": 0.5
             }
            },
            "type": "barpolar"
           }
          ],
          "carpet": [
           {
            "aaxis": {
             "endlinecolor": "#A2B1C6",
             "gridcolor": "#506784",
             "linecolor": "#506784",
             "minorgridcolor": "#506784",
             "startlinecolor": "#A2B1C6"
            },
            "baxis": {
             "endlinecolor": "#A2B1C6",
             "gridcolor": "#506784",
             "linecolor": "#506784",
             "minorgridcolor": "#506784",
             "startlinecolor": "#A2B1C6"
            },
            "type": "carpet"
           }
          ],
          "choropleth": [
           {
            "colorbar": {
             "outlinewidth": 0,
             "ticks": ""
            },
            "type": "choropleth"
           }
          ],
          "contour": [
           {
            "colorbar": {
             "outlinewidth": 0,
             "ticks": ""
            },
            "colorscale": [
             [
              0,
              "#0d0887"
             ],
             [
              0.1111111111111111,
              "#46039f"
             ],
             [
              0.2222222222222222,
              "#7201a8"
             ],
             [
              0.3333333333333333,
              "#9c179e"
             ],
             [
              0.4444444444444444,
              "#bd3786"
             ],
             [
              0.5555555555555556,
              "#d8576b"
             ],
             [
              0.6666666666666666,
              "#ed7953"
             ],
             [
              0.7777777777777778,
              "#fb9f3a"
             ],
             [
              0.8888888888888888,
              "#fdca26"
             ],
             [
              1,
              "#f0f921"
             ]
            ],
            "type": "contour"
           }
          ],
          "contourcarpet": [
           {
            "colorbar": {
             "outlinewidth": 0,
             "ticks": ""
            },
            "type": "contourcarpet"
           }
          ],
          "heatmap": [
           {
            "colorbar": {
             "outlinewidth": 0,
             "ticks": ""
            },
            "colorscale": [
             [
              0,
              "#0d0887"
             ],
             [
              0.1111111111111111,
              "#46039f"
             ],
             [
              0.2222222222222222,
              "#7201a8"
             ],
             [
              0.3333333333333333,
              "#9c179e"
             ],
             [
              0.4444444444444444,
              "#bd3786"
             ],
             [
              0.5555555555555556,
              "#d8576b"
             ],
             [
              0.6666666666666666,
              "#ed7953"
             ],
             [
              0.7777777777777778,
              "#fb9f3a"
             ],
             [
              0.8888888888888888,
              "#fdca26"
             ],
             [
              1,
              "#f0f921"
             ]
            ],
            "type": "heatmap"
           }
          ],
          "heatmapgl": [
           {
            "colorbar": {
             "outlinewidth": 0,
             "ticks": ""
            },
            "colorscale": [
             [
              0,
              "#0d0887"
             ],
             [
              0.1111111111111111,
              "#46039f"
             ],
             [
              0.2222222222222222,
              "#7201a8"
             ],
             [
              0.3333333333333333,
              "#9c179e"
             ],
             [
              0.4444444444444444,
              "#bd3786"
             ],
             [
              0.5555555555555556,
              "#d8576b"
             ],
             [
              0.6666666666666666,
              "#ed7953"
             ],
             [
              0.7777777777777778,
              "#fb9f3a"
             ],
             [
              0.8888888888888888,
              "#fdca26"
             ],
             [
              1,
              "#f0f921"
             ]
            ],
            "type": "heatmapgl"
           }
          ],
          "histogram": [
           {
            "marker": {
             "colorbar": {
              "outlinewidth": 0,
              "ticks": ""
             }
            },
            "type": "histogram"
           }
          ],
          "histogram2d": [
           {
            "colorbar": {
             "outlinewidth": 0,
             "ticks": ""
            },
            "colorscale": [
             [
              0,
              "#0d0887"
             ],
             [
              0.1111111111111111,
              "#46039f"
             ],
             [
              0.2222222222222222,
              "#7201a8"
             ],
             [
              0.3333333333333333,
              "#9c179e"
             ],
             [
              0.4444444444444444,
              "#bd3786"
             ],
             [
              0.5555555555555556,
              "#d8576b"
             ],
             [
              0.6666666666666666,
              "#ed7953"
             ],
             [
              0.7777777777777778,
              "#fb9f3a"
             ],
             [
              0.8888888888888888,
              "#fdca26"
             ],
             [
              1,
              "#f0f921"
             ]
            ],
            "type": "histogram2d"
           }
          ],
          "histogram2dcontour": [
           {
            "colorbar": {
             "outlinewidth": 0,
             "ticks": ""
            },
            "colorscale": [
             [
              0,
              "#0d0887"
             ],
             [
              0.1111111111111111,
              "#46039f"
             ],
             [
              0.2222222222222222,
              "#7201a8"
             ],
             [
              0.3333333333333333,
              "#9c179e"
             ],
             [
              0.4444444444444444,
              "#bd3786"
             ],
             [
              0.5555555555555556,
              "#d8576b"
             ],
             [
              0.6666666666666666,
              "#ed7953"
             ],
             [
              0.7777777777777778,
              "#fb9f3a"
             ],
             [
              0.8888888888888888,
              "#fdca26"
             ],
             [
              1,
              "#f0f921"
             ]
            ],
            "type": "histogram2dcontour"
           }
          ],
          "mesh3d": [
           {
            "colorbar": {
             "outlinewidth": 0,
             "ticks": ""
            },
            "type": "mesh3d"
           }
          ],
          "parcoords": [
           {
            "line": {
             "colorbar": {
              "outlinewidth": 0,
              "ticks": ""
             }
            },
            "type": "parcoords"
           }
          ],
          "pie": [
           {
            "automargin": true,
            "type": "pie"
           }
          ],
          "scatter": [
           {
            "marker": {
             "line": {
              "color": "#283442"
             }
            },
            "type": "scatter"
           }
          ],
          "scatter3d": [
           {
            "line": {
             "colorbar": {
              "outlinewidth": 0,
              "ticks": ""
             }
            },
            "marker": {
             "colorbar": {
              "outlinewidth": 0,
              "ticks": ""
             }
            },
            "type": "scatter3d"
           }
          ],
          "scattercarpet": [
           {
            "marker": {
             "colorbar": {
              "outlinewidth": 0,
              "ticks": ""
             }
            },
            "type": "scattercarpet"
           }
          ],
          "scattergeo": [
           {
            "marker": {
             "colorbar": {
              "outlinewidth": 0,
              "ticks": ""
             }
            },
            "type": "scattergeo"
           }
          ],
          "scattergl": [
           {
            "marker": {
             "line": {
              "color": "#283442"
             }
            },
            "type": "scattergl"
           }
          ],
          "scattermapbox": [
           {
            "marker": {
             "colorbar": {
              "outlinewidth": 0,
              "ticks": ""
             }
            },
            "type": "scattermapbox"
           }
          ],
          "scatterpolar": [
           {
            "marker": {
             "colorbar": {
              "outlinewidth": 0,
              "ticks": ""
             }
            },
            "type": "scatterpolar"
           }
          ],
          "scatterpolargl": [
           {
            "marker": {
             "colorbar": {
              "outlinewidth": 0,
              "ticks": ""
             }
            },
            "type": "scatterpolargl"
           }
          ],
          "scatterternary": [
           {
            "marker": {
             "colorbar": {
              "outlinewidth": 0,
              "ticks": ""
             }
            },
            "type": "scatterternary"
           }
          ],
          "surface": [
           {
            "colorbar": {
             "outlinewidth": 0,
             "ticks": ""
            },
            "colorscale": [
             [
              0,
              "#0d0887"
             ],
             [
              0.1111111111111111,
              "#46039f"
             ],
             [
              0.2222222222222222,
              "#7201a8"
             ],
             [
              0.3333333333333333,
              "#9c179e"
             ],
             [
              0.4444444444444444,
              "#bd3786"
             ],
             [
              0.5555555555555556,
              "#d8576b"
             ],
             [
              0.6666666666666666,
              "#ed7953"
             ],
             [
              0.7777777777777778,
              "#fb9f3a"
             ],
             [
              0.8888888888888888,
              "#fdca26"
             ],
             [
              1,
              "#f0f921"
             ]
            ],
            "type": "surface"
           }
          ],
          "table": [
           {
            "cells": {
             "fill": {
              "color": "#506784"
             },
             "line": {
              "color": "rgb(17,17,17)"
             }
            },
            "header": {
             "fill": {
              "color": "#2a3f5f"
             },
             "line": {
              "color": "rgb(17,17,17)"
             }
            },
            "type": "table"
           }
          ]
         },
         "layout": {
          "annotationdefaults": {
           "arrowcolor": "#f2f5fa",
           "arrowhead": 0,
           "arrowwidth": 1
          },
          "coloraxis": {
           "colorbar": {
            "outlinewidth": 0,
            "ticks": ""
           }
          },
          "colorscale": {
           "diverging": [
            [
             0,
             "#8e0152"
            ],
            [
             0.1,
             "#c51b7d"
            ],
            [
             0.2,
             "#de77ae"
            ],
            [
             0.3,
             "#f1b6da"
            ],
            [
             0.4,
             "#fde0ef"
            ],
            [
             0.5,
             "#f7f7f7"
            ],
            [
             0.6,
             "#e6f5d0"
            ],
            [
             0.7,
             "#b8e186"
            ],
            [
             0.8,
             "#7fbc41"
            ],
            [
             0.9,
             "#4d9221"
            ],
            [
             1,
             "#276419"
            ]
           ],
           "sequential": [
            [
             0,
             "#0d0887"
            ],
            [
             0.1111111111111111,
             "#46039f"
            ],
            [
             0.2222222222222222,
             "#7201a8"
            ],
            [
             0.3333333333333333,
             "#9c179e"
            ],
            [
             0.4444444444444444,
             "#bd3786"
            ],
            [
             0.5555555555555556,
             "#d8576b"
            ],
            [
             0.6666666666666666,
             "#ed7953"
            ],
            [
             0.7777777777777778,
             "#fb9f3a"
            ],
            [
             0.8888888888888888,
             "#fdca26"
            ],
            [
             1,
             "#f0f921"
            ]
           ],
           "sequentialminus": [
            [
             0,
             "#0d0887"
            ],
            [
             0.1111111111111111,
             "#46039f"
            ],
            [
             0.2222222222222222,
             "#7201a8"
            ],
            [
             0.3333333333333333,
             "#9c179e"
            ],
            [
             0.4444444444444444,
             "#bd3786"
            ],
            [
             0.5555555555555556,
             "#d8576b"
            ],
            [
             0.6666666666666666,
             "#ed7953"
            ],
            [
             0.7777777777777778,
             "#fb9f3a"
            ],
            [
             0.8888888888888888,
             "#fdca26"
            ],
            [
             1,
             "#f0f921"
            ]
           ]
          },
          "colorway": [
           "#636efa",
           "#EF553B",
           "#00cc96",
           "#ab63fa",
           "#FFA15A",
           "#19d3f3",
           "#FF6692",
           "#B6E880",
           "#FF97FF",
           "#FECB52"
          ],
          "font": {
           "color": "#f2f5fa"
          },
          "geo": {
           "bgcolor": "rgb(17,17,17)",
           "lakecolor": "rgb(17,17,17)",
           "landcolor": "rgb(17,17,17)",
           "showlakes": true,
           "showland": true,
           "subunitcolor": "#506784"
          },
          "hoverlabel": {
           "align": "left"
          },
          "hovermode": "closest",
          "mapbox": {
           "style": "dark"
          },
          "paper_bgcolor": "rgb(17,17,17)",
          "plot_bgcolor": "rgb(17,17,17)",
          "polar": {
           "angularaxis": {
            "gridcolor": "#506784",
            "linecolor": "#506784",
            "ticks": ""
           },
           "bgcolor": "rgb(17,17,17)",
           "radialaxis": {
            "gridcolor": "#506784",
            "linecolor": "#506784",
            "ticks": ""
           }
          },
          "scene": {
           "xaxis": {
            "backgroundcolor": "rgb(17,17,17)",
            "gridcolor": "#506784",
            "gridwidth": 2,
            "linecolor": "#506784",
            "showbackground": true,
            "ticks": "",
            "zerolinecolor": "#C8D4E3"
           },
           "yaxis": {
            "backgroundcolor": "rgb(17,17,17)",
            "gridcolor": "#506784",
            "gridwidth": 2,
            "linecolor": "#506784",
            "showbackground": true,
            "ticks": "",
            "zerolinecolor": "#C8D4E3"
           },
           "zaxis": {
            "backgroundcolor": "rgb(17,17,17)",
            "gridcolor": "#506784",
            "gridwidth": 2,
            "linecolor": "#506784",
            "showbackground": true,
            "ticks": "",
            "zerolinecolor": "#C8D4E3"
           }
          },
          "shapedefaults": {
           "line": {
            "color": "#f2f5fa"
           }
          },
          "sliderdefaults": {
           "bgcolor": "#C8D4E3",
           "bordercolor": "rgb(17,17,17)",
           "borderwidth": 1,
           "tickwidth": 0
          },
          "ternary": {
           "aaxis": {
            "gridcolor": "#506784",
            "linecolor": "#506784",
            "ticks": ""
           },
           "baxis": {
            "gridcolor": "#506784",
            "linecolor": "#506784",
            "ticks": ""
           },
           "bgcolor": "rgb(17,17,17)",
           "caxis": {
            "gridcolor": "#506784",
            "linecolor": "#506784",
            "ticks": ""
           }
          },
          "title": {
           "x": 0.05
          },
          "updatemenudefaults": {
           "bgcolor": "#506784",
           "borderwidth": 0
          },
          "xaxis": {
           "automargin": true,
           "gridcolor": "#283442",
           "linecolor": "#506784",
           "ticks": "",
           "title": {
            "standoff": 15
           },
           "zerolinecolor": "#283442",
           "zerolinewidth": 2
          },
          "yaxis": {
           "automargin": true,
           "gridcolor": "#283442",
           "linecolor": "#506784",
           "ticks": "",
           "title": {
            "standoff": 15
           },
           "zerolinecolor": "#283442",
           "zerolinewidth": 2
          }
         }
        },
        "title": {
         "text": "RMSE for different k values"
        },
        "xaxis": {
         "title": {
          "text": "K neighbors"
         }
        },
        "yaxis": {
         "title": {
          "text": "RMSE"
         }
        }
       }
      },
      "text/html": [
       "<div>\n",
       "        \n",
       "        \n",
       "            <div id=\"f5654eb3-8cf2-4006-b66a-5e6fe51f2c7d\" class=\"plotly-graph-div\" style=\"height:525px; width:100%;\"></div>\n",
       "            <script type=\"text/javascript\">\n",
       "                require([\"plotly\"], function(Plotly) {\n",
       "                    window.PLOTLYENV=window.PLOTLYENV || {};\n",
       "                    \n",
       "                if (document.getElementById(\"f5654eb3-8cf2-4006-b66a-5e6fe51f2c7d\")) {\n",
       "                    Plotly.newPlot(\n",
       "                        'f5654eb3-8cf2-4006-b66a-5e6fe51f2c7d',\n",
       "                        [{\"name\": \"Test Accuracy\", \"type\": \"scatter\", \"x\": [1, 2, 3, 4, 5, 6, 7, 8, 9, 10, 11, 12, 13, 14, 15], \"y\": [0.01852998702421691, 0.016730370301974086, 0.015561124601268675, 0.015079585233315389, 0.014619906449366744, 0.014563291916530356, 0.014301910548879098, 0.014273239984829026, 0.014132968550678453, 0.013965567498104672, 0.013949028064095075, 0.013820053248200175, 0.013656181446776203, 0.013736690460621304, 0.013841643077738395]}],\n",
       "                        {\"template\": {\"data\": {\"bar\": [{\"error_x\": {\"color\": \"#f2f5fa\"}, \"error_y\": {\"color\": \"#f2f5fa\"}, \"marker\": {\"line\": {\"color\": \"rgb(17,17,17)\", \"width\": 0.5}}, \"type\": \"bar\"}], \"barpolar\": [{\"marker\": {\"line\": {\"color\": \"rgb(17,17,17)\", \"width\": 0.5}}, \"type\": \"barpolar\"}], \"carpet\": [{\"aaxis\": {\"endlinecolor\": \"#A2B1C6\", \"gridcolor\": \"#506784\", \"linecolor\": \"#506784\", \"minorgridcolor\": \"#506784\", \"startlinecolor\": \"#A2B1C6\"}, \"baxis\": {\"endlinecolor\": \"#A2B1C6\", \"gridcolor\": \"#506784\", \"linecolor\": \"#506784\", \"minorgridcolor\": \"#506784\", \"startlinecolor\": \"#A2B1C6\"}, \"type\": \"carpet\"}], \"choropleth\": [{\"colorbar\": {\"outlinewidth\": 0, \"ticks\": \"\"}, \"type\": \"choropleth\"}], \"contour\": [{\"colorbar\": {\"outlinewidth\": 0, \"ticks\": \"\"}, \"colorscale\": [[0.0, \"#0d0887\"], [0.1111111111111111, \"#46039f\"], [0.2222222222222222, \"#7201a8\"], [0.3333333333333333, \"#9c179e\"], [0.4444444444444444, \"#bd3786\"], [0.5555555555555556, \"#d8576b\"], [0.6666666666666666, \"#ed7953\"], [0.7777777777777778, \"#fb9f3a\"], [0.8888888888888888, \"#fdca26\"], [1.0, \"#f0f921\"]], \"type\": \"contour\"}], \"contourcarpet\": [{\"colorbar\": {\"outlinewidth\": 0, \"ticks\": \"\"}, \"type\": \"contourcarpet\"}], \"heatmap\": [{\"colorbar\": {\"outlinewidth\": 0, \"ticks\": \"\"}, \"colorscale\": [[0.0, \"#0d0887\"], [0.1111111111111111, \"#46039f\"], [0.2222222222222222, \"#7201a8\"], [0.3333333333333333, \"#9c179e\"], [0.4444444444444444, \"#bd3786\"], [0.5555555555555556, \"#d8576b\"], [0.6666666666666666, \"#ed7953\"], [0.7777777777777778, \"#fb9f3a\"], [0.8888888888888888, \"#fdca26\"], [1.0, \"#f0f921\"]], \"type\": \"heatmap\"}], \"heatmapgl\": [{\"colorbar\": {\"outlinewidth\": 0, \"ticks\": \"\"}, \"colorscale\": [[0.0, \"#0d0887\"], [0.1111111111111111, \"#46039f\"], [0.2222222222222222, \"#7201a8\"], [0.3333333333333333, \"#9c179e\"], [0.4444444444444444, \"#bd3786\"], [0.5555555555555556, \"#d8576b\"], [0.6666666666666666, \"#ed7953\"], [0.7777777777777778, \"#fb9f3a\"], [0.8888888888888888, \"#fdca26\"], [1.0, \"#f0f921\"]], \"type\": \"heatmapgl\"}], \"histogram\": [{\"marker\": {\"colorbar\": {\"outlinewidth\": 0, \"ticks\": \"\"}}, \"type\": \"histogram\"}], \"histogram2d\": [{\"colorbar\": {\"outlinewidth\": 0, \"ticks\": \"\"}, \"colorscale\": [[0.0, \"#0d0887\"], [0.1111111111111111, \"#46039f\"], [0.2222222222222222, \"#7201a8\"], [0.3333333333333333, \"#9c179e\"], [0.4444444444444444, \"#bd3786\"], [0.5555555555555556, \"#d8576b\"], [0.6666666666666666, \"#ed7953\"], [0.7777777777777778, \"#fb9f3a\"], [0.8888888888888888, \"#fdca26\"], [1.0, \"#f0f921\"]], \"type\": \"histogram2d\"}], \"histogram2dcontour\": [{\"colorbar\": {\"outlinewidth\": 0, \"ticks\": \"\"}, \"colorscale\": [[0.0, \"#0d0887\"], [0.1111111111111111, \"#46039f\"], [0.2222222222222222, \"#7201a8\"], [0.3333333333333333, \"#9c179e\"], [0.4444444444444444, \"#bd3786\"], [0.5555555555555556, \"#d8576b\"], [0.6666666666666666, \"#ed7953\"], [0.7777777777777778, \"#fb9f3a\"], [0.8888888888888888, \"#fdca26\"], [1.0, \"#f0f921\"]], \"type\": \"histogram2dcontour\"}], \"mesh3d\": [{\"colorbar\": {\"outlinewidth\": 0, \"ticks\": \"\"}, \"type\": \"mesh3d\"}], \"parcoords\": [{\"line\": {\"colorbar\": {\"outlinewidth\": 0, \"ticks\": \"\"}}, \"type\": \"parcoords\"}], \"pie\": [{\"automargin\": true, \"type\": \"pie\"}], \"scatter\": [{\"marker\": {\"line\": {\"color\": \"#283442\"}}, \"type\": \"scatter\"}], \"scatter3d\": [{\"line\": {\"colorbar\": {\"outlinewidth\": 0, \"ticks\": \"\"}}, \"marker\": {\"colorbar\": {\"outlinewidth\": 0, \"ticks\": \"\"}}, \"type\": \"scatter3d\"}], \"scattercarpet\": [{\"marker\": {\"colorbar\": {\"outlinewidth\": 0, \"ticks\": \"\"}}, \"type\": \"scattercarpet\"}], \"scattergeo\": [{\"marker\": {\"colorbar\": {\"outlinewidth\": 0, \"ticks\": \"\"}}, \"type\": \"scattergeo\"}], \"scattergl\": [{\"marker\": {\"line\": {\"color\": \"#283442\"}}, \"type\": \"scattergl\"}], \"scattermapbox\": [{\"marker\": {\"colorbar\": {\"outlinewidth\": 0, \"ticks\": \"\"}}, \"type\": \"scattermapbox\"}], \"scatterpolar\": [{\"marker\": {\"colorbar\": {\"outlinewidth\": 0, \"ticks\": \"\"}}, \"type\": \"scatterpolar\"}], \"scatterpolargl\": [{\"marker\": {\"colorbar\": {\"outlinewidth\": 0, \"ticks\": \"\"}}, \"type\": \"scatterpolargl\"}], \"scatterternary\": [{\"marker\": {\"colorbar\": {\"outlinewidth\": 0, \"ticks\": \"\"}}, \"type\": \"scatterternary\"}], \"surface\": [{\"colorbar\": {\"outlinewidth\": 0, \"ticks\": \"\"}, \"colorscale\": [[0.0, \"#0d0887\"], [0.1111111111111111, \"#46039f\"], [0.2222222222222222, \"#7201a8\"], [0.3333333333333333, \"#9c179e\"], [0.4444444444444444, \"#bd3786\"], [0.5555555555555556, \"#d8576b\"], [0.6666666666666666, \"#ed7953\"], [0.7777777777777778, \"#fb9f3a\"], [0.8888888888888888, \"#fdca26\"], [1.0, \"#f0f921\"]], \"type\": \"surface\"}], \"table\": [{\"cells\": {\"fill\": {\"color\": \"#506784\"}, \"line\": {\"color\": \"rgb(17,17,17)\"}}, \"header\": {\"fill\": {\"color\": \"#2a3f5f\"}, \"line\": {\"color\": \"rgb(17,17,17)\"}}, \"type\": \"table\"}]}, \"layout\": {\"annotationdefaults\": {\"arrowcolor\": \"#f2f5fa\", \"arrowhead\": 0, \"arrowwidth\": 1}, \"coloraxis\": {\"colorbar\": {\"outlinewidth\": 0, \"ticks\": \"\"}}, \"colorscale\": {\"diverging\": [[0, \"#8e0152\"], [0.1, \"#c51b7d\"], [0.2, \"#de77ae\"], [0.3, \"#f1b6da\"], [0.4, \"#fde0ef\"], [0.5, \"#f7f7f7\"], [0.6, \"#e6f5d0\"], [0.7, \"#b8e186\"], [0.8, \"#7fbc41\"], [0.9, \"#4d9221\"], [1, \"#276419\"]], \"sequential\": [[0.0, \"#0d0887\"], [0.1111111111111111, \"#46039f\"], [0.2222222222222222, \"#7201a8\"], [0.3333333333333333, \"#9c179e\"], [0.4444444444444444, \"#bd3786\"], [0.5555555555555556, \"#d8576b\"], [0.6666666666666666, \"#ed7953\"], [0.7777777777777778, \"#fb9f3a\"], [0.8888888888888888, \"#fdca26\"], [1.0, \"#f0f921\"]], \"sequentialminus\": [[0.0, \"#0d0887\"], [0.1111111111111111, \"#46039f\"], [0.2222222222222222, \"#7201a8\"], [0.3333333333333333, \"#9c179e\"], [0.4444444444444444, \"#bd3786\"], [0.5555555555555556, \"#d8576b\"], [0.6666666666666666, \"#ed7953\"], [0.7777777777777778, \"#fb9f3a\"], [0.8888888888888888, \"#fdca26\"], [1.0, \"#f0f921\"]]}, \"colorway\": [\"#636efa\", \"#EF553B\", \"#00cc96\", \"#ab63fa\", \"#FFA15A\", \"#19d3f3\", \"#FF6692\", \"#B6E880\", \"#FF97FF\", \"#FECB52\"], \"font\": {\"color\": \"#f2f5fa\"}, \"geo\": {\"bgcolor\": \"rgb(17,17,17)\", \"lakecolor\": \"rgb(17,17,17)\", \"landcolor\": \"rgb(17,17,17)\", \"showlakes\": true, \"showland\": true, \"subunitcolor\": \"#506784\"}, \"hoverlabel\": {\"align\": \"left\"}, \"hovermode\": \"closest\", \"mapbox\": {\"style\": \"dark\"}, \"paper_bgcolor\": \"rgb(17,17,17)\", \"plot_bgcolor\": \"rgb(17,17,17)\", \"polar\": {\"angularaxis\": {\"gridcolor\": \"#506784\", \"linecolor\": \"#506784\", \"ticks\": \"\"}, \"bgcolor\": \"rgb(17,17,17)\", \"radialaxis\": {\"gridcolor\": \"#506784\", \"linecolor\": \"#506784\", \"ticks\": \"\"}}, \"scene\": {\"xaxis\": {\"backgroundcolor\": \"rgb(17,17,17)\", \"gridcolor\": \"#506784\", \"gridwidth\": 2, \"linecolor\": \"#506784\", \"showbackground\": true, \"ticks\": \"\", \"zerolinecolor\": \"#C8D4E3\"}, \"yaxis\": {\"backgroundcolor\": \"rgb(17,17,17)\", \"gridcolor\": \"#506784\", \"gridwidth\": 2, \"linecolor\": \"#506784\", \"showbackground\": true, \"ticks\": \"\", \"zerolinecolor\": \"#C8D4E3\"}, \"zaxis\": {\"backgroundcolor\": \"rgb(17,17,17)\", \"gridcolor\": \"#506784\", \"gridwidth\": 2, \"linecolor\": \"#506784\", \"showbackground\": true, \"ticks\": \"\", \"zerolinecolor\": \"#C8D4E3\"}}, \"shapedefaults\": {\"line\": {\"color\": \"#f2f5fa\"}}, \"sliderdefaults\": {\"bgcolor\": \"#C8D4E3\", \"bordercolor\": \"rgb(17,17,17)\", \"borderwidth\": 1, \"tickwidth\": 0}, \"ternary\": {\"aaxis\": {\"gridcolor\": \"#506784\", \"linecolor\": \"#506784\", \"ticks\": \"\"}, \"baxis\": {\"gridcolor\": \"#506784\", \"linecolor\": \"#506784\", \"ticks\": \"\"}, \"bgcolor\": \"rgb(17,17,17)\", \"caxis\": {\"gridcolor\": \"#506784\", \"linecolor\": \"#506784\", \"ticks\": \"\"}}, \"title\": {\"x\": 0.05}, \"updatemenudefaults\": {\"bgcolor\": \"#506784\", \"borderwidth\": 0}, \"xaxis\": {\"automargin\": true, \"gridcolor\": \"#283442\", \"linecolor\": \"#506784\", \"ticks\": \"\", \"title\": {\"standoff\": 15}, \"zerolinecolor\": \"#283442\", \"zerolinewidth\": 2}, \"yaxis\": {\"automargin\": true, \"gridcolor\": \"#283442\", \"linecolor\": \"#506784\", \"ticks\": \"\", \"title\": {\"standoff\": 15}, \"zerolinecolor\": \"#283442\", \"zerolinewidth\": 2}}}, \"title\": {\"text\": \"RMSE for different k values\"}, \"xaxis\": {\"title\": {\"text\": \"K neighbors\"}}, \"yaxis\": {\"title\": {\"text\": \"RMSE\"}}},\n",
       "                        {\"responsive\": true}\n",
       "                    ).then(function(){\n",
       "                            \n",
       "var gd = document.getElementById('f5654eb3-8cf2-4006-b66a-5e6fe51f2c7d');\n",
       "var x = new MutationObserver(function (mutations, observer) {{\n",
       "        var display = window.getComputedStyle(gd).display;\n",
       "        if (!display || display === 'none') {{\n",
       "            console.log([gd, 'removed!']);\n",
       "            Plotly.purge(gd);\n",
       "            observer.disconnect();\n",
       "        }}\n",
       "}});\n",
       "\n",
       "// Listen for the removal of the full notebook cells\n",
       "var notebookContainer = gd.closest('#notebook-container');\n",
       "if (notebookContainer) {{\n",
       "    x.observe(notebookContainer, {childList: true});\n",
       "}}\n",
       "\n",
       "// Listen for the clearing of the current output cell\n",
       "var outputEl = gd.closest('.output');\n",
       "if (outputEl) {{\n",
       "    x.observe(outputEl, {childList: true});\n",
       "}}\n",
       "\n",
       "                        })\n",
       "                };\n",
       "                });\n",
       "            </script>\n",
       "        </div>"
      ]
     },
     "metadata": {},
     "output_type": "display_data"
    }
   ],
   "source": [
    "# Plot RMSE for values of k to see which k minimizes the error\n",
    "rmse_value = []\n",
    "\n",
    "for k in np.arange(1,16):\n",
    "    \n",
    "    knn = KNeighborsRegressor(n_neighbors = k)\n",
    "    knn.fit(X_train, y_train)\n",
    "    pred = knn.predict(X_test)\n",
    "    error = math.sqrt(mean_squared_error(y_test, pred))\n",
    "    rmse_value.append(error)\n",
    "    \n",
    "#Plot only for test set\n",
    "fig = go.Figure()\n",
    "fig.add_trace(go.Scatter(x=np.arange(1,16), y=rmse_value, name='Test Accuracy'))\n",
    "#fig.add_trace(go.Scatter(x=np.arange(1,20),y = train_accuracy, name = 'Train Accuracy'))\n",
    "\n",
    "fig.update_layout(template='plotly_dark', xaxis_title=\"K neighbors\", title='RMSE for different k values',\n",
    "                  yaxis_title=\"RMSE\")\n",
    "\n",
    "fig.show(width=600, height=600)"
   ]
  },
  {
   "cell_type": "markdown",
   "metadata": {},
   "source": [
    "So now we have seen how k-NN can be applied in a regression setting. Based on this example, it is pretty clear that k-NN might not be the best model when it comes to predicting Yield.\n",
    "\n",
    "What may be the reasons for such poor model performance? One reason may be that the variables selected may not contain much predictive power when it comes to predicting Yield. Also, recall what k-NN does in a regression setting. It takes the average of the k nearest neighbors. So essentially, it takes the average of the closest Yields, which likely vary significantly even for bonds that share similar fundamental characteristics."
   ]
  },
  {
   "cell_type": "markdown",
   "metadata": {},
   "source": [
    "## Summary of what we learned about k-NN.\n",
    "\n",
    "The k-NN algorithm is not parametric, so it makes no assumptions about the underlying data.  As the above examples show, k-NN is an easy algorithm to implement and very intuitive to understand.  We also learned that k-NN works for both regression and classification, although the algorithm tends to be used for classification more frequently in practice.\n",
    "\n",
    "Some negatives associated with k-NN is that it can be sensitive to outliers and the magnitude of the features.  This must be taken into consideration and is why preprocessing of features should be done before passing them to the algorithm.  Because the model must store all the data to calculate the distances, k-NN uses a lot of memory.  As the dataset grows, the speed of the k-NN algorithm will decline."
   ]
  },
  {
   "cell_type": "markdown",
   "metadata": {},
   "source": [
    "## Additional Resources"
   ]
  },
  {
   "cell_type": "markdown",
   "metadata": {},
   "source": [
    "\n",
    "\n",
    "\n",
    "### k-NN from scratch\n",
    "\n",
    "#### 1. Euclidean Distance\n",
    "#### 2. Locate neighbors\n",
    "#### 3. Make Predictions"
   ]
  },
  {
   "cell_type": "code",
   "execution_count": 521,
   "metadata": {},
   "outputs": [
    {
     "data": {
      "text/html": [
       "<div>\n",
       "<style scoped>\n",
       "    .dataframe tbody tr th:only-of-type {\n",
       "        vertical-align: middle;\n",
       "    }\n",
       "\n",
       "    .dataframe tbody tr th {\n",
       "        vertical-align: top;\n",
       "    }\n",
       "\n",
       "    .dataframe thead th {\n",
       "        text-align: right;\n",
       "    }\n",
       "</style>\n",
       "<table border=\"1\" class=\"dataframe\">\n",
       "  <thead>\n",
       "    <tr style=\"text-align: right;\">\n",
       "      <th></th>\n",
       "      <th>Issuer Name</th>\n",
       "      <th>Symbol</th>\n",
       "      <th>Callable</th>\n",
       "      <th>Sub-Product Type</th>\n",
       "      <th>Coupon</th>\n",
       "      <th>Maturity</th>\n",
       "      <th>Moody's®</th>\n",
       "      <th>S&amp;P</th>\n",
       "      <th>Price</th>\n",
       "      <th>Yield</th>\n",
       "      <th>Maturity Years</th>\n",
       "      <th>Duration</th>\n",
       "      <th>Operating Margin</th>\n",
       "      <th>Current ratio</th>\n",
       "      <th>EV/Revenue</th>\n",
       "      <th>Return on Assets</th>\n",
       "      <th>Return on Equity</th>\n",
       "    </tr>\n",
       "  </thead>\n",
       "  <tbody>\n",
       "    <tr>\n",
       "      <th>6324</th>\n",
       "      <td>XEROX HLDGS CORP</td>\n",
       "      <td>XPO</td>\n",
       "      <td>Yes</td>\n",
       "      <td>Corporate Bond</td>\n",
       "      <td>0.0675</td>\n",
       "      <td>08/15/2024</td>\n",
       "      <td>Ba3</td>\n",
       "      <td>B</td>\n",
       "      <td>103.420</td>\n",
       "      <td>0.02530</td>\n",
       "      <td>3.019444</td>\n",
       "      <td>0.187830</td>\n",
       "      <td>0.0528</td>\n",
       "      <td>1.02</td>\n",
       "      <td>0.90</td>\n",
       "      <td>0.0395</td>\n",
       "      <td>0.1792</td>\n",
       "    </tr>\n",
       "    <tr>\n",
       "      <th>2285</th>\n",
       "      <td>FORESTAR GROUP INC</td>\n",
       "      <td>DHI</td>\n",
       "      <td>Yes</td>\n",
       "      <td>Corporate Bond</td>\n",
       "      <td>0.0500</td>\n",
       "      <td>03/01/2028</td>\n",
       "      <td>B1</td>\n",
       "      <td>B</td>\n",
       "      <td>104.055</td>\n",
       "      <td>0.03839</td>\n",
       "      <td>6.613889</td>\n",
       "      <td>0.858466</td>\n",
       "      <td>0.1806</td>\n",
       "      <td>5.87</td>\n",
       "      <td>1.41</td>\n",
       "      <td>0.1480</td>\n",
       "      <td>0.2889</td>\n",
       "    </tr>\n",
       "    <tr>\n",
       "      <th>891</th>\n",
       "      <td>CHURCHILL DOWNS INC</td>\n",
       "      <td>CHDN</td>\n",
       "      <td>Yes</td>\n",
       "      <td>Corporate Bond</td>\n",
       "      <td>0.0550</td>\n",
       "      <td>04/01/2027</td>\n",
       "      <td>B1</td>\n",
       "      <td>B</td>\n",
       "      <td>103.884</td>\n",
       "      <td>0.03472</td>\n",
       "      <td>5.683333</td>\n",
       "      <td>0.701377</td>\n",
       "      <td>0.1828</td>\n",
       "      <td>1.44</td>\n",
       "      <td>6.12</td>\n",
       "      <td>0.0538</td>\n",
       "      <td>0.6371</td>\n",
       "    </tr>\n",
       "  </tbody>\n",
       "</table>\n",
       "</div>"
      ],
      "text/plain": [
       "              Issuer Name Symbol Callable Sub-Product Type  Coupon  \\\n",
       "6324     XEROX HLDGS CORP    XPO      Yes   Corporate Bond  0.0675   \n",
       "2285   FORESTAR GROUP INC    DHI      Yes   Corporate Bond  0.0500   \n",
       "891   CHURCHILL DOWNS INC   CHDN      Yes   Corporate Bond  0.0550   \n",
       "\n",
       "        Maturity Moody's® S&P    Price    Yield  Maturity Years  Duration  \\\n",
       "6324  08/15/2024      Ba3   B  103.420  0.02530        3.019444  0.187830   \n",
       "2285  03/01/2028       B1   B  104.055  0.03839        6.613889  0.858466   \n",
       "891   04/01/2027       B1   B  103.884  0.03472        5.683333  0.701377   \n",
       "\n",
       "      Operating Margin  Current ratio  EV/Revenue  Return on Assets  \\\n",
       "6324            0.0528           1.02        0.90            0.0395   \n",
       "2285            0.1806           5.87        1.41            0.1480   \n",
       "891             0.1828           1.44        6.12            0.0538   \n",
       "\n",
       "      Return on Equity  \n",
       "6324            0.1792  \n",
       "2285            0.2889  \n",
       "891             0.6371  "
      ]
     },
     "execution_count": 521,
     "metadata": {},
     "output_type": "execute_result"
    }
   ],
   "source": [
    "#Filter our data for BBB & B ratings only\n",
    "df_BBBandB = df_ratings[df_ratings['S&P'].isin(['BBB','B'])]\n",
    "df_BBBandB.head(3)"
   ]
  },
  {
   "cell_type": "code",
   "execution_count": 522,
   "metadata": {},
   "outputs": [],
   "source": [
    "# Convert data to numpy array\n",
    "test_data = df_BBBandB[['EV/Revenue','Current ratio','S&P']].to_numpy()"
   ]
  },
  {
   "cell_type": "markdown",
   "metadata": {},
   "source": [
    "1. Calculate Euclidean distance between two vectors"
   ]
  },
  {
   "cell_type": "code",
   "execution_count": 523,
   "metadata": {},
   "outputs": [],
   "source": [
    "def euclidean_distance(point1, point2):\n",
    "    sum_squared_distance = 0\n",
    "    for i in range(len(point1) - 1):\n",
    "        sum_squared_distance += math.pow(point1[i] - point2[i], 2)\n",
    "    return math.sqrt(sum_squared_distance)\n"
   ]
  },
  {
   "cell_type": "markdown",
   "metadata": {},
   "source": [
    "Visualize 1st row in a test_data"
   ]
  },
  {
   "cell_type": "code",
   "execution_count": 524,
   "metadata": {},
   "outputs": [
    {
     "data": {
      "text/plain": [
       "array([1.19, 1.88, 'B'], dtype=object)"
      ]
     },
     "execution_count": 524,
     "metadata": {},
     "output_type": "execute_result"
    }
   ],
   "source": [
    "# 1st row in the test_data\n",
    "test_row = test_data[5]\n",
    "test_row"
   ]
  },
  {
   "cell_type": "markdown",
   "metadata": {},
   "source": [
    "2. Get k nearest neighbors"
   ]
  },
  {
   "cell_type": "code",
   "execution_count": 525,
   "metadata": {},
   "outputs": [],
   "source": [
    "def locate_neighbors(train, test_row, k):\n",
    "    distances = []\n",
    "    for train_row in train:\n",
    "        dist = euclidean_distance(test_row, train_row)\n",
    "        distances.append((train_row, dist))\n",
    "    distances.sort(key = lambda tup : tup[1])\n",
    "    neighbors = []\n",
    "    for i in range(k):\n",
    "        neighbors.append(distances[i][0])\n",
    "    return neighbors"
   ]
  },
  {
   "cell_type": "markdown",
   "metadata": {},
   "source": [
    "3. Predict"
   ]
  },
  {
   "cell_type": "code",
   "execution_count": 526,
   "metadata": {},
   "outputs": [],
   "source": [
    "def make_prediction(train, test_row, k):\n",
    "    neighbors = locate_neighbors(train, test_row , k)\n",
    "    output = [row[-1] for row in neighbors]\n",
    "    prediction = max(set(output), key = output.count)\n",
    "    return prediction"
   ]
  },
  {
   "cell_type": "code",
   "execution_count": 527,
   "metadata": {},
   "outputs": [
    {
     "name": "stdout",
     "output_type": "stream",
     "text": [
      "Expected: B Predicted: B\n"
     ]
    }
   ],
   "source": [
    "prediction = make_prediction(test_data, test_row, 3)\n",
    "print( \"Expected:\", test_data[0][-1], 'Predicted:', prediction)"
   ]
  },
  {
   "cell_type": "markdown",
   "metadata": {},
   "source": [
    "#### Python Libraries\n",
    "\n",
    "Scikit train_test_split:\n",
    "https://scikit-learn.org/stable/modules/generated/sklearn.model_selection.train_test_split.html\n",
    "\n",
    "Scikit k-NN:\n",
    "https://scikit-learn.org/stable/modules/generated/sklearn.neighbors.KNeighborsClassifier.html\n",
    "    \n",
    "Scikit k-NN Regressor: \n",
    "https://scikit-learn.org/stable/modules/generated/sklearn.neighbors.KNeighborsRegressor.html#sklearn.neighbors.KNeighborsRegressor\n",
    "\n",
    "Scikit Normalization:\n",
    "https://scikit-learn.org/stable/modules/generated/sklearn.preprocessing.MinMaxScaler.html\n",
    "\n",
    "    \n",
    "    \n",
    "#### Helpful Blog Posts\n",
    "\n",
    "Machine Learning for Investing:\n",
    "https://hdonnelly6.medium.com/list/machine-learning-for-investing-7f2690bb1826\n",
    "\n",
    "A Complete Machine Learning Project Walk-Through in Python:\n",
    "https://towardsdatascience.com/a-complete-machine-learning-walk-through-in-python-part-one-c62152f39420\n",
    "\n",
    "k-NN from Scratch:\n",
    "https://machinelearningmastery.com/tutorial-to-implement-k-nearest-neighbors-in-python-from-scratch/\n",
    "\n",
    "Normalization vs Standardization:\n",
    "https://towardsdatascience.com/normalization-vs-standardization-quantitative-analysis-a91e8a79cebf\n",
    "    \n",
    "A Practical Introduction:\n",
    "https://www.analyticsvidhya.com/blog/2018/08/k-nearest-neighbor-introduction-regression-python/"
   ]
  },
  {
   "cell_type": "code",
   "execution_count": null,
   "metadata": {},
   "outputs": [],
   "source": []
  }
 ],
 "metadata": {
  "kernelspec": {
   "display_name": "Python 3",
   "language": "python",
   "name": "python3"
  },
  "language_info": {
   "codemirror_mode": {
    "name": "ipython",
    "version": 3
   },
   "file_extension": ".py",
   "mimetype": "text/x-python",
   "name": "python",
   "nbconvert_exporter": "python",
   "pygments_lexer": "ipython3",
   "version": "3.7.4"
  }
 },
 "nbformat": 4,
 "nbformat_minor": 4
}
