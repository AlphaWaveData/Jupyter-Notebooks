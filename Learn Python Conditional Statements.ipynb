{
 "cells": [
  {
   "cell_type": "markdown",
   "metadata": {},
   "source": [
    "## Learn Python Conditional Statements\n",
    "\n",
    "**April 2021**<br>\n",
    "\n",
    "Instruction, media content, examples and links to resources that will help you build a foundation for Python competency. Jupyter Notebooks are available on [Google Colab](https://colab.research.google.com/drive/1MMV01jbck3hjnnL9teoTm8pjZjk3hnJ4?usp=sharing) and [Github](https://github.com/AlphaWaveData/Jupyter-Notebooks/blob/master/Learn%20Python%20Conditional%20Statements.ipynb).\n",
    "\n",
    "<b>Web Resources</b><br> \n",
    "<a href='https://docs.python.org/3/tutorial/controlflow.html#if-statements'>Docs.python.org - Conditional Statements</a><br>\n",
    "<a href='https://en.wikiversity.org/wiki/Python_Concepts/If_Statement'>Python Wiki - If Statement</a>\n",
    "\n",
    "\n",
    "#### What are Python Conditionals?####\n",
    "When you write code, you are giving instructions to the computer. When you are completing a task in the real world, however, you don't just step through a sequence of instructions blindly. Depending on what else is going on, you will want to adapt your actions. The Python conditional allows you to encode these instructions so that the computer can dynamically adapt to the conditions around it. This is often referred to as <b>control flow</b>.\n",
    "\n",
    "#### What types of Python Conditionals are there?####\n",
    "We'll go through the three keywords for Python conditionals: <b>if</b>, <b>else</b>, and <b>elif</b>.\n",
    "\n",
    "In Python, the <b>if</b> statement allows you to control the flow of your code based on a logical condition. The constituents of an if statement are \n",
    "- if\n",
    "- (optional) else\n",
    "- (optional) elif\n",
    "\n",
    "#### If####\n",
    "The most basic <b>if</b> statement has a <b>conditional clause</b> and an indented (nested) block of code that only gets executed when that conditional clause is true.\n",
    "\n",
    "<b>if</b> &lt;Conditional Clause&gt;<b>:</b><br>\n",
    "&nbsp;&nbsp;&nbsp;&nbsp;&lt;Line 1 of code that possibly gets executed...Line 1&gt;<br>\n",
    "&nbsp;&nbsp;&nbsp;&nbsp;&lt;Line 2 of code that possibly gets executed...Line 2&gt;    "
   ]
  },
  {
   "cell_type": "code",
   "execution_count": 1,
   "metadata": {},
   "outputs": [],
   "source": [
    "if 1==2:\n",
    "    print('This line will never get printed out')"
   ]
  },
  {
   "cell_type": "code",
   "execution_count": 2,
   "metadata": {},
   "outputs": [
    {
     "name": "stdout",
     "output_type": "stream",
     "text": [
      "Hello World\n"
     ]
    }
   ],
   "source": [
    "if 1==1:\n",
    "    print('Hello World')"
   ]
  },
  {
   "cell_type": "markdown",
   "metadata": {},
   "source": [
    "Note that the colon at the end of the conditional clause is mandatory. The block of code following the colon needs to be indented. Your Python text editor will automatically try to indent this block of code for you when you press Enter on a line ending with a colon.\n",
    "\n",
    "\n",
    "##### We can use logical operators to make more complex comparisons."
   ]
  },
  {
   "cell_type": "code",
   "execution_count": 3,
   "metadata": {},
   "outputs": [
    {
     "name": "stdout",
     "output_type": "stream",
     "text": [
      "It is a nice day outside\n"
     ]
    }
   ],
   "source": [
    "temp = 72\n",
    "\n",
    "if temp > 68 and temp < 82: \n",
    "    print('It is a nice day outside')"
   ]
  },
  {
   "cell_type": "markdown",
   "metadata": {},
   "source": [
    "#### Else####\n",
    "Often you'll want to execute a separate block of code when the conditional clause is false. The <b>else</b> statement allows for this."
   ]
  },
  {
   "cell_type": "code",
   "execution_count": 4,
   "metadata": {},
   "outputs": [
    {
     "name": "stdout",
     "output_type": "stream",
     "text": [
      "It is a nice day outside\n"
     ]
    }
   ],
   "source": [
    "temp = 72\n",
    "\n",
    "if temp > 68 and temp < 82:\n",
    "    print('It is a nice day outside')\n",
    "else:\n",
    "    print('It is not nice outside')"
   ]
  },
  {
   "cell_type": "markdown",
   "metadata": {},
   "source": [
    "You can have multiple lines of code in any of the blocks. The indentation of the block indicates which lines are part of the control flow. \n",
    "\n",
    "- Note below there are multiple lines of code in the \"if\" block. \n",
    "\n",
    "- And note also that the line printing out \"The special of the day is\" will get executed no matter what. The indentation places the <b>print('The special of the day is')</b> line outside of the if/else conditional."
   ]
  },
  {
   "cell_type": "markdown",
   "metadata": {},
   "source": [
    "#### Elif####\n",
    "The <b>elif</b> statement allows you to chain together <b>else</b> statements for multiple conditionals. "
   ]
  },
  {
   "cell_type": "code",
   "execution_count": 5,
   "metadata": {},
   "outputs": [
    {
     "name": "stdout",
     "output_type": "stream",
     "text": [
      "The special of the day is Chili.\n"
     ]
    }
   ],
   "source": [
    "day_of_week = 'Wednesday'\n",
    "\n",
    "if day_of_week=='Monday':\n",
    "    special = 'Meat Loaf'\n",
    "elif day_of_week=='Tuesday':\n",
    "    special = 'Tacos'\n",
    "elif day_of_week=='Wednesday' or day_of_week=='Thursday':\n",
    "    special = 'Chili'\n",
    "else:\n",
    "    special = 'Fish Sticks'\n",
    "    \n",
    "print(\"The special of the day is {}.\".format(special))"
   ]
  },
  {
   "cell_type": "markdown",
   "metadata": {},
   "source": [
    "#### Nested Ifs####\n",
    "You can nest if statements inside other if statements.\n"
   ]
  },
  {
   "cell_type": "code",
   "execution_count": 6,
   "metadata": {},
   "outputs": [
    {
     "name": "stdout",
     "output_type": "stream",
     "text": [
      "It's warm, but too humid out there\n"
     ]
    }
   ],
   "source": [
    "temp = 70\n",
    "humidity = 100\n",
    "\n",
    "if temp > 68 and temp <= 82:\n",
    "    if humidity <= 60:\n",
    "        print(\"It's really nice out\")\n",
    "    else:\n",
    "        print(\"It's warm, but too humid out there\")\n",
    "elif temp >82:\n",
    "    print(\"It's very hot out\")\n",
    "else:\n",
    "    print(\"It's cold out there.\")\n",
    "        "
   ]
  },
  {
   "cell_type": "markdown",
   "metadata": {},
   "source": [
    "## Example Conditionals##"
   ]
  },
  {
   "cell_type": "markdown",
   "metadata": {},
   "source": [
    "<b>1 - Input Validation</b>\n",
    "\n",
    "Check the type of a variable to ensure that it is of type <b>int</b>. If so, print out the variable and that the input is validated. If it's not an int, print out that the input is invalid."
   ]
  },
  {
   "cell_type": "code",
   "execution_count": 7,
   "metadata": {},
   "outputs": [
    {
     "name": "stdout",
     "output_type": "stream",
     "text": [
      "Input is invalid\n"
     ]
    }
   ],
   "source": [
    "var = 'seven'\n",
    "\n",
    "if type(var)==int:\n",
    "    print('Input is valid')\n",
    "else:\n",
    "    print('Input is invalid')"
   ]
  },
  {
   "cell_type": "markdown",
   "metadata": {},
   "source": [
    "<b>2 - Days in the month</b>\n",
    "\n",
    "Code to determine the number of days in the current month. We can assume it's not a leap year.\n",
    "\n",
    "\n"
   ]
  },
  {
   "cell_type": "code",
   "execution_count": 8,
   "metadata": {},
   "outputs": [
    {
     "name": "stdout",
     "output_type": "stream",
     "text": [
      "4\n",
      "30 days this month\n"
     ]
    }
   ],
   "source": [
    "#the provided code below determines the current month\n",
    "import datetime\n",
    "today_dt = datetime.date.today()\n",
    "current_month = today_dt.month\n",
    "print(current_month)\n",
    "\n",
    "#code to determine the number of days in the current month\n",
    "if current_month in [9,4,6,11]:\n",
    "    print('30 days this month')\n",
    "elif current_month==2:\n",
    "    print('28 (or maybe 29) days this month')\n",
    "else:\n",
    "    print('31 days this month')"
   ]
  },
  {
   "cell_type": "markdown",
   "metadata": {},
   "source": [
    "<b>3 - PE Ratio in a range?</b>\n",
    "\n",
    "If you are an investor who likes to buy stocks with moderate PE Ratios, you may buy anything with P/E between 10 and 35. You may not be interested if it's between 0 and 10, or between 35 and 50. But you may want to short companies with really high P/E's (>50) or negative P/E's.\n",
    "\n",
    "Below is an if statement that evaluates a stock's P/E Ratio, and prints out if you should Buy, Short, or do nothing with the stock (Hold)."
   ]
  },
  {
   "cell_type": "code",
   "execution_count": 9,
   "metadata": {},
   "outputs": [
    {
     "name": "stdout",
     "output_type": "stream",
     "text": [
      "Hold\n"
     ]
    }
   ],
   "source": [
    "pe_ratio = 36\n",
    "\n",
    "if pe_ratio >=10 and pe_ratio <= 35:\n",
    "    print('Buy')\n",
    "elif pe_ratio < 0 or pe_ratio > 50:\n",
    "    print('Short')\n",
    "else:\n",
    "    print('Hold')"
   ]
  }
 ],
 "metadata": {
  "kernelspec": {
   "display_name": "Python 3",
   "language": "python",
   "name": "python3"
  },
  "language_info": {
   "codemirror_mode": {
    "name": "ipython",
    "version": 3
   },
   "file_extension": ".py",
   "mimetype": "text/x-python",
   "name": "python",
   "nbconvert_exporter": "python",
   "pygments_lexer": "ipython3",
   "version": "3.7.4"
  }
 },
 "nbformat": 4,
 "nbformat_minor": 4
}
