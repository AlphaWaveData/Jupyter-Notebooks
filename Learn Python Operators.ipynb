{
 "cells": [
  {
   "cell_type": "markdown",
   "metadata": {},
   "source": [
    "<h1> Learn Python Operators </h1>\n",
    "\n",
    "\n",
    "**April 2021**<br>\n",
    "\n",
    "Instruction, media content, examples and links to resources that will help you build a foundation for Python competency. Jupyter Notebooks are available on [Google Colab](https://colab.research.google.com/drive/1cx613x6uoikSakmfM8PxGtVcWdqaBJtw?usp=sharing) and [Github](https://github.com/AlphaWaveData/Jupyter-Notebooks/blob/master/Learn%20Python%20Operators.ipynb).\n",
    "\n",
    "<b>Web Resources</b>\n",
    "<br> <a href='https://www.geeksforgeeks.org/basic-operators-python/'>Basic Operators in Python</a>\n",
    "\n",
    "\n",
    "#### What are Operators?####\n",
    "\n",
    "Python operators are symbols that perform an operation on one or more operands. An operand is a variable or a value on which we perform the operation.\n",
    "\n",
    "\n",
    "#### Why use Operators?####\n",
    "\n",
    "Operators can manipulate individual items and return a result. Operators manipulate individual items by conducting mathematical operations and/or returning a Boolean value (True or False).\n",
    "\n",
    "\n",
    "#### What are Mathematical Operators?####\n",
    "\n",
    "Mathematical operators are basic arithmetic symbols used to perform addition, subtraction, multiplication, and more. \n",
    "\n",
    "|Operator                  |Description                                                                        |Example |\n",
    "|-------------------------|-------------------------------------------------------------------------------|-------------|\n",
    "|Assignment (=)        |Assigns a variable a value. |(x = 5)       |\n",
    "|+       | Addition.                   |(1 + 2) |\n",
    "|-         | Subtraction. | (2 - 1)\n",
    "|* | Multiplication. |(1 * 2) |\n",
    "|/             |Division. |(10 / 5)|\n",
    "|% | Modulus. |(15 % 2)\n",
    "\n",
    "\n",
    "#### What are Comparison Operators?####\n",
    "\n",
    "Comparison operators are used to compare values, they either return True or False.\n",
    "\n",
    "|Operator                  |Description                                                                        |Example |\n",
    "|-------------------------|-------------------------------------------------------------------------------|-------------|\n",
    "|Equal to (==)        |If the values of the two operands are equal, then the condition becomes true. |(a == a) is True.       |\n",
    "|Not Equal to (!=)       |If the values of the two operands are not equal, then the condition becomes true.                    |(a != b) is True.|\n",
    "|Greater Than, Greater than or Equal to (>, >=)          |If the value of the left operand is greater than the value of the right operand then the condition becomes true. | (2>1) is True.\n",
    "|Less Than, Less than or Equal to (<, <=) |If the value of the left operand is less than the value of the right operand then the condition becomes true. |(1<2) is True.|\n",
    "|and              |Returns True if all statements are True. |(1<2 and 2>1) is True.|\n",
    "|or | Returns True if one of the statements is True. |(1<2 or 2<4) is True.\n",
    "|not | Reverse the result, returns False if the statement is True.| not(1<5 and 5>3) is not True.\n",
    "\n",
    "#### What are Membership Operators?####\n",
    "\n",
    "Membership operators are used to test whether a value or a variable is found in a sequence (string, tuple, list, set or dictionary). These operators become essential when we discuss loops.\n",
    "\n",
    "|Operator                  |Description                                                                        |Example |\n",
    "|-------------------------|-------------------------------------------------------------------------------|-------------|\n",
    "|in| Returns True if a sequence with the specified value is present in the object. | 3 in [1,2,3] is True.\n",
    "|not in| Returns True if a sequence with the specified value is not present in the object. | 4 not in [1,2,3] is True."
   ]
  },
  {
   "cell_type": "markdown",
   "metadata": {},
   "source": [
    "<h2> Operators on Numbers </h2>\n",
    "Numerical operations in Python are similar to Excel or any other programming language.\n",
    "\n",
    "You can use these operations to do basic arithmetic."
   ]
  },
  {
   "cell_type": "code",
   "execution_count": 1,
   "metadata": {},
   "outputs": [
    {
     "data": {
      "text/plain": [
       "5"
      ]
     },
     "execution_count": 1,
     "metadata": {},
     "output_type": "execute_result"
    }
   ],
   "source": [
    "y = 15 % 10\n",
    "y"
   ]
  },
  {
   "cell_type": "code",
   "execution_count": 3,
   "metadata": {},
   "outputs": [
    {
     "data": {
      "text/plain": [
       "1.2764480400000002"
      ]
     },
     "execution_count": 3,
     "metadata": {},
     "output_type": "execute_result"
    }
   ],
   "source": [
    "j = (1.05 * 1.076) ** 2\n",
    "j"
   ]
  },
  {
   "cell_type": "code",
   "execution_count": 4,
   "metadata": {},
   "outputs": [
    {
     "data": {
      "text/plain": [
       "16.38"
      ]
     },
     "execution_count": 4,
     "metadata": {},
     "output_type": "execute_result"
    }
   ],
   "source": [
    "x = 126 * 0.13\n",
    "x"
   ]
  },
  {
   "cell_type": "markdown",
   "metadata": {},
   "source": [
    "<h3> Comparison Operators always result in a Boolean (True/False)</h3>"
   ]
  },
  {
   "cell_type": "code",
   "execution_count": 5,
   "metadata": {},
   "outputs": [
    {
     "data": {
      "text/plain": [
       "False"
      ]
     },
     "execution_count": 5,
     "metadata": {},
     "output_type": "execute_result"
    }
   ],
   "source": [
    "y == x"
   ]
  },
  {
   "cell_type": "code",
   "execution_count": 6,
   "metadata": {},
   "outputs": [
    {
     "data": {
      "text/plain": [
       "True"
      ]
     },
     "execution_count": 6,
     "metadata": {},
     "output_type": "execute_result"
    }
   ],
   "source": [
    "j < 7"
   ]
  },
  {
   "cell_type": "code",
   "execution_count": 7,
   "metadata": {},
   "outputs": [
    {
     "data": {
      "text/plain": [
       "True"
      ]
     },
     "execution_count": 7,
     "metadata": {},
     "output_type": "execute_result"
    }
   ],
   "source": [
    "x > y and j < 5"
   ]
  },
  {
   "cell_type": "markdown",
   "metadata": {},
   "source": [
    "<h2> Operators on Strings</h2>\n",
    "We can also use these operators on strings.\n",
    "    \n",
    "    \n",
    "<h5> The addition sign (+) will concatenate a string.</h5>"
   ]
  },
  {
   "cell_type": "code",
   "execution_count": 8,
   "metadata": {},
   "outputs": [
    {
     "name": "stdout",
     "output_type": "stream",
     "text": [
      "Hello World\n"
     ]
    }
   ],
   "source": [
    "sentence = 'Hello' + ' ' + 'World'\n",
    "print(sentence)"
   ]
  },
  {
   "cell_type": "code",
   "execution_count": 9,
   "metadata": {},
   "outputs": [
    {
     "name": "stdout",
     "output_type": "stream",
     "text": [
      "HaHaHaHaHa!\n"
     ]
    }
   ],
   "source": [
    "k = 'Ha'\n",
    "print(k * 5 + '!')"
   ]
  },
  {
   "cell_type": "markdown",
   "metadata": {},
   "source": [
    "<h5>You can also use the double equals sign (==) to check if two strings are identical.</h5>"
   ]
  },
  {
   "cell_type": "code",
   "execution_count": 10,
   "metadata": {},
   "outputs": [
    {
     "data": {
      "text/plain": [
       "False"
      ]
     },
     "execution_count": 10,
     "metadata": {},
     "output_type": "execute_result"
    }
   ],
   "source": [
    "'ABCD' == 'ABCE'"
   ]
  },
  {
   "cell_type": "markdown",
   "metadata": {},
   "source": [
    "<h5>The double equals sign is case sensitive.</h5>"
   ]
  },
  {
   "cell_type": "code",
   "execution_count": 11,
   "metadata": {},
   "outputs": [
    {
     "data": {
      "text/plain": [
       "False"
      ]
     },
     "execution_count": 11,
     "metadata": {},
     "output_type": "execute_result"
    }
   ],
   "source": [
    "'ABC' == 'ABc'"
   ]
  },
  {
   "cell_type": "markdown",
   "metadata": {},
   "source": [
    "<h5> > and < will check if one string has more characters than the other. </h5>"
   ]
  },
  {
   "cell_type": "code",
   "execution_count": 12,
   "metadata": {},
   "outputs": [
    {
     "data": {
      "text/plain": [
       "True"
      ]
     },
     "execution_count": 12,
     "metadata": {},
     "output_type": "execute_result"
    }
   ],
   "source": [
    "'1234567' > '12345'"
   ]
  },
  {
   "cell_type": "code",
   "execution_count": 13,
   "metadata": {},
   "outputs": [
    {
     "data": {
      "text/plain": [
       "False"
      ]
     },
     "execution_count": 13,
     "metadata": {},
     "output_type": "execute_result"
    }
   ],
   "source": [
    "1 > 2"
   ]
  },
  {
   "cell_type": "code",
   "execution_count": 16,
   "metadata": {},
   "outputs": [
    {
     "data": {
      "text/plain": [
       "False"
      ]
     },
     "execution_count": 16,
     "metadata": {},
     "output_type": "execute_result"
    }
   ],
   "source": [
    "'abcdefg' > 'zyxw'"
   ]
  },
  {
   "cell_type": "markdown",
   "metadata": {},
   "source": [
    "<h5> not reverses the result, meaning it returns True if the statement is False. </h5>"
   ]
  },
  {
   "cell_type": "code",
   "execution_count": 14,
   "metadata": {},
   "outputs": [
    {
     "data": {
      "text/plain": [
       "True"
      ]
     },
     "execution_count": 14,
     "metadata": {},
     "output_type": "execute_result"
    }
   ],
   "source": [
    "not(1>2 and 3==4)"
   ]
  },
  {
   "cell_type": "markdown",
   "metadata": {},
   "source": [
    "<h5> not in returns True if a sequence with the specified value is not present in the object. </h5>"
   ]
  },
  {
   "cell_type": "code",
   "execution_count": 15,
   "metadata": {},
   "outputs": [
    {
     "data": {
      "text/plain": [
       "True"
      ]
     },
     "execution_count": 15,
     "metadata": {},
     "output_type": "execute_result"
    }
   ],
   "source": [
    "'geese' not in ['dog','cat','mouse']"
   ]
  },
  {
   "cell_type": "markdown",
   "metadata": {},
   "source": [
    "<h5> You can print Boolean values. </h5>"
   ]
  },
  {
   "cell_type": "code",
   "execution_count": 17,
   "metadata": {},
   "outputs": [
    {
     "name": "stdout",
     "output_type": "stream",
     "text": [
      "The two variables are 3 and 10\n"
     ]
    }
   ],
   "source": [
    "var1 = 3\n",
    "var2 = 10\n",
    "\n",
    "print(\"The two variables are {} and {}\".format(var1,var2))"
   ]
  },
  {
   "cell_type": "code",
   "execution_count": 18,
   "metadata": {},
   "outputs": [
    {
     "name": "stdout",
     "output_type": "stream",
     "text": [
      "The two expressions returned Boolean values of True and True\n"
     ]
    }
   ],
   "source": [
    "Boolean1 = var2>var1\n",
    "Boolean2 = (var2 % var1) == 1\n",
    "\n",
    "print(\"The two expressions returned Boolean values of {} and {}\".format(Boolean1,Boolean2))"
   ]
  },
  {
   "cell_type": "code",
   "execution_count": 19,
   "metadata": {},
   "outputs": [
    {
     "name": "stdout",
     "output_type": "stream",
     "text": [
      "The two expressions returned Boolean values of False and False\n"
     ]
    }
   ],
   "source": [
    "Boolean3 = (var2 + var1) > 13\n",
    "Boolean4 = (var2 % var1) > 2\n",
    "\n",
    "print(\"The two expressions returned Boolean values of {} and {}\".format(Boolean3,Boolean4))"
   ]
  },
  {
   "cell_type": "code",
   "execution_count": 20,
   "metadata": {},
   "outputs": [
    {
     "name": "stdout",
     "output_type": "stream",
     "text": [
      "The car is in the list? True\n"
     ]
    }
   ],
   "source": [
    "Boolean5 = 'car' in ['boat','truck','car','house','garage']\n",
    "\n",
    "print(\"The car is in the list? {}\".format(Boolean5))"
   ]
  }
 ],
 "metadata": {
  "kernelspec": {
   "display_name": "Python 3",
   "language": "python",
   "name": "python3"
  },
  "language_info": {
   "codemirror_mode": {
    "name": "ipython",
    "version": 3
   },
   "file_extension": ".py",
   "mimetype": "text/x-python",
   "name": "python",
   "nbconvert_exporter": "python",
   "pygments_lexer": "ipython3",
   "version": "3.7.4"
  }
 },
 "nbformat": 4,
 "nbformat_minor": 4
}
