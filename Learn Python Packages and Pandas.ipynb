{
 "cells": [
  {
   "cell_type": "markdown",
   "metadata": {},
   "source": [
    "<h1>Learn Python Pandas, Packages, and Modules</h1>\n",
    "\n",
    "**April 2021**<br>\n",
    "\n",
    "Instruction, media content, examples and links to resources that will help you build a foundation for Python competency. Jupyter Notebooks are available on [Google Colab](https://colab.research.google.com/drive/1K6bn0CPn-WLXRwqzXpcptI4Lcw6aJUY6?usp=sharing) and [Github](https://github.com/AlphaWaveData/Jupyter-Notebooks/blob/master/Learn%20Python%20Packages%20and%20Pandas.ipynb).\n",
    "\n",
    "<h1>Modules</h1>\n",
    "\n",
    "<b>Web Resources</b>\n",
    "<br> <a href='https://docs.python.org/3/tutorial/modules.html#packages'>Docs.python.org - Packages</a>\n",
    "\n",
    "\n",
    "#### <b>What are Python Modules?</b>\n",
    "\n",
    "Modules are simply python files (.py) which contain python code. This code can define functions, classes, variables etc.\n",
    "\n",
    "\n",
    "#### <b>Why do we use Modules?</b>\n",
    "\n",
    "Modules allow us to organize our code by grouping related functionalities, which makes it easier to use and understand. Writing code into smaller, more manageable pieces will help you 1) debug easier, 2) create reusable code and 3) make the code more understandable to the end user.\n",
    "\n",
    "#### <b>How do we use Modules?</b>\n",
    "\n",
    "We can use the code in a module by using the <b>import</b> function. For example, let's say we created a .py file called 'Square.py'. Inside this file we defined a function called <b>calculateSquare</b>. \n",
    "```python\n",
    "def calculateSquare(x):\n",
    "    return x**2\n",
    "```\n",
    "We can use the <b>calculateSquare</b> function by using either of the following commands:\n",
    "\n",
    "```python\n",
    "import Square \n",
    "x = 2\n",
    "print(Square.calculateSquare(x))\n",
    "\n",
    "#Output: 4\n",
    "\n",
    "from Square import calculateSquare\n",
    "x = 2\n",
    "print(calculateSquare(x))\n",
    "\n",
    "#Output: 4\n",
    "\n",
    "from Square import * #The asterisk imports all functions in the module [not always best practice]\n",
    "x = 2\n",
    "print(calculateSquare(x))\n",
    "\n",
    "#Output: 4\n",
    "```\n",
    "\n",
    "#### <b>Where can I find more information on Modules?</b>\n",
    "\n",
    "[Official python documentation on modules](https://docs.python.org/3.7/tutorial/modules.html)\n",
    "\n",
    "<h1>Packages</h1>\n",
    "\n",
    "#### <b>What are Python Packages?</b>\n",
    "\n",
    "Python packages are an organized collection of related python modules in a single directory. \n",
    "\n",
    "#### <b>How do we use Packages?</b>\n",
    "\n",
    "Packages are used exactly like modules (see the Modules section above).\n",
    "\n",
    "#### <b>What are some common Packages?</b>\n",
    "\n",
    "Below are some of the most widely used modules in finance and data science for data analysis:\n",
    "- Pandas\n",
    "- Numpy\n",
    "- Scipy\n",
    "- Scikit-Learn\n",
    "\n",
    "Visualizations and dashboard creation:\n",
    "- Matplotlib\n",
    "- ipywidgets\n"
   ]
  },
  {
   "cell_type": "markdown",
   "metadata": {},
   "source": [
    "<h1>PANDAS</h1>\n",
    "\n",
    "<b>Web Resources</b>\n",
    "<br> [Official Pandas documentation](https://pandas.pydata.org/docs/)\n",
    "<br> [Getting started with Pandas](https://pandas.pydata.org/docs/getting_started/intro_tutorials/index.html)\n",
    "\n",
    "#### <b>What is Pandas?</b>\n",
    "\n",
    "Pandas is a fast, powerful, flexible and easy to use data analysis and manipulation tool. Pandas was created in 2008 at AQR Capital Management as has been open sourced since 2009. Pandas aims to be the fundamental high-level building block for doing practical, real world data analysis in Python. \n",
    "\n",
    "#### <b>What can we use Pandas for?</b>\n",
    "\n",
    "- A fast and efficient DataFrame object for **data manipulation** with integrated indexing\n",
    "\n",
    "- Tools for **reading and writing data** between in-memory data structures and different formats: CSV and text files, Microsoft Excel, SQL databases, and the fast HDF5 format\n",
    "\n",
    "- Intelligent **data alignment** and integrated **handling of missing data**: gain automatic label-based alignment in computations and easily manipulate messy data into an orderly form\n",
    "\n",
    "- Flexible **reshaping and pivoting** of data sets\n",
    "\n",
    "- Intelligent label-based **slicing, fancy indexing, and subsetting** of large data sets\n",
    "\n",
    "- Columns can be inserted and deleted from data structures for size **mutability**\n",
    "\n",
    "- **Aggregating or transforming data** with a powerful group by engine allowing split-apply-combine operations on data sets\n",
    "\n",
    "- High performance **merging and joining** of data sets\n",
    "\n",
    "- **Hierarchical axis indexing** provides an intuitive way of working with high-dimensional data in a lower-dimensional data structure\n",
    "\n",
    "- **Time series-functionality**: date range generation and frequency conversion, moving window statistics, date shifting and lagging. Even create domain-specific time offsets and join time series without losing data\n",
    "\n",
    "- **Highly optimized for performance**, with critical code paths written in Cython or C\n",
    "\n",
    "- Python with pandas is in use in a wide variety of academic and commercial domains, including Finance, Neuroscience, Economics, Statistics, Advertising, Web Analytics, and more\n"
   ]
  },
  {
   "cell_type": "markdown",
   "metadata": {},
   "source": [
    "<h1>Quick PANDAS Tutorial</h1>"
   ]
  },
  {
   "cell_type": "code",
   "execution_count": 12,
   "metadata": {},
   "outputs": [
    {
     "data": {
      "text/plain": [
       "0    1\n",
       "1    2\n",
       "2    3\n",
       "dtype: int64"
      ]
     },
     "execution_count": 12,
     "metadata": {},
     "output_type": "execute_result"
    }
   ],
   "source": [
    "###IMPORT PANDAS AND NUMPY PACKAGES###\n",
    "import pandas as pd\n",
    "import numpy as np\n",
    "\n",
    "###CREATING A SERIES###\n",
    "s = pd.Series([1,2,3])\n",
    "s"
   ]
  },
  {
   "cell_type": "code",
   "execution_count": 13,
   "metadata": {},
   "outputs": [
    {
     "data": {
      "text/html": [
       "<div>\n",
       "<style scoped>\n",
       "    .dataframe tbody tr th:only-of-type {\n",
       "        vertical-align: middle;\n",
       "    }\n",
       "\n",
       "    .dataframe tbody tr th {\n",
       "        vertical-align: top;\n",
       "    }\n",
       "\n",
       "    .dataframe thead th {\n",
       "        text-align: right;\n",
       "    }\n",
       "</style>\n",
       "<table border=\"1\" class=\"dataframe\">\n",
       "  <thead>\n",
       "    <tr style=\"text-align: right;\">\n",
       "      <th></th>\n",
       "      <th>A</th>\n",
       "      <th>B</th>\n",
       "      <th>C</th>\n",
       "    </tr>\n",
       "  </thead>\n",
       "  <tbody>\n",
       "    <tr>\n",
       "      <td>2013-01-01</td>\n",
       "      <td>0.169424</td>\n",
       "      <td>0.166691</td>\n",
       "      <td>-2.385720</td>\n",
       "    </tr>\n",
       "    <tr>\n",
       "      <td>2013-01-02</td>\n",
       "      <td>0.542676</td>\n",
       "      <td>0.978059</td>\n",
       "      <td>1.152731</td>\n",
       "    </tr>\n",
       "    <tr>\n",
       "      <td>2013-01-03</td>\n",
       "      <td>-0.547186</td>\n",
       "      <td>0.918728</td>\n",
       "      <td>2.226278</td>\n",
       "    </tr>\n",
       "    <tr>\n",
       "      <td>2013-01-04</td>\n",
       "      <td>1.033752</td>\n",
       "      <td>-0.712600</td>\n",
       "      <td>1.169230</td>\n",
       "    </tr>\n",
       "    <tr>\n",
       "      <td>2013-01-05</td>\n",
       "      <td>-0.534291</td>\n",
       "      <td>0.985898</td>\n",
       "      <td>-1.705124</td>\n",
       "    </tr>\n",
       "    <tr>\n",
       "      <td>2013-01-06</td>\n",
       "      <td>0.485850</td>\n",
       "      <td>0.085890</td>\n",
       "      <td>1.870669</td>\n",
       "    </tr>\n",
       "  </tbody>\n",
       "</table>\n",
       "</div>"
      ],
      "text/plain": [
       "                   A         B         C\n",
       "2013-01-01  0.169424  0.166691 -2.385720\n",
       "2013-01-02  0.542676  0.978059  1.152731\n",
       "2013-01-03 -0.547186  0.918728  2.226278\n",
       "2013-01-04  1.033752 -0.712600  1.169230\n",
       "2013-01-05 -0.534291  0.985898 -1.705124\n",
       "2013-01-06  0.485850  0.085890  1.870669"
      ]
     },
     "execution_count": 13,
     "metadata": {},
     "output_type": "execute_result"
    }
   ],
   "source": [
    "###CREATING A TIMESERIES BASED DATAFRAME###\n",
    "dates = pd.date_range('20130101', periods=6)\n",
    "df = pd.DataFrame(np.random.randn(6, 3), index=dates, columns=list('ABC'))\n",
    "df"
   ]
  },
  {
   "cell_type": "code",
   "execution_count": 14,
   "metadata": {},
   "outputs": [
    {
     "data": {
      "text/plain": [
       "2013-01-01    0.169424\n",
       "2013-01-02    0.542676\n",
       "2013-01-03   -0.547186\n",
       "2013-01-04    1.033752\n",
       "2013-01-05   -0.534291\n",
       "2013-01-06    0.485850\n",
       "Freq: D, Name: A, dtype: float64"
      ]
     },
     "execution_count": 14,
     "metadata": {},
     "output_type": "execute_result"
    }
   ],
   "source": [
    "###GET DATA FOR A SINGLE COLUMN###\n",
    "df['A']"
   ]
  },
  {
   "cell_type": "code",
   "execution_count": 15,
   "metadata": {},
   "outputs": [
    {
     "data": {
      "text/html": [
       "<div>\n",
       "<style scoped>\n",
       "    .dataframe tbody tr th:only-of-type {\n",
       "        vertical-align: middle;\n",
       "    }\n",
       "\n",
       "    .dataframe tbody tr th {\n",
       "        vertical-align: top;\n",
       "    }\n",
       "\n",
       "    .dataframe thead th {\n",
       "        text-align: right;\n",
       "    }\n",
       "</style>\n",
       "<table border=\"1\" class=\"dataframe\">\n",
       "  <thead>\n",
       "    <tr style=\"text-align: right;\">\n",
       "      <th></th>\n",
       "      <th>A</th>\n",
       "      <th>B</th>\n",
       "      <th>C</th>\n",
       "    </tr>\n",
       "  </thead>\n",
       "  <tbody>\n",
       "    <tr>\n",
       "      <td>count</td>\n",
       "      <td>6.000000</td>\n",
       "      <td>6.000000</td>\n",
       "      <td>6.000000</td>\n",
       "    </tr>\n",
       "    <tr>\n",
       "      <td>mean</td>\n",
       "      <td>0.191704</td>\n",
       "      <td>0.403778</td>\n",
       "      <td>0.388011</td>\n",
       "    </tr>\n",
       "    <tr>\n",
       "      <td>std</td>\n",
       "      <td>0.631232</td>\n",
       "      <td>0.683725</td>\n",
       "      <td>1.941515</td>\n",
       "    </tr>\n",
       "    <tr>\n",
       "      <td>min</td>\n",
       "      <td>-0.547186</td>\n",
       "      <td>-0.712600</td>\n",
       "      <td>-2.385720</td>\n",
       "    </tr>\n",
       "    <tr>\n",
       "      <td>25%</td>\n",
       "      <td>-0.358362</td>\n",
       "      <td>0.106090</td>\n",
       "      <td>-0.990660</td>\n",
       "    </tr>\n",
       "    <tr>\n",
       "      <td>50%</td>\n",
       "      <td>0.327637</td>\n",
       "      <td>0.542709</td>\n",
       "      <td>1.160980</td>\n",
       "    </tr>\n",
       "    <tr>\n",
       "      <td>75%</td>\n",
       "      <td>0.528469</td>\n",
       "      <td>0.963226</td>\n",
       "      <td>1.695309</td>\n",
       "    </tr>\n",
       "    <tr>\n",
       "      <td>max</td>\n",
       "      <td>1.033752</td>\n",
       "      <td>0.985898</td>\n",
       "      <td>2.226278</td>\n",
       "    </tr>\n",
       "  </tbody>\n",
       "</table>\n",
       "</div>"
      ],
      "text/plain": [
       "              A         B         C\n",
       "count  6.000000  6.000000  6.000000\n",
       "mean   0.191704  0.403778  0.388011\n",
       "std    0.631232  0.683725  1.941515\n",
       "min   -0.547186 -0.712600 -2.385720\n",
       "25%   -0.358362  0.106090 -0.990660\n",
       "50%    0.327637  0.542709  1.160980\n",
       "75%    0.528469  0.963226  1.695309\n",
       "max    1.033752  0.985898  2.226278"
      ]
     },
     "execution_count": 15,
     "metadata": {},
     "output_type": "execute_result"
    }
   ],
   "source": [
    "###CALCULATE SUMMARY STATISTICS###\n",
    "df.describe()"
   ]
  },
  {
   "cell_type": "code",
   "execution_count": 16,
   "metadata": {},
   "outputs": [
    {
     "data": {
      "text/plain": [
       "(6, 3)"
      ]
     },
     "execution_count": 16,
     "metadata": {},
     "output_type": "execute_result"
    }
   ],
   "source": [
    "###GET THE NUMBER OF ROWS AND COLUMNS###\n",
    "df.shape"
   ]
  },
  {
   "cell_type": "code",
   "execution_count": 17,
   "metadata": {},
   "outputs": [
    {
     "data": {
      "text/plain": [
       "6"
      ]
     },
     "execution_count": 17,
     "metadata": {},
     "output_type": "execute_result"
    }
   ],
   "source": [
    "###GET THE NUMBER OF ROWS ONLY###\n",
    "len(df)"
   ]
  },
  {
   "cell_type": "code",
   "execution_count": 18,
   "metadata": {},
   "outputs": [
    {
     "data": {
      "text/plain": [
       "<matplotlib.axes._subplots.AxesSubplot at 0x11efd5990>"
      ]
     },
     "execution_count": 18,
     "metadata": {},
     "output_type": "execute_result"
    },
    {
     "data": {
      "image/png": "[encoded data removed]",
      "text/plain": [
       "<Figure size 432x288 with 1 Axes>"
      ]
     },
     "metadata": {
      "needs_background": "light"
     },
     "output_type": "display_data"
    }
   ],
   "source": [
    "###PLOT THE DATAFRAME###\n",
    "%matplotlib inline\n",
    "df.plot()"
   ]
  },
  {
   "cell_type": "code",
   "execution_count": 19,
   "metadata": {},
   "outputs": [
    {
     "data": {
      "text/html": [
       "<div>\n",
       "<style scoped>\n",
       "    .dataframe tbody tr th:only-of-type {\n",
       "        vertical-align: middle;\n",
       "    }\n",
       "\n",
       "    .dataframe tbody tr th {\n",
       "        vertical-align: top;\n",
       "    }\n",
       "\n",
       "    .dataframe thead th {\n",
       "        text-align: right;\n",
       "    }\n",
       "</style>\n",
       "<table border=\"1\" class=\"dataframe\">\n",
       "  <thead>\n",
       "    <tr style=\"text-align: right;\">\n",
       "      <th></th>\n",
       "      <th>X</th>\n",
       "      <th>Y</th>\n",
       "      <th>Z</th>\n",
       "    </tr>\n",
       "  </thead>\n",
       "  <tbody>\n",
       "    <tr>\n",
       "      <td>2013-01-01</td>\n",
       "      <td>0.169424</td>\n",
       "      <td>0.166691</td>\n",
       "      <td>-2.385720</td>\n",
       "    </tr>\n",
       "    <tr>\n",
       "      <td>2013-01-02</td>\n",
       "      <td>0.542676</td>\n",
       "      <td>0.978059</td>\n",
       "      <td>1.152731</td>\n",
       "    </tr>\n",
       "    <tr>\n",
       "      <td>2013-01-03</td>\n",
       "      <td>-0.547186</td>\n",
       "      <td>0.918728</td>\n",
       "      <td>2.226278</td>\n",
       "    </tr>\n",
       "    <tr>\n",
       "      <td>2013-01-04</td>\n",
       "      <td>1.033752</td>\n",
       "      <td>-0.712600</td>\n",
       "      <td>1.169230</td>\n",
       "    </tr>\n",
       "    <tr>\n",
       "      <td>2013-01-05</td>\n",
       "      <td>-0.534291</td>\n",
       "      <td>0.985898</td>\n",
       "      <td>-1.705124</td>\n",
       "    </tr>\n",
       "    <tr>\n",
       "      <td>2013-01-06</td>\n",
       "      <td>0.485850</td>\n",
       "      <td>0.085890</td>\n",
       "      <td>1.870669</td>\n",
       "    </tr>\n",
       "  </tbody>\n",
       "</table>\n",
       "</div>"
      ],
      "text/plain": [
       "                   X         Y         Z\n",
       "2013-01-01  0.169424  0.166691 -2.385720\n",
       "2013-01-02  0.542676  0.978059  1.152731\n",
       "2013-01-03 -0.547186  0.918728  2.226278\n",
       "2013-01-04  1.033752 -0.712600  1.169230\n",
       "2013-01-05 -0.534291  0.985898 -1.705124\n",
       "2013-01-06  0.485850  0.085890  1.870669"
      ]
     },
     "execution_count": 19,
     "metadata": {},
     "output_type": "execute_result"
    }
   ],
   "source": [
    "###RENAME COLUMNS###\n",
    "df = df.rename(columns={\"A\":\"X\",\"B\":\"Y\",\"C\":\"Z\"})\n",
    "df"
   ]
  }
 ],
 "metadata": {
  "kernelspec": {
   "display_name": "Python 3",
   "language": "python",
   "name": "python3"
  },
  "language_info": {
   "codemirror_mode": {
    "name": "ipython",
    "version": 3
   },
   "file_extension": ".py",
   "mimetype": "text/x-python",
   "name": "python",
   "nbconvert_exporter": "python",
   "pygments_lexer": "ipython3",
   "version": "3.7.4"
  }
 },
 "nbformat": 4,
 "nbformat_minor": 4
}
